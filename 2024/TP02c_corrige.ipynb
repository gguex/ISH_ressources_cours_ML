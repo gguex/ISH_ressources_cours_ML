{
  "nbformat": 4,
  "nbformat_minor": 0,
  "metadata": {
    "colab": {
      "provenance": [],
      "mount_file_id": "1TZyPl4-8CNhM8GswJgeQIHM7SNZ_BGVq",
      "authorship_tag": "ABX9TyNrVWPPtAnn540tSLra4djs",
      "include_colab_link": true
    },
    "kernelspec": {
      "name": "python3",
      "display_name": "Python 3"
    },
    "language_info": {
      "name": "python"
    }
  },
  "cells": [
    {
      "cell_type": "markdown",
      "metadata": {
        "id": "view-in-github",
        "colab_type": "text"
      },
      "source": [
        "<a href=\"https://colab.research.google.com/github/gguex/ISH_ressources_cours_ML/blob/main/TP02c_corrige.ipynb\" target=\"_parent\"><img src=\"https://colab.research.google.com/assets/colab-badge.svg\" alt=\"Open In Colab\"/></a>"
      ]
    },
    {
      "cell_type": "markdown",
      "source": [
        "# TP 2 : Corrigé\n"
      ],
      "metadata": {
        "id": "wsOZtzGnoJE0"
      }
    },
    {
      "cell_type": "code",
      "source": [
        "import pandas as pd\n",
        "import numpy as np\n",
        "import matplotlib.pyplot as plt\n",
        "# Pour la régression Ridge\n",
        "from sklearn.linear_model import Ridge\n",
        "# Pour séparer les datasets et la recherche des hyperparamètres\n",
        "from sklearn.model_selection import train_test_split, GridSearchCV\n",
        "# Pour faire des scores (l'opposé des fonctions de pertes) lisibles par sklearn\n",
        "from sklearn.metrics import make_scorer"
      ],
      "metadata": {
        "id": "k6u3hdv84Vhm"
      },
      "execution_count": 1,
      "outputs": []
    },
    {
      "cell_type": "code",
      "source": [
        "file_path = \"drive/MyDrive/Colab Notebooks/ml_data/TP2/winequality-red.csv\"\n",
        "# Pour les blancs\n",
        "#file_path = \"drive/MyDrive/Colab Notebooks/ml_data/TP2/winequality-white.csv\"\n",
        "wine_data = pd.read_csv(file_path, sep=\";\")\n",
        "wine_data\n",
        "\n",
        "# Séparation des variables\n",
        "outputs = wine_data[\"quality\"]\n",
        "inputs = wine_data.drop([\"quality\"], axis=1)\n",
        "\n",
        "# Séparation du jeu de données\n",
        "inputs_train_val, inputs_test, outputs_train_val, outputs_test = \\\n",
        "  train_test_split(inputs, outputs, test_size=0.2)\n",
        "\n",
        "# Création du score MSE\n",
        "def mse_loss(outputs_true, outputs_pred):\n",
        "  return np.mean((outputs_true - outputs_pred)**2)\n",
        "mse_score = make_scorer(mse_loss, greater_is_better=False)\n",
        "\n",
        "# Recherche de l'hyperparamètre\n",
        "ridge = Ridge()\n",
        "hyps = np.linspace(0, 0.3, 100)\n",
        "k = 5\n",
        "param_dict = {\"alpha\": hyps}\n",
        "gride_search = GridSearchCV(ridge,\n",
        "                            param_dict,\n",
        "                            scoring=mse_score,\n",
        "                            cv=k,\n",
        "                            return_train_score=True)\n",
        "gride_search.fit(inputs_train_val, outputs_train_val)\n",
        "\n",
        "# Le meilleur paramètre\n",
        "print(gride_search.best_params_)\n",
        "\n",
        "# Le graphique\n",
        "train_score = gride_search.cv_results_[\"mean_train_score\"]\n",
        "val_score = gride_search.cv_results_[\"mean_test_score\"]\n",
        "fig, ax = plt.subplots()\n",
        "ax.plot(hyps, -train_score, c=\"blue\", label=\"MSE train\")\n",
        "ax.plot(hyps, -val_score, c=\"red\", label=\"MSE valid\")\n",
        "ax.set_xlabel(\"$\\lambda$\")\n",
        "ax.set_ylabel(\"$MSE score$\")\n",
        "ax.legend()\n",
        "plt.plot()\n",
        "\n",
        "# L'erreur de généralisation\n",
        "outputs_pred = gride_search.best_estimator_.predict(inputs_test)\n",
        "MSE_test = np.mean((outputs_test - outputs_pred)**2)\n",
        "print(MSE_test)"
      ],
      "metadata": {
        "colab": {
          "base_uri": "https://localhost:8080/",
          "height": 485
        },
        "id": "JXl_Xb163acD",
        "outputId": "79e625e5-54b0-4df9-c773-ad610bda0340"
      },
      "execution_count": 2,
      "outputs": [
        {
          "output_type": "stream",
          "name": "stdout",
          "text": [
            "{'alpha': 0.3}\n",
            "0.3968976458561175\n"
          ]
        },
        {
          "output_type": "display_data",
          "data": {
            "text/plain": [
              "<Figure size 640x480 with 1 Axes>"
            ],
            "image/png": "[encoded data removed]"
          },
          "metadata": {}
        }
      ]
    }
  ]
}