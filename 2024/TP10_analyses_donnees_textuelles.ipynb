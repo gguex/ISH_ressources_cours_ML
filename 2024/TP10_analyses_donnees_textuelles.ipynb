{
  "cells": [
    {
      "cell_type": "markdown",
      "metadata": {
        "id": "view-in-github",
        "colab_type": "text"
      },
      "source": [
        "<a href=\"https://colab.research.google.com/github/gguex/ISH_ressources_cours_ML/blob/main/TP10_analyses_donnees_textuelles.ipynb\" target=\"_parent\"><img src=\"https://colab.research.google.com/assets/colab-badge.svg\" alt=\"Open In Colab\"/></a>"
      ]
    },
    {
      "cell_type": "markdown",
      "metadata": {
        "id": "09lrqym6zbyA"
      },
      "source": [
        "# TP 10 : Analyses de données textuelles\n",
        "\n",
        "Dans ce TP, nous allons effectuer quelques méthodes d'analyse textuelle sur les Misérables de Victor Hugo. Le texte des 5 tomes a été obtenu via le projet gutenberg (https://www.gutenberg.org/) et nous allons utiliser le texte en anglais.\n",
        "\n",
        "Plusieurs librairies offrent des outils de traitement de données textuelles en Python, tel que **nltk**, **sklearn**, **spacy**, **gensim**, et **flair**. Ici, nous allons utiliser :\n",
        "\n",
        "* Spacy (https://spacy.io/) : qui fournit plusieurs *modèles de langage* permettant d'effectuer des tâches de tokenisation, tagging et parsing. De nombreuses autres méthodes sont également disponibles.\n",
        "\n",
        "* Gensim (https://radimrehurek.com/gensim/) : qui se concentre sur les méthodes de topic modeling et d'embedding, et qui permet de charger certains modèles pré-entrainés.\n",
        "\n",
        "Notez que Python possède de nombreuses fonctionnalités permettant de traiter les chaînes de caractères (voir p.ex. https://www.w3schools.com/python/python_ref_string.asp\n",
        ") et la librairie `re` permet de gerer les expression régulières (https://docs.python.org/3/library/re.html). Avec ces deux éléments, il est déjà possible de créer de nombreux traitements en partant de zéro.\n",
        "\n",
        "Les librairies nécessaires sont les suivantes :"
      ]
    },
    {
      "cell_type": "code",
      "execution_count": 1,
      "metadata": {
        "id": "HJMTWxz1Kgk9"
      },
      "outputs": [],
      "source": [
        "import pandas as pd\n",
        "import numpy as np\n",
        "import os\n",
        "from tqdm import tqdm\n",
        "# Permet de créer des décomptes d'objet dans une liste\n",
        "import collections\n",
        "import matplotlib.pyplot as plt\n",
        "# Permet de faire des grilles de graphique\n",
        "from matplotlib.gridspec import GridSpec\n",
        "# Pour les colormaps\n",
        "from matplotlib import colormaps\n",
        "# Pour traiter les expressions régulières\n",
        "import re\n",
        "# Pour les pré-traitements, le tagging et le parsing\n",
        "import spacy\n",
        "# Aide pour la décompositon spectrale nécessaire à l'AFC\n",
        "import scipy\n",
        "# Pour la LDA et les word embeddings\n",
        "import gensim\n",
        "from gensim.models import TfidfModel, LdaModel, CoherenceModel, Word2Vec\n",
        "# Pour projeter les coordonnées\n",
        "from sklearn.manifold import TSNE"
      ]
    },
    {
      "cell_type": "markdown",
      "metadata": {
        "id": "pYuDdR06sTiW"
      },
      "source": [
        "---"
      ]
    },
    {
      "cell_type": "markdown",
      "metadata": {
        "id": "diDT31mL3NJt"
      },
      "source": [
        "## 1. Pré-traitements et statistiques"
      ]
    },
    {
      "cell_type": "markdown",
      "metadata": {
        "id": "0_afGqTW3VUu"
      },
      "source": [
        "### 1.1 Séparation du texte en plusieurs documents\n",
        "\n",
        "Le corpus des Misérables en anglais est contenu dans un seul fichier. Seulement, nous allons adopter une structure de données où chaque document de notre corpus est contenu dans un fichier séparé. Pour cela, nous allons séparer notre texte à l'aide d'expressions régulières.\n",
        "\n",
        "On commence par charger le corpus par lignes."
      ]
    },
    {
      "cell_type": "code",
      "execution_count": 2,
      "metadata": {
        "id": "-mogx6EaeNE6"
      },
      "outputs": [],
      "source": [
        "corpus_path = \"/content/drive/MyDrive/Colab Notebooks/\" \\\n",
        "              \"ml_data/TP10/les_miserables.txt\"\n",
        "with open(corpus_path) as corpus_file:\n",
        "  corpus_lines = corpus_file.readlines()"
      ]
    },
    {
      "cell_type": "code",
      "execution_count": 3,
      "metadata": {
        "colab": {
          "base_uri": "https://localhost:8080/"
        },
        "id": "oKAAfDmYMLDT",
        "outputId": "9c505b78-557e-4abd-e2e8-b2f10534e9ae"
      },
      "outputs": [
        {
          "output_type": "execute_result",
          "data": {
            "text/plain": [
              "['LES MISÉRABLES\\n',\n",
              " '\\n',\n",
              " '\\n',\n",
              " '\\n',\n",
              " '\\n',\n",
              " 'PREFACE\\n',\n",
              " '\\n',\n",
              " '\\n',\n",
              " 'So long as there shall exist, by virtue of law and custom, decrees of\\n',\n",
              " 'damnation pronounced by society, artificially creating hells amid the\\n',\n",
              " 'civilization of earth, and adding the element of human fate to divine\\n']"
            ]
          },
          "metadata": {},
          "execution_count": 3
        }
      ],
      "source": [
        "corpus_lines[0:11]"
      ]
    },
    {
      "cell_type": "markdown",
      "metadata": {
        "id": "7WyMLdea_pLn"
      },
      "source": [
        "Nous allons maintenant définir des expressions régulières qui permettent d'identifier les lignes séparatrices de notre corpus. Il y a trois échelons possibles: Volume (e.g. \"VOLUME I\"), livre (e.g. \"BOOK FIRST-A JUST MAN\") et chapitre (e.g. \"CHAPTER I—M. MYRIEL\")."
      ]
    },
    {
      "cell_type": "code",
      "execution_count": 4,
      "metadata": {
        "id": "GN7AWImNK7tk"
      },
      "outputs": [],
      "source": [
        "regex_for_volume = \"^VOLUME [A-Z]+$\"\n",
        "regex_for_book = \"^BOOK \"\n",
        "regex_for_chapter = \"^CHAPTER \""
      ]
    },
    {
      "cell_type": "markdown",
      "metadata": {
        "id": "ybbMbGM3AkM7"
      },
      "source": [
        "La boucle suivante ajoute les lignes une par une dans une variable, puis sauve cette variable (et la vide) une fois qu'une ligne séparatrice de l'unité choisie apparaît (attention, on sauve également la dernière itération de la variable). Ici, nous allons séparer notre corpus par livre avec `regex_for_book` (on omet toute les lignes qui contiennent des séparateurs)."
      ]
    },
    {
      "cell_type": "code",
      "execution_count": 5,
      "metadata": {
        "colab": {
          "base_uri": "https://localhost:8080/"
        },
        "id": "RlaEwlZsO2Bo",
        "outputId": "bd812808-1296-478a-87eb-6a0fb56c460b"
      },
      "outputs": [
        {
          "output_type": "stream",
          "name": "stdout",
          "text": [
            "LES MISÉRABLES\n",
            "\n",
            "\n",
            "\n",
            "\n",
            "PREFACE\n",
            "\n",
            "\n",
            "So long as there shall exist, by virtue of law and custom, decrees of\n",
            "damnation pronounced by society, artificially creating hells amid the\n",
            "civilization of earth, and adding the element of human fate to divine\n",
            "destiny; so long as the three great problems of the century—the\n",
            "degradation of man through pauperism, the corruption of woman through\n",
            "hunger, the crippling of children through lack of light—are unsolved;\n",
            "so long as social asphyxia is possible in any part of the world;—in\n",
            "other words, and with a still wider significance, so long as ignorance\n",
            "and poverty exist \n",
            "----------------------------\n",
            "\n",
            "\n",
            "\n",
            "\n",
            "\n",
            "In 1815, M. Charles-François-Bienvenu Myriel was Bishop of D—— He was\n",
            "an old man of about seventy-five years of age; he had occupied the see\n",
            "of D—— since 1806.\n",
            "\n",
            "Although this detail has no connection whatever with the real substance\n",
            "of what we are about to relate, it will not be superfluous, if merely\n",
            "for the sake of exactness in all points, to mention here the various\n",
            "rumors and remarks which had been in circulation about him from the\n",
            "very moment when he arrived in the diocese. True or false, that which\n",
            "is said of men often occupies as important a place in their lives, and\n",
            "above all in t\n"
          ]
        }
      ],
      "source": [
        "book_texts = []\n",
        "text = \"\"\n",
        "# Boucle sur les lignes\n",
        "for line in corpus_lines:\n",
        "  # Si c'est une ligne avec \"BOOK ...\", ou la fin, on sauve le texte\n",
        "  if re.match(regex_for_book, line) or line == corpus_lines[-1]:\n",
        "    book_texts.append(text)\n",
        "    text = \"\"\n",
        "  # Ajout de la une ligne si ce n'est pas \"VOLUME\", \"BOOK\", \"CHAPTER\"\n",
        "  if re.match(regex_for_volume, line) is None and \\\n",
        "     re.match(regex_for_book, line) is None and \\\n",
        "     re.match(regex_for_chapter, line) is None:\n",
        "    text += line\n",
        "\n",
        "# Affichage du début des deux premiers chapitres\n",
        "print(book_texts[0][0:600])\n",
        "print(\"----------------------------\")\n",
        "print(book_texts[1][0:600])"
      ]
    },
    {
      "cell_type": "markdown",
      "metadata": {
        "id": "uwEcV6PoBJ87"
      },
      "source": [
        "Finalement, on sauve les différents documents dans un nouveau dossier, afin de n'avoir plus à refaire ce traitement par la suite. Attention de bien nommer les fichiers pour que ceux-ci se trouve dans l'ordre alphabétique (on ajoute un 0 devant le numéro des livres de 0 à 9)."
      ]
    },
    {
      "cell_type": "code",
      "execution_count": 6,
      "metadata": {
        "id": "PQeNy3HLnC-0"
      },
      "outputs": [],
      "source": [
        "books = \"/content/drive/MyDrive/Colab Notebooks/ml_data/TP10/by_book\"\n",
        "# On crée le dossier pour le roman séparé par livre\n",
        "os.makedirs(books, exist_ok=True)\n",
        "# On écrit les livres (pour classer, 2 digits, avec un 0 devant pour les unités)\n",
        "for i, text in enumerate(book_texts):\n",
        "  with open(f\"{books}/book_{i:02d}.txt\", \"w\") as book_file:\n",
        "    book_file.write(text)"
      ]
    },
    {
      "cell_type": "markdown",
      "metadata": {
        "id": "YF5o1VstsHlu"
      },
      "source": [
        "----"
      ]
    },
    {
      "cell_type": "markdown",
      "metadata": {
        "id": "udrk39_9BVVl"
      },
      "source": [
        "### 1.2 Traitement du texte et statistiques\n",
        "\n",
        "Dans cette partie nous allons effectuer le traitement du texte et sortir quelques statistiques sur notre corpus. Nous allons utiliser pour cela **Spacy** et son modèle de langage `\"en_core_web_sm\"` (d'autres sont disponibles sous https://spacy.io/usage/models). On doit télécharger le modèle (qu'une seule fois), puis le charger sous un nom de fonction (ici `nlp()`)."
      ]
    },
    {
      "cell_type": "code",
      "execution_count": 7,
      "metadata": {
        "id": "HXhKH5h32ToR"
      },
      "outputs": [],
      "source": [
        "# La ligne suivante doit être exécutée qu'une fois, decommentez-là lors de la\n",
        "# permière exécution\n",
        "\n",
        "# !spacy download \"en_core_web_sm\"\n",
        "nlp = spacy.load(\"en_core_web_sm\")"
      ]
    },
    {
      "cell_type": "markdown",
      "metadata": {
        "id": "vLEVZGr4Cgmm"
      },
      "source": [
        "On va lister le dossier du corpus puis classer le nom des fichiers par ordre alphabétique (pour conserver l'ordre de narration du livre)."
      ]
    },
    {
      "cell_type": "code",
      "execution_count": 8,
      "metadata": {
        "id": "RkwM5x7Av58c"
      },
      "outputs": [],
      "source": [
        "corpus_path = \"/content/drive/MyDrive/Colab Notebooks/ml_data/TP10/by_book\"\n",
        "file_names = os.listdir(corpus_path)\n",
        "file_names.sort()"
      ]
    },
    {
      "cell_type": "markdown",
      "metadata": {
        "id": "ua4T82uWCMB9"
      },
      "source": [
        "Avant d'effectuer notre traitement complet, regardons comment Spacy traite un seul docuement. Nous chargeons le premier fichier et l'affichons."
      ]
    },
    {
      "cell_type": "code",
      "execution_count": 9,
      "metadata": {
        "colab": {
          "base_uri": "https://localhost:8080/",
          "height": 35
        },
        "id": "YDizNSdTlv37",
        "outputId": "d1b782f0-e80d-40b0-b518-5e58567f3750"
      },
      "outputs": [
        {
          "output_type": "execute_result",
          "data": {
            "text/plain": [
              "'\\n\\n\\n\\n\\nIn 1815, M. Charles-François-Bienvenu Myriel was Bishop of D—— He was\\nan old man of about seventy-five years of age; he had occupied the see\\nof D—— since 1806.\\n\\nAlthough this detail has no connec'"
            ],
            "application/vnd.google.colaboratory.intrinsic+json": {
              "type": "string"
            }
          },
          "metadata": {},
          "execution_count": 9
        }
      ],
      "source": [
        "example_file_path = f\"{corpus_path}/{file_names[1]}\"\n",
        "with open(example_file_path, \"r\") as example_file:\n",
        "  example_text = example_file.read()\n",
        "# On affiche le début\n",
        "example_text[:200]"
      ]
    },
    {
      "cell_type": "markdown",
      "metadata": {
        "id": "lHmx7DIAC5Fp"
      },
      "source": [
        "En applicant notre fonction `nlp()` sur notre texte, Spacy va effectuer tout une série d'opérations (un *pipeline*, voir https://spacy.io/usage/processing-pipelines), dont les résultats seront contenus dans l'objet retourné par cette fonction (ici, `example_doc`). Notez qu'il est possible de désactiver certaines fonctionnalité du *pipeline*, si l'on cherche à avoir des résultats plus rapidement."
      ]
    },
    {
      "cell_type": "code",
      "execution_count": 10,
      "metadata": {
        "id": "nxYPJmav10Gk"
      },
      "outputs": [],
      "source": [
        "example_doc = nlp(example_text)"
      ]
    },
    {
      "cell_type": "markdown",
      "metadata": {
        "id": "ru-jBAlyDf2f"
      },
      "source": [
        "Le nombre de tokens du corpus peut être obtenu avec grâce à la longueur de l'objet."
      ]
    },
    {
      "cell_type": "code",
      "execution_count": 11,
      "metadata": {
        "colab": {
          "base_uri": "https://localhost:8080/"
        },
        "id": "88-tqjZN11mx",
        "outputId": "35d662f8-0478-4aeb-9f05-d2812d46007f"
      },
      "outputs": [
        {
          "output_type": "execute_result",
          "data": {
            "text/plain": [
              "31113"
            ]
          },
          "metadata": {},
          "execution_count": 11
        }
      ],
      "source": [
        "len(example_doc)"
      ]
    },
    {
      "cell_type": "markdown",
      "metadata": {
        "id": "EpbmRuLSDmY9"
      },
      "source": [
        "Nous pouvons également itérer sur cet objet, qui donnera alors les tokens un par un. Chacun de ces tokens est en fait un objet qui contient un grand nombre d'informations."
      ]
    },
    {
      "cell_type": "code",
      "execution_count": 12,
      "metadata": {
        "colab": {
          "base_uri": "https://localhost:8080/",
          "height": 1000
        },
        "id": "STy2pATN3h1j",
        "outputId": "4fdf6b47-22f4-4fb9-9a38-864c50f4e0f3"
      },
      "outputs": [
        {
          "output_type": "execute_result",
          "data": {
            "text/plain": [
              "           L    lemma_   pos_  tag_      dep_ ent_type_  is_stop  is_digit  \\\n",
              "0         In        in    ADP    IN      prep               True     False   \n",
              "1       1815      1815    NUM    CD      pobj      DATE    False      True   \n",
              "2          ,         ,  PUNCT     ,     punct              False     False   \n",
              "3         M.        M.  PROPN   NNP  compound    PERSON    False     False   \n",
              "4    Charles   Charles  PROPN   NNP  compound    PERSON    False     False   \n",
              "5          -         -  PUNCT  HYPH     punct    PERSON    False     False   \n",
              "6   François  François  PROPN   NNP  compound    PERSON    False     False   \n",
              "7          -         -  PUNCT  HYPH     punct    PERSON    False     False   \n",
              "8   Bienvenu  Bienvenu  PROPN   NNP  compound    PERSON    False     False   \n",
              "9     Myriel    Myriel  PROPN   NNP     nsubj    PERSON    False     False   \n",
              "10       was        be    AUX   VBD     ccomp               True     False   \n",
              "11    Bishop    Bishop  PROPN   NNP      attr              False     False   \n",
              "12        of        of    ADP    IN      prep               True     False   \n",
              "13         D         D  PROPN   NNP      pobj              False     False   \n",
              "14         —         —  PUNCT     :     punct              False     False   \n",
              "15         —         —  PUNCT     :     punct              False     False   \n",
              "16        He        he   PRON   PRP     nsubj               True     False   \n",
              "17       was        be    AUX   VBD     ccomp               True     False   \n",
              "18        an        an    DET    DT       det               True     False   \n",
              "19       old       old    ADJ    JJ      amod              False     False   \n",
              "20       man       man   NOUN    NN      attr              False     False   \n",
              "21        of        of    ADP    IN      prep               True     False   \n",
              "22     about     about    ADV    RB    advmod  CARDINAL     True     False   \n",
              "23   seventy   seventy    NUM    CD  compound  CARDINAL    False     False   \n",
              "24         -         -  PUNCT  HYPH     punct  CARDINAL    False     False   \n",
              "25      five      five    NUM    CD    nummod  CARDINAL     True     False   \n",
              "26     years      year   NOUN   NNS      pobj  CARDINAL    False     False   \n",
              "27        of        of    ADP    IN      prep  CARDINAL     True     False   \n",
              "28       age       age   NOUN    NN      pobj  CARDINAL    False     False   \n",
              "29         ;         ;  PUNCT     :     punct              False     False   \n",
              "30        he        he   PRON   PRP     nsubj               True     False   \n",
              "31       had      have    AUX   VBD       aux               True     False   \n",
              "32  occupied    occupy   VERB   VBN      ROOT              False     False   \n",
              "33       the       the    DET    DT       det               True     False   \n",
              "34       see       see   NOUN    NN      dobj               True     False   \n",
              "35        of        of    ADP    IN      prep               True     False   \n",
              "36         D         D  PROPN   NNP      pobj              False     False   \n",
              "37         —         —  PUNCT     :     punct              False     False   \n",
              "38         —         —  PUNCT     :     punct              False     False   \n",
              "39     since     since  SCONJ    IN      prep               True     False   \n",
              "40      1806      1806    NUM    CD      pobj      DATE    False      True   \n",
              "41         .         .  PUNCT     .     punct              False     False   \n",
              "\n",
              "    is_punct  \n",
              "0      False  \n",
              "1      False  \n",
              "2       True  \n",
              "3      False  \n",
              "4      False  \n",
              "5       True  \n",
              "6      False  \n",
              "7       True  \n",
              "8      False  \n",
              "9      False  \n",
              "10     False  \n",
              "11     False  \n",
              "12     False  \n",
              "13     False  \n",
              "14      True  \n",
              "15      True  \n",
              "16     False  \n",
              "17     False  \n",
              "18     False  \n",
              "19     False  \n",
              "20     False  \n",
              "21     False  \n",
              "22     False  \n",
              "23     False  \n",
              "24      True  \n",
              "25     False  \n",
              "26     False  \n",
              "27     False  \n",
              "28     False  \n",
              "29      True  \n",
              "30     False  \n",
              "31     False  \n",
              "32     False  \n",
              "33     False  \n",
              "34     False  \n",
              "35     False  \n",
              "36     False  \n",
              "37      True  \n",
              "38      True  \n",
              "39     False  \n",
              "40     False  \n",
              "41      True  "
            ],
            "text/html": [
              "\n",
              "  <div id=\"df-ab98fbc7-6176-4ed6-87da-7b33988b99bd\" class=\"colab-df-container\">\n",
              "    <div>\n",
              "<style scoped>\n",
              "    .dataframe tbody tr th:only-of-type {\n",
              "        vertical-align: middle;\n",
              "    }\n",
              "\n",
              "    .dataframe tbody tr th {\n",
              "        vertical-align: top;\n",
              "    }\n",
              "\n",
              "    .dataframe thead th {\n",
              "        text-align: right;\n",
              "    }\n",
              "</style>\n",
              "<table border=\"1\" class=\"dataframe\">\n",
              "  <thead>\n",
              "    <tr style=\"text-align: right;\">\n",
              "      <th></th>\n",
              "      <th>L</th>\n",
              "      <th>lemma_</th>\n",
              "      <th>pos_</th>\n",
              "      <th>tag_</th>\n",
              "      <th>dep_</th>\n",
              "      <th>ent_type_</th>\n",
              "      <th>is_stop</th>\n",
              "      <th>is_digit</th>\n",
              "      <th>is_punct</th>\n",
              "    </tr>\n",
              "  </thead>\n",
              "  <tbody>\n",
              "    <tr>\n",
              "      <th>0</th>\n",
              "      <td>In</td>\n",
              "      <td>in</td>\n",
              "      <td>ADP</td>\n",
              "      <td>IN</td>\n",
              "      <td>prep</td>\n",
              "      <td></td>\n",
              "      <td>True</td>\n",
              "      <td>False</td>\n",
              "      <td>False</td>\n",
              "    </tr>\n",
              "    <tr>\n",
              "      <th>1</th>\n",
              "      <td>1815</td>\n",
              "      <td>1815</td>\n",
              "      <td>NUM</td>\n",
              "      <td>CD</td>\n",
              "      <td>pobj</td>\n",
              "      <td>DATE</td>\n",
              "      <td>False</td>\n",
              "      <td>True</td>\n",
              "      <td>False</td>\n",
              "    </tr>\n",
              "    <tr>\n",
              "      <th>2</th>\n",
              "      <td>,</td>\n",
              "      <td>,</td>\n",
              "      <td>PUNCT</td>\n",
              "      <td>,</td>\n",
              "      <td>punct</td>\n",
              "      <td></td>\n",
              "      <td>False</td>\n",
              "      <td>False</td>\n",
              "      <td>True</td>\n",
              "    </tr>\n",
              "    <tr>\n",
              "      <th>3</th>\n",
              "      <td>M.</td>\n",
              "      <td>M.</td>\n",
              "      <td>PROPN</td>\n",
              "      <td>NNP</td>\n",
              "      <td>compound</td>\n",
              "      <td>PERSON</td>\n",
              "      <td>False</td>\n",
              "      <td>False</td>\n",
              "      <td>False</td>\n",
              "    </tr>\n",
              "    <tr>\n",
              "      <th>4</th>\n",
              "      <td>Charles</td>\n",
              "      <td>Charles</td>\n",
              "      <td>PROPN</td>\n",
              "      <td>NNP</td>\n",
              "      <td>compound</td>\n",
              "      <td>PERSON</td>\n",
              "      <td>False</td>\n",
              "      <td>False</td>\n",
              "      <td>False</td>\n",
              "    </tr>\n",
              "    <tr>\n",
              "      <th>5</th>\n",
              "      <td>-</td>\n",
              "      <td>-</td>\n",
              "      <td>PUNCT</td>\n",
              "      <td>HYPH</td>\n",
              "      <td>punct</td>\n",
              "      <td>PERSON</td>\n",
              "      <td>False</td>\n",
              "      <td>False</td>\n",
              "      <td>True</td>\n",
              "    </tr>\n",
              "    <tr>\n",
              "      <th>6</th>\n",
              "      <td>François</td>\n",
              "      <td>François</td>\n",
              "      <td>PROPN</td>\n",
              "      <td>NNP</td>\n",
              "      <td>compound</td>\n",
              "      <td>PERSON</td>\n",
              "      <td>False</td>\n",
              "      <td>False</td>\n",
              "      <td>False</td>\n",
              "    </tr>\n",
              "    <tr>\n",
              "      <th>7</th>\n",
              "      <td>-</td>\n",
              "      <td>-</td>\n",
              "      <td>PUNCT</td>\n",
              "      <td>HYPH</td>\n",
              "      <td>punct</td>\n",
              "      <td>PERSON</td>\n",
              "      <td>False</td>\n",
              "      <td>False</td>\n",
              "      <td>True</td>\n",
              "    </tr>\n",
              "    <tr>\n",
              "      <th>8</th>\n",
              "      <td>Bienvenu</td>\n",
              "      <td>Bienvenu</td>\n",
              "      <td>PROPN</td>\n",
              "      <td>NNP</td>\n",
              "      <td>compound</td>\n",
              "      <td>PERSON</td>\n",
              "      <td>False</td>\n",
              "      <td>False</td>\n",
              "      <td>False</td>\n",
              "    </tr>\n",
              "    <tr>\n",
              "      <th>9</th>\n",
              "      <td>Myriel</td>\n",
              "      <td>Myriel</td>\n",
              "      <td>PROPN</td>\n",
              "      <td>NNP</td>\n",
              "      <td>nsubj</td>\n",
              "      <td>PERSON</td>\n",
              "      <td>False</td>\n",
              "      <td>False</td>\n",
              "      <td>False</td>\n",
              "    </tr>\n",
              "    <tr>\n",
              "      <th>10</th>\n",
              "      <td>was</td>\n",
              "      <td>be</td>\n",
              "      <td>AUX</td>\n",
              "      <td>VBD</td>\n",
              "      <td>ccomp</td>\n",
              "      <td></td>\n",
              "      <td>True</td>\n",
              "      <td>False</td>\n",
              "      <td>False</td>\n",
              "    </tr>\n",
              "    <tr>\n",
              "      <th>11</th>\n",
              "      <td>Bishop</td>\n",
              "      <td>Bishop</td>\n",
              "      <td>PROPN</td>\n",
              "      <td>NNP</td>\n",
              "      <td>attr</td>\n",
              "      <td></td>\n",
              "      <td>False</td>\n",
              "      <td>False</td>\n",
              "      <td>False</td>\n",
              "    </tr>\n",
              "    <tr>\n",
              "      <th>12</th>\n",
              "      <td>of</td>\n",
              "      <td>of</td>\n",
              "      <td>ADP</td>\n",
              "      <td>IN</td>\n",
              "      <td>prep</td>\n",
              "      <td></td>\n",
              "      <td>True</td>\n",
              "      <td>False</td>\n",
              "      <td>False</td>\n",
              "    </tr>\n",
              "    <tr>\n",
              "      <th>13</th>\n",
              "      <td>D</td>\n",
              "      <td>D</td>\n",
              "      <td>PROPN</td>\n",
              "      <td>NNP</td>\n",
              "      <td>pobj</td>\n",
              "      <td></td>\n",
              "      <td>False</td>\n",
              "      <td>False</td>\n",
              "      <td>False</td>\n",
              "    </tr>\n",
              "    <tr>\n",
              "      <th>14</th>\n",
              "      <td>—</td>\n",
              "      <td>—</td>\n",
              "      <td>PUNCT</td>\n",
              "      <td>:</td>\n",
              "      <td>punct</td>\n",
              "      <td></td>\n",
              "      <td>False</td>\n",
              "      <td>False</td>\n",
              "      <td>True</td>\n",
              "    </tr>\n",
              "    <tr>\n",
              "      <th>15</th>\n",
              "      <td>—</td>\n",
              "      <td>—</td>\n",
              "      <td>PUNCT</td>\n",
              "      <td>:</td>\n",
              "      <td>punct</td>\n",
              "      <td></td>\n",
              "      <td>False</td>\n",
              "      <td>False</td>\n",
              "      <td>True</td>\n",
              "    </tr>\n",
              "    <tr>\n",
              "      <th>16</th>\n",
              "      <td>He</td>\n",
              "      <td>he</td>\n",
              "      <td>PRON</td>\n",
              "      <td>PRP</td>\n",
              "      <td>nsubj</td>\n",
              "      <td></td>\n",
              "      <td>True</td>\n",
              "      <td>False</td>\n",
              "      <td>False</td>\n",
              "    </tr>\n",
              "    <tr>\n",
              "      <th>17</th>\n",
              "      <td>was</td>\n",
              "      <td>be</td>\n",
              "      <td>AUX</td>\n",
              "      <td>VBD</td>\n",
              "      <td>ccomp</td>\n",
              "      <td></td>\n",
              "      <td>True</td>\n",
              "      <td>False</td>\n",
              "      <td>False</td>\n",
              "    </tr>\n",
              "    <tr>\n",
              "      <th>18</th>\n",
              "      <td>an</td>\n",
              "      <td>an</td>\n",
              "      <td>DET</td>\n",
              "      <td>DT</td>\n",
              "      <td>det</td>\n",
              "      <td></td>\n",
              "      <td>True</td>\n",
              "      <td>False</td>\n",
              "      <td>False</td>\n",
              "    </tr>\n",
              "    <tr>\n",
              "      <th>19</th>\n",
              "      <td>old</td>\n",
              "      <td>old</td>\n",
              "      <td>ADJ</td>\n",
              "      <td>JJ</td>\n",
              "      <td>amod</td>\n",
              "      <td></td>\n",
              "      <td>False</td>\n",
              "      <td>False</td>\n",
              "      <td>False</td>\n",
              "    </tr>\n",
              "    <tr>\n",
              "      <th>20</th>\n",
              "      <td>man</td>\n",
              "      <td>man</td>\n",
              "      <td>NOUN</td>\n",
              "      <td>NN</td>\n",
              "      <td>attr</td>\n",
              "      <td></td>\n",
              "      <td>False</td>\n",
              "      <td>False</td>\n",
              "      <td>False</td>\n",
              "    </tr>\n",
              "    <tr>\n",
              "      <th>21</th>\n",
              "      <td>of</td>\n",
              "      <td>of</td>\n",
              "      <td>ADP</td>\n",
              "      <td>IN</td>\n",
              "      <td>prep</td>\n",
              "      <td></td>\n",
              "      <td>True</td>\n",
              "      <td>False</td>\n",
              "      <td>False</td>\n",
              "    </tr>\n",
              "    <tr>\n",
              "      <th>22</th>\n",
              "      <td>about</td>\n",
              "      <td>about</td>\n",
              "      <td>ADV</td>\n",
              "      <td>RB</td>\n",
              "      <td>advmod</td>\n",
              "      <td>CARDINAL</td>\n",
              "      <td>True</td>\n",
              "      <td>False</td>\n",
              "      <td>False</td>\n",
              "    </tr>\n",
              "    <tr>\n",
              "      <th>23</th>\n",
              "      <td>seventy</td>\n",
              "      <td>seventy</td>\n",
              "      <td>NUM</td>\n",
              "      <td>CD</td>\n",
              "      <td>compound</td>\n",
              "      <td>CARDINAL</td>\n",
              "      <td>False</td>\n",
              "      <td>False</td>\n",
              "      <td>False</td>\n",
              "    </tr>\n",
              "    <tr>\n",
              "      <th>24</th>\n",
              "      <td>-</td>\n",
              "      <td>-</td>\n",
              "      <td>PUNCT</td>\n",
              "      <td>HYPH</td>\n",
              "      <td>punct</td>\n",
              "      <td>CARDINAL</td>\n",
              "      <td>False</td>\n",
              "      <td>False</td>\n",
              "      <td>True</td>\n",
              "    </tr>\n",
              "    <tr>\n",
              "      <th>25</th>\n",
              "      <td>five</td>\n",
              "      <td>five</td>\n",
              "      <td>NUM</td>\n",
              "      <td>CD</td>\n",
              "      <td>nummod</td>\n",
              "      <td>CARDINAL</td>\n",
              "      <td>True</td>\n",
              "      <td>False</td>\n",
              "      <td>False</td>\n",
              "    </tr>\n",
              "    <tr>\n",
              "      <th>26</th>\n",
              "      <td>years</td>\n",
              "      <td>year</td>\n",
              "      <td>NOUN</td>\n",
              "      <td>NNS</td>\n",
              "      <td>pobj</td>\n",
              "      <td>CARDINAL</td>\n",
              "      <td>False</td>\n",
              "      <td>False</td>\n",
              "      <td>False</td>\n",
              "    </tr>\n",
              "    <tr>\n",
              "      <th>27</th>\n",
              "      <td>of</td>\n",
              "      <td>of</td>\n",
              "      <td>ADP</td>\n",
              "      <td>IN</td>\n",
              "      <td>prep</td>\n",
              "      <td>CARDINAL</td>\n",
              "      <td>True</td>\n",
              "      <td>False</td>\n",
              "      <td>False</td>\n",
              "    </tr>\n",
              "    <tr>\n",
              "      <th>28</th>\n",
              "      <td>age</td>\n",
              "      <td>age</td>\n",
              "      <td>NOUN</td>\n",
              "      <td>NN</td>\n",
              "      <td>pobj</td>\n",
              "      <td>CARDINAL</td>\n",
              "      <td>False</td>\n",
              "      <td>False</td>\n",
              "      <td>False</td>\n",
              "    </tr>\n",
              "    <tr>\n",
              "      <th>29</th>\n",
              "      <td>;</td>\n",
              "      <td>;</td>\n",
              "      <td>PUNCT</td>\n",
              "      <td>:</td>\n",
              "      <td>punct</td>\n",
              "      <td></td>\n",
              "      <td>False</td>\n",
              "      <td>False</td>\n",
              "      <td>True</td>\n",
              "    </tr>\n",
              "    <tr>\n",
              "      <th>30</th>\n",
              "      <td>he</td>\n",
              "      <td>he</td>\n",
              "      <td>PRON</td>\n",
              "      <td>PRP</td>\n",
              "      <td>nsubj</td>\n",
              "      <td></td>\n",
              "      <td>True</td>\n",
              "      <td>False</td>\n",
              "      <td>False</td>\n",
              "    </tr>\n",
              "    <tr>\n",
              "      <th>31</th>\n",
              "      <td>had</td>\n",
              "      <td>have</td>\n",
              "      <td>AUX</td>\n",
              "      <td>VBD</td>\n",
              "      <td>aux</td>\n",
              "      <td></td>\n",
              "      <td>True</td>\n",
              "      <td>False</td>\n",
              "      <td>False</td>\n",
              "    </tr>\n",
              "    <tr>\n",
              "      <th>32</th>\n",
              "      <td>occupied</td>\n",
              "      <td>occupy</td>\n",
              "      <td>VERB</td>\n",
              "      <td>VBN</td>\n",
              "      <td>ROOT</td>\n",
              "      <td></td>\n",
              "      <td>False</td>\n",
              "      <td>False</td>\n",
              "      <td>False</td>\n",
              "    </tr>\n",
              "    <tr>\n",
              "      <th>33</th>\n",
              "      <td>the</td>\n",
              "      <td>the</td>\n",
              "      <td>DET</td>\n",
              "      <td>DT</td>\n",
              "      <td>det</td>\n",
              "      <td></td>\n",
              "      <td>True</td>\n",
              "      <td>False</td>\n",
              "      <td>False</td>\n",
              "    </tr>\n",
              "    <tr>\n",
              "      <th>34</th>\n",
              "      <td>see</td>\n",
              "      <td>see</td>\n",
              "      <td>NOUN</td>\n",
              "      <td>NN</td>\n",
              "      <td>dobj</td>\n",
              "      <td></td>\n",
              "      <td>True</td>\n",
              "      <td>False</td>\n",
              "      <td>False</td>\n",
              "    </tr>\n",
              "    <tr>\n",
              "      <th>35</th>\n",
              "      <td>of</td>\n",
              "      <td>of</td>\n",
              "      <td>ADP</td>\n",
              "      <td>IN</td>\n",
              "      <td>prep</td>\n",
              "      <td></td>\n",
              "      <td>True</td>\n",
              "      <td>False</td>\n",
              "      <td>False</td>\n",
              "    </tr>\n",
              "    <tr>\n",
              "      <th>36</th>\n",
              "      <td>D</td>\n",
              "      <td>D</td>\n",
              "      <td>PROPN</td>\n",
              "      <td>NNP</td>\n",
              "      <td>pobj</td>\n",
              "      <td></td>\n",
              "      <td>False</td>\n",
              "      <td>False</td>\n",
              "      <td>False</td>\n",
              "    </tr>\n",
              "    <tr>\n",
              "      <th>37</th>\n",
              "      <td>—</td>\n",
              "      <td>—</td>\n",
              "      <td>PUNCT</td>\n",
              "      <td>:</td>\n",
              "      <td>punct</td>\n",
              "      <td></td>\n",
              "      <td>False</td>\n",
              "      <td>False</td>\n",
              "      <td>True</td>\n",
              "    </tr>\n",
              "    <tr>\n",
              "      <th>38</th>\n",
              "      <td>—</td>\n",
              "      <td>—</td>\n",
              "      <td>PUNCT</td>\n",
              "      <td>:</td>\n",
              "      <td>punct</td>\n",
              "      <td></td>\n",
              "      <td>False</td>\n",
              "      <td>False</td>\n",
              "      <td>True</td>\n",
              "    </tr>\n",
              "    <tr>\n",
              "      <th>39</th>\n",
              "      <td>since</td>\n",
              "      <td>since</td>\n",
              "      <td>SCONJ</td>\n",
              "      <td>IN</td>\n",
              "      <td>prep</td>\n",
              "      <td></td>\n",
              "      <td>True</td>\n",
              "      <td>False</td>\n",
              "      <td>False</td>\n",
              "    </tr>\n",
              "    <tr>\n",
              "      <th>40</th>\n",
              "      <td>1806</td>\n",
              "      <td>1806</td>\n",
              "      <td>NUM</td>\n",
              "      <td>CD</td>\n",
              "      <td>pobj</td>\n",
              "      <td>DATE</td>\n",
              "      <td>False</td>\n",
              "      <td>True</td>\n",
              "      <td>False</td>\n",
              "    </tr>\n",
              "    <tr>\n",
              "      <th>41</th>\n",
              "      <td>.</td>\n",
              "      <td>.</td>\n",
              "      <td>PUNCT</td>\n",
              "      <td>.</td>\n",
              "      <td>punct</td>\n",
              "      <td></td>\n",
              "      <td>False</td>\n",
              "      <td>False</td>\n",
              "      <td>True</td>\n",
              "    </tr>\n",
              "  </tbody>\n",
              "</table>\n",
              "</div>\n",
              "    <div class=\"colab-df-buttons\">\n",
              "\n",
              "  <div class=\"colab-df-container\">\n",
              "    <button class=\"colab-df-convert\" onclick=\"convertToInteractive('df-ab98fbc7-6176-4ed6-87da-7b33988b99bd')\"\n",
              "            title=\"Convert this dataframe to an interactive table.\"\n",
              "            style=\"display:none;\">\n",
              "\n",
              "  <svg xmlns=\"http://www.w3.org/2000/svg\" height=\"24px\" viewBox=\"0 -960 960 960\">\n",
              "    <path d=\"M120-120v-720h720v720H120Zm60-500h600v-160H180v160Zm220 220h160v-160H400v160Zm0 220h160v-160H400v160ZM180-400h160v-160H180v160Zm440 0h160v-160H620v160ZM180-180h160v-160H180v160Zm440 0h160v-160H620v160Z\"/>\n",
              "  </svg>\n",
              "    </button>\n",
              "\n",
              "  <style>\n",
              "    .colab-df-container {\n",
              "      display:flex;\n",
              "      gap: 12px;\n",
              "    }\n",
              "\n",
              "    .colab-df-convert {\n",
              "      background-color: #E8F0FE;\n",
              "      border: none;\n",
              "      border-radius: 50%;\n",
              "      cursor: pointer;\n",
              "      display: none;\n",
              "      fill: #1967D2;\n",
              "      height: 32px;\n",
              "      padding: 0 0 0 0;\n",
              "      width: 32px;\n",
              "    }\n",
              "\n",
              "    .colab-df-convert:hover {\n",
              "      background-color: #E2EBFA;\n",
              "      box-shadow: 0px 1px 2px rgba(60, 64, 67, 0.3), 0px 1px 3px 1px rgba(60, 64, 67, 0.15);\n",
              "      fill: #174EA6;\n",
              "    }\n",
              "\n",
              "    .colab-df-buttons div {\n",
              "      margin-bottom: 4px;\n",
              "    }\n",
              "\n",
              "    [theme=dark] .colab-df-convert {\n",
              "      background-color: #3B4455;\n",
              "      fill: #D2E3FC;\n",
              "    }\n",
              "\n",
              "    [theme=dark] .colab-df-convert:hover {\n",
              "      background-color: #434B5C;\n",
              "      box-shadow: 0px 1px 3px 1px rgba(0, 0, 0, 0.15);\n",
              "      filter: drop-shadow(0px 1px 2px rgba(0, 0, 0, 0.3));\n",
              "      fill: #FFFFFF;\n",
              "    }\n",
              "  </style>\n",
              "\n",
              "    <script>\n",
              "      const buttonEl =\n",
              "        document.querySelector('#df-ab98fbc7-6176-4ed6-87da-7b33988b99bd button.colab-df-convert');\n",
              "      buttonEl.style.display =\n",
              "        google.colab.kernel.accessAllowed ? 'block' : 'none';\n",
              "\n",
              "      async function convertToInteractive(key) {\n",
              "        const element = document.querySelector('#df-ab98fbc7-6176-4ed6-87da-7b33988b99bd');\n",
              "        const dataTable =\n",
              "          await google.colab.kernel.invokeFunction('convertToInteractive',\n",
              "                                                    [key], {});\n",
              "        if (!dataTable) return;\n",
              "\n",
              "        const docLinkHtml = 'Like what you see? Visit the ' +\n",
              "          '<a target=\"_blank\" href=https://colab.research.google.com/notebooks/data_table.ipynb>data table notebook</a>'\n",
              "          + ' to learn more about interactive tables.';\n",
              "        element.innerHTML = '';\n",
              "        dataTable['output_type'] = 'display_data';\n",
              "        await google.colab.output.renderOutput(dataTable, element);\n",
              "        const docLink = document.createElement('div');\n",
              "        docLink.innerHTML = docLinkHtml;\n",
              "        element.appendChild(docLink);\n",
              "      }\n",
              "    </script>\n",
              "  </div>\n",
              "\n",
              "\n",
              "<div id=\"df-7a509012-f606-4991-ad69-2947d2d70767\">\n",
              "  <button class=\"colab-df-quickchart\" onclick=\"quickchart('df-7a509012-f606-4991-ad69-2947d2d70767')\"\n",
              "            title=\"Suggest charts\"\n",
              "            style=\"display:none;\">\n",
              "\n",
              "<svg xmlns=\"http://www.w3.org/2000/svg\" height=\"24px\"viewBox=\"0 0 24 24\"\n",
              "     width=\"24px\">\n",
              "    <g>\n",
              "        <path d=\"M19 3H5c-1.1 0-2 .9-2 2v14c0 1.1.9 2 2 2h14c1.1 0 2-.9 2-2V5c0-1.1-.9-2-2-2zM9 17H7v-7h2v7zm4 0h-2V7h2v10zm4 0h-2v-4h2v4z\"/>\n",
              "    </g>\n",
              "</svg>\n",
              "  </button>\n",
              "\n",
              "<style>\n",
              "  .colab-df-quickchart {\n",
              "      --bg-color: #E8F0FE;\n",
              "      --fill-color: #1967D2;\n",
              "      --hover-bg-color: #E2EBFA;\n",
              "      --hover-fill-color: #174EA6;\n",
              "      --disabled-fill-color: #AAA;\n",
              "      --disabled-bg-color: #DDD;\n",
              "  }\n",
              "\n",
              "  [theme=dark] .colab-df-quickchart {\n",
              "      --bg-color: #3B4455;\n",
              "      --fill-color: #D2E3FC;\n",
              "      --hover-bg-color: #434B5C;\n",
              "      --hover-fill-color: #FFFFFF;\n",
              "      --disabled-bg-color: #3B4455;\n",
              "      --disabled-fill-color: #666;\n",
              "  }\n",
              "\n",
              "  .colab-df-quickchart {\n",
              "    background-color: var(--bg-color);\n",
              "    border: none;\n",
              "    border-radius: 50%;\n",
              "    cursor: pointer;\n",
              "    display: none;\n",
              "    fill: var(--fill-color);\n",
              "    height: 32px;\n",
              "    padding: 0;\n",
              "    width: 32px;\n",
              "  }\n",
              "\n",
              "  .colab-df-quickchart:hover {\n",
              "    background-color: var(--hover-bg-color);\n",
              "    box-shadow: 0 1px 2px rgba(60, 64, 67, 0.3), 0 1px 3px 1px rgba(60, 64, 67, 0.15);\n",
              "    fill: var(--button-hover-fill-color);\n",
              "  }\n",
              "\n",
              "  .colab-df-quickchart-complete:disabled,\n",
              "  .colab-df-quickchart-complete:disabled:hover {\n",
              "    background-color: var(--disabled-bg-color);\n",
              "    fill: var(--disabled-fill-color);\n",
              "    box-shadow: none;\n",
              "  }\n",
              "\n",
              "  .colab-df-spinner {\n",
              "    border: 2px solid var(--fill-color);\n",
              "    border-color: transparent;\n",
              "    border-bottom-color: var(--fill-color);\n",
              "    animation:\n",
              "      spin 1s steps(1) infinite;\n",
              "  }\n",
              "\n",
              "  @keyframes spin {\n",
              "    0% {\n",
              "      border-color: transparent;\n",
              "      border-bottom-color: var(--fill-color);\n",
              "      border-left-color: var(--fill-color);\n",
              "    }\n",
              "    20% {\n",
              "      border-color: transparent;\n",
              "      border-left-color: var(--fill-color);\n",
              "      border-top-color: var(--fill-color);\n",
              "    }\n",
              "    30% {\n",
              "      border-color: transparent;\n",
              "      border-left-color: var(--fill-color);\n",
              "      border-top-color: var(--fill-color);\n",
              "      border-right-color: var(--fill-color);\n",
              "    }\n",
              "    40% {\n",
              "      border-color: transparent;\n",
              "      border-right-color: var(--fill-color);\n",
              "      border-top-color: var(--fill-color);\n",
              "    }\n",
              "    60% {\n",
              "      border-color: transparent;\n",
              "      border-right-color: var(--fill-color);\n",
              "    }\n",
              "    80% {\n",
              "      border-color: transparent;\n",
              "      border-right-color: var(--fill-color);\n",
              "      border-bottom-color: var(--fill-color);\n",
              "    }\n",
              "    90% {\n",
              "      border-color: transparent;\n",
              "      border-bottom-color: var(--fill-color);\n",
              "    }\n",
              "  }\n",
              "</style>\n",
              "\n",
              "  <script>\n",
              "    async function quickchart(key) {\n",
              "      const quickchartButtonEl =\n",
              "        document.querySelector('#' + key + ' button');\n",
              "      quickchartButtonEl.disabled = true;  // To prevent multiple clicks.\n",
              "      quickchartButtonEl.classList.add('colab-df-spinner');\n",
              "      try {\n",
              "        const charts = await google.colab.kernel.invokeFunction(\n",
              "            'suggestCharts', [key], {});\n",
              "      } catch (error) {\n",
              "        console.error('Error during call to suggestCharts:', error);\n",
              "      }\n",
              "      quickchartButtonEl.classList.remove('colab-df-spinner');\n",
              "      quickchartButtonEl.classList.add('colab-df-quickchart-complete');\n",
              "    }\n",
              "    (() => {\n",
              "      let quickchartButtonEl =\n",
              "        document.querySelector('#df-7a509012-f606-4991-ad69-2947d2d70767 button');\n",
              "      quickchartButtonEl.style.display =\n",
              "        google.colab.kernel.accessAllowed ? 'block' : 'none';\n",
              "    })();\n",
              "  </script>\n",
              "</div>\n",
              "\n",
              "  <div id=\"id_8efde52a-7dde-450e-8b76-0165494423ad\">\n",
              "    <style>\n",
              "      .colab-df-generate {\n",
              "        background-color: #E8F0FE;\n",
              "        border: none;\n",
              "        border-radius: 50%;\n",
              "        cursor: pointer;\n",
              "        display: none;\n",
              "        fill: #1967D2;\n",
              "        height: 32px;\n",
              "        padding: 0 0 0 0;\n",
              "        width: 32px;\n",
              "      }\n",
              "\n",
              "      .colab-df-generate:hover {\n",
              "        background-color: #E2EBFA;\n",
              "        box-shadow: 0px 1px 2px rgba(60, 64, 67, 0.3), 0px 1px 3px 1px rgba(60, 64, 67, 0.15);\n",
              "        fill: #174EA6;\n",
              "      }\n",
              "\n",
              "      [theme=dark] .colab-df-generate {\n",
              "        background-color: #3B4455;\n",
              "        fill: #D2E3FC;\n",
              "      }\n",
              "\n",
              "      [theme=dark] .colab-df-generate:hover {\n",
              "        background-color: #434B5C;\n",
              "        box-shadow: 0px 1px 3px 1px rgba(0, 0, 0, 0.15);\n",
              "        filter: drop-shadow(0px 1px 2px rgba(0, 0, 0, 0.3));\n",
              "        fill: #FFFFFF;\n",
              "      }\n",
              "    </style>\n",
              "    <button class=\"colab-df-generate\" onclick=\"generateWithVariable('sentence_data')\"\n",
              "            title=\"Generate code using this dataframe.\"\n",
              "            style=\"display:none;\">\n",
              "\n",
              "  <svg xmlns=\"http://www.w3.org/2000/svg\" height=\"24px\"viewBox=\"0 0 24 24\"\n",
              "       width=\"24px\">\n",
              "    <path d=\"M7,19H8.4L18.45,9,17,7.55,7,17.6ZM5,21V16.75L18.45,3.32a2,2,0,0,1,2.83,0l1.4,1.43a1.91,1.91,0,0,1,.58,1.4,1.91,1.91,0,0,1-.58,1.4L9.25,21ZM18.45,9,17,7.55Zm-12,3A5.31,5.31,0,0,0,4.9,8.1,5.31,5.31,0,0,0,1,6.5,5.31,5.31,0,0,0,4.9,4.9,5.31,5.31,0,0,0,6.5,1,5.31,5.31,0,0,0,8.1,4.9,5.31,5.31,0,0,0,12,6.5,5.46,5.46,0,0,0,6.5,12Z\"/>\n",
              "  </svg>\n",
              "    </button>\n",
              "    <script>\n",
              "      (() => {\n",
              "      const buttonEl =\n",
              "        document.querySelector('#id_8efde52a-7dde-450e-8b76-0165494423ad button.colab-df-generate');\n",
              "      buttonEl.style.display =\n",
              "        google.colab.kernel.accessAllowed ? 'block' : 'none';\n",
              "\n",
              "      buttonEl.onclick = () => {\n",
              "        google.colab.notebook.generateWithVariable('sentence_data');\n",
              "      }\n",
              "      })();\n",
              "    </script>\n",
              "  </div>\n",
              "\n",
              "    </div>\n",
              "  </div>\n"
            ],
            "application/vnd.google.colaboratory.intrinsic+json": {
              "type": "dataframe",
              "variable_name": "sentence_data",
              "summary": "{\n  \"name\": \"sentence_data\",\n  \"rows\": 42,\n  \"fields\": [\n    {\n      \"column\": \"L\",\n      \"properties\": {\n        \"dtype\": \"string\",\n        \"num_unique_values\": 32,\n        \"samples\": [\n          \"since\",\n          \"an\",\n          \"he\"\n        ],\n        \"semantic_type\": \"\",\n        \"description\": \"\"\n      }\n    },\n    {\n      \"column\": \"lemma_\",\n      \"properties\": {\n        \"dtype\": \"string\",\n        \"num_unique_values\": 31,\n        \"samples\": [\n          \"see\",\n          \"an\",\n          \";\"\n        ],\n        \"semantic_type\": \"\",\n        \"description\": \"\"\n      }\n    },\n    {\n      \"column\": \"pos_\",\n      \"properties\": {\n        \"dtype\": \"category\",\n        \"num_unique_values\": 12,\n        \"samples\": [\n          \"VERB\",\n          \"ADV\",\n          \"ADP\"\n        ],\n        \"semantic_type\": \"\",\n        \"description\": \"\"\n      }\n    },\n    {\n      \"column\": \"tag_\",\n      \"properties\": {\n        \"dtype\": \"category\",\n        \"num_unique_values\": 15,\n        \"samples\": [\n          \"JJ\",\n          \"RB\",\n          \"IN\"\n        ],\n        \"semantic_type\": \"\",\n        \"description\": \"\"\n      }\n    },\n    {\n      \"column\": \"dep_\",\n      \"properties\": {\n        \"dtype\": \"category\",\n        \"num_unique_values\": 14,\n        \"samples\": [\n          \"advmod\",\n          \"aux\",\n          \"prep\"\n        ],\n        \"semantic_type\": \"\",\n        \"description\": \"\"\n      }\n    },\n    {\n      \"column\": \"ent_type_\",\n      \"properties\": {\n        \"dtype\": \"category\",\n        \"num_unique_values\": 4,\n        \"samples\": [\n          \"DATE\",\n          \"CARDINAL\",\n          \"\"\n        ],\n        \"semantic_type\": \"\",\n        \"description\": \"\"\n      }\n    },\n    {\n      \"column\": \"is_stop\",\n      \"properties\": {\n        \"dtype\": \"boolean\",\n        \"num_unique_values\": 2,\n        \"samples\": [\n          false,\n          true\n        ],\n        \"semantic_type\": \"\",\n        \"description\": \"\"\n      }\n    },\n    {\n      \"column\": \"is_digit\",\n      \"properties\": {\n        \"dtype\": \"boolean\",\n        \"num_unique_values\": 2,\n        \"samples\": [\n          true,\n          false\n        ],\n        \"semantic_type\": \"\",\n        \"description\": \"\"\n      }\n    },\n    {\n      \"column\": \"is_punct\",\n      \"properties\": {\n        \"dtype\": \"boolean\",\n        \"num_unique_values\": 2,\n        \"samples\": [\n          true,\n          false\n        ],\n        \"semantic_type\": \"\",\n        \"description\": \"\"\n      }\n    }\n  ]\n}"
            }
          },
          "metadata": {},
          "execution_count": 12
        }
      ],
      "source": [
        "example_sent = list(example_doc.sents)[0]\n",
        "token_texts = []\n",
        "token_lemmas = []\n",
        "token_poss = []\n",
        "token_tags = []\n",
        "token_deps = []\n",
        "token_ent_types = []\n",
        "token_is_stops = []\n",
        "token_is_digits = []\n",
        "token_is_puncts = []\n",
        "\n",
        "# On boucle sur les tokens\n",
        "for token in example_sent:\n",
        "  if not token.is_space:\n",
        "    token_texts.append(token.text) # Le texte du token\n",
        "    token_lemmas.append(token.lemma_) # Son lemme\n",
        "    token_poss.append(token.pos_) # Son tag POS\n",
        "    token_tags.append(token.tag_) # Son tag POS détaillé\n",
        "    token_deps.append(token.dep_) # Son tag de parsing\n",
        "    token_ent_types.append(token.ent_type_) # Son tag NER (si s'en est un)\n",
        "    token_is_stops.append(token.is_stop) # Si c'est un stopwords\n",
        "    token_is_digits.append(token.is_digit) # Si c'est un chiffre\n",
        "    token_is_puncts.append(token.is_punct) # Si c'est une ponctuation\n",
        "\n",
        "# On affiche dans une DataFrame formatée\n",
        "sentence_data = pd.DataFrame({\"L\": token_texts,\n",
        "                              \"lemma_\": token_lemmas,\n",
        "                              \"pos_\": token_poss,\n",
        "                              \"tag_\": token_tags,\n",
        "                              \"dep_\": token_deps,\n",
        "                              \"ent_type_\": token_ent_types,\n",
        "                              \"is_stop\": token_is_stops,\n",
        "                              \"is_digit\": token_is_digits,\n",
        "                              \"is_punct\": token_is_puncts})\n",
        "sentence_data"
      ]
    },
    {
      "cell_type": "markdown",
      "metadata": {
        "id": "ydsyG9GvEO4x"
      },
      "source": [
        "Pour le tagging des stopwords, Spacy utilise une liste interne."
      ]
    },
    {
      "cell_type": "code",
      "execution_count": 13,
      "metadata": {
        "colab": {
          "base_uri": "https://localhost:8080/"
        },
        "id": "ihrzGNKuDZBg",
        "outputId": "78b9cfcd-6e54-40ed-e955-ca63b7531186"
      },
      "outputs": [
        {
          "output_type": "stream",
          "name": "stdout",
          "text": [
            "{'under', 'front', 'somehow', 'thus', 'whom', 'put', 'them', 'each', 'done', 'before', 'twenty', 'therein', 'not', 'your', 'hence', 'nowhere', 'namely', 'full', 'seeming', 'above', \"'d\", 'will', 'whatever', 'every', 'really', 'himself', 'already', 'former', 'because', 'via', 'seemed', 'to', 'therefore', \"'re\", 'well', 'myself', 'twelve', 'go', 'except', 'six', 'yourselves', 'name', 'along', 'until', \"'ve\", 'behind', 'may', 'across', 'whereas', 'ourselves', 'whereby', 'more', 'latterly', 'throughout', \"'m\", 'often', 'say', 'was', 'as', '’m', 'whole', 'been', 'thru', 'an', 'could', 'since', 'through', 'eight', 'meanwhile', '’d', 'here', 'others', 'this', 'on', '‘re', 'four', 'it', 'had', 'now', 'due', 'two', 'but', 'even', 'with', 'another', 'i', 'between', 'although', 'noone', 'should', 'no', 'yours', 'can', 'anywhere', 'however', 'elsewhere', '‘s', 'hundred', 'does', 'else', 'whither', '’re', 'so', 'moreover', 'always', 'otherwise', 'who', 'become', 'among', 'cannot', '‘d', 'without', 'many', 'thereby', 'forty', 'below', 'less', 'their', 'something', 'part', 'thereupon', 'then', 'is', 'we', 'own', 'further', 'just', 'again', 'sixty', 'such', 'everything', 'seem', 'give', 'my', 'in', 'towards', 'down', 'of', 'beforehand', 'latter', 'yet', 'same', 'first', 'anyhow', 'doing', 'me', 'too', '’ll', 'none', 'being', 'would', '‘m', 'besides', 'last', 'made', 'did', 'five', 'some', 'ever', 'what', 'much', 'fifteen', 'amount', '‘ll', 'any', 'afterwards', 'everywhere', 'from', 'make', 'quite', 'someone', 'whose', 're', 'third', 'into', 'thence', 'all', 'off', 'top', '’s', 'almost', 'nevertheless', 'nothing', 'that', 'by', \"'ll\", 'back', 'where', 'you', 'which', 'call', 'do', 'please', 'becoming', 'neither', 'somewhere', 'rather', 'never', 'eleven', 'a', 'there', 'how', 'unless', 'the', 'am', 'used', 'hers', 'whether', 'whenever', 'next', 'get', 'our', 'ten', 'though', 'other', 'most', '‘ve', 'over', 'herself', 'several', 'while', 'his', 'became', 'one', 'he', 'out', 'becomes', 'up', 'everyone', 'whereafter', 'hereupon', 'also', 'very', 'thereafter', 'around', 'why', 'least', '’ve', 'after', 'mostly', 'themselves', 'regarding', 'or', 'whoever', 'amongst', 'these', 'its', 'either', 'alone', 'us', 'sometimes', 'still', 'beside', 'nor', 'using', 'bottom', 'together', 'wherever', 'they', 'those', 'yourself', 'both', 'n’t', 'hereby', 'than', \"n't\", 'once', 'fifty', 'has', 'when', 'n‘t', 'at', 'she', 'and', 'must', 'ca', 'were', 'sometime', 'herein', 'ours', 'within', 'upon', 'whence', 'are', 'seems', 'nine', 'show', 'nobody', 'might', 'only', 'move', 'him', 'side', 'take', 'indeed', 'if', 'her', 'have', 'anyway', 'whereupon', 'mine', 'for', 'anything', 'toward', 'about', 'per', 'various', 'keep', 'onto', 'itself', 'formerly', \"'s\", 'enough', 'serious', 'anyone', 'few', 'against', 'three', 'beyond', 'empty', 'be', 'hereafter', 'during', 'wherein', 'perhaps', 'see'}\n"
          ]
        }
      ],
      "source": [
        "print(spacy.lang.en.stop_words.STOP_WORDS)"
      ]
    },
    {
      "cell_type": "markdown",
      "metadata": {
        "id": "BrSq9c8IEX_z"
      },
      "source": [
        "Il est possible d'étendre cette liste de la manière suivante (une liste de stopwords universelle n'existe pas)."
      ]
    },
    {
      "cell_type": "code",
      "execution_count": 14,
      "metadata": {
        "id": "slkIjt56CwQ9"
      },
      "outputs": [],
      "source": [
        "new_stopwords = [\"say\", \"says\", \"saying\", \"said\"]\n",
        "for stopword in new_stopwords:\n",
        "  nlp.vocab[stopword].is_stop = True"
      ]
    },
    {
      "cell_type": "markdown",
      "metadata": {
        "id": "3hOIyQSzFCo4"
      },
      "source": [
        "Pour obtenir les statistiques du corpus, nous allons créer une fonction qui les calcule et qui retourne un dictionnaire. Cette fonction va se lancer sur tous les documents de notre corpus."
      ]
    },
    {
      "cell_type": "code",
      "execution_count": 15,
      "metadata": {
        "id": "Has9GyIi3p_Q"
      },
      "outputs": [],
      "source": [
        "def get_statistics(doc):\n",
        "\n",
        "  lemmas = []\n",
        "  poss = []\n",
        "\n",
        "  # On boucle sur les tokens, et on sauve leur lemme et leur tag POS\n",
        "  for token in doc:\n",
        "    if not (token.is_stop or token.is_punct or token.is_space):\n",
        "      lemmas.append(token.lemma_.lower())\n",
        "      poss.append(token.pos_)\n",
        "\n",
        "  # On boucle sur doc.ents pour obtenir les entités de type \"PERSON\"\n",
        "  pers = [ent.text for ent in doc.ents if ent.label_==\"PERSON\"]\n",
        "\n",
        "  # Grâce à collections.Counter(), on crée des dictionnaires contenant la\n",
        "  # fréquence des différents éléments.\n",
        "  lemma_counts = collections.Counter(lemmas)\n",
        "  pos_counts = collections.Counter(poss)\n",
        "  per_counts = collections.Counter(pers)\n",
        "\n",
        "  statistic_dict = {\n",
        "      \"n_tokens\": len(doc), # Le nombre de tokens\n",
        "      \"n_lemmas\": len(lemmas), # Le nombre de lemmes\n",
        "      \"n_lemma_types\": len(set(lemmas)), # le nombre de lemmes unique\n",
        "      \"top_5_lemmas\": {lemma: count for lemma, count in # Les 5 lemmes les plus fréquents\n",
        "                       sorted(lemma_counts.items(),\n",
        "                              key=lambda item: item[1],\n",
        "                              reverse=True)[:6]},\n",
        "      \"pos_distrib\": {pos: round(count/len(lemmas)*100, 2) for pos, count in # La distribution des tag POS\n",
        "                      sorted(pos_counts.items(),\n",
        "                             key=lambda item: item[1],\n",
        "                             reverse=True)},\n",
        "      \"top_5_pers\": {per: count for per, count in # Les 5 personnages les plus fréquents\n",
        "                     sorted(per_counts.items(),\n",
        "                            key=lambda item: item[1],\n",
        "                            reverse=True)[:6]},\n",
        "  }\n",
        "\n",
        "  return(statistic_dict)"
      ]
    },
    {
      "cell_type": "markdown",
      "metadata": {
        "id": "KCDY2HsoGGhY"
      },
      "source": [
        "En appliquant cette fonction à notre objet d'exemple, on obtient les statistiques."
      ]
    },
    {
      "cell_type": "code",
      "execution_count": 16,
      "metadata": {
        "colab": {
          "base_uri": "https://localhost:8080/"
        },
        "id": "1s_sgkT5p9qG",
        "outputId": "8c0e11f0-0214-4927-fbd2-0ba256381cf8"
      },
      "outputs": [
        {
          "output_type": "execute_result",
          "data": {
            "text/plain": [
              "{'n_tokens': 31113,\n",
              " 'n_lemmas': 9714,\n",
              " 'n_lemma_types': 3405,\n",
              " 'top_5_lemmas': {'bishop': 181,\n",
              "  'man': 127,\n",
              "  'good': 66,\n",
              "  'old': 46,\n",
              "  'monseigneur': 44,\n",
              "  'god': 44},\n",
              " 'pos_distrib': {'NOUN': 46.07,\n",
              "  'VERB': 24.01,\n",
              "  'ADJ': 13.19,\n",
              "  'PROPN': 11.77,\n",
              "  'ADV': 2.46,\n",
              "  'NUM': 0.93,\n",
              "  'ADP': 0.59,\n",
              "  'AUX': 0.36,\n",
              "  'X': 0.29,\n",
              "  'INTJ': 0.23,\n",
              "  'PUNCT': 0.05,\n",
              "  'DET': 0.03,\n",
              "  'SCONJ': 0.02,\n",
              "  'PRON': 0.02},\n",
              " 'top_5_pers': {'Monseigneur': 10,\n",
              "  'Magloire': 8,\n",
              "  'Madame Magloire': 7,\n",
              "  'Mademoiselle Baptistine': 5,\n",
              "  'Bishop': 5,\n",
              "  'Te Deum': 3}}"
            ]
          },
          "metadata": {},
          "execution_count": 16
        }
      ],
      "source": [
        "get_statistics(example_doc)"
      ]
    },
    {
      "cell_type": "markdown",
      "metadata": {
        "id": "pveXg8qAGQTa"
      },
      "source": [
        "Nous allons maintenant créer une fonction qui sauve le document pré-traité dans un fichier donné en argument. On va sauver chaque phrase dans une ligne séparée, pour pouvoir les retrouver par la suite."
      ]
    },
    {
      "cell_type": "code",
      "execution_count": 17,
      "metadata": {
        "id": "BN76hTz4ksPU"
      },
      "outputs": [],
      "source": [
        "def save_preprocess_doc(doc, output_path):\n",
        "\n",
        "  with open(output_path, \"w\") as output_file:\n",
        "    # l'attibut doc.sents de Spacy contient les phrases, on boucle dessus\n",
        "    for sent in doc.sents:\n",
        "      line = \"\"\n",
        "      # On boucle sur les tokens\n",
        "      for token in sent:\n",
        "        # On ne garde que les token qui ne sont pas des stopwords,\n",
        "        # des ponctuations ou des espaces.\n",
        "        if not (token.is_stop or token.is_punct or token.is_space):\n",
        "          # On écrit le lemme, en minuscule\n",
        "          line += f\"{token.lemma_.lower()} \"\n",
        "      # Si la ligne n'est pas vide, on l'écrit dans le fichier\n",
        "      if re.sub(r\"\\s+\", \"\", line) != \"\":\n",
        "        output_file.write(line[:-1] + \"\\n\")"
      ]
    },
    {
      "cell_type": "markdown",
      "metadata": {
        "id": "KMc1gJgAHwte"
      },
      "source": [
        "On peut tester notre fonction sur notre document d'exemple."
      ]
    },
    {
      "cell_type": "code",
      "execution_count": 18,
      "metadata": {
        "id": "qh6dNm2Znfx0"
      },
      "outputs": [],
      "source": [
        "save_preprocess_doc(example_doc, \"example_pp.txt\")"
      ]
    },
    {
      "cell_type": "markdown",
      "metadata": {
        "id": "cVYP2qoVH2ee"
      },
      "source": [
        "On va maintenant appliquer nos fonctions sur tous les documents. On fait une boucle sur les noms des fichiers, on charge le document, on le transforme en objet Spacy, puis on lance nos fonctions. Les fichiers traités sont sauvegardés dans un nouveau dossier et les résultats des statistiques sont enregistrés dans une DataFrame, que l'on affiche."
      ]
    },
    {
      "cell_type": "code",
      "execution_count": 19,
      "metadata": {
        "colab": {
          "base_uri": "https://localhost:8080/",
          "height": 1000
        },
        "id": "83qw-bzNbMcX",
        "outputId": "a825d4c4-63a3-4ea7-b429-a9272fea7f63"
      },
      "outputs": [
        {
          "output_type": "stream",
          "name": "stderr",
          "text": [
            "100%|██████████| 49/49 [02:02<00:00,  2.50s/it]\n"
          ]
        },
        {
          "output_type": "execute_result",
          "data": {
            "text/plain": [
              "   n_tokens n_lemmas n_lemma_types  \\\n",
              "0       149       63            56   \n",
              "1     31113     9714          3405   \n",
              "2     29786     9463          2790   \n",
              "3     15259     5327          2625   \n",
              "4      6719     2150          1157   \n",
              "5     21198     6771          2416   \n",
              "6      6026     1822           895   \n",
              "7     36967    11066          2923   \n",
              "8      9542     2952          1240   \n",
              "9     29083    10286          3302   \n",
              "10     7566     2556          1369   \n",
              "11    27681     8692          2636   \n",
              "12     8324     2860          1345   \n",
              "13    15973     5292          1945   \n",
              "14    15696     5349          2183   \n",
              "15     6195     1986          1164   \n",
              "16    24528     7511          2434   \n",
              "17    10143     3509          2076   \n",
              "18     5230     1730          1108   \n",
              "19    19476     6362          2611   \n",
              "20    16377     5429          2645   \n",
              "21    10709     3454          1670   \n",
              "22     9228     2941          1306   \n",
              "23     4352     1416           930   \n",
              "24    45740    14086          3455   \n",
              "25    18643     6239          2639   \n",
              "26     9222     2861          1372   \n",
              "27    19010     6227          2433   \n",
              "28     5147     1616           926   \n",
              "29     8297     2540          1165   \n",
              "30    19202     6144          2264   \n",
              "31    12250     4209          2179   \n",
              "32    18246     5487          2014   \n",
              "33     3868     1278           762   \n",
              "34    11318     4020          1946   \n",
              "35     5879     1920          1078   \n",
              "36    16622     5881          2544   \n",
              "37     5686     1915          1094   \n",
              "38     8872     2801          1212   \n",
              "39     9152     3065          1500   \n",
              "40    42720    14285          4021   \n",
              "41     9729     3536          1900   \n",
              "42    21729     7248          2462   \n",
              "43     6096     1956          1119   \n",
              "44    16027     5172          2272   \n",
              "45    12556     4130          1947   \n",
              "46    13141     3785          1488   \n",
              "47     6605     2063           955   \n",
              "48    18018     5596          1972   \n",
              "\n",
              "                                         top_5_lemmas  \\\n",
              "0   {'long': 4, 'les': 2, 'misérables': 2, 'exist'...   \n",
              "1   {'bishop': 181, 'man': 127, 'good': 66, 'old':...   \n",
              "2   {'man': 162, 'jean': 100, 'valjean': 99, 'bish...   \n",
              "3   {'tholomyès': 52, 'de': 43, 'favourite': 41, '...   \n",
              "4   {'child': 43, 'mother': 38, 'little': 36, 'thé...   \n",
              "5   {'m.': 98, 'madeleine': 94, 'man': 93, 'javert...   \n",
              "6   {'m.': 39, 'javert': 38, 'madeleine': 37, 'may...   \n",
              "7   {'man': 138, 'm.': 95, 'go': 64, 'little': 62,...   \n",
              "8   {'javert': 48, 'm.': 42, 'fantine': 38, 'jean'...   \n",
              "9   {'man': 90, 'english': 88, 'battle': 81, 'wate...   \n",
              "10  {'man': 29, 'boulatruelle': 23, 'm.': 20, 'fal...   \n",
              "11  {'thénardier': 181, 'cosette': 154, 'man': 150...   \n",
              "12  {'jean': 48, 'valjean': 48, 'old': 34, 'cosett...   \n",
              "13  {'jean': 116, 'valjean': 115, 'javert': 64, 'm...   \n",
              "14  {'convent': 55, 'mother': 53, 'nun': 43, 'de':...   \n",
              "15  {'man': 27, 'infinite': 18, 'convent': 17, 'cl...   \n",
              "16  {'fauchelevent': 183, 'man': 95, 'jean': 91, '...   \n",
              "17  {'paris': 56, 'child': 38, 'gamin': 36, 'littl...   \n",
              "18  {'m.': 29, 'gillenormand': 29, 'man': 23, 'gre...   \n",
              "19  {'marius': 95, 'm.': 68, 'de': 63, 'man': 63, ...   \n",
              "20  {'marius': 55, 'man': 54, 'enjolras': 39, 'cou...   \n",
              "21  {'marius': 65, 'm.': 36, 'old': 32, 'man': 31,...   \n",
              "22  {'marius': 81, 'day': 36, 'girl': 35, 'bench':...   \n",
              "23  {'man': 21, 'low': 9, 'social': 9, 'work': 8, ...   \n",
              "24  {'marius': 233, 'man': 185, 'jondrette': 147, ...   \n",
              "25  {'man': 83, 'revolution': 54, 'right': 46, 'lo...   \n",
              "26  {'marius': 55, 'man': 32, 'know': 25, 'long': ...   \n",
              "27  {'cosette': 117, 'jean': 99, 'valjean': 99, 'm...   \n",
              "28  {'gavroche': 30, 'man': 27, 'old': 26, 'montpa...   \n",
              "29  {'cosette': 52, 'love': 52, 'think': 23, 'soul...   \n",
              "30  {'gavroche': 124, 'child': 53, 'thénardier': 5...   \n",
              "31  {'slang': 74, 'word': 37, 'man': 35, 'le': 29,...   \n",
              "32  {'marius': 151, 'cosette': 83, 'man': 53, 'com...   \n",
              "33  {'go': 19, 'cosette': 14, 'mabeuf': 14, 'day':...   \n",
              "34  {'rue': 43, 'man': 37, 'insurrection': 29, 're...   \n",
              "35  {'gavroche': 26, 'man': 18, 'old': 17, 'pistol...   \n",
              "36  {'rue': 56, 'man': 51, 'de': 48, 'barricade': ...   \n",
              "37  {'war': 27, 'street': 22, 'rue': 20, 'man': 16...   \n",
              "38  {'marius': 61, 'barricade': 47, 'enjolras': 25...   \n",
              "39  {'jean': 58, 'valjean': 58, 'cosette': 40, 'ga...   \n",
              "40  {'barricade': 167, 'man': 151, 'enjolras': 117...   \n",
              "41  {'sewer': 97, 'paris': 57, 'rue': 45, 'city': ...   \n",
              "42  {'jean': 127, 'valjean': 126, 'man': 97, 'mari...   \n",
              "43  {'javert': 40, 'man': 26, 'jean': 20, 'valjean...   \n",
              "44  {'marius': 91, 'man': 73, 'cosette': 63, 'm.':...   \n",
              "45  {'cosette': 57, 'jean': 39, 'valjean': 38, 'ma...   \n",
              "46  {'marius': 84, 'jean': 79, 'valjean': 79, 'cos...   \n",
              "47  {'jean': 64, 'valjean': 47, 'cosette': 47, 'da...   \n",
              "48  {'marius': 99, 'man': 90, 'cosette': 86, 'jean...   \n",
              "\n",
              "                                          pos_distrib  \\\n",
              "0   {'NOUN': 53.97, 'PROPN': 12.7, 'VERB': 11.11, ...   \n",
              "1   {'NOUN': 46.07, 'VERB': 24.01, 'ADJ': 13.19, '...   \n",
              "2   {'NOUN': 45.56, 'VERB': 26.75, 'ADJ': 12.72, '...   \n",
              "3   {'NOUN': 41.9, 'VERB': 21.38, 'PROPN': 19.34, ...   \n",
              "4   {'NOUN': 45.91, 'VERB': 23.12, 'ADJ': 15.72, '...   \n",
              "5   {'NOUN': 45.31, 'VERB': 25.92, 'ADJ': 13.91, '...   \n",
              "6   {'NOUN': 38.64, 'VERB': 26.84, 'PROPN': 18.99,...   \n",
              "7   {'NOUN': 44.28, 'VERB': 28.43, 'ADJ': 12.36, '...   \n",
              "8   {'NOUN': 41.63, 'VERB': 28.25, 'PROPN': 12.87,...   \n",
              "9   {'NOUN': 47.43, 'VERB': 22.2, 'PROPN': 14.32, ...   \n",
              "10  {'NOUN': 49.8, 'VERB': 24.65, 'ADJ': 11.23, 'P...   \n",
              "11  {'NOUN': 45.21, 'VERB': 27.02, 'ADJ': 12.84, '...   \n",
              "12  {'NOUN': 45.94, 'VERB': 23.99, 'ADJ': 13.95, '...   \n",
              "13  {'NOUN': 41.61, 'VERB': 25.55, 'PROPN': 15.42,...   \n",
              "14  {'NOUN': 44.48, 'VERB': 20.06, 'PROPN': 16.53,...   \n",
              "15  {'NOUN': 53.27, 'VERB': 21.2, 'ADJ': 15.81, 'P...   \n",
              "16  {'NOUN': 43.47, 'VERB': 25.19, 'PROPN': 14.9, ...   \n",
              "17  {'NOUN': 45.68, 'VERB': 20.89, 'PROPN': 15.47,...   \n",
              "18  {'NOUN': 42.54, 'VERB': 20.92, 'ADJ': 15.09, '...   \n",
              "19  {'NOUN': 42.2, 'VERB': 22.93, 'PROPN': 17.27, ...   \n",
              "20  {'NOUN': 42.99, 'VERB': 22.2, 'PROPN': 16.54, ...   \n",
              "21  {'NOUN': 46.5, 'VERB': 24.35, 'ADJ': 12.57, 'P...   \n",
              "22  {'NOUN': 42.74, 'VERB': 27.03, 'ADJ': 14.79, '...   \n",
              "23  {'NOUN': 50.78, 'VERB': 19.28, 'ADJ': 14.9, 'P...   \n",
              "24  {'NOUN': 44.33, 'VERB': 27.57, 'ADJ': 12.14, '...   \n",
              "25  {'NOUN': 45.86, 'VERB': 20.95, 'ADJ': 14.33, '...   \n",
              "26  {'NOUN': 41.73, 'VERB': 26.49, 'PROPN': 14.12,...   \n",
              "27  {'NOUN': 45.58, 'VERB': 24.63, 'ADJ': 14.77, '...   \n",
              "28  {'NOUN': 44.68, 'VERB': 27.23, 'ADJ': 14.11, '...   \n",
              "29  {'NOUN': 46.46, 'VERB': 28.27, 'ADJ': 12.17, '...   \n",
              "30  {'NOUN': 44.76, 'VERB': 26.46, 'ADJ': 12.16, '...   \n",
              "31  {'NOUN': 48.99, 'VERB': 20.79, 'ADJ': 14.75, '...   \n",
              "32  {'NOUN': 40.24, 'VERB': 28.16, 'ADJ': 12.43, '...   \n",
              "33  {'NOUN': 40.69, 'VERB': 26.92, 'PROPN': 16.12,...   \n",
              "34  {'NOUN': 47.79, 'VERB': 20.02, 'PROPN': 15.55,...   \n",
              "35  {'NOUN': 42.6, 'VERB': 23.33, 'PROPN': 18.07, ...   \n",
              "36  {'NOUN': 42.15, 'VERB': 22.45, 'PROPN': 18.65,...   \n",
              "37  {'NOUN': 47.21, 'VERB': 23.97, 'ADJ': 13.52, '...   \n",
              "38  {'NOUN': 40.99, 'VERB': 29.06, 'PROPN': 12.89,...   \n",
              "39  {'NOUN': 41.37, 'VERB': 24.93, 'PROPN': 16.05,...   \n",
              "40  {'NOUN': 49.09, 'VERB': 25.03, 'ADJ': 11.75, '...   \n",
              "41  {'NOUN': 47.74, 'VERB': 17.9, 'PROPN': 15.44, ...   \n",
              "42  {'NOUN': 45.18, 'VERB': 25.99, 'ADJ': 12.11, '...   \n",
              "43  {'NOUN': 46.57, 'VERB': 25.77, 'ADJ': 14.42, '...   \n",
              "44  {'NOUN': 42.15, 'VERB': 23.59, 'PROPN': 14.91,...   \n",
              "45  {'NOUN': 45.74, 'VERB': 23.22, 'ADJ': 13.9, 'P...   \n",
              "46  {'NOUN': 39.74, 'VERB': 29.04, 'PROPN': 12.79,...   \n",
              "47  {'NOUN': 36.21, 'VERB': 27.14, 'PROPN': 16.63,...   \n",
              "48  {'NOUN': 40.01, 'VERB': 27.89, 'PROPN': 13.62,...   \n",
              "\n",
              "                                           top_5_pers  \n",
              "0                                      {'FANTINE': 1}  \n",
              "1   {'Monseigneur': 10, 'Magloire': 8, 'Madame Mag...  \n",
              "2   {'Jean Valjean': 85, 'Madame Magloire': 21, 'M...  \n",
              "3   {'Fantine': 34, 'Favourite': 27, 'Tholomyès': ...  \n",
              "4   {'Fantine': 9, 'Cosette': 5, 'Éponine': 2, 'Au...  \n",
              "5   {'Fantine': 54, 'Madeleine': 47, 'M. Madeleine...  \n",
              "6   {'M. Madeleine': 31, 'Javert': 22, 'Mayor': 21...  \n",
              "7   {'Fantine': 36, 'Jean Valjean': 36, 'M. Madele...  \n",
              "8   {'Fantine': 36, 'Jean Valjean': 26, 'Javert': ...  \n",
              "9   {'Waterloo': 69, 'Blücher': 18, 'Genappe': 16,...  \n",
              "10  {'Jean Valjean': 14, 'M. Madeleine': 6, 'Théna...  \n",
              "11  {'Cosette': 61, 'Éponine': 10, 'Thénardier': 6...  \n",
              "12  {'Jean Valjean': 40, 'Cosette': 9, 'Jean Valje...  \n",
              "13  {'Jean Valjean': 96, 'Javert': 22, 'Cosette': ...  \n",
              "14  {'Martin Verga': 9, 'M. de Rohan': 4, 'Benedic...  \n",
              "15  {'Lofty': 1, 'Jean-Jacques': 1, 'Voltaire': 1,...  \n",
              "16  {'Jean Valjean': 74, 'Mestienne': 20, 'Madelei...  \n",
              "17  {'Jondrette': 3, 'Jack': 2, 'Louis XV': 2, 'Ba...  \n",
              "18  {'M. Gillenormand': 3, 'Louis XIV': 2, 'Louis ...  \n",
              "19  {'Marius': 29, 'Théodule': 18, 'M. Gillenorman...  \n",
              "20  {'Marius': 20, 'Combeferre': 14, 'Laigle': 11,...  \n",
              "21  {'M. Mabeuf': 18, 'Théodule': 13, 'Marius': 12...  \n",
              "22  {'Marius': 14, 'M. Leblanc': 9, 'Ursule': 8, '...  \n",
              "23  {'Gueulemer': 3, 'Condorcet': 2, 'Robespierre'...  \n",
              "24  {'Jondrette': 139, 'Marius': 53, 'M. Leblanc':...  \n",
              "25  {'Louis Philippe': 22, 'Robespierre': 5, 'Loui...  \n",
              "26  {'Marius': 16, 'Éponine': 10, 'Mabeuf': 9, 'M....  \n",
              "27  {'Jean Valjean': 80, 'Cosette': 35, 'Jean\n",
              "Valj...  \n",
              "28  {'Jean Valjean': 9, 'Cosette': 8, 'Mabeuf': 4,...  \n",
              "29  {'Cosette': 22, 'Jean Valjean': 11, 'Toussaint...  \n",
              "30  {'Gavroche': 27, 'Brujon': 8, 'Magnon': 7, 'Gu...  \n",
              "31  {'Slang': 9, 'Levantine': 3, 'Jacquerie': 3, '...  \n",
              "32  {'Marius': 41, 'Cosette': 33, 'Éponine': 17, '...  \n",
              "33  {'M. Mabeuf': 10, 'Jean Valjean': 5, 'Marius':...  \n",
              "34  {'Cæsar': 5, 'Mavot': 3, 'Jeanne': 2, 'Danton'...  \n",
              "35  {'Gavroche': 7, 'Bahorel': 6, 'Courfeyrac': 4,...  \n",
              "36  {'Laigle': 17, 'Joly': 12, 'Courfeyrac': 7, 'G...  \n",
              "37  {'Marius': 4, 'Marnix': 2, 'Javert': 1, 'Place...  \n",
              "38  {'Marius': 12, 'Combeferre': 6, 'Mabeuf': 4, '...  \n",
              "39  {'Jean Valjean': 49, 'Cosette': 9, 'Gavroche':...  \n",
              "40  {'Jean Valjean': 49, 'Combeferre': 22, 'Javert...  \n",
              "41  {'Bruneseau': 7, 'Babylon': 3, 'Nineveh': 2, '...  \n",
              "42  {'Jean Valjean': 101, 'Javert': 23, 'Jean\n",
              "Valj...  \n",
              "43  {'Javert': 19, 'Jean Valjean': 17, 'Jean Valje...  \n",
              "44  {'Marius': 19, 'Cosette': 18, 'Jean Valjean': ...  \n",
              "45  {'Jean Valjean': 32, 'Cosette': 13, 'Marius': ...  \n",
              "46  {'Jean Valjean': 69, 'Cosette': 27, 'Marius': ...  \n",
              "47  {'Jean Valjean': 43, 'Cosette': 19, 'Jean Valj...  \n",
              "48  {'Jean Valjean': 59, 'Cosette': 30, 'Marius': ...  "
            ],
            "text/html": [
              "\n",
              "  <div id=\"df-77a16c27-b398-4141-b76c-6a217f0e1df4\" class=\"colab-df-container\">\n",
              "    <div>\n",
              "<style scoped>\n",
              "    .dataframe tbody tr th:only-of-type {\n",
              "        vertical-align: middle;\n",
              "    }\n",
              "\n",
              "    .dataframe tbody tr th {\n",
              "        vertical-align: top;\n",
              "    }\n",
              "\n",
              "    .dataframe thead th {\n",
              "        text-align: right;\n",
              "    }\n",
              "</style>\n",
              "<table border=\"1\" class=\"dataframe\">\n",
              "  <thead>\n",
              "    <tr style=\"text-align: right;\">\n",
              "      <th></th>\n",
              "      <th>n_tokens</th>\n",
              "      <th>n_lemmas</th>\n",
              "      <th>n_lemma_types</th>\n",
              "      <th>top_5_lemmas</th>\n",
              "      <th>pos_distrib</th>\n",
              "      <th>top_5_pers</th>\n",
              "    </tr>\n",
              "  </thead>\n",
              "  <tbody>\n",
              "    <tr>\n",
              "      <th>0</th>\n",
              "      <td>149</td>\n",
              "      <td>63</td>\n",
              "      <td>56</td>\n",
              "      <td>{'long': 4, 'les': 2, 'misérables': 2, 'exist'...</td>\n",
              "      <td>{'NOUN': 53.97, 'PROPN': 12.7, 'VERB': 11.11, ...</td>\n",
              "      <td>{'FANTINE': 1}</td>\n",
              "    </tr>\n",
              "    <tr>\n",
              "      <th>1</th>\n",
              "      <td>31113</td>\n",
              "      <td>9714</td>\n",
              "      <td>3405</td>\n",
              "      <td>{'bishop': 181, 'man': 127, 'good': 66, 'old':...</td>\n",
              "      <td>{'NOUN': 46.07, 'VERB': 24.01, 'ADJ': 13.19, '...</td>\n",
              "      <td>{'Monseigneur': 10, 'Magloire': 8, 'Madame Mag...</td>\n",
              "    </tr>\n",
              "    <tr>\n",
              "      <th>2</th>\n",
              "      <td>29786</td>\n",
              "      <td>9463</td>\n",
              "      <td>2790</td>\n",
              "      <td>{'man': 162, 'jean': 100, 'valjean': 99, 'bish...</td>\n",
              "      <td>{'NOUN': 45.56, 'VERB': 26.75, 'ADJ': 12.72, '...</td>\n",
              "      <td>{'Jean Valjean': 85, 'Madame Magloire': 21, 'M...</td>\n",
              "    </tr>\n",
              "    <tr>\n",
              "      <th>3</th>\n",
              "      <td>15259</td>\n",
              "      <td>5327</td>\n",
              "      <td>2625</td>\n",
              "      <td>{'tholomyès': 52, 'de': 43, 'favourite': 41, '...</td>\n",
              "      <td>{'NOUN': 41.9, 'VERB': 21.38, 'PROPN': 19.34, ...</td>\n",
              "      <td>{'Fantine': 34, 'Favourite': 27, 'Tholomyès': ...</td>\n",
              "    </tr>\n",
              "    <tr>\n",
              "      <th>4</th>\n",
              "      <td>6719</td>\n",
              "      <td>2150</td>\n",
              "      <td>1157</td>\n",
              "      <td>{'child': 43, 'mother': 38, 'little': 36, 'thé...</td>\n",
              "      <td>{'NOUN': 45.91, 'VERB': 23.12, 'ADJ': 15.72, '...</td>\n",
              "      <td>{'Fantine': 9, 'Cosette': 5, 'Éponine': 2, 'Au...</td>\n",
              "    </tr>\n",
              "    <tr>\n",
              "      <th>5</th>\n",
              "      <td>21198</td>\n",
              "      <td>6771</td>\n",
              "      <td>2416</td>\n",
              "      <td>{'m.': 98, 'madeleine': 94, 'man': 93, 'javert...</td>\n",
              "      <td>{'NOUN': 45.31, 'VERB': 25.92, 'ADJ': 13.91, '...</td>\n",
              "      <td>{'Fantine': 54, 'Madeleine': 47, 'M. Madeleine...</td>\n",
              "    </tr>\n",
              "    <tr>\n",
              "      <th>6</th>\n",
              "      <td>6026</td>\n",
              "      <td>1822</td>\n",
              "      <td>895</td>\n",
              "      <td>{'m.': 39, 'javert': 38, 'madeleine': 37, 'may...</td>\n",
              "      <td>{'NOUN': 38.64, 'VERB': 26.84, 'PROPN': 18.99,...</td>\n",
              "      <td>{'M. Madeleine': 31, 'Javert': 22, 'Mayor': 21...</td>\n",
              "    </tr>\n",
              "    <tr>\n",
              "      <th>7</th>\n",
              "      <td>36967</td>\n",
              "      <td>11066</td>\n",
              "      <td>2923</td>\n",
              "      <td>{'man': 138, 'm.': 95, 'go': 64, 'little': 62,...</td>\n",
              "      <td>{'NOUN': 44.28, 'VERB': 28.43, 'ADJ': 12.36, '...</td>\n",
              "      <td>{'Fantine': 36, 'Jean Valjean': 36, 'M. Madele...</td>\n",
              "    </tr>\n",
              "    <tr>\n",
              "      <th>8</th>\n",
              "      <td>9542</td>\n",
              "      <td>2952</td>\n",
              "      <td>1240</td>\n",
              "      <td>{'javert': 48, 'm.': 42, 'fantine': 38, 'jean'...</td>\n",
              "      <td>{'NOUN': 41.63, 'VERB': 28.25, 'PROPN': 12.87,...</td>\n",
              "      <td>{'Fantine': 36, 'Jean Valjean': 26, 'Javert': ...</td>\n",
              "    </tr>\n",
              "    <tr>\n",
              "      <th>9</th>\n",
              "      <td>29083</td>\n",
              "      <td>10286</td>\n",
              "      <td>3302</td>\n",
              "      <td>{'man': 90, 'english': 88, 'battle': 81, 'wate...</td>\n",
              "      <td>{'NOUN': 47.43, 'VERB': 22.2, 'PROPN': 14.32, ...</td>\n",
              "      <td>{'Waterloo': 69, 'Blücher': 18, 'Genappe': 16,...</td>\n",
              "    </tr>\n",
              "    <tr>\n",
              "      <th>10</th>\n",
              "      <td>7566</td>\n",
              "      <td>2556</td>\n",
              "      <td>1369</td>\n",
              "      <td>{'man': 29, 'boulatruelle': 23, 'm.': 20, 'fal...</td>\n",
              "      <td>{'NOUN': 49.8, 'VERB': 24.65, 'ADJ': 11.23, 'P...</td>\n",
              "      <td>{'Jean Valjean': 14, 'M. Madeleine': 6, 'Théna...</td>\n",
              "    </tr>\n",
              "    <tr>\n",
              "      <th>11</th>\n",
              "      <td>27681</td>\n",
              "      <td>8692</td>\n",
              "      <td>2636</td>\n",
              "      <td>{'thénardier': 181, 'cosette': 154, 'man': 150...</td>\n",
              "      <td>{'NOUN': 45.21, 'VERB': 27.02, 'ADJ': 12.84, '...</td>\n",
              "      <td>{'Cosette': 61, 'Éponine': 10, 'Thénardier': 6...</td>\n",
              "    </tr>\n",
              "    <tr>\n",
              "      <th>12</th>\n",
              "      <td>8324</td>\n",
              "      <td>2860</td>\n",
              "      <td>1345</td>\n",
              "      <td>{'jean': 48, 'valjean': 48, 'old': 34, 'cosett...</td>\n",
              "      <td>{'NOUN': 45.94, 'VERB': 23.99, 'ADJ': 13.95, '...</td>\n",
              "      <td>{'Jean Valjean': 40, 'Cosette': 9, 'Jean Valje...</td>\n",
              "    </tr>\n",
              "    <tr>\n",
              "      <th>13</th>\n",
              "      <td>15973</td>\n",
              "      <td>5292</td>\n",
              "      <td>1945</td>\n",
              "      <td>{'jean': 116, 'valjean': 115, 'javert': 64, 'm...</td>\n",
              "      <td>{'NOUN': 41.61, 'VERB': 25.55, 'PROPN': 15.42,...</td>\n",
              "      <td>{'Jean Valjean': 96, 'Javert': 22, 'Cosette': ...</td>\n",
              "    </tr>\n",
              "    <tr>\n",
              "      <th>14</th>\n",
              "      <td>15696</td>\n",
              "      <td>5349</td>\n",
              "      <td>2183</td>\n",
              "      <td>{'convent': 55, 'mother': 53, 'nun': 43, 'de':...</td>\n",
              "      <td>{'NOUN': 44.48, 'VERB': 20.06, 'PROPN': 16.53,...</td>\n",
              "      <td>{'Martin Verga': 9, 'M. de Rohan': 4, 'Benedic...</td>\n",
              "    </tr>\n",
              "    <tr>\n",
              "      <th>15</th>\n",
              "      <td>6195</td>\n",
              "      <td>1986</td>\n",
              "      <td>1164</td>\n",
              "      <td>{'man': 27, 'infinite': 18, 'convent': 17, 'cl...</td>\n",
              "      <td>{'NOUN': 53.27, 'VERB': 21.2, 'ADJ': 15.81, 'P...</td>\n",
              "      <td>{'Lofty': 1, 'Jean-Jacques': 1, 'Voltaire': 1,...</td>\n",
              "    </tr>\n",
              "    <tr>\n",
              "      <th>16</th>\n",
              "      <td>24528</td>\n",
              "      <td>7511</td>\n",
              "      <td>2434</td>\n",
              "      <td>{'fauchelevent': 183, 'man': 95, 'jean': 91, '...</td>\n",
              "      <td>{'NOUN': 43.47, 'VERB': 25.19, 'PROPN': 14.9, ...</td>\n",
              "      <td>{'Jean Valjean': 74, 'Mestienne': 20, 'Madelei...</td>\n",
              "    </tr>\n",
              "    <tr>\n",
              "      <th>17</th>\n",
              "      <td>10143</td>\n",
              "      <td>3509</td>\n",
              "      <td>2076</td>\n",
              "      <td>{'paris': 56, 'child': 38, 'gamin': 36, 'littl...</td>\n",
              "      <td>{'NOUN': 45.68, 'VERB': 20.89, 'PROPN': 15.47,...</td>\n",
              "      <td>{'Jondrette': 3, 'Jack': 2, 'Louis XV': 2, 'Ba...</td>\n",
              "    </tr>\n",
              "    <tr>\n",
              "      <th>18</th>\n",
              "      <td>5230</td>\n",
              "      <td>1730</td>\n",
              "      <td>1108</td>\n",
              "      <td>{'m.': 29, 'gillenormand': 29, 'man': 23, 'gre...</td>\n",
              "      <td>{'NOUN': 42.54, 'VERB': 20.92, 'ADJ': 15.09, '...</td>\n",
              "      <td>{'M. Gillenormand': 3, 'Louis XIV': 2, 'Louis ...</td>\n",
              "    </tr>\n",
              "    <tr>\n",
              "      <th>19</th>\n",
              "      <td>19476</td>\n",
              "      <td>6362</td>\n",
              "      <td>2611</td>\n",
              "      <td>{'marius': 95, 'm.': 68, 'de': 63, 'man': 63, ...</td>\n",
              "      <td>{'NOUN': 42.2, 'VERB': 22.93, 'PROPN': 17.27, ...</td>\n",
              "      <td>{'Marius': 29, 'Théodule': 18, 'M. Gillenorman...</td>\n",
              "    </tr>\n",
              "    <tr>\n",
              "      <th>20</th>\n",
              "      <td>16377</td>\n",
              "      <td>5429</td>\n",
              "      <td>2645</td>\n",
              "      <td>{'marius': 55, 'man': 54, 'enjolras': 39, 'cou...</td>\n",
              "      <td>{'NOUN': 42.99, 'VERB': 22.2, 'PROPN': 16.54, ...</td>\n",
              "      <td>{'Marius': 20, 'Combeferre': 14, 'Laigle': 11,...</td>\n",
              "    </tr>\n",
              "    <tr>\n",
              "      <th>21</th>\n",
              "      <td>10709</td>\n",
              "      <td>3454</td>\n",
              "      <td>1670</td>\n",
              "      <td>{'marius': 65, 'm.': 36, 'old': 32, 'man': 31,...</td>\n",
              "      <td>{'NOUN': 46.5, 'VERB': 24.35, 'ADJ': 12.57, 'P...</td>\n",
              "      <td>{'M. Mabeuf': 18, 'Théodule': 13, 'Marius': 12...</td>\n",
              "    </tr>\n",
              "    <tr>\n",
              "      <th>22</th>\n",
              "      <td>9228</td>\n",
              "      <td>2941</td>\n",
              "      <td>1306</td>\n",
              "      <td>{'marius': 81, 'day': 36, 'girl': 35, 'bench':...</td>\n",
              "      <td>{'NOUN': 42.74, 'VERB': 27.03, 'ADJ': 14.79, '...</td>\n",
              "      <td>{'Marius': 14, 'M. Leblanc': 9, 'Ursule': 8, '...</td>\n",
              "    </tr>\n",
              "    <tr>\n",
              "      <th>23</th>\n",
              "      <td>4352</td>\n",
              "      <td>1416</td>\n",
              "      <td>930</td>\n",
              "      <td>{'man': 21, 'low': 9, 'social': 9, 'work': 8, ...</td>\n",
              "      <td>{'NOUN': 50.78, 'VERB': 19.28, 'ADJ': 14.9, 'P...</td>\n",
              "      <td>{'Gueulemer': 3, 'Condorcet': 2, 'Robespierre'...</td>\n",
              "    </tr>\n",
              "    <tr>\n",
              "      <th>24</th>\n",
              "      <td>45740</td>\n",
              "      <td>14086</td>\n",
              "      <td>3455</td>\n",
              "      <td>{'marius': 233, 'man': 185, 'jondrette': 147, ...</td>\n",
              "      <td>{'NOUN': 44.33, 'VERB': 27.57, 'ADJ': 12.14, '...</td>\n",
              "      <td>{'Jondrette': 139, 'Marius': 53, 'M. Leblanc':...</td>\n",
              "    </tr>\n",
              "    <tr>\n",
              "      <th>25</th>\n",
              "      <td>18643</td>\n",
              "      <td>6239</td>\n",
              "      <td>2639</td>\n",
              "      <td>{'man': 83, 'revolution': 54, 'right': 46, 'lo...</td>\n",
              "      <td>{'NOUN': 45.86, 'VERB': 20.95, 'ADJ': 14.33, '...</td>\n",
              "      <td>{'Louis Philippe': 22, 'Robespierre': 5, 'Loui...</td>\n",
              "    </tr>\n",
              "    <tr>\n",
              "      <th>26</th>\n",
              "      <td>9222</td>\n",
              "      <td>2861</td>\n",
              "      <td>1372</td>\n",
              "      <td>{'marius': 55, 'man': 32, 'know': 25, 'long': ...</td>\n",
              "      <td>{'NOUN': 41.73, 'VERB': 26.49, 'PROPN': 14.12,...</td>\n",
              "      <td>{'Marius': 16, 'Éponine': 10, 'Mabeuf': 9, 'M....</td>\n",
              "    </tr>\n",
              "    <tr>\n",
              "      <th>27</th>\n",
              "      <td>19010</td>\n",
              "      <td>6227</td>\n",
              "      <td>2433</td>\n",
              "      <td>{'cosette': 117, 'jean': 99, 'valjean': 99, 'm...</td>\n",
              "      <td>{'NOUN': 45.58, 'VERB': 24.63, 'ADJ': 14.77, '...</td>\n",
              "      <td>{'Jean Valjean': 80, 'Cosette': 35, 'Jean\n",
              "Valj...</td>\n",
              "    </tr>\n",
              "    <tr>\n",
              "      <th>28</th>\n",
              "      <td>5147</td>\n",
              "      <td>1616</td>\n",
              "      <td>926</td>\n",
              "      <td>{'gavroche': 30, 'man': 27, 'old': 26, 'montpa...</td>\n",
              "      <td>{'NOUN': 44.68, 'VERB': 27.23, 'ADJ': 14.11, '...</td>\n",
              "      <td>{'Jean Valjean': 9, 'Cosette': 8, 'Mabeuf': 4,...</td>\n",
              "    </tr>\n",
              "    <tr>\n",
              "      <th>29</th>\n",
              "      <td>8297</td>\n",
              "      <td>2540</td>\n",
              "      <td>1165</td>\n",
              "      <td>{'cosette': 52, 'love': 52, 'think': 23, 'soul...</td>\n",
              "      <td>{'NOUN': 46.46, 'VERB': 28.27, 'ADJ': 12.17, '...</td>\n",
              "      <td>{'Cosette': 22, 'Jean Valjean': 11, 'Toussaint...</td>\n",
              "    </tr>\n",
              "    <tr>\n",
              "      <th>30</th>\n",
              "      <td>19202</td>\n",
              "      <td>6144</td>\n",
              "      <td>2264</td>\n",
              "      <td>{'gavroche': 124, 'child': 53, 'thénardier': 5...</td>\n",
              "      <td>{'NOUN': 44.76, 'VERB': 26.46, 'ADJ': 12.16, '...</td>\n",
              "      <td>{'Gavroche': 27, 'Brujon': 8, 'Magnon': 7, 'Gu...</td>\n",
              "    </tr>\n",
              "    <tr>\n",
              "      <th>31</th>\n",
              "      <td>12250</td>\n",
              "      <td>4209</td>\n",
              "      <td>2179</td>\n",
              "      <td>{'slang': 74, 'word': 37, 'man': 35, 'le': 29,...</td>\n",
              "      <td>{'NOUN': 48.99, 'VERB': 20.79, 'ADJ': 14.75, '...</td>\n",
              "      <td>{'Slang': 9, 'Levantine': 3, 'Jacquerie': 3, '...</td>\n",
              "    </tr>\n",
              "    <tr>\n",
              "      <th>32</th>\n",
              "      <td>18246</td>\n",
              "      <td>5487</td>\n",
              "      <td>2014</td>\n",
              "      <td>{'marius': 151, 'cosette': 83, 'man': 53, 'com...</td>\n",
              "      <td>{'NOUN': 40.24, 'VERB': 28.16, 'ADJ': 12.43, '...</td>\n",
              "      <td>{'Marius': 41, 'Cosette': 33, 'Éponine': 17, '...</td>\n",
              "    </tr>\n",
              "    <tr>\n",
              "      <th>33</th>\n",
              "      <td>3868</td>\n",
              "      <td>1278</td>\n",
              "      <td>762</td>\n",
              "      <td>{'go': 19, 'cosette': 14, 'mabeuf': 14, 'day':...</td>\n",
              "      <td>{'NOUN': 40.69, 'VERB': 26.92, 'PROPN': 16.12,...</td>\n",
              "      <td>{'M. Mabeuf': 10, 'Jean Valjean': 5, 'Marius':...</td>\n",
              "    </tr>\n",
              "    <tr>\n",
              "      <th>34</th>\n",
              "      <td>11318</td>\n",
              "      <td>4020</td>\n",
              "      <td>1946</td>\n",
              "      <td>{'rue': 43, 'man': 37, 'insurrection': 29, 're...</td>\n",
              "      <td>{'NOUN': 47.79, 'VERB': 20.02, 'PROPN': 15.55,...</td>\n",
              "      <td>{'Cæsar': 5, 'Mavot': 3, 'Jeanne': 2, 'Danton'...</td>\n",
              "    </tr>\n",
              "    <tr>\n",
              "      <th>35</th>\n",
              "      <td>5879</td>\n",
              "      <td>1920</td>\n",
              "      <td>1078</td>\n",
              "      <td>{'gavroche': 26, 'man': 18, 'old': 17, 'pistol...</td>\n",
              "      <td>{'NOUN': 42.6, 'VERB': 23.33, 'PROPN': 18.07, ...</td>\n",
              "      <td>{'Gavroche': 7, 'Bahorel': 6, 'Courfeyrac': 4,...</td>\n",
              "    </tr>\n",
              "    <tr>\n",
              "      <th>36</th>\n",
              "      <td>16622</td>\n",
              "      <td>5881</td>\n",
              "      <td>2544</td>\n",
              "      <td>{'rue': 56, 'man': 51, 'de': 48, 'barricade': ...</td>\n",
              "      <td>{'NOUN': 42.15, 'VERB': 22.45, 'PROPN': 18.65,...</td>\n",
              "      <td>{'Laigle': 17, 'Joly': 12, 'Courfeyrac': 7, 'G...</td>\n",
              "    </tr>\n",
              "    <tr>\n",
              "      <th>37</th>\n",
              "      <td>5686</td>\n",
              "      <td>1915</td>\n",
              "      <td>1094</td>\n",
              "      <td>{'war': 27, 'street': 22, 'rue': 20, 'man': 16...</td>\n",
              "      <td>{'NOUN': 47.21, 'VERB': 23.97, 'ADJ': 13.52, '...</td>\n",
              "      <td>{'Marius': 4, 'Marnix': 2, 'Javert': 1, 'Place...</td>\n",
              "    </tr>\n",
              "    <tr>\n",
              "      <th>38</th>\n",
              "      <td>8872</td>\n",
              "      <td>2801</td>\n",
              "      <td>1212</td>\n",
              "      <td>{'marius': 61, 'barricade': 47, 'enjolras': 25...</td>\n",
              "      <td>{'NOUN': 40.99, 'VERB': 29.06, 'PROPN': 12.89,...</td>\n",
              "      <td>{'Marius': 12, 'Combeferre': 6, 'Mabeuf': 4, '...</td>\n",
              "    </tr>\n",
              "    <tr>\n",
              "      <th>39</th>\n",
              "      <td>9152</td>\n",
              "      <td>3065</td>\n",
              "      <td>1500</td>\n",
              "      <td>{'jean': 58, 'valjean': 58, 'cosette': 40, 'ga...</td>\n",
              "      <td>{'NOUN': 41.37, 'VERB': 24.93, 'PROPN': 16.05,...</td>\n",
              "      <td>{'Jean Valjean': 49, 'Cosette': 9, 'Gavroche':...</td>\n",
              "    </tr>\n",
              "    <tr>\n",
              "      <th>40</th>\n",
              "      <td>42720</td>\n",
              "      <td>14285</td>\n",
              "      <td>4021</td>\n",
              "      <td>{'barricade': 167, 'man': 151, 'enjolras': 117...</td>\n",
              "      <td>{'NOUN': 49.09, 'VERB': 25.03, 'ADJ': 11.75, '...</td>\n",
              "      <td>{'Jean Valjean': 49, 'Combeferre': 22, 'Javert...</td>\n",
              "    </tr>\n",
              "    <tr>\n",
              "      <th>41</th>\n",
              "      <td>9729</td>\n",
              "      <td>3536</td>\n",
              "      <td>1900</td>\n",
              "      <td>{'sewer': 97, 'paris': 57, 'rue': 45, 'city': ...</td>\n",
              "      <td>{'NOUN': 47.74, 'VERB': 17.9, 'PROPN': 15.44, ...</td>\n",
              "      <td>{'Bruneseau': 7, 'Babylon': 3, 'Nineveh': 2, '...</td>\n",
              "    </tr>\n",
              "    <tr>\n",
              "      <th>42</th>\n",
              "      <td>21729</td>\n",
              "      <td>7248</td>\n",
              "      <td>2462</td>\n",
              "      <td>{'jean': 127, 'valjean': 126, 'man': 97, 'mari...</td>\n",
              "      <td>{'NOUN': 45.18, 'VERB': 25.99, 'ADJ': 12.11, '...</td>\n",
              "      <td>{'Jean Valjean': 101, 'Javert': 23, 'Jean\n",
              "Valj...</td>\n",
              "    </tr>\n",
              "    <tr>\n",
              "      <th>43</th>\n",
              "      <td>6096</td>\n",
              "      <td>1956</td>\n",
              "      <td>1119</td>\n",
              "      <td>{'javert': 40, 'man': 26, 'jean': 20, 'valjean...</td>\n",
              "      <td>{'NOUN': 46.57, 'VERB': 25.77, 'ADJ': 14.42, '...</td>\n",
              "      <td>{'Javert': 19, 'Jean Valjean': 17, 'Jean Valje...</td>\n",
              "    </tr>\n",
              "    <tr>\n",
              "      <th>44</th>\n",
              "      <td>16027</td>\n",
              "      <td>5172</td>\n",
              "      <td>2272</td>\n",
              "      <td>{'marius': 91, 'man': 73, 'cosette': 63, 'm.':...</td>\n",
              "      <td>{'NOUN': 42.15, 'VERB': 23.59, 'PROPN': 14.91,...</td>\n",
              "      <td>{'Marius': 19, 'Cosette': 18, 'Jean Valjean': ...</td>\n",
              "    </tr>\n",
              "    <tr>\n",
              "      <th>45</th>\n",
              "      <td>12556</td>\n",
              "      <td>4130</td>\n",
              "      <td>1947</td>\n",
              "      <td>{'cosette': 57, 'jean': 39, 'valjean': 38, 'ma...</td>\n",
              "      <td>{'NOUN': 45.74, 'VERB': 23.22, 'ADJ': 13.9, 'P...</td>\n",
              "      <td>{'Jean Valjean': 32, 'Cosette': 13, 'Marius': ...</td>\n",
              "    </tr>\n",
              "    <tr>\n",
              "      <th>46</th>\n",
              "      <td>13141</td>\n",
              "      <td>3785</td>\n",
              "      <td>1488</td>\n",
              "      <td>{'marius': 84, 'jean': 79, 'valjean': 79, 'cos...</td>\n",
              "      <td>{'NOUN': 39.74, 'VERB': 29.04, 'PROPN': 12.79,...</td>\n",
              "      <td>{'Jean Valjean': 69, 'Cosette': 27, 'Marius': ...</td>\n",
              "    </tr>\n",
              "    <tr>\n",
              "      <th>47</th>\n",
              "      <td>6605</td>\n",
              "      <td>2063</td>\n",
              "      <td>955</td>\n",
              "      <td>{'jean': 64, 'valjean': 47, 'cosette': 47, 'da...</td>\n",
              "      <td>{'NOUN': 36.21, 'VERB': 27.14, 'PROPN': 16.63,...</td>\n",
              "      <td>{'Jean Valjean': 43, 'Cosette': 19, 'Jean Valj...</td>\n",
              "    </tr>\n",
              "    <tr>\n",
              "      <th>48</th>\n",
              "      <td>18018</td>\n",
              "      <td>5596</td>\n",
              "      <td>1972</td>\n",
              "      <td>{'marius': 99, 'man': 90, 'cosette': 86, 'jean...</td>\n",
              "      <td>{'NOUN': 40.01, 'VERB': 27.89, 'PROPN': 13.62,...</td>\n",
              "      <td>{'Jean Valjean': 59, 'Cosette': 30, 'Marius': ...</td>\n",
              "    </tr>\n",
              "  </tbody>\n",
              "</table>\n",
              "</div>\n",
              "    <div class=\"colab-df-buttons\">\n",
              "\n",
              "  <div class=\"colab-df-container\">\n",
              "    <button class=\"colab-df-convert\" onclick=\"convertToInteractive('df-77a16c27-b398-4141-b76c-6a217f0e1df4')\"\n",
              "            title=\"Convert this dataframe to an interactive table.\"\n",
              "            style=\"display:none;\">\n",
              "\n",
              "  <svg xmlns=\"http://www.w3.org/2000/svg\" height=\"24px\" viewBox=\"0 -960 960 960\">\n",
              "    <path d=\"M120-120v-720h720v720H120Zm60-500h600v-160H180v160Zm220 220h160v-160H400v160Zm0 220h160v-160H400v160ZM180-400h160v-160H180v160Zm440 0h160v-160H620v160ZM180-180h160v-160H180v160Zm440 0h160v-160H620v160Z\"/>\n",
              "  </svg>\n",
              "    </button>\n",
              "\n",
              "  <style>\n",
              "    .colab-df-container {\n",
              "      display:flex;\n",
              "      gap: 12px;\n",
              "    }\n",
              "\n",
              "    .colab-df-convert {\n",
              "      background-color: #E8F0FE;\n",
              "      border: none;\n",
              "      border-radius: 50%;\n",
              "      cursor: pointer;\n",
              "      display: none;\n",
              "      fill: #1967D2;\n",
              "      height: 32px;\n",
              "      padding: 0 0 0 0;\n",
              "      width: 32px;\n",
              "    }\n",
              "\n",
              "    .colab-df-convert:hover {\n",
              "      background-color: #E2EBFA;\n",
              "      box-shadow: 0px 1px 2px rgba(60, 64, 67, 0.3), 0px 1px 3px 1px rgba(60, 64, 67, 0.15);\n",
              "      fill: #174EA6;\n",
              "    }\n",
              "\n",
              "    .colab-df-buttons div {\n",
              "      margin-bottom: 4px;\n",
              "    }\n",
              "\n",
              "    [theme=dark] .colab-df-convert {\n",
              "      background-color: #3B4455;\n",
              "      fill: #D2E3FC;\n",
              "    }\n",
              "\n",
              "    [theme=dark] .colab-df-convert:hover {\n",
              "      background-color: #434B5C;\n",
              "      box-shadow: 0px 1px 3px 1px rgba(0, 0, 0, 0.15);\n",
              "      filter: drop-shadow(0px 1px 2px rgba(0, 0, 0, 0.3));\n",
              "      fill: #FFFFFF;\n",
              "    }\n",
              "  </style>\n",
              "\n",
              "    <script>\n",
              "      const buttonEl =\n",
              "        document.querySelector('#df-77a16c27-b398-4141-b76c-6a217f0e1df4 button.colab-df-convert');\n",
              "      buttonEl.style.display =\n",
              "        google.colab.kernel.accessAllowed ? 'block' : 'none';\n",
              "\n",
              "      async function convertToInteractive(key) {\n",
              "        const element = document.querySelector('#df-77a16c27-b398-4141-b76c-6a217f0e1df4');\n",
              "        const dataTable =\n",
              "          await google.colab.kernel.invokeFunction('convertToInteractive',\n",
              "                                                    [key], {});\n",
              "        if (!dataTable) return;\n",
              "\n",
              "        const docLinkHtml = 'Like what you see? Visit the ' +\n",
              "          '<a target=\"_blank\" href=https://colab.research.google.com/notebooks/data_table.ipynb>data table notebook</a>'\n",
              "          + ' to learn more about interactive tables.';\n",
              "        element.innerHTML = '';\n",
              "        dataTable['output_type'] = 'display_data';\n",
              "        await google.colab.output.renderOutput(dataTable, element);\n",
              "        const docLink = document.createElement('div');\n",
              "        docLink.innerHTML = docLinkHtml;\n",
              "        element.appendChild(docLink);\n",
              "      }\n",
              "    </script>\n",
              "  </div>\n",
              "\n",
              "\n",
              "<div id=\"df-7a8ab662-c9f8-46a6-811a-47efec83155e\">\n",
              "  <button class=\"colab-df-quickchart\" onclick=\"quickchart('df-7a8ab662-c9f8-46a6-811a-47efec83155e')\"\n",
              "            title=\"Suggest charts\"\n",
              "            style=\"display:none;\">\n",
              "\n",
              "<svg xmlns=\"http://www.w3.org/2000/svg\" height=\"24px\"viewBox=\"0 0 24 24\"\n",
              "     width=\"24px\">\n",
              "    <g>\n",
              "        <path d=\"M19 3H5c-1.1 0-2 .9-2 2v14c0 1.1.9 2 2 2h14c1.1 0 2-.9 2-2V5c0-1.1-.9-2-2-2zM9 17H7v-7h2v7zm4 0h-2V7h2v10zm4 0h-2v-4h2v4z\"/>\n",
              "    </g>\n",
              "</svg>\n",
              "  </button>\n",
              "\n",
              "<style>\n",
              "  .colab-df-quickchart {\n",
              "      --bg-color: #E8F0FE;\n",
              "      --fill-color: #1967D2;\n",
              "      --hover-bg-color: #E2EBFA;\n",
              "      --hover-fill-color: #174EA6;\n",
              "      --disabled-fill-color: #AAA;\n",
              "      --disabled-bg-color: #DDD;\n",
              "  }\n",
              "\n",
              "  [theme=dark] .colab-df-quickchart {\n",
              "      --bg-color: #3B4455;\n",
              "      --fill-color: #D2E3FC;\n",
              "      --hover-bg-color: #434B5C;\n",
              "      --hover-fill-color: #FFFFFF;\n",
              "      --disabled-bg-color: #3B4455;\n",
              "      --disabled-fill-color: #666;\n",
              "  }\n",
              "\n",
              "  .colab-df-quickchart {\n",
              "    background-color: var(--bg-color);\n",
              "    border: none;\n",
              "    border-radius: 50%;\n",
              "    cursor: pointer;\n",
              "    display: none;\n",
              "    fill: var(--fill-color);\n",
              "    height: 32px;\n",
              "    padding: 0;\n",
              "    width: 32px;\n",
              "  }\n",
              "\n",
              "  .colab-df-quickchart:hover {\n",
              "    background-color: var(--hover-bg-color);\n",
              "    box-shadow: 0 1px 2px rgba(60, 64, 67, 0.3), 0 1px 3px 1px rgba(60, 64, 67, 0.15);\n",
              "    fill: var(--button-hover-fill-color);\n",
              "  }\n",
              "\n",
              "  .colab-df-quickchart-complete:disabled,\n",
              "  .colab-df-quickchart-complete:disabled:hover {\n",
              "    background-color: var(--disabled-bg-color);\n",
              "    fill: var(--disabled-fill-color);\n",
              "    box-shadow: none;\n",
              "  }\n",
              "\n",
              "  .colab-df-spinner {\n",
              "    border: 2px solid var(--fill-color);\n",
              "    border-color: transparent;\n",
              "    border-bottom-color: var(--fill-color);\n",
              "    animation:\n",
              "      spin 1s steps(1) infinite;\n",
              "  }\n",
              "\n",
              "  @keyframes spin {\n",
              "    0% {\n",
              "      border-color: transparent;\n",
              "      border-bottom-color: var(--fill-color);\n",
              "      border-left-color: var(--fill-color);\n",
              "    }\n",
              "    20% {\n",
              "      border-color: transparent;\n",
              "      border-left-color: var(--fill-color);\n",
              "      border-top-color: var(--fill-color);\n",
              "    }\n",
              "    30% {\n",
              "      border-color: transparent;\n",
              "      border-left-color: var(--fill-color);\n",
              "      border-top-color: var(--fill-color);\n",
              "      border-right-color: var(--fill-color);\n",
              "    }\n",
              "    40% {\n",
              "      border-color: transparent;\n",
              "      border-right-color: var(--fill-color);\n",
              "      border-top-color: var(--fill-color);\n",
              "    }\n",
              "    60% {\n",
              "      border-color: transparent;\n",
              "      border-right-color: var(--fill-color);\n",
              "    }\n",
              "    80% {\n",
              "      border-color: transparent;\n",
              "      border-right-color: var(--fill-color);\n",
              "      border-bottom-color: var(--fill-color);\n",
              "    }\n",
              "    90% {\n",
              "      border-color: transparent;\n",
              "      border-bottom-color: var(--fill-color);\n",
              "    }\n",
              "  }\n",
              "</style>\n",
              "\n",
              "  <script>\n",
              "    async function quickchart(key) {\n",
              "      const quickchartButtonEl =\n",
              "        document.querySelector('#' + key + ' button');\n",
              "      quickchartButtonEl.disabled = true;  // To prevent multiple clicks.\n",
              "      quickchartButtonEl.classList.add('colab-df-spinner');\n",
              "      try {\n",
              "        const charts = await google.colab.kernel.invokeFunction(\n",
              "            'suggestCharts', [key], {});\n",
              "      } catch (error) {\n",
              "        console.error('Error during call to suggestCharts:', error);\n",
              "      }\n",
              "      quickchartButtonEl.classList.remove('colab-df-spinner');\n",
              "      quickchartButtonEl.classList.add('colab-df-quickchart-complete');\n",
              "    }\n",
              "    (() => {\n",
              "      let quickchartButtonEl =\n",
              "        document.querySelector('#df-7a8ab662-c9f8-46a6-811a-47efec83155e button');\n",
              "      quickchartButtonEl.style.display =\n",
              "        google.colab.kernel.accessAllowed ? 'block' : 'none';\n",
              "    })();\n",
              "  </script>\n",
              "</div>\n",
              "\n",
              "  <div id=\"id_4301811d-64dc-4d1e-8bb3-f592eb1516f3\">\n",
              "    <style>\n",
              "      .colab-df-generate {\n",
              "        background-color: #E8F0FE;\n",
              "        border: none;\n",
              "        border-radius: 50%;\n",
              "        cursor: pointer;\n",
              "        display: none;\n",
              "        fill: #1967D2;\n",
              "        height: 32px;\n",
              "        padding: 0 0 0 0;\n",
              "        width: 32px;\n",
              "      }\n",
              "\n",
              "      .colab-df-generate:hover {\n",
              "        background-color: #E2EBFA;\n",
              "        box-shadow: 0px 1px 2px rgba(60, 64, 67, 0.3), 0px 1px 3px 1px rgba(60, 64, 67, 0.15);\n",
              "        fill: #174EA6;\n",
              "      }\n",
              "\n",
              "      [theme=dark] .colab-df-generate {\n",
              "        background-color: #3B4455;\n",
              "        fill: #D2E3FC;\n",
              "      }\n",
              "\n",
              "      [theme=dark] .colab-df-generate:hover {\n",
              "        background-color: #434B5C;\n",
              "        box-shadow: 0px 1px 3px 1px rgba(0, 0, 0, 0.15);\n",
              "        filter: drop-shadow(0px 1px 2px rgba(0, 0, 0, 0.3));\n",
              "        fill: #FFFFFF;\n",
              "      }\n",
              "    </style>\n",
              "    <button class=\"colab-df-generate\" onclick=\"generateWithVariable('stat_results')\"\n",
              "            title=\"Generate code using this dataframe.\"\n",
              "            style=\"display:none;\">\n",
              "\n",
              "  <svg xmlns=\"http://www.w3.org/2000/svg\" height=\"24px\"viewBox=\"0 0 24 24\"\n",
              "       width=\"24px\">\n",
              "    <path d=\"M7,19H8.4L18.45,9,17,7.55,7,17.6ZM5,21V16.75L18.45,3.32a2,2,0,0,1,2.83,0l1.4,1.43a1.91,1.91,0,0,1,.58,1.4,1.91,1.91,0,0,1-.58,1.4L9.25,21ZM18.45,9,17,7.55Zm-12,3A5.31,5.31,0,0,0,4.9,8.1,5.31,5.31,0,0,0,1,6.5,5.31,5.31,0,0,0,4.9,4.9,5.31,5.31,0,0,0,6.5,1,5.31,5.31,0,0,0,8.1,4.9,5.31,5.31,0,0,0,12,6.5,5.46,5.46,0,0,0,6.5,12Z\"/>\n",
              "  </svg>\n",
              "    </button>\n",
              "    <script>\n",
              "      (() => {\n",
              "      const buttonEl =\n",
              "        document.querySelector('#id_4301811d-64dc-4d1e-8bb3-f592eb1516f3 button.colab-df-generate');\n",
              "      buttonEl.style.display =\n",
              "        google.colab.kernel.accessAllowed ? 'block' : 'none';\n",
              "\n",
              "      buttonEl.onclick = () => {\n",
              "        google.colab.notebook.generateWithVariable('stat_results');\n",
              "      }\n",
              "      })();\n",
              "    </script>\n",
              "  </div>\n",
              "\n",
              "    </div>\n",
              "  </div>\n"
            ],
            "application/vnd.google.colaboratory.intrinsic+json": {
              "type": "dataframe",
              "variable_name": "stat_results",
              "summary": "{\n  \"name\": \"stat_results\",\n  \"rows\": 49,\n  \"fields\": [\n    {\n      \"column\": \"n_tokens\",\n      \"properties\": {\n        \"dtype\": \"date\",\n        \"min\": 149,\n        \"max\": 45740,\n        \"num_unique_values\": 49,\n        \"samples\": [\n          15973,\n          12556,\n          6605\n        ],\n        \"semantic_type\": \"\",\n        \"description\": \"\"\n      }\n    },\n    {\n      \"column\": \"n_lemmas\",\n      \"properties\": {\n        \"dtype\": \"date\",\n        \"min\": 63,\n        \"max\": 14285,\n        \"num_unique_values\": 49,\n        \"samples\": [\n          5292,\n          4130,\n          2063\n        ],\n        \"semantic_type\": \"\",\n        \"description\": \"\"\n      }\n    },\n    {\n      \"column\": \"n_lemma_types\",\n      \"properties\": {\n        \"dtype\": \"date\",\n        \"min\": 56,\n        \"max\": 4021,\n        \"num_unique_values\": 49,\n        \"samples\": [\n          1945,\n          1947,\n          955\n        ],\n        \"semantic_type\": \"\",\n        \"description\": \"\"\n      }\n    },\n    {\n      \"column\": \"top_5_lemmas\",\n      \"properties\": {\n        \"dtype\": \"object\",\n        \"semantic_type\": \"\",\n        \"description\": \"\"\n      }\n    },\n    {\n      \"column\": \"pos_distrib\",\n      \"properties\": {\n        \"dtype\": \"object\",\n        \"semantic_type\": \"\",\n        \"description\": \"\"\n      }\n    },\n    {\n      \"column\": \"top_5_pers\",\n      \"properties\": {\n        \"dtype\": \"object\",\n        \"semantic_type\": \"\",\n        \"description\": \"\"\n      }\n    }\n  ]\n}"
            }
          },
          "metadata": {},
          "execution_count": 19
        }
      ],
      "source": [
        "# Notre DataFrame de résultats\n",
        "stat_results = pd.DataFrame(None, columns=[\"n_tokens\", \"n_lemmas\",\n",
        "                                           \"n_lemma_types\", \"top_5_lemmas\",\n",
        "                                           \"pos_distrib\", \"top_5_pers\"])\n",
        "# Notre dossier contenant le corpus pré-traité\n",
        "corpus_pp_path = \"/content/drive/MyDrive/Colab Notebooks/ml_data/TP10/by_book_pp\"\n",
        "os.makedirs(corpus_pp_path, exist_ok=True)\n",
        "for file_name in tqdm(file_names):\n",
        "  # Le chemin du fichier\n",
        "  file_path = f\"{corpus_path}/{file_name}\"\n",
        "  # On l'ouvre\n",
        "  with open(file_path, \"r\") as text_file:\n",
        "    text = text_file.read()\n",
        "  # On le transform en doc spacy\n",
        "  doc = nlp(text)\n",
        "  # Les statistiques\n",
        "  stat_dict = get_statistics(doc)\n",
        "  # En ligne et dans la Dataframe\n",
        "  new_row = pd.DataFrame.from_dict(stat_dict, orient=\"index\").T\n",
        "  stat_results = pd.concat([stat_results, new_row], axis=0, ignore_index=True)\n",
        "  # La sauvegarde du corpus prétraité\n",
        "  save_preprocess_doc(doc, f\"{corpus_pp_path}/{file_name}\")\n",
        "\n",
        "stat_results"
      ]
    },
    {
      "cell_type": "markdown",
      "metadata": {
        "id": "Hsxq7kqQt-J9"
      },
      "source": [
        "---"
      ]
    },
    {
      "cell_type": "markdown",
      "metadata": {
        "id": "6dvuccudITDN"
      },
      "source": [
        "## 2. Construction de la matrice terme-document, pondération tf-idf et filtrage des mots selon leur fréquence.\n",
        "\n",
        "Nos premières analyses vont utiliser le corpus avec la table terme-document (la transposée de document-terme). Il y a plusieurs manière de l'obtenir, mais nous allons utiliser ici **Gensim**, qui propose des objets permettant de la manipuler aisément.\n",
        "\n",
        "On commence par charger notre corpus en tant que liste de liste (liste de documents, qui sont des listes de tokens). On affiche les 10 premiers tokens du premier document."
      ]
    },
    {
      "cell_type": "code",
      "execution_count": 20,
      "metadata": {
        "colab": {
          "base_uri": "https://localhost:8080/"
        },
        "id": "eVgzjpWps30c",
        "outputId": "2caf897c-5354-4b8c-cd59-e793900421b8"
      },
      "outputs": [
        {
          "output_type": "execute_result",
          "data": {
            "text/plain": [
              "['les',\n",
              " 'misérables',\n",
              " 'preface',\n",
              " 'long',\n",
              " 'shall',\n",
              " 'exist',\n",
              " 'virtue',\n",
              " 'law',\n",
              " 'custom',\n",
              " 'decree']"
            ]
          },
          "metadata": {},
          "execution_count": 20
        }
      ],
      "source": [
        "corpus_pp_path = \"/content/drive/MyDrive/Colab Notebooks/ml_data/TP10/by_book_pp\"\n",
        "file_names = os.listdir(corpus_pp_path)\n",
        "file_names.sort()\n",
        "texts = []\n",
        "for file_name in file_names:\n",
        "  with open(f\"{corpus_pp_path}/{file_name}\") as text_file:\n",
        "    texts.append(text_file.read().split())\n",
        "\n",
        "texts[0][:10]"
      ]
    },
    {
      "cell_type": "markdown",
      "metadata": {
        "id": "o8QSNNrnJYHM"
      },
      "source": [
        "Gensim utilise un objet de type `gensim.corpora.Dictionary` pour traduire les tokens de notre corpus en identifiant numérique. On doit créer cette objet en donnant notre corpus. Si un token `t` se traduit par l'identifiant `i`, alors `dictionary[i]` donne `t` et `dictionary.token2id[t]` donne `i`."
      ]
    },
    {
      "cell_type": "code",
      "execution_count": 21,
      "metadata": {
        "colab": {
          "base_uri": "https://localhost:8080/"
        },
        "id": "ukXGp0gvxzPD",
        "outputId": "4824b189-bbce-443e-cc12-2353f0e65b5a"
      },
      "outputs": [
        {
          "output_type": "stream",
          "name": "stdout",
          "text": [
            "17673\n",
            "1862 -> 0\n",
            "add -> 1\n",
            "amid -> 2\n",
            "artificially -> 3\n",
            "asphyxia -> 4\n",
            "book -> 5\n",
            "century -> 6\n",
            "child -> 7\n",
            "civilization -> 8\n",
            "corruption -> 9\n",
            "create -> 10\n"
          ]
        }
      ],
      "source": [
        "dictionary = gensim.corpora.Dictionary(texts)\n",
        "print(len(dictionary))\n",
        "for key, id in dictionary.token2id.items():\n",
        "  if id > 10:\n",
        "    break\n",
        "  print(f\"{key} -> {id}\")"
      ]
    },
    {
      "cell_type": "markdown",
      "metadata": {
        "id": "OEFBHcJ4KdIt"
      },
      "source": [
        "La méthode `dictionary.doc2bow(text)` va maintenant traduire un texte donné en corpus bag-of-words. Cela nous donnera un liste de couples (id_token, fréquence). On va traduire tout le corpus avec une compréhension de liste."
      ]
    },
    {
      "cell_type": "code",
      "execution_count": 22,
      "metadata": {
        "colab": {
          "base_uri": "https://localhost:8080/"
        },
        "id": "-0KjNxsy4DRC",
        "outputId": "2aa1565e-99ff-4351-e11c-a1e23372d2b6"
      },
      "outputs": [
        {
          "output_type": "execute_result",
          "data": {
            "text/plain": [
              "[(0, 1),\n",
              " (1, 1),\n",
              " (2, 1),\n",
              " (3, 1),\n",
              " (4, 1),\n",
              " (5, 1),\n",
              " (6, 1),\n",
              " (7, 1),\n",
              " (8, 1),\n",
              " (9, 1)]"
            ]
          },
          "metadata": {},
          "execution_count": 22
        }
      ],
      "source": [
        "corpus = [dictionary.doc2bow(text) for text in texts]\n",
        "corpus[0][:10]"
      ]
    },
    {
      "cell_type": "markdown",
      "metadata": {
        "id": "2M3JWyXBLF-D"
      },
      "source": [
        "En passant le corpus bag-of-words dans la construction d'un objet `gensim.models.TfidfModel`, on peut obtenir cette fois notre corpus avec pondération tf-idf."
      ]
    },
    {
      "cell_type": "code",
      "execution_count": 23,
      "metadata": {
        "colab": {
          "base_uri": "https://localhost:8080/"
        },
        "id": "FKXnln1F6sAZ",
        "outputId": "38f918ee-fcfd-49a0-e290-7e8efa75e0fa"
      },
      "outputs": [
        {
          "output_type": "execute_result",
          "data": {
            "text/plain": [
              "[(0, 0.21379852246154724),\n",
              " (1, 0.005691926911607197),\n",
              " (2, 0.022489721329834386),\n",
              " (3, 0.26012830909681933),\n",
              " (4, 0.21379852246154724),\n",
              " (5, 0.015256752015337764),\n",
              " (6, 0.026422605842721006),\n",
              " (7, 0.0027853927519334667),\n",
              " (8, 0.05055264884126393),\n",
              " (9, 0.1211389491910031)]"
            ]
          },
          "metadata": {},
          "execution_count": 23
        }
      ],
      "source": [
        "tfidf = TfidfModel(corpus)\n",
        "corpus_tfidf = tfidf[corpus]\n",
        "corpus_tfidf[0][:10]"
      ]
    },
    {
      "cell_type": "markdown",
      "metadata": {
        "id": "QFn-cnFYLYru"
      },
      "source": [
        "Nous allons afficher ici les 10 mots avec la plus grande pondération tf-idf dans chacun de nos documents. On affiche le résultat dans une DataFrame. On voit que ces mots sont assez représentatifs des différents livres."
      ]
    },
    {
      "cell_type": "code",
      "execution_count": 24,
      "metadata": {
        "colab": {
          "base_uri": "https://localhost:8080/",
          "height": 412
        },
        "id": "2xR9JUGU70lb",
        "outputId": "a559c693-41eb-4d85-9425-c82aaf4d9ca4"
      },
      "outputs": [
        {
          "output_type": "execute_result",
          "data": {
            "text/plain": [
              "             0              1            2            3           4   \\\n",
              "0    misérables         bishop     magloire    favourite  thénardier   \n",
              "1  artificially       magloire       bishop    tholomyès      outfit   \n",
              "2     crippling         myriel      valjean  blachevelle   tholomyès   \n",
              "3    hauteville    monseigneur  monseigneur       dahlia     romance   \n",
              "4       preface              d   baptistine      zéphine       swing   \n",
              "5      unsolved     baptistine     nineteen    listolier       truck   \n",
              "6     world;—in       bienvenu     knapsack      fantine     cosette   \n",
              "7          1862  conventionary      gervais     bombarda     fantine   \n",
              "8      asphyxia              g      labarre      fameuil    hostelry   \n",
              "9     pauperism     convention       madame         1817        fore   \n",
              "\n",
              "           5             6             7          8           9   ...  \\\n",
              "0   madeleine     madeleine       tilbury    fantine  wellington  ...   \n",
              "1     fantine         mayor     president     javert  cuirassier  ...   \n",
              "2      javert        javert   scaufflaire  madeleine    waterloo  ...   \n",
              "3       mayor           mr.         arras   simplice     english  ...   \n",
              "4         sur  champmathieu     madeleine      maire   hougomont  ...   \n",
              "5    workroom       fantine      simplice     sister     blücher  ...   \n",
              "6  marguerite        brevet         usher    valjean     genappe  ...   \n",
              "7          m.       valjean  champmathieu      mayor      battle  ...   \n",
              "8       maire        docket         maire        nun        haie  ...   \n",
              "9        town    faverolles   wheelwright   portress     plateau  ...   \n",
              "\n",
              "          39            40            41       42             43  \\\n",
              "0   gavroche      enjolras         sewer    sewer         javert   \n",
              "1        lon     barricade     bruneseau  valjean        valjean   \n",
              "2         où     insurgent         metre   marius           quay   \n",
              "3      fille       redoubt      cesspool   javert        canteen   \n",
              "4       vont    combeferre         filth   fontis       châtelet   \n",
              "5    valjean      gavroche  subterranean     sand        parapet   \n",
              "6    cosette        marius          city    beach        handing   \n",
              "7    blotter     cartridge        manure    shore      him,—this   \n",
              "8  auvergnat          shot        trench     jean  infallibility   \n",
              "9  toussaint  insurrection         marat     quay        convict   \n",
              "\n",
              "             44            45            46         47          48  \n",
              "0        marius       wedding        marius    cosette      marius  \n",
              "1  boulatruelle        masker       cosette    valjean     cosette  \n",
              "2  gillenormand       cosette       valjean     basque       baron  \n",
              "3       cosette  gillenormand  fauchelevent       jean     valjean  \n",
              "4  fauchelevent       valjean          jean  nicolette  thénardier  \n",
              "5       wedding        marius        basque     marius         thy  \n",
              "6   grandfather        shrove     pontmercy      adieu     changer  \n",
              "7       chénier         bride       convict     filles        thou  \n",
              "8         marry      fishwife           sir   armchair   pontmercy  \n",
              "9         andré         sancy        motive       armé       didst  \n",
              "\n",
              "[10 rows x 49 columns]"
            ],
            "text/html": [
              "\n",
              "  <div id=\"df-e403f20b-e12f-4fab-9a55-08e19c982b0a\" class=\"colab-df-container\">\n",
              "    <div>\n",
              "<style scoped>\n",
              "    .dataframe tbody tr th:only-of-type {\n",
              "        vertical-align: middle;\n",
              "    }\n",
              "\n",
              "    .dataframe tbody tr th {\n",
              "        vertical-align: top;\n",
              "    }\n",
              "\n",
              "    .dataframe thead th {\n",
              "        text-align: right;\n",
              "    }\n",
              "</style>\n",
              "<table border=\"1\" class=\"dataframe\">\n",
              "  <thead>\n",
              "    <tr style=\"text-align: right;\">\n",
              "      <th></th>\n",
              "      <th>0</th>\n",
              "      <th>1</th>\n",
              "      <th>2</th>\n",
              "      <th>3</th>\n",
              "      <th>4</th>\n",
              "      <th>5</th>\n",
              "      <th>6</th>\n",
              "      <th>7</th>\n",
              "      <th>8</th>\n",
              "      <th>9</th>\n",
              "      <th>...</th>\n",
              "      <th>39</th>\n",
              "      <th>40</th>\n",
              "      <th>41</th>\n",
              "      <th>42</th>\n",
              "      <th>43</th>\n",
              "      <th>44</th>\n",
              "      <th>45</th>\n",
              "      <th>46</th>\n",
              "      <th>47</th>\n",
              "      <th>48</th>\n",
              "    </tr>\n",
              "  </thead>\n",
              "  <tbody>\n",
              "    <tr>\n",
              "      <th>0</th>\n",
              "      <td>misérables</td>\n",
              "      <td>bishop</td>\n",
              "      <td>magloire</td>\n",
              "      <td>favourite</td>\n",
              "      <td>thénardier</td>\n",
              "      <td>madeleine</td>\n",
              "      <td>madeleine</td>\n",
              "      <td>tilbury</td>\n",
              "      <td>fantine</td>\n",
              "      <td>wellington</td>\n",
              "      <td>...</td>\n",
              "      <td>gavroche</td>\n",
              "      <td>enjolras</td>\n",
              "      <td>sewer</td>\n",
              "      <td>sewer</td>\n",
              "      <td>javert</td>\n",
              "      <td>marius</td>\n",
              "      <td>wedding</td>\n",
              "      <td>marius</td>\n",
              "      <td>cosette</td>\n",
              "      <td>marius</td>\n",
              "    </tr>\n",
              "    <tr>\n",
              "      <th>1</th>\n",
              "      <td>artificially</td>\n",
              "      <td>magloire</td>\n",
              "      <td>bishop</td>\n",
              "      <td>tholomyès</td>\n",
              "      <td>outfit</td>\n",
              "      <td>fantine</td>\n",
              "      <td>mayor</td>\n",
              "      <td>president</td>\n",
              "      <td>javert</td>\n",
              "      <td>cuirassier</td>\n",
              "      <td>...</td>\n",
              "      <td>lon</td>\n",
              "      <td>barricade</td>\n",
              "      <td>bruneseau</td>\n",
              "      <td>valjean</td>\n",
              "      <td>valjean</td>\n",
              "      <td>boulatruelle</td>\n",
              "      <td>masker</td>\n",
              "      <td>cosette</td>\n",
              "      <td>valjean</td>\n",
              "      <td>cosette</td>\n",
              "    </tr>\n",
              "    <tr>\n",
              "      <th>2</th>\n",
              "      <td>crippling</td>\n",
              "      <td>myriel</td>\n",
              "      <td>valjean</td>\n",
              "      <td>blachevelle</td>\n",
              "      <td>tholomyès</td>\n",
              "      <td>javert</td>\n",
              "      <td>javert</td>\n",
              "      <td>scaufflaire</td>\n",
              "      <td>madeleine</td>\n",
              "      <td>waterloo</td>\n",
              "      <td>...</td>\n",
              "      <td>où</td>\n",
              "      <td>insurgent</td>\n",
              "      <td>metre</td>\n",
              "      <td>marius</td>\n",
              "      <td>quay</td>\n",
              "      <td>gillenormand</td>\n",
              "      <td>cosette</td>\n",
              "      <td>valjean</td>\n",
              "      <td>basque</td>\n",
              "      <td>baron</td>\n",
              "    </tr>\n",
              "    <tr>\n",
              "      <th>3</th>\n",
              "      <td>hauteville</td>\n",
              "      <td>monseigneur</td>\n",
              "      <td>monseigneur</td>\n",
              "      <td>dahlia</td>\n",
              "      <td>romance</td>\n",
              "      <td>mayor</td>\n",
              "      <td>mr.</td>\n",
              "      <td>arras</td>\n",
              "      <td>simplice</td>\n",
              "      <td>english</td>\n",
              "      <td>...</td>\n",
              "      <td>fille</td>\n",
              "      <td>redoubt</td>\n",
              "      <td>cesspool</td>\n",
              "      <td>javert</td>\n",
              "      <td>canteen</td>\n",
              "      <td>cosette</td>\n",
              "      <td>gillenormand</td>\n",
              "      <td>fauchelevent</td>\n",
              "      <td>jean</td>\n",
              "      <td>valjean</td>\n",
              "    </tr>\n",
              "    <tr>\n",
              "      <th>4</th>\n",
              "      <td>preface</td>\n",
              "      <td>d</td>\n",
              "      <td>baptistine</td>\n",
              "      <td>zéphine</td>\n",
              "      <td>swing</td>\n",
              "      <td>sur</td>\n",
              "      <td>champmathieu</td>\n",
              "      <td>madeleine</td>\n",
              "      <td>maire</td>\n",
              "      <td>hougomont</td>\n",
              "      <td>...</td>\n",
              "      <td>vont</td>\n",
              "      <td>combeferre</td>\n",
              "      <td>filth</td>\n",
              "      <td>fontis</td>\n",
              "      <td>châtelet</td>\n",
              "      <td>fauchelevent</td>\n",
              "      <td>valjean</td>\n",
              "      <td>jean</td>\n",
              "      <td>nicolette</td>\n",
              "      <td>thénardier</td>\n",
              "    </tr>\n",
              "    <tr>\n",
              "      <th>5</th>\n",
              "      <td>unsolved</td>\n",
              "      <td>baptistine</td>\n",
              "      <td>nineteen</td>\n",
              "      <td>listolier</td>\n",
              "      <td>truck</td>\n",
              "      <td>workroom</td>\n",
              "      <td>fantine</td>\n",
              "      <td>simplice</td>\n",
              "      <td>sister</td>\n",
              "      <td>blücher</td>\n",
              "      <td>...</td>\n",
              "      <td>valjean</td>\n",
              "      <td>gavroche</td>\n",
              "      <td>subterranean</td>\n",
              "      <td>sand</td>\n",
              "      <td>parapet</td>\n",
              "      <td>wedding</td>\n",
              "      <td>marius</td>\n",
              "      <td>basque</td>\n",
              "      <td>marius</td>\n",
              "      <td>thy</td>\n",
              "    </tr>\n",
              "    <tr>\n",
              "      <th>6</th>\n",
              "      <td>world;—in</td>\n",
              "      <td>bienvenu</td>\n",
              "      <td>knapsack</td>\n",
              "      <td>fantine</td>\n",
              "      <td>cosette</td>\n",
              "      <td>marguerite</td>\n",
              "      <td>brevet</td>\n",
              "      <td>usher</td>\n",
              "      <td>valjean</td>\n",
              "      <td>genappe</td>\n",
              "      <td>...</td>\n",
              "      <td>cosette</td>\n",
              "      <td>marius</td>\n",
              "      <td>city</td>\n",
              "      <td>beach</td>\n",
              "      <td>handing</td>\n",
              "      <td>grandfather</td>\n",
              "      <td>shrove</td>\n",
              "      <td>pontmercy</td>\n",
              "      <td>adieu</td>\n",
              "      <td>changer</td>\n",
              "    </tr>\n",
              "    <tr>\n",
              "      <th>7</th>\n",
              "      <td>1862</td>\n",
              "      <td>conventionary</td>\n",
              "      <td>gervais</td>\n",
              "      <td>bombarda</td>\n",
              "      <td>fantine</td>\n",
              "      <td>m.</td>\n",
              "      <td>valjean</td>\n",
              "      <td>champmathieu</td>\n",
              "      <td>mayor</td>\n",
              "      <td>battle</td>\n",
              "      <td>...</td>\n",
              "      <td>blotter</td>\n",
              "      <td>cartridge</td>\n",
              "      <td>manure</td>\n",
              "      <td>shore</td>\n",
              "      <td>him,—this</td>\n",
              "      <td>chénier</td>\n",
              "      <td>bride</td>\n",
              "      <td>convict</td>\n",
              "      <td>filles</td>\n",
              "      <td>thou</td>\n",
              "    </tr>\n",
              "    <tr>\n",
              "      <th>8</th>\n",
              "      <td>asphyxia</td>\n",
              "      <td>g</td>\n",
              "      <td>labarre</td>\n",
              "      <td>fameuil</td>\n",
              "      <td>hostelry</td>\n",
              "      <td>maire</td>\n",
              "      <td>docket</td>\n",
              "      <td>maire</td>\n",
              "      <td>nun</td>\n",
              "      <td>haie</td>\n",
              "      <td>...</td>\n",
              "      <td>auvergnat</td>\n",
              "      <td>shot</td>\n",
              "      <td>trench</td>\n",
              "      <td>jean</td>\n",
              "      <td>infallibility</td>\n",
              "      <td>marry</td>\n",
              "      <td>fishwife</td>\n",
              "      <td>sir</td>\n",
              "      <td>armchair</td>\n",
              "      <td>pontmercy</td>\n",
              "    </tr>\n",
              "    <tr>\n",
              "      <th>9</th>\n",
              "      <td>pauperism</td>\n",
              "      <td>convention</td>\n",
              "      <td>madame</td>\n",
              "      <td>1817</td>\n",
              "      <td>fore</td>\n",
              "      <td>town</td>\n",
              "      <td>faverolles</td>\n",
              "      <td>wheelwright</td>\n",
              "      <td>portress</td>\n",
              "      <td>plateau</td>\n",
              "      <td>...</td>\n",
              "      <td>toussaint</td>\n",
              "      <td>insurrection</td>\n",
              "      <td>marat</td>\n",
              "      <td>quay</td>\n",
              "      <td>convict</td>\n",
              "      <td>andré</td>\n",
              "      <td>sancy</td>\n",
              "      <td>motive</td>\n",
              "      <td>armé</td>\n",
              "      <td>didst</td>\n",
              "    </tr>\n",
              "  </tbody>\n",
              "</table>\n",
              "<p>10 rows × 49 columns</p>\n",
              "</div>\n",
              "    <div class=\"colab-df-buttons\">\n",
              "\n",
              "  <div class=\"colab-df-container\">\n",
              "    <button class=\"colab-df-convert\" onclick=\"convertToInteractive('df-e403f20b-e12f-4fab-9a55-08e19c982b0a')\"\n",
              "            title=\"Convert this dataframe to an interactive table.\"\n",
              "            style=\"display:none;\">\n",
              "\n",
              "  <svg xmlns=\"http://www.w3.org/2000/svg\" height=\"24px\" viewBox=\"0 -960 960 960\">\n",
              "    <path d=\"M120-120v-720h720v720H120Zm60-500h600v-160H180v160Zm220 220h160v-160H400v160Zm0 220h160v-160H400v160ZM180-400h160v-160H180v160Zm440 0h160v-160H620v160ZM180-180h160v-160H180v160Zm440 0h160v-160H620v160Z\"/>\n",
              "  </svg>\n",
              "    </button>\n",
              "\n",
              "  <style>\n",
              "    .colab-df-container {\n",
              "      display:flex;\n",
              "      gap: 12px;\n",
              "    }\n",
              "\n",
              "    .colab-df-convert {\n",
              "      background-color: #E8F0FE;\n",
              "      border: none;\n",
              "      border-radius: 50%;\n",
              "      cursor: pointer;\n",
              "      display: none;\n",
              "      fill: #1967D2;\n",
              "      height: 32px;\n",
              "      padding: 0 0 0 0;\n",
              "      width: 32px;\n",
              "    }\n",
              "\n",
              "    .colab-df-convert:hover {\n",
              "      background-color: #E2EBFA;\n",
              "      box-shadow: 0px 1px 2px rgba(60, 64, 67, 0.3), 0px 1px 3px 1px rgba(60, 64, 67, 0.15);\n",
              "      fill: #174EA6;\n",
              "    }\n",
              "\n",
              "    .colab-df-buttons div {\n",
              "      margin-bottom: 4px;\n",
              "    }\n",
              "\n",
              "    [theme=dark] .colab-df-convert {\n",
              "      background-color: #3B4455;\n",
              "      fill: #D2E3FC;\n",
              "    }\n",
              "\n",
              "    [theme=dark] .colab-df-convert:hover {\n",
              "      background-color: #434B5C;\n",
              "      box-shadow: 0px 1px 3px 1px rgba(0, 0, 0, 0.15);\n",
              "      filter: drop-shadow(0px 1px 2px rgba(0, 0, 0, 0.3));\n",
              "      fill: #FFFFFF;\n",
              "    }\n",
              "  </style>\n",
              "\n",
              "    <script>\n",
              "      const buttonEl =\n",
              "        document.querySelector('#df-e403f20b-e12f-4fab-9a55-08e19c982b0a button.colab-df-convert');\n",
              "      buttonEl.style.display =\n",
              "        google.colab.kernel.accessAllowed ? 'block' : 'none';\n",
              "\n",
              "      async function convertToInteractive(key) {\n",
              "        const element = document.querySelector('#df-e403f20b-e12f-4fab-9a55-08e19c982b0a');\n",
              "        const dataTable =\n",
              "          await google.colab.kernel.invokeFunction('convertToInteractive',\n",
              "                                                    [key], {});\n",
              "        if (!dataTable) return;\n",
              "\n",
              "        const docLinkHtml = 'Like what you see? Visit the ' +\n",
              "          '<a target=\"_blank\" href=https://colab.research.google.com/notebooks/data_table.ipynb>data table notebook</a>'\n",
              "          + ' to learn more about interactive tables.';\n",
              "        element.innerHTML = '';\n",
              "        dataTable['output_type'] = 'display_data';\n",
              "        await google.colab.output.renderOutput(dataTable, element);\n",
              "        const docLink = document.createElement('div');\n",
              "        docLink.innerHTML = docLinkHtml;\n",
              "        element.appendChild(docLink);\n",
              "      }\n",
              "    </script>\n",
              "  </div>\n",
              "\n",
              "\n",
              "<div id=\"df-ea632621-27b7-4933-8937-db7c0f69808b\">\n",
              "  <button class=\"colab-df-quickchart\" onclick=\"quickchart('df-ea632621-27b7-4933-8937-db7c0f69808b')\"\n",
              "            title=\"Suggest charts\"\n",
              "            style=\"display:none;\">\n",
              "\n",
              "<svg xmlns=\"http://www.w3.org/2000/svg\" height=\"24px\"viewBox=\"0 0 24 24\"\n",
              "     width=\"24px\">\n",
              "    <g>\n",
              "        <path d=\"M19 3H5c-1.1 0-2 .9-2 2v14c0 1.1.9 2 2 2h14c1.1 0 2-.9 2-2V5c0-1.1-.9-2-2-2zM9 17H7v-7h2v7zm4 0h-2V7h2v10zm4 0h-2v-4h2v4z\"/>\n",
              "    </g>\n",
              "</svg>\n",
              "  </button>\n",
              "\n",
              "<style>\n",
              "  .colab-df-quickchart {\n",
              "      --bg-color: #E8F0FE;\n",
              "      --fill-color: #1967D2;\n",
              "      --hover-bg-color: #E2EBFA;\n",
              "      --hover-fill-color: #174EA6;\n",
              "      --disabled-fill-color: #AAA;\n",
              "      --disabled-bg-color: #DDD;\n",
              "  }\n",
              "\n",
              "  [theme=dark] .colab-df-quickchart {\n",
              "      --bg-color: #3B4455;\n",
              "      --fill-color: #D2E3FC;\n",
              "      --hover-bg-color: #434B5C;\n",
              "      --hover-fill-color: #FFFFFF;\n",
              "      --disabled-bg-color: #3B4455;\n",
              "      --disabled-fill-color: #666;\n",
              "  }\n",
              "\n",
              "  .colab-df-quickchart {\n",
              "    background-color: var(--bg-color);\n",
              "    border: none;\n",
              "    border-radius: 50%;\n",
              "    cursor: pointer;\n",
              "    display: none;\n",
              "    fill: var(--fill-color);\n",
              "    height: 32px;\n",
              "    padding: 0;\n",
              "    width: 32px;\n",
              "  }\n",
              "\n",
              "  .colab-df-quickchart:hover {\n",
              "    background-color: var(--hover-bg-color);\n",
              "    box-shadow: 0 1px 2px rgba(60, 64, 67, 0.3), 0 1px 3px 1px rgba(60, 64, 67, 0.15);\n",
              "    fill: var(--button-hover-fill-color);\n",
              "  }\n",
              "\n",
              "  .colab-df-quickchart-complete:disabled,\n",
              "  .colab-df-quickchart-complete:disabled:hover {\n",
              "    background-color: var(--disabled-bg-color);\n",
              "    fill: var(--disabled-fill-color);\n",
              "    box-shadow: none;\n",
              "  }\n",
              "\n",
              "  .colab-df-spinner {\n",
              "    border: 2px solid var(--fill-color);\n",
              "    border-color: transparent;\n",
              "    border-bottom-color: var(--fill-color);\n",
              "    animation:\n",
              "      spin 1s steps(1) infinite;\n",
              "  }\n",
              "\n",
              "  @keyframes spin {\n",
              "    0% {\n",
              "      border-color: transparent;\n",
              "      border-bottom-color: var(--fill-color);\n",
              "      border-left-color: var(--fill-color);\n",
              "    }\n",
              "    20% {\n",
              "      border-color: transparent;\n",
              "      border-left-color: var(--fill-color);\n",
              "      border-top-color: var(--fill-color);\n",
              "    }\n",
              "    30% {\n",
              "      border-color: transparent;\n",
              "      border-left-color: var(--fill-color);\n",
              "      border-top-color: var(--fill-color);\n",
              "      border-right-color: var(--fill-color);\n",
              "    }\n",
              "    40% {\n",
              "      border-color: transparent;\n",
              "      border-right-color: var(--fill-color);\n",
              "      border-top-color: var(--fill-color);\n",
              "    }\n",
              "    60% {\n",
              "      border-color: transparent;\n",
              "      border-right-color: var(--fill-color);\n",
              "    }\n",
              "    80% {\n",
              "      border-color: transparent;\n",
              "      border-right-color: var(--fill-color);\n",
              "      border-bottom-color: var(--fill-color);\n",
              "    }\n",
              "    90% {\n",
              "      border-color: transparent;\n",
              "      border-bottom-color: var(--fill-color);\n",
              "    }\n",
              "  }\n",
              "</style>\n",
              "\n",
              "  <script>\n",
              "    async function quickchart(key) {\n",
              "      const quickchartButtonEl =\n",
              "        document.querySelector('#' + key + ' button');\n",
              "      quickchartButtonEl.disabled = true;  // To prevent multiple clicks.\n",
              "      quickchartButtonEl.classList.add('colab-df-spinner');\n",
              "      try {\n",
              "        const charts = await google.colab.kernel.invokeFunction(\n",
              "            'suggestCharts', [key], {});\n",
              "      } catch (error) {\n",
              "        console.error('Error during call to suggestCharts:', error);\n",
              "      }\n",
              "      quickchartButtonEl.classList.remove('colab-df-spinner');\n",
              "      quickchartButtonEl.classList.add('colab-df-quickchart-complete');\n",
              "    }\n",
              "    (() => {\n",
              "      let quickchartButtonEl =\n",
              "        document.querySelector('#df-ea632621-27b7-4933-8937-db7c0f69808b button');\n",
              "      quickchartButtonEl.style.display =\n",
              "        google.colab.kernel.accessAllowed ? 'block' : 'none';\n",
              "    })();\n",
              "  </script>\n",
              "</div>\n",
              "\n",
              "  <div id=\"id_5bd5b28c-4f3c-4c03-836c-9c09215cc9eb\">\n",
              "    <style>\n",
              "      .colab-df-generate {\n",
              "        background-color: #E8F0FE;\n",
              "        border: none;\n",
              "        border-radius: 50%;\n",
              "        cursor: pointer;\n",
              "        display: none;\n",
              "        fill: #1967D2;\n",
              "        height: 32px;\n",
              "        padding: 0 0 0 0;\n",
              "        width: 32px;\n",
              "      }\n",
              "\n",
              "      .colab-df-generate:hover {\n",
              "        background-color: #E2EBFA;\n",
              "        box-shadow: 0px 1px 2px rgba(60, 64, 67, 0.3), 0px 1px 3px 1px rgba(60, 64, 67, 0.15);\n",
              "        fill: #174EA6;\n",
              "      }\n",
              "\n",
              "      [theme=dark] .colab-df-generate {\n",
              "        background-color: #3B4455;\n",
              "        fill: #D2E3FC;\n",
              "      }\n",
              "\n",
              "      [theme=dark] .colab-df-generate:hover {\n",
              "        background-color: #434B5C;\n",
              "        box-shadow: 0px 1px 3px 1px rgba(0, 0, 0, 0.15);\n",
              "        filter: drop-shadow(0px 1px 2px rgba(0, 0, 0, 0.3));\n",
              "        fill: #FFFFFF;\n",
              "      }\n",
              "    </style>\n",
              "    <button class=\"colab-df-generate\" onclick=\"generateWithVariable('tfidf_df')\"\n",
              "            title=\"Generate code using this dataframe.\"\n",
              "            style=\"display:none;\">\n",
              "\n",
              "  <svg xmlns=\"http://www.w3.org/2000/svg\" height=\"24px\"viewBox=\"0 0 24 24\"\n",
              "       width=\"24px\">\n",
              "    <path d=\"M7,19H8.4L18.45,9,17,7.55,7,17.6ZM5,21V16.75L18.45,3.32a2,2,0,0,1,2.83,0l1.4,1.43a1.91,1.91,0,0,1,.58,1.4,1.91,1.91,0,0,1-.58,1.4L9.25,21ZM18.45,9,17,7.55Zm-12,3A5.31,5.31,0,0,0,4.9,8.1,5.31,5.31,0,0,0,1,6.5,5.31,5.31,0,0,0,4.9,4.9,5.31,5.31,0,0,0,6.5,1,5.31,5.31,0,0,0,8.1,4.9,5.31,5.31,0,0,0,12,6.5,5.46,5.46,0,0,0,6.5,12Z\"/>\n",
              "  </svg>\n",
              "    </button>\n",
              "    <script>\n",
              "      (() => {\n",
              "      const buttonEl =\n",
              "        document.querySelector('#id_5bd5b28c-4f3c-4c03-836c-9c09215cc9eb button.colab-df-generate');\n",
              "      buttonEl.style.display =\n",
              "        google.colab.kernel.accessAllowed ? 'block' : 'none';\n",
              "\n",
              "      buttonEl.onclick = () => {\n",
              "        google.colab.notebook.generateWithVariable('tfidf_df');\n",
              "      }\n",
              "      })();\n",
              "    </script>\n",
              "  </div>\n",
              "\n",
              "    </div>\n",
              "  </div>\n"
            ],
            "application/vnd.google.colaboratory.intrinsic+json": {
              "type": "dataframe",
              "variable_name": "tfidf_df"
            }
          },
          "metadata": {},
          "execution_count": 24
        }
      ],
      "source": [
        "tfidf_df = pd.DataFrame()\n",
        "for tfidf_doc in corpus_tfidf:\n",
        "  top_couples = sorted(tfidf_doc, key=lambda item: item[1], reverse=True)[:10]\n",
        "  top_words = [dictionary[id] for id, _ in top_couples]\n",
        "  tfidf_df = pd.concat([tfidf_df, pd.Series(top_words)], axis=1,\n",
        "                       ignore_index=True)\n",
        "tfidf_df"
      ]
    },
    {
      "cell_type": "markdown",
      "metadata": {
        "id": "p8E-i3TuLueh"
      },
      "source": [
        "Pour obtenir la matrice terme-document, on applique la fonction `gensim.matutils.corpus2dense()` sur notre corpus bag-of-words."
      ]
    },
    {
      "cell_type": "code",
      "execution_count": 25,
      "metadata": {
        "colab": {
          "base_uri": "https://localhost:8080/"
        },
        "id": "5_7XgsdFBMx4",
        "outputId": "9b031f6e-5f73-464d-c125-7119cb1c190c"
      },
      "outputs": [
        {
          "output_type": "execute_result",
          "data": {
            "text/plain": [
              "(17673, 49)"
            ]
          },
          "metadata": {},
          "execution_count": 25
        }
      ],
      "source": [
        "term_document = gensim.matutils.corpus2dense(corpus, num_terms=len(dictionary))\n",
        "term_document.shape"
      ]
    },
    {
      "cell_type": "markdown",
      "metadata": {
        "id": "Fok-Gb8qMZpQ"
      },
      "source": [
        "Comme le nombre de mots est très élevés pour ce corpus, on va enlever les mots qui apparaissent trop ou pas assez souvent (c'est un traitement fréquent en analyse de données, ces mots ne sont certainement pas assez spécifiques aux différentes parties à analyser, ou trop marignaux). Nous allons pour cela créer une fonction qui donne un dictionnaire contenant la fréquence de chaque terme trouvé dans un corpus bag-of-words."
      ]
    },
    {
      "cell_type": "code",
      "execution_count": 26,
      "metadata": {
        "id": "UnMObiUqLj3Y"
      },
      "outputs": [],
      "source": [
        "def get_word_freqs(corpus, dictionary):\n",
        "  # On transforme le corpus en matrice terme-document\n",
        "  term_document = gensim.matutils.corpus2dense(corpus,\n",
        "                                               num_terms=len(dictionary))\n",
        "  # On fait la somme des colonnes\n",
        "  frequencies = term_document.sum(axis=1)\n",
        "  # On construit le dictionnaire\n",
        "  word_freqs = [(word, frequencies[id])\n",
        "              for word, id in dictionary.token2id.items()]\n",
        "  # On le trie\n",
        "  word_freqs = sorted(word_freqs, key=lambda item: item[1], reverse=True)\n",
        "  # On le retourne\n",
        "  return word_freqs"
      ]
    },
    {
      "cell_type": "markdown",
      "metadata": {
        "id": "EV8JU4vrNT3W"
      },
      "source": [
        "Affichons les mots les plus fréquents de notre corpus."
      ]
    },
    {
      "cell_type": "code",
      "execution_count": 27,
      "metadata": {
        "colab": {
          "base_uri": "https://localhost:8080/"
        },
        "id": "2WuCKDo9F1pb",
        "outputId": "95eaa1f9-ea9c-42d2-b117-93effc7c17d8"
      },
      "outputs": [
        {
          "output_type": "stream",
          "name": "stdout",
          "text": [
            "[('man', 2568.0), ('marius', 1341.0), ('jean', 1218.0), ('valjean', 1105.0), ('come', 1027.0), ('like', 1008.0), ('cosette', 1006.0), ('know', 964.0), ('little', 964.0), ('day', 960.0)]\n",
            "[('ungracious', 1.0), ('unlocked', 1.0), ('unskilful', 1.0), ('utterest', 1.0), ('vivait', 1.0), ('wheedle', 1.0), ('yew', 1.0), ('york', 1.0), ('étrange', 1.0), ('”69', 1.0)]\n"
          ]
        }
      ],
      "source": [
        "word_freqs = get_word_freqs(corpus, dictionary)\n",
        "print(word_freqs[:10])\n",
        "print(word_freqs[-10:])"
      ]
    },
    {
      "cell_type": "markdown",
      "metadata": {
        "id": "QKS2vdMKN36e"
      },
      "source": [
        "L'objet dictionnaire de Gensim possède plusieurs méthodes permettant de filtrer certains termes (https://tedboy.github.io/nlps/generated/generated/gensim.corpora.Dictionary.html#gensim.corpora.Dictionary). Ici, nous allons créer une liste de mots qui ne correspondent pas à une fréquence définie (que nous allons poser entre 50 et 1500) et nous utilisons `dictionary.filter_tokens()` pour les supprimer du dictionnaire. On voit que le nombre de mots a été fortement réduit."
      ]
    },
    {
      "cell_type": "code",
      "execution_count": 28,
      "metadata": {
        "colab": {
          "base_uri": "https://localhost:8080/"
        },
        "id": "ez6tCd1kHJnt",
        "outputId": "3eee32ba-9ece-459c-b638-c95301dd0c38"
      },
      "outputs": [
        {
          "output_type": "execute_result",
          "data": {
            "text/plain": [
              "971"
            ]
          },
          "metadata": {},
          "execution_count": 28
        }
      ],
      "source": [
        "min_freq = 50\n",
        "max_freq = 1500\n",
        "banned_word_ids = [dictionary.token2id[word] for word, freq in word_freqs\n",
        "                   if freq < min_freq or freq > max_freq]\n",
        "dictionary.filter_tokens(bad_ids=banned_word_ids)\n",
        "len(dictionary)"
      ]
    },
    {
      "cell_type": "markdown",
      "metadata": {
        "id": "Owrh5zElOg-S"
      },
      "source": [
        "Nous allons finalement recréer notre objet corpus bag-of-words avec le nouveau dictionnaire."
      ]
    },
    {
      "cell_type": "code",
      "execution_count": 29,
      "metadata": {
        "id": "qnv8nYsRHzqp"
      },
      "outputs": [],
      "source": [
        "corpus = [dictionary.doc2bow(text) for text in texts]"
      ]
    },
    {
      "cell_type": "markdown",
      "metadata": {
        "id": "jtspnApn6vfb"
      },
      "source": [
        "---"
      ]
    },
    {
      "cell_type": "markdown",
      "metadata": {
        "id": "k9StPeaeOrxL"
      },
      "source": [
        "## 3. AFC\n",
        "\n",
        "Il existe des librairies permettant d'effectuer une AFC en Python (e.g. **prince** https://pypi.org/project/prince/). Seulement, elle ne sont pas si matures et comme il est relativement aisé d'implémenter sa propre méthode, nous allons la coder ici. La fonction `correspondence_analysis()`, qui est donnée ci-dessous, permet de sortir toutes les quantitiés d'intérêt de l'AFC."
      ]
    },
    {
      "cell_type": "code",
      "execution_count": 30,
      "metadata": {
        "id": "uRSDBi866xUr"
      },
      "outputs": [],
      "source": [
        "# Fonction pour la décomposition spectrale\n",
        "def sorted_eig(matrix, dim_max=None):\n",
        "    if (dim_max is not None) and dim_max < matrix.shape[0] - 1:\n",
        "        eigen_values, eigen_vectors = scipy.sparse.linalg.eigs(matrix, dim_max)\n",
        "    else:\n",
        "        eigen_values, eigen_vectors = scipy.linalg.eig(matrix)\n",
        "    sorted_indices = eigen_values.argsort()[::-1]\n",
        "    eigen_values = eigen_values[sorted_indices]\n",
        "    eigen_vectors = eigen_vectors[:, sorted_indices]\n",
        "\n",
        "    return np.real(eigen_values), np.real(eigen_vectors)\n",
        "\n",
        "# Fonction pour l'analyse de correspondances\n",
        "def correspondence_analysis(contingency):\n",
        "\n",
        "    contingency = np.array(contingency)\n",
        "    n_row, n_col = contingency.shape\n",
        "    dim_max = min(n_row, n_col) - 1\n",
        "\n",
        "    total = np.sum(contingency)\n",
        "    f_row = contingency.sum(axis=1)\n",
        "    f_row = f_row / sum(f_row)\n",
        "    f_col = contingency.sum(axis=0)\n",
        "    f_col = f_col / sum(f_col)\n",
        "    independency = np.outer(f_row, f_col) * total\n",
        "    normalized_quotient = contingency / independency - 1\n",
        "\n",
        "    b_mat = (normalized_quotient * f_col) @ normalized_quotient.T\n",
        "    k_mat = np.outer(np.sqrt(f_row), np.sqrt(f_row)) * b_mat\n",
        "    eig_val, eig_vec = sorted_eig(k_mat, dim_max)\n",
        "    eig_val = np.abs(eig_val[:dim_max])\n",
        "    eig_vec = eig_vec[:, :dim_max]\n",
        "\n",
        "    row_coord = np.real(np.outer(1 / np.sqrt(f_row), np.sqrt(eig_val)) * eig_vec)\n",
        "    col_coord = (normalized_quotient.T * f_row) @ row_coord / np.sqrt(eig_val)\n",
        "    row_contrib = eig_vec ** 2\n",
        "    col_contrib = np.outer(f_col, 1 / eig_val) * col_coord ** 2\n",
        "    row_cos2 = row_coord ** 2\n",
        "    row_cos2 = (row_cos2.T / row_cos2.sum(axis=1)).T\n",
        "    col_cos2 = col_coord ** 2\n",
        "    col_cos2 = (col_cos2.T / col_cos2.sum(axis=1)).T\n",
        "\n",
        "    # --- Le retour de la fonction\n",
        "    # dim_max: la dimension maximale de l'AFC\n",
        "    # eig_val: les valeurs propres\n",
        "    # row_coord: les coordonnées des lignes\n",
        "    # col_coord: les coordonnées des colonnes\n",
        "    # row_contrib: les contributions des lignes\n",
        "    # col_contrib: les contributions des colonnes\n",
        "    # row_cos2: le cos2 des lignes\n",
        "    # col_cos2: le cos2 des colonnes\n",
        "    return dim_max, eig_val, row_coord, col_coord, \\\n",
        "           row_contrib, col_contrib, row_cos2, col_cos2"
      ]
    },
    {
      "cell_type": "markdown",
      "metadata": {
        "id": "4GeLt39sQPPe"
      },
      "source": [
        "Construisons la matrice terme-document."
      ]
    },
    {
      "cell_type": "code",
      "execution_count": 31,
      "metadata": {
        "colab": {
          "base_uri": "https://localhost:8080/"
        },
        "id": "FeUM0hml8hkS",
        "outputId": "d66776b5-746a-4e95-df81-e9c30a0d071d"
      },
      "outputs": [
        {
          "output_type": "execute_result",
          "data": {
            "text/plain": [
              "(971, 49)"
            ]
          },
          "metadata": {},
          "execution_count": 31
        }
      ],
      "source": [
        "term_document = gensim.matutils.corpus2dense(corpus,\n",
        "                                             num_terms=len(dictionary))\n",
        "term_document.shape"
      ]
    },
    {
      "cell_type": "markdown",
      "metadata": {
        "id": "fvnAP6nLQb4D"
      },
      "source": [
        "Et effectuons l'AFC."
      ]
    },
    {
      "cell_type": "code",
      "execution_count": 32,
      "metadata": {
        "id": "h1TwM161JJ06"
      },
      "outputs": [],
      "source": [
        "dim_max, eig_val, row_coord, col_coord, row_contrib, col_contrib, \\\n",
        "row_cos2, col_cos2 = correspondence_analysis(term_document)"
      ]
    },
    {
      "cell_type": "markdown",
      "metadata": {
        "id": "w0xCE4WXQerW"
      },
      "source": [
        "On peut maintenant examiner les différents axes:\n",
        "\n",
        "* Si l'on divise chaque valeur propre par la somme des valeurs propres, on obtient le pourcentage d'inertie exprimé sur chaque axe.\n",
        "* Les contributions nous permettent de savoir quels mots ont le plus contribué à la création de chaque axe (en pourcentage). Ce résultat permet parfois de \"nommer les axes\"."
      ]
    },
    {
      "cell_type": "code",
      "execution_count": 33,
      "metadata": {
        "colab": {
          "base_uri": "https://localhost:8080/"
        },
        "id": "lM7bxeeTOghM",
        "outputId": "f5272294-e057-48d1-d856-048d9fceafcd"
      },
      "outputs": [
        {
          "output_type": "stream",
          "name": "stdout",
          "text": [
            "Axe 0 (8.71%): {'english': 3.6, 'wellington': 3.44, 'battle': 3.28, 'barricade': 2.52, 'waterloo': 2.45}\n",
            "Axe 1 (6.44%): {'fauchelevent': 11.5, 'coffin': 5.02, 'digger': 4.75, 'marius': 4.55, 'prioress': 4.15}\n",
            "Axe 2 (5.93%): {'fauchelevent': 6.9, 'bishop': 5.03, 'barricade': 2.96, 'coffin': 2.64, 'gavroche': 2.35}\n",
            "Axe 3 (5.46%): {'wellington': 5.99, 'english': 5.51, 'sewer': 5.27, 'waterloo': 4.79, 'battle': 3.38}\n",
            "Axe 4 (4.89%): {'sewer': 14.8, 'valjean': 3.64, 'javert': 3.35, 'jean': 3.24, 'paris': 2.33}\n",
            "Axe 5 (4.75%): {'sewer': 9.82, 'madeleine': 6.01, 'javert': 4.7, 'barricade': 4.04, 'mayor': 3.92}\n",
            "Axe 6 (4.49%): {'gavroche': 6.61, 'marius': 4.98, 'thénardier': 4.17, 'montparnasse': 3.87, 'jean': 3.18}\n",
            "Axe 7 (3.98%): {'bishop': 11.43, 'magloire': 4.33, 'madeleine': 3.81, 'valjean': 3.58, 'jondrette': 3.43}\n",
            "Axe 8 (3.81%): {'slang': 29.55, 'language': 5.44, 'sewer': 3.8, 'bishop': 1.63, 'montparnasse': 1.55}\n",
            "Axe 9 (3.32%): {'gavroche': 6.14, 'jondrette': 5.47, 'montparnasse': 3.38, 'tholomyès': 3.03, 'leblanc': 2.77}\n"
          ]
        }
      ],
      "source": [
        "n_top = 5\n",
        "for dim in range(10):\n",
        "  # Le pourcentage de variance\n",
        "  p_var = eig_val[dim] / sum(eig_val)\n",
        "  # Les mots qui contribuent le plus\n",
        "  top_contrib_ids = np.argsort(row_contrib[:, dim])[::-1][:n_top]\n",
        "  contrib_dic = {dictionary[id]: round(row_contrib[id, dim]*100,2)\n",
        "                 for id in top_contrib_ids}\n",
        "  # On affiche\n",
        "  print(f\"Axe {dim} ({p_var:.2%}): {contrib_dic}\")"
      ]
    },
    {
      "cell_type": "markdown",
      "metadata": {
        "id": "Hh4UvZZkROGf"
      },
      "source": [
        "On va maintenant afficher les coordonnées de 100 termes les plus fréquents et des documents sur le même graphique, selon les axes sélectionnés sur la première ligne. C'est le **biplot**. On peut intérpréter le produit scalaire entre les points de différents types (terme-document) comme des attirances, et la distance entre deux points de même type (terme-terme, document-document) exprime leur dissemblance en terme de profil de fréquences (via la distance du chi2)."
      ]
    },
    {
      "cell_type": "code",
      "execution_count": 34,
      "metadata": {
        "colab": {
          "base_uri": "https://localhost:8080/",
          "height": 1000
        },
        "id": "nAGTZaoLPQUi",
        "outputId": "44fbbf23-160e-4746-cce0-b1d401c09a46"
      },
      "outputs": [
        {
          "output_type": "display_data",
          "data": {
            "text/plain": [
              "<Figure size 1600x1600 with 1 Axes>"
            ],
            "image/png": "[encoded data removed]"
          },
          "metadata": {}
        }
      ],
      "source": [
        "axes = [0, 1]\n",
        "\n",
        "# Taille du graphique\n",
        "plt.rcParams[\"figure.figsize\"] = [16, 16]\n",
        "\n",
        "# Filtre sur les mots les plus fréquents\n",
        "top_n = 100\n",
        "word_freqs = get_word_freqs(corpus, dictionary)\n",
        "top_words = [word for word, _ in word_freqs[:top_n]]\n",
        "top_word_ids = [dictionary.token2id[word] for word in top_words]\n",
        "top_row_coord = row_coord[top_word_ids, :]\n",
        "\n",
        "# On fait une matrice de toutes les coordonées\n",
        "all_coord = np.concatenate([top_row_coord, col_coord])\n",
        "\n",
        "# --- Plot\n",
        "\n",
        "fig, ax = plt.subplots()\n",
        "\n",
        "ax.scatter(all_coord[:, axes[0]], all_coord[:, axes[1]], alpha=0, color=\"white\")\n",
        "\n",
        "for i, txt in enumerate(top_words):\n",
        "    ax.annotate(txt, (top_row_coord[i, axes[0]], top_row_coord[i, axes[1]]),\n",
        "                size=12, color=\"blue\")\n",
        "\n",
        "for i, txt in enumerate(range(len(corpus))):\n",
        "    ax.annotate(txt, (col_coord[i, axes[0]], col_coord[i, axes[1]]),\n",
        "                size=12, color=\"red\", alpha=0.8)\n",
        "\n",
        "ax.grid()\n",
        "plt.show()"
      ]
    },
    {
      "cell_type": "markdown",
      "metadata": {
        "id": "zLrh6hDG6xvF"
      },
      "source": [
        "---"
      ]
    },
    {
      "cell_type": "markdown",
      "metadata": {
        "id": "f0Ma9iisRyZZ"
      },
      "source": [
        "## 4. L'allocation de Dirichlet latente\n",
        "\n",
        "Nous allons maintenant faire une allocation de Dirichlet latente avec Gensim. On utilise pour cela la classe `gensim.models.LdaModel`, qui utilise notre corpus en bag-of-words, un nombre de thèmes fixé et notre dictionnaire. L'instance de la classe résultante va contenir tous les résultats pertinents de la méthode."
      ]
    },
    {
      "cell_type": "code",
      "execution_count": 35,
      "metadata": {
        "id": "nzHN-0jqDQyt"
      },
      "outputs": [],
      "source": [
        "lda_model = LdaModel(corpus, num_topics=5, id2word=dictionary, passes=10)"
      ]
    },
    {
      "cell_type": "markdown",
      "metadata": {
        "id": "6Ijql8YeW-rp"
      },
      "source": [
        "On peut obtenir les principaux mots utilisés dans chaque thème avec la méthode `show_topics()`."
      ]
    },
    {
      "cell_type": "code",
      "execution_count": 36,
      "metadata": {
        "colab": {
          "base_uri": "https://localhost:8080/"
        },
        "id": "e-jKISt1AORF",
        "outputId": "dcee1e55-340a-4cf4-d670-0217b1530916"
      },
      "outputs": [
        {
          "output_type": "execute_result",
          "data": {
            "text/plain": [
              "[(0,\n",
              "  '0.014*\"m.\" + 0.011*\"javert\" + 0.010*\"madeleine\" + 0.009*\"jean\" + 0.009*\"valjean\" + 0.008*\"good\" + 0.007*\"know\" + 0.007*\"little\" + 0.007*\"see\" + 0.007*\"take\"'),\n",
              " (1,\n",
              "  '0.023*\"marius\" + 0.013*\"thénardier\" + 0.009*\"m.\" + 0.009*\"old\" + 0.009*\"go\" + 0.008*\"come\" + 0.008*\"know\" + 0.008*\"little\" + 0.007*\"time\" + 0.007*\"like\"'),\n",
              " (2,\n",
              "  '0.011*\"bishop\" + 0.009*\"little\" + 0.008*\"good\" + 0.008*\"day\" + 0.007*\"child\" + 0.007*\"year\" + 0.007*\"de\" + 0.007*\"like\" + 0.007*\"know\" + 0.007*\"woman\"'),\n",
              " (3,\n",
              "  '0.027*\"jean\" + 0.026*\"valjean\" + 0.022*\"cosette\" + 0.012*\"marius\" + 0.009*\"come\" + 0.008*\"fauchelevent\" + 0.008*\"like\" + 0.007*\"know\" + 0.007*\"day\" + 0.007*\"rue\"'),\n",
              " (4,\n",
              "  '0.010*\"barricade\" + 0.008*\"rue\" + 0.008*\"enjolras\" + 0.007*\"take\" + 0.007*\"like\" + 0.006*\"de\" + 0.006*\"hand\" + 0.006*\"right\" + 0.006*\"come\" + 0.006*\"great\"')]"
            ]
          },
          "metadata": {},
          "execution_count": 36
        }
      ],
      "source": [
        "lda_model.show_topics()"
      ]
    },
    {
      "cell_type": "markdown",
      "metadata": {
        "id": "yctZded9XJDc"
      },
      "source": [
        "Laa répartition des thèmes dans un document particulier s'obtient avec `get_document_topics()`."
      ]
    },
    {
      "cell_type": "code",
      "execution_count": 37,
      "metadata": {
        "colab": {
          "base_uri": "https://localhost:8080/"
        },
        "id": "5zQJ01IrN7ol",
        "outputId": "99543881-4c10-4d59-9d0e-535102f6e05c"
      },
      "outputs": [
        {
          "output_type": "execute_result",
          "data": {
            "text/plain": [
              "[(0, 0.009587418),\n",
              " (1, 4.2617965e-05),\n",
              " (2, 0.9902928),\n",
              " (3, 3.853001e-05),\n",
              " (4, 3.866539e-05)]"
            ]
          },
          "metadata": {},
          "execution_count": 37
        }
      ],
      "source": [
        "lda_model.get_document_topics(corpus[1], minimum_probability=0)"
      ]
    },
    {
      "cell_type": "markdown",
      "metadata": {
        "id": "XiOiSrJAXdYg"
      },
      "source": [
        "Les mesures de cohérence sont obtenues avec un objet de classe `gensim.models.CoherenceModel`, qui utilise par défault la mesure $C_v$ (pour plus de détails concernant ces mesures, voir http://svn.aksw.org/papers/2015/WSDM_Topic_Evaluation/public.pdf)."
      ]
    },
    {
      "cell_type": "code",
      "execution_count": 38,
      "metadata": {
        "colab": {
          "base_uri": "https://localhost:8080/"
        },
        "id": "WQYeTEypO-5h",
        "outputId": "2e1e2cfc-39b1-4098-e474-2c72b4f97fed"
      },
      "outputs": [
        {
          "output_type": "execute_result",
          "data": {
            "text/plain": [
              "0.32911074893852427"
            ]
          },
          "metadata": {},
          "execution_count": 38
        }
      ],
      "source": [
        "coherence_model = CoherenceModel(lda_model, texts=texts, dictionary=dictionary)\n",
        "coherence_model.get_coherence()"
      ]
    },
    {
      "cell_type": "markdown",
      "metadata": {
        "id": "buusW2bOX0Sv"
      },
      "source": [
        "On pourrait effectuer une recherche des meilleurs hyperparmètres $k$, $\\alpha$, et\n",
        "$\\eta$ pour notre corpus en maximisant cette mesure de cohérence. Seulement, comme l'optimisation de tous les hyperparamètres peut s'avérer très lente, nous n'allons optimiser ici que le nombre de thèmes. On va créer 3 modèles pour chaque valeur de $k$, afin de limiter l'effet de l'initialisation aléatoire."
      ]
    },
    {
      "cell_type": "code",
      "execution_count": 39,
      "metadata": {
        "colab": {
          "base_uri": "https://localhost:8080/"
        },
        "id": "VrcCuqkC2sX5",
        "outputId": "9f9d78c8-d6c7-4ec2-a4a8-e7a0eb8eb28c"
      },
      "outputs": [
        {
          "output_type": "stream",
          "name": "stderr",
          "text": [
            "100%|██████████| 17/17 [08:26<00:00, 29.79s/it]\n"
          ]
        }
      ],
      "source": [
        "ks = list(range(4, 21))\n",
        "n_tests = 3\n",
        "coherences = []\n",
        "for k in tqdm(ks):\n",
        "  sum_coherence = 0\n",
        "  for _ in range(n_tests):\n",
        "    lda_model = LdaModel(corpus, id2word=dictionary,\n",
        "                        num_topics=k, passes=10)\n",
        "    sum_coherence += CoherenceModel(lda_model, texts=texts,\n",
        "                                    dictionary=dictionary).get_coherence()\n",
        "\n",
        "  coherences.append(sum_coherence / n_tests)"
      ]
    },
    {
      "cell_type": "markdown",
      "metadata": {
        "id": "nAcVxDc5YPN7"
      },
      "source": [
        "Cette boucle nous permet de tracer la courbe de la cohérence en fonction du nombre de thèmes."
      ]
    },
    {
      "cell_type": "code",
      "execution_count": 40,
      "metadata": {
        "colab": {
          "base_uri": "https://localhost:8080/",
          "height": 1000
        },
        "id": "BdH0W2VTaei1",
        "outputId": "bd6c8efb-e561-40cd-cf2a-48d65a8e5efb"
      },
      "outputs": [
        {
          "output_type": "execute_result",
          "data": {
            "text/plain": [
              "[]"
            ]
          },
          "metadata": {},
          "execution_count": 40
        },
        {
          "output_type": "display_data",
          "data": {
            "text/plain": [
              "<Figure size 1600x1600 with 1 Axes>"
            ],
            "image/png": "[encoded data removed]"
          },
          "metadata": {}
        }
      ],
      "source": [
        "fig, ax = plt.subplots()\n",
        "ax.plot(ks, coherences, c=\"red\")\n",
        "ax.set_xlabel(\"Nb Topics\")\n",
        "ax.set_ylabel(\"Coherence\")\n",
        "plt.plot()"
      ]
    },
    {
      "cell_type": "markdown",
      "metadata": {
        "id": "7-QzgO-4Yspy"
      },
      "source": [
        "On va retenir le nombre de thèmes qui maximise la cohérence, et on entraine un modèle avec cet hyperparamètre."
      ]
    },
    {
      "cell_type": "code",
      "execution_count": 41,
      "metadata": {
        "id": "6_qRp09YEbiv"
      },
      "outputs": [],
      "source": [
        "optimal_k = ks[np.argmax(coherences)]\n",
        "lda_model = LdaModel(corpus, num_topics=optimal_k, id2word=dictionary,\n",
        "                     passes=10)"
      ]
    },
    {
      "cell_type": "markdown",
      "metadata": {
        "id": "tDH05ErMYv_s"
      },
      "source": [
        "Dans des graphiques en barres, nous allons afficher la répartition des 10 mots les plus utilisés par thème. Cela nous permettra de les interpréter."
      ]
    },
    {
      "cell_type": "code",
      "execution_count": 42,
      "metadata": {
        "colab": {
          "base_uri": "https://localhost:8080/",
          "height": 826
        },
        "id": "SNlnTN6jb8ZL",
        "outputId": "258d2d4d-c9f4-42b9-8c0e-7c7cfe0a71bd"
      },
      "outputs": [
        {
          "output_type": "display_data",
          "data": {
            "text/plain": [
              "<Figure size 2000x900 with 13 Axes>"
            ],
            "image/png": "[encoded data removed]"
          },
          "metadata": {}
        }
      ],
      "source": [
        "# Pour les couleurs des topics\n",
        "topic_color = colormaps[\"hsv\"](np.linspace(0.0, 1.0, lda_model.num_topics + 1))\n",
        "\n",
        "# Pour avoir le nombre d'éléments sur les lignes et colonnes\n",
        "nx_grid = int(np.sqrt(lda_model.num_topics))\n",
        "ny_grid= int(np.ceil(lda_model.num_topics / nx_grid))\n",
        "\n",
        "# On reformate la taille de la figure et on fait une grille\n",
        "plt.rcParams[\"figure.figsize\"] = [ny_grid*4, nx_grid*3]\n",
        "fig = plt.figure()\n",
        "gride_layout = GridSpec(nx_grid, ny_grid)\n",
        "\n",
        "# Boucle sur les topics\n",
        "for i in range(lda_model.num_topics):\n",
        "\n",
        "  # Les 10 mots le plus fréquents dans le topic\n",
        "  top_words = lda_model.show_topic(i, topn=10)\n",
        "  words = [word for word, _ in top_words]\n",
        "  freqs = [freq for _, freq in top_words]\n",
        "\n",
        "  # On ajoute la figure\n",
        "  ax = fig.add_subplot(gride_layout[i])\n",
        "  ax.barh(words, freqs, color=topic_color[i])\n",
        "  ax.set_title(f\"Topic {i}\")\n",
        "  ax.invert_yaxis()\n",
        "\n",
        "gride_layout.tight_layout(fig)"
      ]
    },
    {
      "cell_type": "markdown",
      "metadata": {
        "id": "KZcaoVmNY5mr"
      },
      "source": [
        "On fait de même pour la répartition des thèmes dans les documents. En combinant l'interprétation de la sortie précédante avec celle-ci, on peut fréquemment avoir quelques observations pertinentes sur notre corpus."
      ]
    },
    {
      "cell_type": "code",
      "execution_count": 43,
      "metadata": {
        "colab": {
          "base_uri": "https://localhost:8080/",
          "height": 1000
        },
        "id": "7bT_X5prJShz",
        "outputId": "0bb1745b-d7a9-4b70-f08a-72af52f47433"
      },
      "outputs": [
        {
          "output_type": "display_data",
          "data": {
            "text/plain": [
              "<Figure size 1400x1050 with 49 Axes>"
            ],
            "image/png": "[encoded data removed]"
          },
          "metadata": {}
        }
      ],
      "source": [
        "# Pour avoir le nombre d'éléments sur les lignes et colonnes\n",
        "nx_grid = int(np.sqrt(len(corpus)))\n",
        "ny_grid= int(np.ceil(len(corpus) / nx_grid))\n",
        "\n",
        "# On reformate la taille de la figure et on fait une grille\n",
        "plt.rcParams[\"figure.figsize\"] = [ny_grid*2, nx_grid*1.5]\n",
        "fig = plt.figure()\n",
        "gride_layout = GridSpec(nx_grid, ny_grid)\n",
        "\n",
        "# Boucle sur les topics\n",
        "for i, document in enumerate(corpus):\n",
        "\n",
        "  # Les topics dans le document\n",
        "  topics_freqs = lda_model.get_document_topics(document, minimum_probability=0)\n",
        "  topics = [topic for topic, _ in topics_freqs]\n",
        "  freqs = [freq for _, freq in topics_freqs]\n",
        "\n",
        "  # On ajoute la figure\n",
        "  ax = fig.add_subplot(gride_layout[i])\n",
        "  ax.bar(topics, freqs, color=topic_color)\n",
        "  ax.set_title(f\"Document {i}\")\n",
        "  ax.set_ylim([0, 1])\n",
        "\n",
        "gride_layout.tight_layout(fig)"
      ]
    },
    {
      "cell_type": "markdown",
      "metadata": {
        "id": "GnhVUSgbkyhk"
      },
      "source": [
        "---"
      ]
    },
    {
      "cell_type": "markdown",
      "metadata": {
        "id": "HHejxvExZFXi"
      },
      "source": [
        "## 5. Word2Vec\n",
        "\n",
        "Finalement, nous allons utiliser Gensim pour entrainer un modèle de type **Word2Vec** sur notre corpus. Cela nous permettra de visuliser une carte sémantique et syntaxique basée sur Les Misérables.\n",
        "\n",
        "Gensim contient beaucoup de méthodes de word embedding, ainsi que des outils pour charger des word embeddings venant de sources externes (e.g. de https://wikipedia2vec.github.io/wikipedia2vec/ ou de https://fasttext.cc/docs/en/crawl-vectors.html).\n",
        "\n",
        "On commence par charger à nouveau notre corpus, mais en ne gardant uniquement que la séparation en tokens et en phrases. Le résultat de cette opération est une liste de phrases qui sont des listes de tokens."
      ]
    },
    {
      "cell_type": "code",
      "execution_count": 44,
      "metadata": {
        "colab": {
          "base_uri": "https://localhost:8080/"
        },
        "id": "xdaeJqhA14s6",
        "outputId": "60816710-b437-4a1d-ac25-e2f983c3e621"
      },
      "outputs": [
        {
          "output_type": "execute_result",
          "data": {
            "text/plain": [
              "['les',\n",
              " 'misérables',\n",
              " 'preface',\n",
              " 'long',\n",
              " 'shall',\n",
              " 'exist',\n",
              " 'virtue',\n",
              " 'law',\n",
              " 'custom',\n",
              " 'decree',\n",
              " 'damnation',\n",
              " 'pronounce',\n",
              " 'society',\n",
              " 'artificially',\n",
              " 'create',\n",
              " 'hell',\n",
              " 'amid',\n",
              " 'civilization',\n",
              " 'earth',\n",
              " 'add',\n",
              " 'element',\n",
              " 'human',\n",
              " 'fate',\n",
              " 'divine',\n",
              " 'destiny',\n",
              " 'long',\n",
              " 'great',\n",
              " 'problem',\n",
              " 'century',\n",
              " 'degradation',\n",
              " 'man',\n",
              " 'pauperism',\n",
              " 'corruption',\n",
              " 'woman',\n",
              " 'hunger',\n",
              " 'crippling',\n",
              " 'child',\n",
              " 'lack',\n",
              " 'light',\n",
              " 'unsolved',\n",
              " 'long',\n",
              " 'social',\n",
              " 'asphyxia',\n",
              " 'possible',\n",
              " 'world;—in',\n",
              " 'word',\n",
              " 'wide',\n",
              " 'significance',\n",
              " 'long',\n",
              " 'ignorance',\n",
              " 'poverty',\n",
              " 'exist',\n",
              " 'earth',\n",
              " 'book',\n",
              " 'nature',\n",
              " 'les',\n",
              " 'misérables',\n",
              " 'fail',\n",
              " 'use']"
            ]
          },
          "metadata": {},
          "execution_count": 44
        }
      ],
      "source": [
        "corpus_pp_path = \"/content/drive/MyDrive/Colab Notebooks/ml_data/TP10/by_book_pp\"\n",
        "file_names = os.listdir(corpus_pp_path)\n",
        "\n",
        "sentences = []\n",
        "for file_name in file_names:\n",
        "  with open(f\"{corpus_pp_path}/{file_name}\") as text_file:\n",
        "    text_sentences = text_file.readlines()\n",
        "    text_token_sentences = [text_sentence.split() for\n",
        "                            text_sentence in text_sentences]\n",
        "    sentences.extend(text_token_sentences)\n",
        "\n",
        "sentences[0]"
      ]
    },
    {
      "cell_type": "markdown",
      "metadata": {
        "id": "I0Oq-jeyaN5S"
      },
      "source": [
        "On utilise la classe `gensim.models.Word2Vec` pour créer notre embedding avec les mots de fréquence minimale 100 (`min_count=100`), une fenêtre de +/-5 tokens (`window=5`), une dimension d'embedding de 300 (`vector_size=300`) et avec la méthode skip-gram (`sg=1`). L'objet de retour (ici `wv_model`) contient de nombreuses informations sur le résultat."
      ]
    },
    {
      "cell_type": "code",
      "execution_count": 45,
      "metadata": {
        "id": "yNSI_3DWPSFf"
      },
      "outputs": [],
      "source": [
        "wv_model = Word2Vec(sentences, min_count=100, window=5, vector_size=300, sg=1)"
      ]
    },
    {
      "cell_type": "markdown",
      "metadata": {
        "id": "QFWB9PhJbOci"
      },
      "source": [
        "On peut voir le vocabulaire qui a été transformé en vecteur avec l'attribut `wv.vocab`."
      ]
    },
    {
      "cell_type": "code",
      "execution_count": 46,
      "metadata": {
        "colab": {
          "base_uri": "https://localhost:8080/"
        },
        "id": "hNxq-FF5qEva",
        "outputId": "3596cb9a-c12b-4ef5-de68-d47f7e01269b"
      },
      "outputs": [
        {
          "output_type": "execute_result",
          "data": {
            "text/plain": [
              "441"
            ]
          },
          "metadata": {},
          "execution_count": 46
        }
      ],
      "source": [
        "wv_vocab = wv_model.wv.key_to_index\n",
        "wv_words = list(wv_vocab.keys())\n",
        "len(wv_words)"
      ]
    },
    {
      "cell_type": "markdown",
      "metadata": {
        "id": "-kmxSD8obbs3"
      },
      "source": [
        "Vérifions au préalable si certains mots sont bien dans notre embedding."
      ]
    },
    {
      "cell_type": "code",
      "execution_count": 47,
      "metadata": {
        "colab": {
          "base_uri": "https://localhost:8080/"
        },
        "id": "HyxCnC10qaMN",
        "outputId": "1581475a-96fb-469e-ff85-7c29bd65ff74"
      },
      "outputs": [
        {
          "output_type": "stream",
          "name": "stdout",
          "text": [
            "True\n",
            "True\n",
            "True\n"
          ]
        }
      ],
      "source": [
        "print(\"gavroche\" in wv_words)\n",
        "print(\"cosette\" in  wv_words)\n",
        "print(\"valjean\" in  wv_words)"
      ]
    },
    {
      "cell_type": "markdown",
      "metadata": {
        "id": "CwywMieCbgt7"
      },
      "source": [
        "Le vecteur d'un mot particulier est donné avec la méthode `wv_model.wv.get_vector()`. On affiche les 10 premières coordonnées de \"cosette\"."
      ]
    },
    {
      "cell_type": "code",
      "execution_count": 48,
      "metadata": {
        "colab": {
          "base_uri": "https://localhost:8080/"
        },
        "id": "LxEN2A6ssiq6",
        "outputId": "3ef0157c-9eb4-4d84-d2de-6cc9ef4ebacc"
      },
      "outputs": [
        {
          "output_type": "execute_result",
          "data": {
            "text/plain": [
              "array([ 0.07531892,  0.06391572, -0.0332122 ,  0.08619187, -0.03959232,\n",
              "       -0.08454493, -0.03396633,  0.16485167, -0.03495809,  0.03270762],\n",
              "      dtype=float32)"
            ]
          },
          "metadata": {},
          "execution_count": 48
        }
      ],
      "source": [
        "wv_model.wv.get_vector(\"cosette\")[0:10]"
      ]
    },
    {
      "cell_type": "markdown",
      "metadata": {
        "id": "7AWU3B0WbqqI"
      },
      "source": [
        "On peut obtenir la similarité du cosinus (https://en.wikipedia.org/wiki/Cosine_similarity) entre des couples mots. Avec les word embeddings, on utilise quasiment exclusivement cette similarité pour mesurer la proximité entre les vecteurs."
      ]
    },
    {
      "cell_type": "code",
      "execution_count": 49,
      "metadata": {
        "colab": {
          "base_uri": "https://localhost:8080/"
        },
        "id": "EIvzaG2eqKvF",
        "outputId": "a2b03bb7-65ad-4327-fd84-5e65b3eaaab9"
      },
      "outputs": [
        {
          "output_type": "stream",
          "name": "stdout",
          "text": [
            "0.71481276\n",
            "0.53406787\n",
            "0.6761553\n"
          ]
        }
      ],
      "source": [
        "print(wv_model.wv.similarity(\"valjean\", \"cosette\"))\n",
        "print(wv_model.wv.similarity(\"valjean\", \"gavroche\"))\n",
        "print(wv_model.wv.similarity(\"cosette\", \"gavroche\"))"
      ]
    },
    {
      "cell_type": "markdown",
      "metadata": {
        "id": "5im0uLFfb4vi"
      },
      "source": [
        "Il est également possible d'avoir les mots les plus similaires à un mot donné."
      ]
    },
    {
      "cell_type": "code",
      "execution_count": 50,
      "metadata": {
        "colab": {
          "base_uri": "https://localhost:8080/"
        },
        "id": "gPFrHKH5q6a-",
        "outputId": "23e3d394-caff-4bcd-b068-0b2b77ba1127"
      },
      "outputs": [
        {
          "output_type": "execute_result",
          "data": {
            "text/plain": [
              "[('marius', 0.9025270342826843),\n",
              " ('continue', 0.8911235928535461),\n",
              " ('think', 0.8874585032463074),\n",
              " ('pause', 0.8839411735534668),\n",
              " ('listen', 0.8815453052520752),\n",
              " ('forget', 0.8765292763710022),\n",
              " ('fantine', 0.8612704873085022),\n",
              " ('ask', 0.8580094575881958),\n",
              " ('convict', 0.8492630124092102),\n",
              " ('exclaim', 0.8492511510848999)]"
            ]
          },
          "metadata": {},
          "execution_count": 50
        }
      ],
      "source": [
        "wv_model.wv.most_similar(\"cosette\")"
      ]
    },
    {
      "cell_type": "code",
      "execution_count": 51,
      "metadata": {
        "colab": {
          "base_uri": "https://localhost:8080/"
        },
        "id": "vI0xXs8IrEvY",
        "outputId": "15acced5-ea2d-4b3d-e44d-fe0ad6c76d99"
      },
      "outputs": [
        {
          "output_type": "execute_result",
          "data": {
            "text/plain": [
              "[('convict', 0.794211745262146),\n",
              " ('recognize', 0.7709766626358032),\n",
              " ('pause', 0.72039794921875),\n",
              " ('cosette', 0.714812695980072),\n",
              " ('moment', 0.7135946154594421),\n",
              " ('remain', 0.7030928134918213),\n",
              " ('marius', 0.6967725157737732),\n",
              " ('listen', 0.6863183379173279),\n",
              " ('javert', 0.6840439438819885),\n",
              " ('advance', 0.681486964225769)]"
            ]
          },
          "metadata": {},
          "execution_count": 51
        }
      ],
      "source": [
        "wv_model.wv.most_similar(\"valjean\")"
      ]
    },
    {
      "cell_type": "markdown",
      "metadata": {
        "id": "jdEWDDjsb_78"
      },
      "source": [
        "Des \"calculs\" sont possibles dans la méthode `wv_model.wv.most_similar()`."
      ]
    },
    {
      "cell_type": "code",
      "execution_count": 52,
      "metadata": {
        "colab": {
          "base_uri": "https://localhost:8080/"
        },
        "id": "XaSIeQmdrJui",
        "outputId": "bf3752a7-64a2-4104-a50b-db70bed7881c"
      },
      "outputs": [
        {
          "output_type": "execute_result",
          "data": {
            "text/plain": [
              "[('sister', 0.8535861968994141),\n",
              " ('daughter', 0.8378484845161438),\n",
              " ('address', 0.8187434077262878),\n",
              " ('yes', 0.8170375227928162),\n",
              " ('madame', 0.8136748671531677),\n",
              " ('tell', 0.8127872943878174),\n",
              " ('father', 0.8120169639587402),\n",
              " ('gentleman', 0.809432864189148),\n",
              " ('brother', 0.8046403527259827),\n",
              " ('mademoiselle', 0.8018379807472229)]"
            ]
          },
          "metadata": {},
          "execution_count": 52
        }
      ],
      "source": [
        "wv_model.wv.most_similar(positive=[\"monsieur\", \"cosette\"], negative=[\"valjean\"])"
      ]
    },
    {
      "cell_type": "markdown",
      "metadata": {
        "id": "CFn3Dn2YcObj"
      },
      "source": [
        "On va maintenant afficher les mots les plus fréquents de notre embedding. Commençons par extraire les 100 premiers mots du corpus."
      ]
    },
    {
      "cell_type": "code",
      "execution_count": 53,
      "metadata": {
        "colab": {
          "base_uri": "https://localhost:8080/"
        },
        "id": "agSRNI5ArWsu",
        "outputId": "9a98569f-96fa-404c-a43a-21b07c4ea126"
      },
      "outputs": [
        {
          "output_type": "execute_result",
          "data": {
            "text/plain": [
              "[('man', 2568),\n",
              " ('marius', 1341),\n",
              " ('jean', 1218),\n",
              " ('valjean', 1105),\n",
              " ('come', 1027),\n",
              " ('like', 1008),\n",
              " ('cosette', 1006),\n",
              " ('little', 964),\n",
              " ('know', 964),\n",
              " ('day', 960)]"
            ]
          },
          "metadata": {},
          "execution_count": 53
        }
      ],
      "source": [
        "n_top_words = 100\n",
        "word_freq = [(word, wv_model.wv.get_vecattr(wv_vocab[word], 'count')) for\n",
        "             word in wv_words]\n",
        "word_freq = sorted(word_freq, key=lambda item: item[1], reverse=True)\n",
        "top_words = word_freq[:n_top_words]\n",
        "top_words[:10]"
      ]
    },
    {
      "cell_type": "markdown",
      "metadata": {
        "id": "PFZCLeiqcWfj"
      },
      "source": [
        "On extrait leurs coordonnées avec `wv_model.wv.get_vector()`."
      ]
    },
    {
      "cell_type": "code",
      "execution_count": 54,
      "metadata": {
        "colab": {
          "base_uri": "https://localhost:8080/"
        },
        "id": "GMZ7KL9HvrXl",
        "outputId": "7d99328b-249b-4533-c950-7c4dc540a685"
      },
      "outputs": [
        {
          "output_type": "execute_result",
          "data": {
            "text/plain": [
              "(100, 300)"
            ]
          },
          "metadata": {},
          "execution_count": 54
        }
      ],
      "source": [
        "top_vectors = np.empty((len(top_words), 300), dtype=\"f\")\n",
        "for i, (word, _) in enumerate(top_words):\n",
        "  top_vectors[i] = wv_model.wv.get_vector(word)\n",
        "top_vectors.shape"
      ]
    },
    {
      "cell_type": "markdown",
      "metadata": {
        "id": "7FwQ9gjOceBA"
      },
      "source": [
        "On effectue une projection tSNE de ces vecteurs dans un espace à 2 dimensions."
      ]
    },
    {
      "cell_type": "code",
      "execution_count": 55,
      "metadata": {
        "id": "otqSfz_0r93J"
      },
      "outputs": [],
      "source": [
        "coords_2d = TSNE(n_components=2, perplexity=5,\n",
        "                 init=\"pca\",\n",
        "                 learning_rate=\"auto\").fit_transform(top_vectors)"
      ]
    },
    {
      "cell_type": "markdown",
      "metadata": {
        "id": "6h_n4Z7hcoTs"
      },
      "source": [
        "Et on affiche les vecteurs. La structure entre les différents mots permet d'obtenir de l'information sur l'utilisation ce ces mots dans le corpus."
      ]
    },
    {
      "cell_type": "code",
      "execution_count": 56,
      "metadata": {
        "colab": {
          "base_uri": "https://localhost:8080/",
          "height": 1000
        },
        "id": "W6akSFZGuuWj",
        "outputId": "ca016f34-2055-4203-b45a-8d9290018bf2"
      },
      "outputs": [
        {
          "output_type": "display_data",
          "data": {
            "text/plain": [
              "<Figure size 1600x1600 with 1 Axes>"
            ],
            "image/png": "[encoded data removed]"
          },
          "metadata": {}
        }
      ],
      "source": [
        "plt.rcParams[\"figure.figsize\"] = [16, 16]\n",
        "plt.scatter(coords_2d[:,0], coords_2d[:,1], alpha=0)\n",
        "for word, x, y in zip(top_words, coords_2d[:,0], coords_2d[:,1]):\n",
        "    plt.annotate(word[0], xy=(x, y), xytext=(0, 0), textcoords=\"offset points\",\n",
        "                 size=(word[1]/top_words[0][1])**(0.7)*40,\n",
        "                 color=\"blue\")\n",
        "plt.show()"
      ]
    },
    {
      "cell_type": "markdown",
      "metadata": {
        "id": "BOUFvVwFdH0M"
      },
      "source": [
        "---"
      ]
    }
  ],
  "metadata": {
    "accelerator": "GPU",
    "colab": {
      "provenance": [],
      "mount_file_id": "1Olfn1r9-DNaL2m0LB7-HLGDWsbQl42Pj",
      "authorship_tag": "ABX9TyMLSqurh+tSHmYQUpZH/xeo",
      "include_colab_link": true
    },
    "kernelspec": {
      "display_name": "Python 3",
      "name": "python3"
    },
    "language_info": {
      "name": "python"
    }
  },
  "nbformat": 4,
  "nbformat_minor": 0
}