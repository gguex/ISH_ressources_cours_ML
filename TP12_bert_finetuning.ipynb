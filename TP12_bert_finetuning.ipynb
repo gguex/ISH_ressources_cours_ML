{
  "nbformat": 4,
  "nbformat_minor": 0,
  "metadata": {
    "colab": {
      "provenance": [],
      "gpuClass": "premium",
      "mount_file_id": "1XMjTFnCkZ6koPApkhMmFF958p2Ug6cY-",
      "authorship_tag": "ABX9TyNUDG9o4JDlJtUIM8lvq6Ye",
      "include_colab_link": true
    },
    "kernelspec": {
      "name": "python3",
      "display_name": "Python 3"
    },
    "language_info": {
      "name": "python"
    },
    "accelerator": "GPU",
    "gpuClass": "premium",
    "widgets": {
      "application/vnd.jupyter.widget-state+json": {
        "cf9f393ec60f46119152c18ab4f349e0": {
          "model_module": "@jupyter-widgets/controls",
          "model_name": "HBoxModel",
          "model_module_version": "1.5.0",
          "state": {
            "_dom_classes": [],
            "_model_module": "@jupyter-widgets/controls",
            "_model_module_version": "1.5.0",
            "_model_name": "HBoxModel",
            "_view_count": null,
            "_view_module": "@jupyter-widgets/controls",
            "_view_module_version": "1.5.0",
            "_view_name": "HBoxView",
            "box_style": "",
            "children": [
              "IPY_MODEL_4601db9f1e2d442da7632bf44b84a708",
              "IPY_MODEL_3eca68dc21bd4e7c833438f1f76ee7dd",
              "IPY_MODEL_bf73d3b4b7d14896931d5f74fb136094"
            ],
            "layout": "IPY_MODEL_669587deb0204781a6620f3c9b65968b"
          }
        },
        "4601db9f1e2d442da7632bf44b84a708": {
          "model_module": "@jupyter-widgets/controls",
          "model_name": "HTMLModel",
          "model_module_version": "1.5.0",
          "state": {
            "_dom_classes": [],
            "_model_module": "@jupyter-widgets/controls",
            "_model_module_version": "1.5.0",
            "_model_name": "HTMLModel",
            "_view_count": null,
            "_view_module": "@jupyter-widgets/controls",
            "_view_module_version": "1.5.0",
            "_view_name": "HTMLView",
            "description": "",
            "description_tooltip": null,
            "layout": "IPY_MODEL_da0c74e1bec3448aa7a23be1f0441f43",
            "placeholder": "​",
            "style": "IPY_MODEL_d9efc57e44304879b10e2730e31a1056",
            "value": "vocab.txt: 100%"
          }
        },
        "3eca68dc21bd4e7c833438f1f76ee7dd": {
          "model_module": "@jupyter-widgets/controls",
          "model_name": "FloatProgressModel",
          "model_module_version": "1.5.0",
          "state": {
            "_dom_classes": [],
            "_model_module": "@jupyter-widgets/controls",
            "_model_module_version": "1.5.0",
            "_model_name": "FloatProgressModel",
            "_view_count": null,
            "_view_module": "@jupyter-widgets/controls",
            "_view_module_version": "1.5.0",
            "_view_name": "ProgressView",
            "bar_style": "success",
            "description": "",
            "description_tooltip": null,
            "layout": "IPY_MODEL_3ce35531fcce4833a50ae6b92b1fb4ee",
            "max": 231508,
            "min": 0,
            "orientation": "horizontal",
            "style": "IPY_MODEL_f0ecba1d7e77466da25127bb36c5e848",
            "value": 231508
          }
        },
        "bf73d3b4b7d14896931d5f74fb136094": {
          "model_module": "@jupyter-widgets/controls",
          "model_name": "HTMLModel",
          "model_module_version": "1.5.0",
          "state": {
            "_dom_classes": [],
            "_model_module": "@jupyter-widgets/controls",
            "_model_module_version": "1.5.0",
            "_model_name": "HTMLModel",
            "_view_count": null,
            "_view_module": "@jupyter-widgets/controls",
            "_view_module_version": "1.5.0",
            "_view_name": "HTMLView",
            "description": "",
            "description_tooltip": null,
            "layout": "IPY_MODEL_c5bb5f7d53dd440cbc7dc59db2341ca6",
            "placeholder": "​",
            "style": "IPY_MODEL_9350037293164bf0ab130c1e354acdd3",
            "value": " 232k/232k [00:00&lt;00:00, 3.19MB/s]"
          }
        },
        "669587deb0204781a6620f3c9b65968b": {
          "model_module": "@jupyter-widgets/base",
          "model_name": "LayoutModel",
          "model_module_version": "1.2.0",
          "state": {
            "_model_module": "@jupyter-widgets/base",
            "_model_module_version": "1.2.0",
            "_model_name": "LayoutModel",
            "_view_count": null,
            "_view_module": "@jupyter-widgets/base",
            "_view_module_version": "1.2.0",
            "_view_name": "LayoutView",
            "align_content": null,
            "align_items": null,
            "align_self": null,
            "border": null,
            "bottom": null,
            "display": null,
            "flex": null,
            "flex_flow": null,
            "grid_area": null,
            "grid_auto_columns": null,
            "grid_auto_flow": null,
            "grid_auto_rows": null,
            "grid_column": null,
            "grid_gap": null,
            "grid_row": null,
            "grid_template_areas": null,
            "grid_template_columns": null,
            "grid_template_rows": null,
            "height": null,
            "justify_content": null,
            "justify_items": null,
            "left": null,
            "margin": null,
            "max_height": null,
            "max_width": null,
            "min_height": null,
            "min_width": null,
            "object_fit": null,
            "object_position": null,
            "order": null,
            "overflow": null,
            "overflow_x": null,
            "overflow_y": null,
            "padding": null,
            "right": null,
            "top": null,
            "visibility": null,
            "width": null
          }
        },
        "da0c74e1bec3448aa7a23be1f0441f43": {
          "model_module": "@jupyter-widgets/base",
          "model_name": "LayoutModel",
          "model_module_version": "1.2.0",
          "state": {
            "_model_module": "@jupyter-widgets/base",
            "_model_module_version": "1.2.0",
            "_model_name": "LayoutModel",
            "_view_count": null,
            "_view_module": "@jupyter-widgets/base",
            "_view_module_version": "1.2.0",
            "_view_name": "LayoutView",
            "align_content": null,
            "align_items": null,
            "align_self": null,
            "border": null,
            "bottom": null,
            "display": null,
            "flex": null,
            "flex_flow": null,
            "grid_area": null,
            "grid_auto_columns": null,
            "grid_auto_flow": null,
            "grid_auto_rows": null,
            "grid_column": null,
            "grid_gap": null,
            "grid_row": null,
            "grid_template_areas": null,
            "grid_template_columns": null,
            "grid_template_rows": null,
            "height": null,
            "justify_content": null,
            "justify_items": null,
            "left": null,
            "margin": null,
            "max_height": null,
            "max_width": null,
            "min_height": null,
            "min_width": null,
            "object_fit": null,
            "object_position": null,
            "order": null,
            "overflow": null,
            "overflow_x": null,
            "overflow_y": null,
            "padding": null,
            "right": null,
            "top": null,
            "visibility": null,
            "width": null
          }
        },
        "d9efc57e44304879b10e2730e31a1056": {
          "model_module": "@jupyter-widgets/controls",
          "model_name": "DescriptionStyleModel",
          "model_module_version": "1.5.0",
          "state": {
            "_model_module": "@jupyter-widgets/controls",
            "_model_module_version": "1.5.0",
            "_model_name": "DescriptionStyleModel",
            "_view_count": null,
            "_view_module": "@jupyter-widgets/base",
            "_view_module_version": "1.2.0",
            "_view_name": "StyleView",
            "description_width": ""
          }
        },
        "3ce35531fcce4833a50ae6b92b1fb4ee": {
          "model_module": "@jupyter-widgets/base",
          "model_name": "LayoutModel",
          "model_module_version": "1.2.0",
          "state": {
            "_model_module": "@jupyter-widgets/base",
            "_model_module_version": "1.2.0",
            "_model_name": "LayoutModel",
            "_view_count": null,
            "_view_module": "@jupyter-widgets/base",
            "_view_module_version": "1.2.0",
            "_view_name": "LayoutView",
            "align_content": null,
            "align_items": null,
            "align_self": null,
            "border": null,
            "bottom": null,
            "display": null,
            "flex": null,
            "flex_flow": null,
            "grid_area": null,
            "grid_auto_columns": null,
            "grid_auto_flow": null,
            "grid_auto_rows": null,
            "grid_column": null,
            "grid_gap": null,
            "grid_row": null,
            "grid_template_areas": null,
            "grid_template_columns": null,
            "grid_template_rows": null,
            "height": null,
            "justify_content": null,
            "justify_items": null,
            "left": null,
            "margin": null,
            "max_height": null,
            "max_width": null,
            "min_height": null,
            "min_width": null,
            "object_fit": null,
            "object_position": null,
            "order": null,
            "overflow": null,
            "overflow_x": null,
            "overflow_y": null,
            "padding": null,
            "right": null,
            "top": null,
            "visibility": null,
            "width": null
          }
        },
        "f0ecba1d7e77466da25127bb36c5e848": {
          "model_module": "@jupyter-widgets/controls",
          "model_name": "ProgressStyleModel",
          "model_module_version": "1.5.0",
          "state": {
            "_model_module": "@jupyter-widgets/controls",
            "_model_module_version": "1.5.0",
            "_model_name": "ProgressStyleModel",
            "_view_count": null,
            "_view_module": "@jupyter-widgets/base",
            "_view_module_version": "1.2.0",
            "_view_name": "StyleView",
            "bar_color": null,
            "description_width": ""
          }
        },
        "c5bb5f7d53dd440cbc7dc59db2341ca6": {
          "model_module": "@jupyter-widgets/base",
          "model_name": "LayoutModel",
          "model_module_version": "1.2.0",
          "state": {
            "_model_module": "@jupyter-widgets/base",
            "_model_module_version": "1.2.0",
            "_model_name": "LayoutModel",
            "_view_count": null,
            "_view_module": "@jupyter-widgets/base",
            "_view_module_version": "1.2.0",
            "_view_name": "LayoutView",
            "align_content": null,
            "align_items": null,
            "align_self": null,
            "border": null,
            "bottom": null,
            "display": null,
            "flex": null,
            "flex_flow": null,
            "grid_area": null,
            "grid_auto_columns": null,
            "grid_auto_flow": null,
            "grid_auto_rows": null,
            "grid_column": null,
            "grid_gap": null,
            "grid_row": null,
            "grid_template_areas": null,
            "grid_template_columns": null,
            "grid_template_rows": null,
            "height": null,
            "justify_content": null,
            "justify_items": null,
            "left": null,
            "margin": null,
            "max_height": null,
            "max_width": null,
            "min_height": null,
            "min_width": null,
            "object_fit": null,
            "object_position": null,
            "order": null,
            "overflow": null,
            "overflow_x": null,
            "overflow_y": null,
            "padding": null,
            "right": null,
            "top": null,
            "visibility": null,
            "width": null
          }
        },
        "9350037293164bf0ab130c1e354acdd3": {
          "model_module": "@jupyter-widgets/controls",
          "model_name": "DescriptionStyleModel",
          "model_module_version": "1.5.0",
          "state": {
            "_model_module": "@jupyter-widgets/controls",
            "_model_module_version": "1.5.0",
            "_model_name": "DescriptionStyleModel",
            "_view_count": null,
            "_view_module": "@jupyter-widgets/base",
            "_view_module_version": "1.2.0",
            "_view_name": "StyleView",
            "description_width": ""
          }
        },
        "ce8f5ec0b7b141638fc533145c98aab7": {
          "model_module": "@jupyter-widgets/controls",
          "model_name": "HBoxModel",
          "model_module_version": "1.5.0",
          "state": {
            "_dom_classes": [],
            "_model_module": "@jupyter-widgets/controls",
            "_model_module_version": "1.5.0",
            "_model_name": "HBoxModel",
            "_view_count": null,
            "_view_module": "@jupyter-widgets/controls",
            "_view_module_version": "1.5.0",
            "_view_name": "HBoxView",
            "box_style": "",
            "children": [
              "IPY_MODEL_e9a5719d72dc4cb99a6e45c29656e69a",
              "IPY_MODEL_e852e061e0bb4fc389bcf55014f74486",
              "IPY_MODEL_6fee9ffb86b74fe7aa2b8cefb03dbe00"
            ],
            "layout": "IPY_MODEL_34ec771cc7e94f29bad6f52c62bed289"
          }
        },
        "e9a5719d72dc4cb99a6e45c29656e69a": {
          "model_module": "@jupyter-widgets/controls",
          "model_name": "HTMLModel",
          "model_module_version": "1.5.0",
          "state": {
            "_dom_classes": [],
            "_model_module": "@jupyter-widgets/controls",
            "_model_module_version": "1.5.0",
            "_model_name": "HTMLModel",
            "_view_count": null,
            "_view_module": "@jupyter-widgets/controls",
            "_view_module_version": "1.5.0",
            "_view_name": "HTMLView",
            "description": "",
            "description_tooltip": null,
            "layout": "IPY_MODEL_9d233eb9ecc142478a96ba888293061e",
            "placeholder": "​",
            "style": "IPY_MODEL_20d9e11808c84d36b3654942eb1f915a",
            "value": "config.json: 100%"
          }
        },
        "e852e061e0bb4fc389bcf55014f74486": {
          "model_module": "@jupyter-widgets/controls",
          "model_name": "FloatProgressModel",
          "model_module_version": "1.5.0",
          "state": {
            "_dom_classes": [],
            "_model_module": "@jupyter-widgets/controls",
            "_model_module_version": "1.5.0",
            "_model_name": "FloatProgressModel",
            "_view_count": null,
            "_view_module": "@jupyter-widgets/controls",
            "_view_module_version": "1.5.0",
            "_view_name": "ProgressView",
            "bar_style": "success",
            "description": "",
            "description_tooltip": null,
            "layout": "IPY_MODEL_f4164aec434b47f7a80143f9a0da3fd4",
            "max": 286,
            "min": 0,
            "orientation": "horizontal",
            "style": "IPY_MODEL_fc3a44209fb0444dbed4b4fb20047e1f",
            "value": 286
          }
        },
        "6fee9ffb86b74fe7aa2b8cefb03dbe00": {
          "model_module": "@jupyter-widgets/controls",
          "model_name": "HTMLModel",
          "model_module_version": "1.5.0",
          "state": {
            "_dom_classes": [],
            "_model_module": "@jupyter-widgets/controls",
            "_model_module_version": "1.5.0",
            "_model_name": "HTMLModel",
            "_view_count": null,
            "_view_module": "@jupyter-widgets/controls",
            "_view_module_version": "1.5.0",
            "_view_name": "HTMLView",
            "description": "",
            "description_tooltip": null,
            "layout": "IPY_MODEL_5aaf19835bfd4184a3b4f578d1aa2444",
            "placeholder": "​",
            "style": "IPY_MODEL_e62ef0465a7048f68b88e8d98818dd4d",
            "value": " 286/286 [00:00&lt;00:00, 4.24kB/s]"
          }
        },
        "34ec771cc7e94f29bad6f52c62bed289": {
          "model_module": "@jupyter-widgets/base",
          "model_name": "LayoutModel",
          "model_module_version": "1.2.0",
          "state": {
            "_model_module": "@jupyter-widgets/base",
            "_model_module_version": "1.2.0",
            "_model_name": "LayoutModel",
            "_view_count": null,
            "_view_module": "@jupyter-widgets/base",
            "_view_module_version": "1.2.0",
            "_view_name": "LayoutView",
            "align_content": null,
            "align_items": null,
            "align_self": null,
            "border": null,
            "bottom": null,
            "display": null,
            "flex": null,
            "flex_flow": null,
            "grid_area": null,
            "grid_auto_columns": null,
            "grid_auto_flow": null,
            "grid_auto_rows": null,
            "grid_column": null,
            "grid_gap": null,
            "grid_row": null,
            "grid_template_areas": null,
            "grid_template_columns": null,
            "grid_template_rows": null,
            "height": null,
            "justify_content": null,
            "justify_items": null,
            "left": null,
            "margin": null,
            "max_height": null,
            "max_width": null,
            "min_height": null,
            "min_width": null,
            "object_fit": null,
            "object_position": null,
            "order": null,
            "overflow": null,
            "overflow_x": null,
            "overflow_y": null,
            "padding": null,
            "right": null,
            "top": null,
            "visibility": null,
            "width": null
          }
        },
        "9d233eb9ecc142478a96ba888293061e": {
          "model_module": "@jupyter-widgets/base",
          "model_name": "LayoutModel",
          "model_module_version": "1.2.0",
          "state": {
            "_model_module": "@jupyter-widgets/base",
            "_model_module_version": "1.2.0",
            "_model_name": "LayoutModel",
            "_view_count": null,
            "_view_module": "@jupyter-widgets/base",
            "_view_module_version": "1.2.0",
            "_view_name": "LayoutView",
            "align_content": null,
            "align_items": null,
            "align_self": null,
            "border": null,
            "bottom": null,
            "display": null,
            "flex": null,
            "flex_flow": null,
            "grid_area": null,
            "grid_auto_columns": null,
            "grid_auto_flow": null,
            "grid_auto_rows": null,
            "grid_column": null,
            "grid_gap": null,
            "grid_row": null,
            "grid_template_areas": null,
            "grid_template_columns": null,
            "grid_template_rows": null,
            "height": null,
            "justify_content": null,
            "justify_items": null,
            "left": null,
            "margin": null,
            "max_height": null,
            "max_width": null,
            "min_height": null,
            "min_width": null,
            "object_fit": null,
            "object_position": null,
            "order": null,
            "overflow": null,
            "overflow_x": null,
            "overflow_y": null,
            "padding": null,
            "right": null,
            "top": null,
            "visibility": null,
            "width": null
          }
        },
        "20d9e11808c84d36b3654942eb1f915a": {
          "model_module": "@jupyter-widgets/controls",
          "model_name": "DescriptionStyleModel",
          "model_module_version": "1.5.0",
          "state": {
            "_model_module": "@jupyter-widgets/controls",
            "_model_module_version": "1.5.0",
            "_model_name": "DescriptionStyleModel",
            "_view_count": null,
            "_view_module": "@jupyter-widgets/base",
            "_view_module_version": "1.2.0",
            "_view_name": "StyleView",
            "description_width": ""
          }
        },
        "f4164aec434b47f7a80143f9a0da3fd4": {
          "model_module": "@jupyter-widgets/base",
          "model_name": "LayoutModel",
          "model_module_version": "1.2.0",
          "state": {
            "_model_module": "@jupyter-widgets/base",
            "_model_module_version": "1.2.0",
            "_model_name": "LayoutModel",
            "_view_count": null,
            "_view_module": "@jupyter-widgets/base",
            "_view_module_version": "1.2.0",
            "_view_name": "LayoutView",
            "align_content": null,
            "align_items": null,
            "align_self": null,
            "border": null,
            "bottom": null,
            "display": null,
            "flex": null,
            "flex_flow": null,
            "grid_area": null,
            "grid_auto_columns": null,
            "grid_auto_flow": null,
            "grid_auto_rows": null,
            "grid_column": null,
            "grid_gap": null,
            "grid_row": null,
            "grid_template_areas": null,
            "grid_template_columns": null,
            "grid_template_rows": null,
            "height": null,
            "justify_content": null,
            "justify_items": null,
            "left": null,
            "margin": null,
            "max_height": null,
            "max_width": null,
            "min_height": null,
            "min_width": null,
            "object_fit": null,
            "object_position": null,
            "order": null,
            "overflow": null,
            "overflow_x": null,
            "overflow_y": null,
            "padding": null,
            "right": null,
            "top": null,
            "visibility": null,
            "width": null
          }
        },
        "fc3a44209fb0444dbed4b4fb20047e1f": {
          "model_module": "@jupyter-widgets/controls",
          "model_name": "ProgressStyleModel",
          "model_module_version": "1.5.0",
          "state": {
            "_model_module": "@jupyter-widgets/controls",
            "_model_module_version": "1.5.0",
            "_model_name": "ProgressStyleModel",
            "_view_count": null,
            "_view_module": "@jupyter-widgets/base",
            "_view_module_version": "1.2.0",
            "_view_name": "StyleView",
            "bar_color": null,
            "description_width": ""
          }
        },
        "5aaf19835bfd4184a3b4f578d1aa2444": {
          "model_module": "@jupyter-widgets/base",
          "model_name": "LayoutModel",
          "model_module_version": "1.2.0",
          "state": {
            "_model_module": "@jupyter-widgets/base",
            "_model_module_version": "1.2.0",
            "_model_name": "LayoutModel",
            "_view_count": null,
            "_view_module": "@jupyter-widgets/base",
            "_view_module_version": "1.2.0",
            "_view_name": "LayoutView",
            "align_content": null,
            "align_items": null,
            "align_self": null,
            "border": null,
            "bottom": null,
            "display": null,
            "flex": null,
            "flex_flow": null,
            "grid_area": null,
            "grid_auto_columns": null,
            "grid_auto_flow": null,
            "grid_auto_rows": null,
            "grid_column": null,
            "grid_gap": null,
            "grid_row": null,
            "grid_template_areas": null,
            "grid_template_columns": null,
            "grid_template_rows": null,
            "height": null,
            "justify_content": null,
            "justify_items": null,
            "left": null,
            "margin": null,
            "max_height": null,
            "max_width": null,
            "min_height": null,
            "min_width": null,
            "object_fit": null,
            "object_position": null,
            "order": null,
            "overflow": null,
            "overflow_x": null,
            "overflow_y": null,
            "padding": null,
            "right": null,
            "top": null,
            "visibility": null,
            "width": null
          }
        },
        "e62ef0465a7048f68b88e8d98818dd4d": {
          "model_module": "@jupyter-widgets/controls",
          "model_name": "DescriptionStyleModel",
          "model_module_version": "1.5.0",
          "state": {
            "_model_module": "@jupyter-widgets/controls",
            "_model_module_version": "1.5.0",
            "_model_name": "DescriptionStyleModel",
            "_view_count": null,
            "_view_module": "@jupyter-widgets/base",
            "_view_module_version": "1.2.0",
            "_view_name": "StyleView",
            "description_width": ""
          }
        },
        "7a7f2830098f4e3ab744d2c718d45e3c": {
          "model_module": "@jupyter-widgets/controls",
          "model_name": "HBoxModel",
          "model_module_version": "1.5.0",
          "state": {
            "_dom_classes": [],
            "_model_module": "@jupyter-widgets/controls",
            "_model_module_version": "1.5.0",
            "_model_name": "HBoxModel",
            "_view_count": null,
            "_view_module": "@jupyter-widgets/controls",
            "_view_module_version": "1.5.0",
            "_view_name": "HBoxView",
            "box_style": "",
            "children": [
              "IPY_MODEL_e879e75c4961420a95ffd88a5089bb3d",
              "IPY_MODEL_e7e9847a48b646929c136b52ea5fd33c",
              "IPY_MODEL_30eacc43938e4058bd31daee147e95f1"
            ],
            "layout": "IPY_MODEL_b0514318b8fb43a090df663c5332364a"
          }
        },
        "e879e75c4961420a95ffd88a5089bb3d": {
          "model_module": "@jupyter-widgets/controls",
          "model_name": "HTMLModel",
          "model_module_version": "1.5.0",
          "state": {
            "_dom_classes": [],
            "_model_module": "@jupyter-widgets/controls",
            "_model_module_version": "1.5.0",
            "_model_name": "HTMLModel",
            "_view_count": null,
            "_view_module": "@jupyter-widgets/controls",
            "_view_module_version": "1.5.0",
            "_view_name": "HTMLView",
            "description": "",
            "description_tooltip": null,
            "layout": "IPY_MODEL_963edab56e7d4422b01ee3e0aae23515",
            "placeholder": "​",
            "style": "IPY_MODEL_7069666a59314b719a5e883f2400e9c6",
            "value": "pytorch_model.bin: 100%"
          }
        },
        "e7e9847a48b646929c136b52ea5fd33c": {
          "model_module": "@jupyter-widgets/controls",
          "model_name": "FloatProgressModel",
          "model_module_version": "1.5.0",
          "state": {
            "_dom_classes": [],
            "_model_module": "@jupyter-widgets/controls",
            "_model_module_version": "1.5.0",
            "_model_name": "FloatProgressModel",
            "_view_count": null,
            "_view_module": "@jupyter-widgets/controls",
            "_view_module_version": "1.5.0",
            "_view_name": "ProgressView",
            "bar_style": "success",
            "description": "",
            "description_tooltip": null,
            "layout": "IPY_MODEL_c264a61b383145ad85db88766b938018",
            "max": 45106985,
            "min": 0,
            "orientation": "horizontal",
            "style": "IPY_MODEL_9726eee02e544232b0ddc97cad11dfe2",
            "value": 45106985
          }
        },
        "30eacc43938e4058bd31daee147e95f1": {
          "model_module": "@jupyter-widgets/controls",
          "model_name": "HTMLModel",
          "model_module_version": "1.5.0",
          "state": {
            "_dom_classes": [],
            "_model_module": "@jupyter-widgets/controls",
            "_model_module_version": "1.5.0",
            "_model_name": "HTMLModel",
            "_view_count": null,
            "_view_module": "@jupyter-widgets/controls",
            "_view_module_version": "1.5.0",
            "_view_name": "HTMLView",
            "description": "",
            "description_tooltip": null,
            "layout": "IPY_MODEL_c98edd214d954e1eb7455b8a092970c6",
            "placeholder": "​",
            "style": "IPY_MODEL_3c685f76f2334baa87cc980b8780fb1a",
            "value": " 45.1M/45.1M [00:00&lt;00:00, 96.9MB/s]"
          }
        },
        "b0514318b8fb43a090df663c5332364a": {
          "model_module": "@jupyter-widgets/base",
          "model_name": "LayoutModel",
          "model_module_version": "1.2.0",
          "state": {
            "_model_module": "@jupyter-widgets/base",
            "_model_module_version": "1.2.0",
            "_model_name": "LayoutModel",
            "_view_count": null,
            "_view_module": "@jupyter-widgets/base",
            "_view_module_version": "1.2.0",
            "_view_name": "LayoutView",
            "align_content": null,
            "align_items": null,
            "align_self": null,
            "border": null,
            "bottom": null,
            "display": null,
            "flex": null,
            "flex_flow": null,
            "grid_area": null,
            "grid_auto_columns": null,
            "grid_auto_flow": null,
            "grid_auto_rows": null,
            "grid_column": null,
            "grid_gap": null,
            "grid_row": null,
            "grid_template_areas": null,
            "grid_template_columns": null,
            "grid_template_rows": null,
            "height": null,
            "justify_content": null,
            "justify_items": null,
            "left": null,
            "margin": null,
            "max_height": null,
            "max_width": null,
            "min_height": null,
            "min_width": null,
            "object_fit": null,
            "object_position": null,
            "order": null,
            "overflow": null,
            "overflow_x": null,
            "overflow_y": null,
            "padding": null,
            "right": null,
            "top": null,
            "visibility": null,
            "width": null
          }
        },
        "963edab56e7d4422b01ee3e0aae23515": {
          "model_module": "@jupyter-widgets/base",
          "model_name": "LayoutModel",
          "model_module_version": "1.2.0",
          "state": {
            "_model_module": "@jupyter-widgets/base",
            "_model_module_version": "1.2.0",
            "_model_name": "LayoutModel",
            "_view_count": null,
            "_view_module": "@jupyter-widgets/base",
            "_view_module_version": "1.2.0",
            "_view_name": "LayoutView",
            "align_content": null,
            "align_items": null,
            "align_self": null,
            "border": null,
            "bottom": null,
            "display": null,
            "flex": null,
            "flex_flow": null,
            "grid_area": null,
            "grid_auto_columns": null,
            "grid_auto_flow": null,
            "grid_auto_rows": null,
            "grid_column": null,
            "grid_gap": null,
            "grid_row": null,
            "grid_template_areas": null,
            "grid_template_columns": null,
            "grid_template_rows": null,
            "height": null,
            "justify_content": null,
            "justify_items": null,
            "left": null,
            "margin": null,
            "max_height": null,
            "max_width": null,
            "min_height": null,
            "min_width": null,
            "object_fit": null,
            "object_position": null,
            "order": null,
            "overflow": null,
            "overflow_x": null,
            "overflow_y": null,
            "padding": null,
            "right": null,
            "top": null,
            "visibility": null,
            "width": null
          }
        },
        "7069666a59314b719a5e883f2400e9c6": {
          "model_module": "@jupyter-widgets/controls",
          "model_name": "DescriptionStyleModel",
          "model_module_version": "1.5.0",
          "state": {
            "_model_module": "@jupyter-widgets/controls",
            "_model_module_version": "1.5.0",
            "_model_name": "DescriptionStyleModel",
            "_view_count": null,
            "_view_module": "@jupyter-widgets/base",
            "_view_module_version": "1.2.0",
            "_view_name": "StyleView",
            "description_width": ""
          }
        },
        "c264a61b383145ad85db88766b938018": {
          "model_module": "@jupyter-widgets/base",
          "model_name": "LayoutModel",
          "model_module_version": "1.2.0",
          "state": {
            "_model_module": "@jupyter-widgets/base",
            "_model_module_version": "1.2.0",
            "_model_name": "LayoutModel",
            "_view_count": null,
            "_view_module": "@jupyter-widgets/base",
            "_view_module_version": "1.2.0",
            "_view_name": "LayoutView",
            "align_content": null,
            "align_items": null,
            "align_self": null,
            "border": null,
            "bottom": null,
            "display": null,
            "flex": null,
            "flex_flow": null,
            "grid_area": null,
            "grid_auto_columns": null,
            "grid_auto_flow": null,
            "grid_auto_rows": null,
            "grid_column": null,
            "grid_gap": null,
            "grid_row": null,
            "grid_template_areas": null,
            "grid_template_columns": null,
            "grid_template_rows": null,
            "height": null,
            "justify_content": null,
            "justify_items": null,
            "left": null,
            "margin": null,
            "max_height": null,
            "max_width": null,
            "min_height": null,
            "min_width": null,
            "object_fit": null,
            "object_position": null,
            "order": null,
            "overflow": null,
            "overflow_x": null,
            "overflow_y": null,
            "padding": null,
            "right": null,
            "top": null,
            "visibility": null,
            "width": null
          }
        },
        "9726eee02e544232b0ddc97cad11dfe2": {
          "model_module": "@jupyter-widgets/controls",
          "model_name": "ProgressStyleModel",
          "model_module_version": "1.5.0",
          "state": {
            "_model_module": "@jupyter-widgets/controls",
            "_model_module_version": "1.5.0",
            "_model_name": "ProgressStyleModel",
            "_view_count": null,
            "_view_module": "@jupyter-widgets/base",
            "_view_module_version": "1.2.0",
            "_view_name": "StyleView",
            "bar_color": null,
            "description_width": ""
          }
        },
        "c98edd214d954e1eb7455b8a092970c6": {
          "model_module": "@jupyter-widgets/base",
          "model_name": "LayoutModel",
          "model_module_version": "1.2.0",
          "state": {
            "_model_module": "@jupyter-widgets/base",
            "_model_module_version": "1.2.0",
            "_model_name": "LayoutModel",
            "_view_count": null,
            "_view_module": "@jupyter-widgets/base",
            "_view_module_version": "1.2.0",
            "_view_name": "LayoutView",
            "align_content": null,
            "align_items": null,
            "align_self": null,
            "border": null,
            "bottom": null,
            "display": null,
            "flex": null,
            "flex_flow": null,
            "grid_area": null,
            "grid_auto_columns": null,
            "grid_auto_flow": null,
            "grid_auto_rows": null,
            "grid_column": null,
            "grid_gap": null,
            "grid_row": null,
            "grid_template_areas": null,
            "grid_template_columns": null,
            "grid_template_rows": null,
            "height": null,
            "justify_content": null,
            "justify_items": null,
            "left": null,
            "margin": null,
            "max_height": null,
            "max_width": null,
            "min_height": null,
            "min_width": null,
            "object_fit": null,
            "object_position": null,
            "order": null,
            "overflow": null,
            "overflow_x": null,
            "overflow_y": null,
            "padding": null,
            "right": null,
            "top": null,
            "visibility": null,
            "width": null
          }
        },
        "3c685f76f2334baa87cc980b8780fb1a": {
          "model_module": "@jupyter-widgets/controls",
          "model_name": "DescriptionStyleModel",
          "model_module_version": "1.5.0",
          "state": {
            "_model_module": "@jupyter-widgets/controls",
            "_model_module_version": "1.5.0",
            "_model_name": "DescriptionStyleModel",
            "_view_count": null,
            "_view_module": "@jupyter-widgets/base",
            "_view_module_version": "1.2.0",
            "_view_name": "StyleView",
            "description_width": ""
          }
        },
        "73f0524be3a74d1eb11cbab7f1f8c691": {
          "model_module": "@jupyter-widgets/controls",
          "model_name": "HBoxModel",
          "model_module_version": "1.5.0",
          "state": {
            "_dom_classes": [],
            "_model_module": "@jupyter-widgets/controls",
            "_model_module_version": "1.5.0",
            "_model_name": "HBoxModel",
            "_view_count": null,
            "_view_module": "@jupyter-widgets/controls",
            "_view_module_version": "1.5.0",
            "_view_name": "HBoxView",
            "box_style": "",
            "children": [
              "IPY_MODEL_3e01fdbc7d5d47889b173d265cb88cc4",
              "IPY_MODEL_a216bb268ea7406f9d626a35c8fad67d",
              "IPY_MODEL_59e94470189d443ea9e259bd0e580120"
            ],
            "layout": "IPY_MODEL_83ab91cf786c46de8326e430c19bda40"
          }
        },
        "3e01fdbc7d5d47889b173d265cb88cc4": {
          "model_module": "@jupyter-widgets/controls",
          "model_name": "HTMLModel",
          "model_module_version": "1.5.0",
          "state": {
            "_dom_classes": [],
            "_model_module": "@jupyter-widgets/controls",
            "_model_module_version": "1.5.0",
            "_model_name": "HTMLModel",
            "_view_count": null,
            "_view_module": "@jupyter-widgets/controls",
            "_view_module_version": "1.5.0",
            "_view_name": "HTMLView",
            "description": "",
            "description_tooltip": null,
            "layout": "IPY_MODEL_28fa08d387b940a092b04b7f492a1cee",
            "placeholder": "​",
            "style": "IPY_MODEL_ca57ebfed44e450c92ac30c5e6cc8432",
            "value": "model.safetensors: 100%"
          }
        },
        "a216bb268ea7406f9d626a35c8fad67d": {
          "model_module": "@jupyter-widgets/controls",
          "model_name": "FloatProgressModel",
          "model_module_version": "1.5.0",
          "state": {
            "_dom_classes": [],
            "_model_module": "@jupyter-widgets/controls",
            "_model_module_version": "1.5.0",
            "_model_name": "FloatProgressModel",
            "_view_count": null,
            "_view_module": "@jupyter-widgets/controls",
            "_view_module_version": "1.5.0",
            "_view_name": "ProgressView",
            "bar_style": "success",
            "description": "",
            "description_tooltip": null,
            "layout": "IPY_MODEL_96d12c00f67744dda474bcc248621d49",
            "max": 45084768,
            "min": 0,
            "orientation": "horizontal",
            "style": "IPY_MODEL_8029fd489038487c87adddc2fad45943",
            "value": 45084768
          }
        },
        "59e94470189d443ea9e259bd0e580120": {
          "model_module": "@jupyter-widgets/controls",
          "model_name": "HTMLModel",
          "model_module_version": "1.5.0",
          "state": {
            "_dom_classes": [],
            "_model_module": "@jupyter-widgets/controls",
            "_model_module_version": "1.5.0",
            "_model_name": "HTMLModel",
            "_view_count": null,
            "_view_module": "@jupyter-widgets/controls",
            "_view_module_version": "1.5.0",
            "_view_name": "HTMLView",
            "description": "",
            "description_tooltip": null,
            "layout": "IPY_MODEL_5a2f35fba9f6440e90a19681ae95af32",
            "placeholder": "​",
            "style": "IPY_MODEL_6da5493bf2184e21994c81d9623f7409",
            "value": " 45.1M/45.1M [00:01&lt;00:00, 49.5MB/s]"
          }
        },
        "83ab91cf786c46de8326e430c19bda40": {
          "model_module": "@jupyter-widgets/base",
          "model_name": "LayoutModel",
          "model_module_version": "1.2.0",
          "state": {
            "_model_module": "@jupyter-widgets/base",
            "_model_module_version": "1.2.0",
            "_model_name": "LayoutModel",
            "_view_count": null,
            "_view_module": "@jupyter-widgets/base",
            "_view_module_version": "1.2.0",
            "_view_name": "LayoutView",
            "align_content": null,
            "align_items": null,
            "align_self": null,
            "border": null,
            "bottom": null,
            "display": null,
            "flex": null,
            "flex_flow": null,
            "grid_area": null,
            "grid_auto_columns": null,
            "grid_auto_flow": null,
            "grid_auto_rows": null,
            "grid_column": null,
            "grid_gap": null,
            "grid_row": null,
            "grid_template_areas": null,
            "grid_template_columns": null,
            "grid_template_rows": null,
            "height": null,
            "justify_content": null,
            "justify_items": null,
            "left": null,
            "margin": null,
            "max_height": null,
            "max_width": null,
            "min_height": null,
            "min_width": null,
            "object_fit": null,
            "object_position": null,
            "order": null,
            "overflow": null,
            "overflow_x": null,
            "overflow_y": null,
            "padding": null,
            "right": null,
            "top": null,
            "visibility": null,
            "width": null
          }
        },
        "28fa08d387b940a092b04b7f492a1cee": {
          "model_module": "@jupyter-widgets/base",
          "model_name": "LayoutModel",
          "model_module_version": "1.2.0",
          "state": {
            "_model_module": "@jupyter-widgets/base",
            "_model_module_version": "1.2.0",
            "_model_name": "LayoutModel",
            "_view_count": null,
            "_view_module": "@jupyter-widgets/base",
            "_view_module_version": "1.2.0",
            "_view_name": "LayoutView",
            "align_content": null,
            "align_items": null,
            "align_self": null,
            "border": null,
            "bottom": null,
            "display": null,
            "flex": null,
            "flex_flow": null,
            "grid_area": null,
            "grid_auto_columns": null,
            "grid_auto_flow": null,
            "grid_auto_rows": null,
            "grid_column": null,
            "grid_gap": null,
            "grid_row": null,
            "grid_template_areas": null,
            "grid_template_columns": null,
            "grid_template_rows": null,
            "height": null,
            "justify_content": null,
            "justify_items": null,
            "left": null,
            "margin": null,
            "max_height": null,
            "max_width": null,
            "min_height": null,
            "min_width": null,
            "object_fit": null,
            "object_position": null,
            "order": null,
            "overflow": null,
            "overflow_x": null,
            "overflow_y": null,
            "padding": null,
            "right": null,
            "top": null,
            "visibility": null,
            "width": null
          }
        },
        "ca57ebfed44e450c92ac30c5e6cc8432": {
          "model_module": "@jupyter-widgets/controls",
          "model_name": "DescriptionStyleModel",
          "model_module_version": "1.5.0",
          "state": {
            "_model_module": "@jupyter-widgets/controls",
            "_model_module_version": "1.5.0",
            "_model_name": "DescriptionStyleModel",
            "_view_count": null,
            "_view_module": "@jupyter-widgets/base",
            "_view_module_version": "1.2.0",
            "_view_name": "StyleView",
            "description_width": ""
          }
        },
        "96d12c00f67744dda474bcc248621d49": {
          "model_module": "@jupyter-widgets/base",
          "model_name": "LayoutModel",
          "model_module_version": "1.2.0",
          "state": {
            "_model_module": "@jupyter-widgets/base",
            "_model_module_version": "1.2.0",
            "_model_name": "LayoutModel",
            "_view_count": null,
            "_view_module": "@jupyter-widgets/base",
            "_view_module_version": "1.2.0",
            "_view_name": "LayoutView",
            "align_content": null,
            "align_items": null,
            "align_self": null,
            "border": null,
            "bottom": null,
            "display": null,
            "flex": null,
            "flex_flow": null,
            "grid_area": null,
            "grid_auto_columns": null,
            "grid_auto_flow": null,
            "grid_auto_rows": null,
            "grid_column": null,
            "grid_gap": null,
            "grid_row": null,
            "grid_template_areas": null,
            "grid_template_columns": null,
            "grid_template_rows": null,
            "height": null,
            "justify_content": null,
            "justify_items": null,
            "left": null,
            "margin": null,
            "max_height": null,
            "max_width": null,
            "min_height": null,
            "min_width": null,
            "object_fit": null,
            "object_position": null,
            "order": null,
            "overflow": null,
            "overflow_x": null,
            "overflow_y": null,
            "padding": null,
            "right": null,
            "top": null,
            "visibility": null,
            "width": null
          }
        },
        "8029fd489038487c87adddc2fad45943": {
          "model_module": "@jupyter-widgets/controls",
          "model_name": "ProgressStyleModel",
          "model_module_version": "1.5.0",
          "state": {
            "_model_module": "@jupyter-widgets/controls",
            "_model_module_version": "1.5.0",
            "_model_name": "ProgressStyleModel",
            "_view_count": null,
            "_view_module": "@jupyter-widgets/base",
            "_view_module_version": "1.2.0",
            "_view_name": "StyleView",
            "bar_color": null,
            "description_width": ""
          }
        },
        "5a2f35fba9f6440e90a19681ae95af32": {
          "model_module": "@jupyter-widgets/base",
          "model_name": "LayoutModel",
          "model_module_version": "1.2.0",
          "state": {
            "_model_module": "@jupyter-widgets/base",
            "_model_module_version": "1.2.0",
            "_model_name": "LayoutModel",
            "_view_count": null,
            "_view_module": "@jupyter-widgets/base",
            "_view_module_version": "1.2.0",
            "_view_name": "LayoutView",
            "align_content": null,
            "align_items": null,
            "align_self": null,
            "border": null,
            "bottom": null,
            "display": null,
            "flex": null,
            "flex_flow": null,
            "grid_area": null,
            "grid_auto_columns": null,
            "grid_auto_flow": null,
            "grid_auto_rows": null,
            "grid_column": null,
            "grid_gap": null,
            "grid_row": null,
            "grid_template_areas": null,
            "grid_template_columns": null,
            "grid_template_rows": null,
            "height": null,
            "justify_content": null,
            "justify_items": null,
            "left": null,
            "margin": null,
            "max_height": null,
            "max_width": null,
            "min_height": null,
            "min_width": null,
            "object_fit": null,
            "object_position": null,
            "order": null,
            "overflow": null,
            "overflow_x": null,
            "overflow_y": null,
            "padding": null,
            "right": null,
            "top": null,
            "visibility": null,
            "width": null
          }
        },
        "6da5493bf2184e21994c81d9623f7409": {
          "model_module": "@jupyter-widgets/controls",
          "model_name": "DescriptionStyleModel",
          "model_module_version": "1.5.0",
          "state": {
            "_model_module": "@jupyter-widgets/controls",
            "_model_module_version": "1.5.0",
            "_model_name": "DescriptionStyleModel",
            "_view_count": null,
            "_view_module": "@jupyter-widgets/base",
            "_view_module_version": "1.2.0",
            "_view_name": "StyleView",
            "description_width": ""
          }
        }
      }
    }
  },
  "cells": [
    {
      "cell_type": "markdown",
      "metadata": {
        "id": "view-in-github",
        "colab_type": "text"
      },
      "source": [
        "<a href=\"https://colab.research.google.com/github/gguex/ISH_ressources_cours_ML/blob/main/TP12_bert_finetuning.ipynb\" target=\"_parent\"><img src=\"https://colab.research.google.com/assets/colab-badge.svg\" alt=\"Open In Colab\"/></a>"
      ]
    },
    {
      "cell_type": "markdown",
      "source": [
        "# TP 12 : BERT fine-tuning\n",
        "\n",
        "Dans ce TP, nous allons construire un modèle d'analyse des sentiments avec comme base un modèle BERT pré-entrainé. Nous allons ajouter une couche entièrement connectée à la sortie (du premier token) d'un modèle BERT, projetant le vecteur de contexte de BERT sur un seul neurone sensé représenter le log-odd de la séquence d'appartenir à la classe \"sentiment positif\".\n",
        "\n",
        "Pour entrainer notre modèle, nous allons utiliser le jeu de données \"Large Movie Review Dataset\" (https://www.kaggle.com/datasets/lakshmi25npathi/imdb-dataset-of-50k-movie-reviews), qui contient 50'000 évaluations de films faites par des utilisateurs sur IMDB. Ces reviews ont une annotation comme étant positives ou négatives.\n",
        "\n",
        "Notre module d'analyse des sentiments va ensuite servir (même si l'entrainement sur des évaluations de films est discutable pour cette utilisation) à évaluer le sentiment positif/négatif qui se dégage à l'intérieur de chaque livre des Misérables.\n",
        "\n",
        "Le modèle BERT pré-entrainé sera issu de https://huggingface.co/, où l'on peut trouver une grande quantité de modèles pré-entrainés. Ces modèles se téléchargent et s'utilisent généralement en utilisant la librairie `transformers`."
      ],
      "metadata": {
        "id": "4A_v85Z6qNlu"
      }
    },
    {
      "cell_type": "markdown",
      "source": [
        "On va utiliser les librairies suivantes :"
      ],
      "metadata": {
        "id": "I50_Kxy4180T"
      }
    },
    {
      "cell_type": "code",
      "source": [
        "import numpy as np\n",
        "import pandas as pd\n",
        "import matplotlib.pyplot as plt\n",
        "from matplotlib.gridspec import GridSpec\n",
        "import os\n",
        "import torch\n",
        "import torch.nn as nn\n",
        "from torch.utils.data import Dataset, DataLoader, random_split\n",
        "import transformers\n",
        "from transformers import BertModel, BertTokenizer, \\\n",
        "  get_linear_schedule_with_warmup\n",
        "from tqdm import tqdm"
      ],
      "metadata": {
        "id": "GvOo6CBV-QCQ"
      },
      "execution_count": 2,
      "outputs": []
    },
    {
      "cell_type": "markdown",
      "source": [
        "Et nous allons utiliser l'accélération graphique, si elle est disponible :"
      ],
      "metadata": {
        "id": "wtACoIOOAF3i"
      }
    },
    {
      "cell_type": "code",
      "source": [
        "device = torch.device(\"cuda:0\" if torch.cuda.is_available() else \"cpu\")\n",
        "print(device)"
      ],
      "metadata": {
        "colab": {
          "base_uri": "https://localhost:8080/"
        },
        "id": "yfZFEO-387ud",
        "outputId": "99f53065-8869-4cd6-b99f-fb2463ee3bea"
      },
      "execution_count": 3,
      "outputs": [
        {
          "output_type": "stream",
          "name": "stdout",
          "text": [
            "cuda:0\n"
          ]
        }
      ]
    },
    {
      "cell_type": "markdown",
      "source": [
        "## 1. Construction et finetuning du modèle\n",
        "\n",
        "Avant de construire notre modèle, regardons nos données. On les charge et les affiche. La colonne \"review\" contient la critique, et la colonne \"sentiment\" l'appréciation, qui peut être \"positive\" ou \"negative\". Il s'agira de traduire ces deux colonnes dans des données utilisables par notre modèle. Nous y reviendrons après avoir examiné le modèle que nous allons utiliser."
      ],
      "metadata": {
        "id": "3-g0wc3OAMiR"
      }
    },
    {
      "cell_type": "code",
      "source": [
        "data_path = \"/content/drive/MyDrive/Colab Notebooks/\" \\\n",
        "              \"ml_data/TP12/IMDB Dataset.csv\"\n",
        "data = pd.read_csv(data_path)\n",
        "data"
      ],
      "metadata": {
        "colab": {
          "base_uri": "https://localhost:8080/",
          "height": 424
        },
        "id": "QDguNX-iGFD3",
        "outputId": "9803c531-fa09-4300-f9bf-684b72be2afc"
      },
      "execution_count": 4,
      "outputs": [
        {
          "output_type": "execute_result",
          "data": {
            "text/plain": [
              "                                                  review sentiment\n",
              "0      One of the other reviewers has mentioned that ...  positive\n",
              "1      A wonderful little production. <br /><br />The...  positive\n",
              "2      I thought this was a wonderful way to spend ti...  positive\n",
              "3      Basically there's a family where a little boy ...  negative\n",
              "4      Petter Mattei's \"Love in the Time of Money\" is...  positive\n",
              "...                                                  ...       ...\n",
              "49995  I thought this movie did a down right good job...  positive\n",
              "49996  Bad plot, bad dialogue, bad acting, idiotic di...  negative\n",
              "49997  I am a Catholic taught in parochial elementary...  negative\n",
              "49998  I'm going to have to disagree with the previou...  negative\n",
              "49999  No one expects the Star Trek movies to be high...  negative\n",
              "\n",
              "[50000 rows x 2 columns]"
            ],
            "text/html": [
              "\n",
              "  <div id=\"df-7329bf72-3291-410f-b84f-9c9481748b4f\" class=\"colab-df-container\">\n",
              "    <div>\n",
              "<style scoped>\n",
              "    .dataframe tbody tr th:only-of-type {\n",
              "        vertical-align: middle;\n",
              "    }\n",
              "\n",
              "    .dataframe tbody tr th {\n",
              "        vertical-align: top;\n",
              "    }\n",
              "\n",
              "    .dataframe thead th {\n",
              "        text-align: right;\n",
              "    }\n",
              "</style>\n",
              "<table border=\"1\" class=\"dataframe\">\n",
              "  <thead>\n",
              "    <tr style=\"text-align: right;\">\n",
              "      <th></th>\n",
              "      <th>review</th>\n",
              "      <th>sentiment</th>\n",
              "    </tr>\n",
              "  </thead>\n",
              "  <tbody>\n",
              "    <tr>\n",
              "      <th>0</th>\n",
              "      <td>One of the other reviewers has mentioned that ...</td>\n",
              "      <td>positive</td>\n",
              "    </tr>\n",
              "    <tr>\n",
              "      <th>1</th>\n",
              "      <td>A wonderful little production. &lt;br /&gt;&lt;br /&gt;The...</td>\n",
              "      <td>positive</td>\n",
              "    </tr>\n",
              "    <tr>\n",
              "      <th>2</th>\n",
              "      <td>I thought this was a wonderful way to spend ti...</td>\n",
              "      <td>positive</td>\n",
              "    </tr>\n",
              "    <tr>\n",
              "      <th>3</th>\n",
              "      <td>Basically there's a family where a little boy ...</td>\n",
              "      <td>negative</td>\n",
              "    </tr>\n",
              "    <tr>\n",
              "      <th>4</th>\n",
              "      <td>Petter Mattei's \"Love in the Time of Money\" is...</td>\n",
              "      <td>positive</td>\n",
              "    </tr>\n",
              "    <tr>\n",
              "      <th>...</th>\n",
              "      <td>...</td>\n",
              "      <td>...</td>\n",
              "    </tr>\n",
              "    <tr>\n",
              "      <th>49995</th>\n",
              "      <td>I thought this movie did a down right good job...</td>\n",
              "      <td>positive</td>\n",
              "    </tr>\n",
              "    <tr>\n",
              "      <th>49996</th>\n",
              "      <td>Bad plot, bad dialogue, bad acting, idiotic di...</td>\n",
              "      <td>negative</td>\n",
              "    </tr>\n",
              "    <tr>\n",
              "      <th>49997</th>\n",
              "      <td>I am a Catholic taught in parochial elementary...</td>\n",
              "      <td>negative</td>\n",
              "    </tr>\n",
              "    <tr>\n",
              "      <th>49998</th>\n",
              "      <td>I'm going to have to disagree with the previou...</td>\n",
              "      <td>negative</td>\n",
              "    </tr>\n",
              "    <tr>\n",
              "      <th>49999</th>\n",
              "      <td>No one expects the Star Trek movies to be high...</td>\n",
              "      <td>negative</td>\n",
              "    </tr>\n",
              "  </tbody>\n",
              "</table>\n",
              "<p>50000 rows × 2 columns</p>\n",
              "</div>\n",
              "    <div class=\"colab-df-buttons\">\n",
              "\n",
              "  <div class=\"colab-df-container\">\n",
              "    <button class=\"colab-df-convert\" onclick=\"convertToInteractive('df-7329bf72-3291-410f-b84f-9c9481748b4f')\"\n",
              "            title=\"Convert this dataframe to an interactive table.\"\n",
              "            style=\"display:none;\">\n",
              "\n",
              "  <svg xmlns=\"http://www.w3.org/2000/svg\" height=\"24px\" viewBox=\"0 -960 960 960\">\n",
              "    <path d=\"M120-120v-720h720v720H120Zm60-500h600v-160H180v160Zm220 220h160v-160H400v160Zm0 220h160v-160H400v160ZM180-400h160v-160H180v160Zm440 0h160v-160H620v160ZM180-180h160v-160H180v160Zm440 0h160v-160H620v160Z\"/>\n",
              "  </svg>\n",
              "    </button>\n",
              "\n",
              "  <style>\n",
              "    .colab-df-container {\n",
              "      display:flex;\n",
              "      gap: 12px;\n",
              "    }\n",
              "\n",
              "    .colab-df-convert {\n",
              "      background-color: #E8F0FE;\n",
              "      border: none;\n",
              "      border-radius: 50%;\n",
              "      cursor: pointer;\n",
              "      display: none;\n",
              "      fill: #1967D2;\n",
              "      height: 32px;\n",
              "      padding: 0 0 0 0;\n",
              "      width: 32px;\n",
              "    }\n",
              "\n",
              "    .colab-df-convert:hover {\n",
              "      background-color: #E2EBFA;\n",
              "      box-shadow: 0px 1px 2px rgba(60, 64, 67, 0.3), 0px 1px 3px 1px rgba(60, 64, 67, 0.15);\n",
              "      fill: #174EA6;\n",
              "    }\n",
              "\n",
              "    .colab-df-buttons div {\n",
              "      margin-bottom: 4px;\n",
              "    }\n",
              "\n",
              "    [theme=dark] .colab-df-convert {\n",
              "      background-color: #3B4455;\n",
              "      fill: #D2E3FC;\n",
              "    }\n",
              "\n",
              "    [theme=dark] .colab-df-convert:hover {\n",
              "      background-color: #434B5C;\n",
              "      box-shadow: 0px 1px 3px 1px rgba(0, 0, 0, 0.15);\n",
              "      filter: drop-shadow(0px 1px 2px rgba(0, 0, 0, 0.3));\n",
              "      fill: #FFFFFF;\n",
              "    }\n",
              "  </style>\n",
              "\n",
              "    <script>\n",
              "      const buttonEl =\n",
              "        document.querySelector('#df-7329bf72-3291-410f-b84f-9c9481748b4f button.colab-df-convert');\n",
              "      buttonEl.style.display =\n",
              "        google.colab.kernel.accessAllowed ? 'block' : 'none';\n",
              "\n",
              "      async function convertToInteractive(key) {\n",
              "        const element = document.querySelector('#df-7329bf72-3291-410f-b84f-9c9481748b4f');\n",
              "        const dataTable =\n",
              "          await google.colab.kernel.invokeFunction('convertToInteractive',\n",
              "                                                    [key], {});\n",
              "        if (!dataTable) return;\n",
              "\n",
              "        const docLinkHtml = 'Like what you see? Visit the ' +\n",
              "          '<a target=\"_blank\" href=https://colab.research.google.com/notebooks/data_table.ipynb>data table notebook</a>'\n",
              "          + ' to learn more about interactive tables.';\n",
              "        element.innerHTML = '';\n",
              "        dataTable['output_type'] = 'display_data';\n",
              "        await google.colab.output.renderOutput(dataTable, element);\n",
              "        const docLink = document.createElement('div');\n",
              "        docLink.innerHTML = docLinkHtml;\n",
              "        element.appendChild(docLink);\n",
              "      }\n",
              "    </script>\n",
              "  </div>\n",
              "\n",
              "\n",
              "<div id=\"df-3b1bf7d8-7f94-4f7c-ab6b-2cdbc94ff83f\">\n",
              "  <button class=\"colab-df-quickchart\" onclick=\"quickchart('df-3b1bf7d8-7f94-4f7c-ab6b-2cdbc94ff83f')\"\n",
              "            title=\"Suggest charts\"\n",
              "            style=\"display:none;\">\n",
              "\n",
              "<svg xmlns=\"http://www.w3.org/2000/svg\" height=\"24px\"viewBox=\"0 0 24 24\"\n",
              "     width=\"24px\">\n",
              "    <g>\n",
              "        <path d=\"M19 3H5c-1.1 0-2 .9-2 2v14c0 1.1.9 2 2 2h14c1.1 0 2-.9 2-2V5c0-1.1-.9-2-2-2zM9 17H7v-7h2v7zm4 0h-2V7h2v10zm4 0h-2v-4h2v4z\"/>\n",
              "    </g>\n",
              "</svg>\n",
              "  </button>\n",
              "\n",
              "<style>\n",
              "  .colab-df-quickchart {\n",
              "      --bg-color: #E8F0FE;\n",
              "      --fill-color: #1967D2;\n",
              "      --hover-bg-color: #E2EBFA;\n",
              "      --hover-fill-color: #174EA6;\n",
              "      --disabled-fill-color: #AAA;\n",
              "      --disabled-bg-color: #DDD;\n",
              "  }\n",
              "\n",
              "  [theme=dark] .colab-df-quickchart {\n",
              "      --bg-color: #3B4455;\n",
              "      --fill-color: #D2E3FC;\n",
              "      --hover-bg-color: #434B5C;\n",
              "      --hover-fill-color: #FFFFFF;\n",
              "      --disabled-bg-color: #3B4455;\n",
              "      --disabled-fill-color: #666;\n",
              "  }\n",
              "\n",
              "  .colab-df-quickchart {\n",
              "    background-color: var(--bg-color);\n",
              "    border: none;\n",
              "    border-radius: 50%;\n",
              "    cursor: pointer;\n",
              "    display: none;\n",
              "    fill: var(--fill-color);\n",
              "    height: 32px;\n",
              "    padding: 0;\n",
              "    width: 32px;\n",
              "  }\n",
              "\n",
              "  .colab-df-quickchart:hover {\n",
              "    background-color: var(--hover-bg-color);\n",
              "    box-shadow: 0 1px 2px rgba(60, 64, 67, 0.3), 0 1px 3px 1px rgba(60, 64, 67, 0.15);\n",
              "    fill: var(--button-hover-fill-color);\n",
              "  }\n",
              "\n",
              "  .colab-df-quickchart-complete:disabled,\n",
              "  .colab-df-quickchart-complete:disabled:hover {\n",
              "    background-color: var(--disabled-bg-color);\n",
              "    fill: var(--disabled-fill-color);\n",
              "    box-shadow: none;\n",
              "  }\n",
              "\n",
              "  .colab-df-spinner {\n",
              "    border: 2px solid var(--fill-color);\n",
              "    border-color: transparent;\n",
              "    border-bottom-color: var(--fill-color);\n",
              "    animation:\n",
              "      spin 1s steps(1) infinite;\n",
              "  }\n",
              "\n",
              "  @keyframes spin {\n",
              "    0% {\n",
              "      border-color: transparent;\n",
              "      border-bottom-color: var(--fill-color);\n",
              "      border-left-color: var(--fill-color);\n",
              "    }\n",
              "    20% {\n",
              "      border-color: transparent;\n",
              "      border-left-color: var(--fill-color);\n",
              "      border-top-color: var(--fill-color);\n",
              "    }\n",
              "    30% {\n",
              "      border-color: transparent;\n",
              "      border-left-color: var(--fill-color);\n",
              "      border-top-color: var(--fill-color);\n",
              "      border-right-color: var(--fill-color);\n",
              "    }\n",
              "    40% {\n",
              "      border-color: transparent;\n",
              "      border-right-color: var(--fill-color);\n",
              "      border-top-color: var(--fill-color);\n",
              "    }\n",
              "    60% {\n",
              "      border-color: transparent;\n",
              "      border-right-color: var(--fill-color);\n",
              "    }\n",
              "    80% {\n",
              "      border-color: transparent;\n",
              "      border-right-color: var(--fill-color);\n",
              "      border-bottom-color: var(--fill-color);\n",
              "    }\n",
              "    90% {\n",
              "      border-color: transparent;\n",
              "      border-bottom-color: var(--fill-color);\n",
              "    }\n",
              "  }\n",
              "</style>\n",
              "\n",
              "  <script>\n",
              "    async function quickchart(key) {\n",
              "      const quickchartButtonEl =\n",
              "        document.querySelector('#' + key + ' button');\n",
              "      quickchartButtonEl.disabled = true;  // To prevent multiple clicks.\n",
              "      quickchartButtonEl.classList.add('colab-df-spinner');\n",
              "      try {\n",
              "        const charts = await google.colab.kernel.invokeFunction(\n",
              "            'suggestCharts', [key], {});\n",
              "      } catch (error) {\n",
              "        console.error('Error during call to suggestCharts:', error);\n",
              "      }\n",
              "      quickchartButtonEl.classList.remove('colab-df-spinner');\n",
              "      quickchartButtonEl.classList.add('colab-df-quickchart-complete');\n",
              "    }\n",
              "    (() => {\n",
              "      let quickchartButtonEl =\n",
              "        document.querySelector('#df-3b1bf7d8-7f94-4f7c-ab6b-2cdbc94ff83f button');\n",
              "      quickchartButtonEl.style.display =\n",
              "        google.colab.kernel.accessAllowed ? 'block' : 'none';\n",
              "    })();\n",
              "  </script>\n",
              "</div>\n",
              "\n",
              "  <div id=\"id_cb843111-3ce6-44c8-bacc-b519651c57dd\">\n",
              "    <style>\n",
              "      .colab-df-generate {\n",
              "        background-color: #E8F0FE;\n",
              "        border: none;\n",
              "        border-radius: 50%;\n",
              "        cursor: pointer;\n",
              "        display: none;\n",
              "        fill: #1967D2;\n",
              "        height: 32px;\n",
              "        padding: 0 0 0 0;\n",
              "        width: 32px;\n",
              "      }\n",
              "\n",
              "      .colab-df-generate:hover {\n",
              "        background-color: #E2EBFA;\n",
              "        box-shadow: 0px 1px 2px rgba(60, 64, 67, 0.3), 0px 1px 3px 1px rgba(60, 64, 67, 0.15);\n",
              "        fill: #174EA6;\n",
              "      }\n",
              "\n",
              "      [theme=dark] .colab-df-generate {\n",
              "        background-color: #3B4455;\n",
              "        fill: #D2E3FC;\n",
              "      }\n",
              "\n",
              "      [theme=dark] .colab-df-generate:hover {\n",
              "        background-color: #434B5C;\n",
              "        box-shadow: 0px 1px 3px 1px rgba(0, 0, 0, 0.15);\n",
              "        filter: drop-shadow(0px 1px 2px rgba(0, 0, 0, 0.3));\n",
              "        fill: #FFFFFF;\n",
              "      }\n",
              "    </style>\n",
              "    <button class=\"colab-df-generate\" onclick=\"generateWithVariable('data')\"\n",
              "            title=\"Generate code using this dataframe.\"\n",
              "            style=\"display:none;\">\n",
              "\n",
              "  <svg xmlns=\"http://www.w3.org/2000/svg\" height=\"24px\"viewBox=\"0 0 24 24\"\n",
              "       width=\"24px\">\n",
              "    <path d=\"M7,19H8.4L18.45,9,17,7.55,7,17.6ZM5,21V16.75L18.45,3.32a2,2,0,0,1,2.83,0l1.4,1.43a1.91,1.91,0,0,1,.58,1.4,1.91,1.91,0,0,1-.58,1.4L9.25,21ZM18.45,9,17,7.55Zm-12,3A5.31,5.31,0,0,0,4.9,8.1,5.31,5.31,0,0,0,1,6.5,5.31,5.31,0,0,0,4.9,4.9,5.31,5.31,0,0,0,6.5,1,5.31,5.31,0,0,0,8.1,4.9,5.31,5.31,0,0,0,12,6.5,5.46,5.46,0,0,0,6.5,12Z\"/>\n",
              "  </svg>\n",
              "    </button>\n",
              "    <script>\n",
              "      (() => {\n",
              "      const buttonEl =\n",
              "        document.querySelector('#id_cb843111-3ce6-44c8-bacc-b519651c57dd button.colab-df-generate');\n",
              "      buttonEl.style.display =\n",
              "        google.colab.kernel.accessAllowed ? 'block' : 'none';\n",
              "\n",
              "      buttonEl.onclick = () => {\n",
              "        google.colab.notebook.generateWithVariable('data');\n",
              "      }\n",
              "      })();\n",
              "    </script>\n",
              "  </div>\n",
              "\n",
              "    </div>\n",
              "  </div>\n"
            ],
            "application/vnd.google.colaboratory.intrinsic+json": {
              "type": "dataframe",
              "variable_name": "data",
              "summary": "{\n  \"name\": \"data\",\n  \"rows\": 50000,\n  \"fields\": [\n    {\n      \"column\": \"review\",\n      \"properties\": {\n        \"dtype\": \"string\",\n        \"num_unique_values\": 49582,\n        \"samples\": [\n          \"\\\"Soul Plane\\\" is a horrible attempt at comedy that only should appeal people with thick skulls, bloodshot eyes and furry pawns. <br /><br />The plot is not only incoherent but also non-existent, acting is mostly sub sub-par with a gang of highly moronic and dreadful characters thrown in for bad measure, jokes are often spotted miles ahead and almost never even a bit amusing. This movie lacks any structure and is full of racial stereotypes that must have seemed old even in the fifties, the only thing it really has going for it is some pretty ladies, but really, if you want that you can rent something from the \\\"Adult\\\" section. OK?<br /><br />I can hardly see anything here to recommend since you'll probably have a lot a better and productive time chasing rats with a sledgehammer or inventing waterproof teabags or whatever.<br /><br />2/10\",\n          \"Guest from the Future tells a fascinating story of time travel, friendship, battle of good and evil -- all with a small budget, child actors, and few special effects. Something for Spielberg and Lucas to learn from. ;) A sixth-grader Kolya \\\"Nick\\\" Gerasimov finds a time machine in the basement of a decrepit building and travels 100 years into the future. He discovers a near-perfect, utopian society where robots play guitars and write poetry, everyone is kind to each other and people enjoy everything technology has to offer. Alice is the daughter of a prominent scientist who invented a device called Mielophone that allows to read minds of humans and animals. The device can be put to both good and bad use, depending on whose hands it falls into. When two evil space pirates from Saturn who want to rule the universe attempt to steal Mielophone, it falls into the hands of 20th century school boy Nick. With the pirates hot on his tracks, he travels back to his time, followed by the pirates, and Alice. Chaos, confusion and funny situations follow as the luckless pirates try to blend in with the earthlings. Alice enrolls in the same school Nick goes to and demonstrates superhuman abilities in PE class. The catch is, Alice doesn't know what Nick looks like, while the pirates do. Also, the pirates are able to change their appearance and turn literally into anyone. (Hmm, I wonder if this is where James Cameron got the idea for Terminator...) Who gets to Nick -- and Mielophone -- first? Excellent plot, non-stop adventures, and great soundtrack. I wish Hollywood made kid movies like this one...\",\n          \"\\\"National Treasure\\\" (2004) is a thoroughly misguided hodge-podge of plot entanglements that borrow from nearly every cloak and dagger government conspiracy clich\\u00e9 that has ever been written. The film stars Nicholas Cage as Benjamin Franklin Gates (how precious is that, I ask you?); a seemingly normal fellow who, for no other reason than being of a lineage of like-minded misguided fortune hunters, decides to steal a 'national treasure' that has been hidden by the United States founding fathers. After a bit of subtext and background that plays laughably (unintentionally) like Indiana Jones meets The Patriot, the film degenerates into one misguided whimsy after another \\u0096 attempting to create a 'Stanley Goodspeed' regurgitation of Nicholas Cage and launch the whole convoluted mess forward with a series of high octane, but disconnected misadventures.<br /><br />The relevancy and logic to having George Washington and his motley crew of patriots burying a king's ransom someplace on native soil, and then, going through the meticulous plan of leaving clues scattered throughout U.S. currency art work, is something that director Jon Turteltaub never quite gets around to explaining. Couldn't Washington found better usage for such wealth during the start up of the country? Hence, we are left with a mystery built on top of an enigma that is already on shaky ground by the time Ben appoints himself the new custodian of this untold wealth. Ben's intentions are noble \\u0096 if confusing. He's set on protecting the treasure. For who and when?\\u0085your guess is as good as mine.<br /><br />But there are a few problems with Ben's crusade. First up, his friend, Ian Holmes (Sean Bean) decides that he can't wait for Ben to make up his mind about stealing the Declaration of Independence from the National Archives (oh, yeah \\u0096 brilliant idea!). Presumably, the back of that famous document holds the secret answer to the ultimate fortune. So Ian tries to kill Ben. The assassination attempt is, of course, unsuccessful, if overly melodramatic. It also affords Ben the opportunity to pick up, and pick on, the very sultry curator of the archives, Abigail Chase (Diane Kruger). She thinks Ben is clearly a nut \\u0096 at least at the beginning. But true to action/romance form, Abby's resolve melts quicker than you can say, \\\"is that the Hope Diamond?\\\" The film moves into full X-File-ish mode, as the FBI, mistakenly believing that Ben is behind the theft, retaliate in various benign ways that lead to a multi-layering of action sequences reminiscent of Mission Impossible meets The Fugitive. Honestly, don't those guys ever get 'intelligence' information that is correct? In the final analysis, \\\"National Treasure\\\" isn't great film making, so much as it's a patchwork rehash of tired old bits from other movies, woven together from scraps, the likes of which would make IL' Betsy Ross blush.<br /><br />The Buena Vista DVD delivers a far more generous treatment than this film is deserving of. The anamorphic widescreen picture exhibits a very smooth and finely detailed image with very rich colors, natural flesh tones, solid blacks and clean whites. The stylized image is also free of blemishes and digital enhancements. The audio is 5.1 and delivers a nice sonic boom to your side and rear speakers with intensity and realism. Extras include a host of promotional junket material that is rather deep and over the top in its explanation of how and why this film was made. If only, as an audience, we had had more clarification as to why Ben and co. were chasing after an illusive treasure, this might have been one good flick. Extras conclude with the theatrical trailer, audio commentary and deleted scenes. Not for the faint-hearted \\u0096 just the thick-headed.\"\n        ],\n        \"semantic_type\": \"\",\n        \"description\": \"\"\n      }\n    },\n    {\n      \"column\": \"sentiment\",\n      \"properties\": {\n        \"dtype\": \"category\",\n        \"num_unique_values\": 2,\n        \"samples\": [\n          \"negative\",\n          \"positive\"\n        ],\n        \"semantic_type\": \"\",\n        \"description\": \"\"\n      }\n    }\n  ]\n}"
            }
          },
          "metadata": {},
          "execution_count": 4
        }
      ]
    },
    {
      "cell_type": "markdown",
      "source": [
        "Après avoir trouvé un modèle qui semble convenir sur https://huggingface.co/, nous pouvons sauvegarder son nom dans une variable. Ici deux modèles sont suggérés :\n",
        "\n",
        "* `\"bert-base-uncased\"` : le modèle qui est le plus fréquemment utilisé lorsque l'on utilise BERT, mais qui est relativement volumineux.\n",
        "* `\"prajjwal1/bert-mini\"` : un modèle miniature de BERT, permettant des calculs plus rapides au détriment d'une moins bonne représentation des séquences d'entrée.\n",
        "\n",
        "Vous pouvez décommenter le modèle qui vous convient, ou en trouver encore un autre. Les deux modèles sont \"uncased\", c'est-à-dire qu'ils ne prennent pas en compte les majuscules."
      ],
      "metadata": {
        "id": "dtXnhxpMH1cQ"
      }
    },
    {
      "cell_type": "code",
      "source": [
        "# model_name = \"bert-base-uncased\"\n",
        "model_name = \"prajjwal1/bert-mini\""
      ],
      "metadata": {
        "id": "h-0xPwbQI4Kl"
      },
      "execution_count": 5,
      "outputs": []
    },
    {
      "cell_type": "markdown",
      "source": [
        "Les modèles de la librairie `transformers` proposent des tokenisateurs associés, permettant ainsi de pré-traiter les données textuelles de manière à les rendre compatible avec les entrées attendues. Nous allons charger le tokenisateur de type BERT basé sur le nom de notre modèle."
      ],
      "metadata": {
        "id": "5bcdRUnYJNzF"
      }
    },
    {
      "cell_type": "code",
      "source": [
        "tokenizer = BertTokenizer.from_pretrained(model_name)"
      ],
      "metadata": {
        "id": "qEGN4bzs-pxn",
        "colab": {
          "base_uri": "https://localhost:8080/",
          "height": 168,
          "referenced_widgets": [
            "cf9f393ec60f46119152c18ab4f349e0",
            "4601db9f1e2d442da7632bf44b84a708",
            "3eca68dc21bd4e7c833438f1f76ee7dd",
            "bf73d3b4b7d14896931d5f74fb136094",
            "669587deb0204781a6620f3c9b65968b",
            "da0c74e1bec3448aa7a23be1f0441f43",
            "d9efc57e44304879b10e2730e31a1056",
            "3ce35531fcce4833a50ae6b92b1fb4ee",
            "f0ecba1d7e77466da25127bb36c5e848",
            "c5bb5f7d53dd440cbc7dc59db2341ca6",
            "9350037293164bf0ab130c1e354acdd3",
            "ce8f5ec0b7b141638fc533145c98aab7",
            "e9a5719d72dc4cb99a6e45c29656e69a",
            "e852e061e0bb4fc389bcf55014f74486",
            "6fee9ffb86b74fe7aa2b8cefb03dbe00",
            "34ec771cc7e94f29bad6f52c62bed289",
            "9d233eb9ecc142478a96ba888293061e",
            "20d9e11808c84d36b3654942eb1f915a",
            "f4164aec434b47f7a80143f9a0da3fd4",
            "fc3a44209fb0444dbed4b4fb20047e1f",
            "5aaf19835bfd4184a3b4f578d1aa2444",
            "e62ef0465a7048f68b88e8d98818dd4d"
          ]
        },
        "outputId": "af202cb9-f0fe-4138-c149-0460bb6f9536"
      },
      "execution_count": 6,
      "outputs": [
        {
          "output_type": "stream",
          "name": "stderr",
          "text": [
            "/usr/local/lib/python3.10/dist-packages/huggingface_hub/utils/_auth.py:104: UserWarning: \n",
            "Error while fetching `HF_TOKEN` secret value from your vault: 'Requesting secret HF_TOKEN timed out. Secrets can only be fetched when running from the Colab UI.'.\n",
            "You are not authenticated with the Hugging Face Hub in this notebook.\n",
            "If the error persists, please let us know by opening an issue on GitHub (https://github.com/huggingface/huggingface_hub/issues/new).\n",
            "  warnings.warn(\n"
          ]
        },
        {
          "output_type": "display_data",
          "data": {
            "text/plain": [
              "vocab.txt:   0%|          | 0.00/232k [00:00<?, ?B/s]"
            ],
            "application/vnd.jupyter.widget-view+json": {
              "version_major": 2,
              "version_minor": 0,
              "model_id": "cf9f393ec60f46119152c18ab4f349e0"
            }
          },
          "metadata": {}
        },
        {
          "output_type": "display_data",
          "data": {
            "text/plain": [
              "config.json:   0%|          | 0.00/286 [00:00<?, ?B/s]"
            ],
            "application/vnd.jupyter.widget-view+json": {
              "version_major": 2,
              "version_minor": 0,
              "model_id": "ce8f5ec0b7b141638fc533145c98aab7"
            }
          },
          "metadata": {}
        }
      ]
    },
    {
      "cell_type": "markdown",
      "source": [
        "Regardons quelques opérations qu'il est possible d'effectuer avec cet objet, tel que la séparation et la transformation en identifiants numériques d'une chaine de caractères."
      ],
      "metadata": {
        "id": "VusbiSXbJ7Re"
      }
    },
    {
      "cell_type": "code",
      "source": [
        "example_text = \"We are going to train a model, for sentiment classification!\"\n",
        "tokens = tokenizer.tokenize(example_text)\n",
        "token_ids = tokenizer.convert_tokens_to_ids(tokens)\n",
        "print(example_text)\n",
        "print(tokens)\n",
        "print(token_ids)"
      ],
      "metadata": {
        "colab": {
          "base_uri": "https://localhost:8080/"
        },
        "id": "TxmP2aWk_8Mh",
        "outputId": "275fbead-2d22-4b2f-a0b7-3ec75967fb0f"
      },
      "execution_count": 7,
      "outputs": [
        {
          "output_type": "stream",
          "name": "stdout",
          "text": [
            "We are going to train a model, for sentiment classification!\n",
            "['we', 'are', 'going', 'to', 'train', 'a', 'model', ',', 'for', 'sentiment', 'classification', '!']\n",
            "[2057, 2024, 2183, 2000, 3345, 1037, 2944, 1010, 2005, 15792, 5579, 999]\n"
          ]
        }
      ]
    },
    {
      "cell_type": "markdown",
      "source": [
        "La méthode `encode_plus()` permet un traitement plus complet d'une chaine de caractères, en donnant non seulement la traduction en identifiants numériques des différents tokens, mais aussi le masque pour le méchanisme d'attention. Différentes options sont possibles, telles que la longueur maximale des séquences (`max_length=32`) et le type de tenseurs à donner (tenseurs de Pytorch avec `return_tensors=\"pt\"`)."
      ],
      "metadata": {
        "id": "t_rBI_HgKJgX"
      }
    },
    {
      "cell_type": "code",
      "source": [
        "encoding = tokenizer.encode_plus(\n",
        "    example_text,\n",
        "    truncation=True,\n",
        "    max_length=32,\n",
        "    add_special_tokens=True,\n",
        "    return_token_type_ids=False,\n",
        "    padding=\"max_length\",\n",
        "    return_attention_mask=True,\n",
        "    return_tensors=\"pt\"\n",
        ")\n",
        "print(encoding[\"input_ids\"])\n",
        "print(encoding[\"attention_mask\"])"
      ],
      "metadata": {
        "colab": {
          "base_uri": "https://localhost:8080/"
        },
        "id": "DVDaxRMuEwZ3",
        "outputId": "471c1cc5-3f16-4ef2-fa50-db4daef4ae49"
      },
      "execution_count": 8,
      "outputs": [
        {
          "output_type": "stream",
          "name": "stdout",
          "text": [
            "tensor([[  101,  2057,  2024,  2183,  2000,  3345,  1037,  2944,  1010,  2005,\n",
            "         15792,  5579,   999,   102,     0,     0,     0,     0,     0,     0,\n",
            "             0,     0,     0,     0,     0,     0,     0,     0,     0,     0,\n",
            "             0,     0]])\n",
            "tensor([[1, 1, 1, 1, 1, 1, 1, 1, 1, 1, 1, 1, 1, 1, 0, 0, 0, 0, 0, 0, 0, 0, 0, 0,\n",
            "         0, 0, 0, 0, 0, 0, 0, 0]])\n"
          ]
        }
      ]
    },
    {
      "cell_type": "markdown",
      "source": [
        "Cette méthode nous permet donc de construire une transformation que nous allons utiliser sur notre dataset, où l'on précise la longueur maximale des séquences et le tokenisateur à utiliser."
      ],
      "metadata": {
        "id": "SqIKBE2gLKEn"
      }
    },
    {
      "cell_type": "code",
      "source": [
        "def my_transform(text, tokenizer, max_length):\n",
        "\n",
        "  # L'encodage\n",
        "  encoding = tokenizer.encode_plus(\n",
        "      text,\n",
        "      truncation=True,\n",
        "      max_length=max_length,\n",
        "      add_special_tokens=True,\n",
        "      return_token_type_ids=False,\n",
        "      padding=\"max_length\",\n",
        "      return_attention_mask=True,\n",
        "      return_tensors=\"pt\",\n",
        "  )\n",
        "  # Retour de l'encodage et du masque\n",
        "  return encoding[\"input_ids\"].flatten(), encoding[\"attention_mask\"].flatten()"
      ],
      "metadata": {
        "id": "SQb7Sh3eMVSG"
      },
      "execution_count": 9,
      "outputs": []
    },
    {
      "cell_type": "markdown",
      "source": [
        "Il est temps de créer notre classe héritée de `torch.utils.data.Dataset`. Nous transformons les sorties en valeurs numériques (avec 1 = \"positive\", 0 = \"negative\"), puis en array numpy. Lorsqu'un élément du dataset est demandé, nous appliquons la transformation (donnée en argument) et transformons la sortie en tenseur."
      ],
      "metadata": {
        "id": "e3VjUYJMLfNb"
      }
    },
    {
      "cell_type": "code",
      "source": [
        "class MyDataset(Dataset):\n",
        "\n",
        "  # Constructeur\n",
        "  def __init__(self, data_path, transform, tokenizer, sent_len):\n",
        "    # On charge les données\n",
        "    df = pd.read_csv(data_path)\n",
        "    self.inputs = df.review.to_numpy()\n",
        "    self.probs = (df.sentiment == \"positive\").to_numpy()\n",
        "    self.transform = transform\n",
        "    self.tokenizer = tokenizer\n",
        "    self.sent_len = sent_len\n",
        "\n",
        "  # Longueur\n",
        "  def __len__(self):\n",
        "    return len(self.probs)\n",
        "\n",
        "  # Un élément\n",
        "  def __getitem__(self, index):\n",
        "    input = self.transform(str(self.inputs[index]),\n",
        "                           self.tokenizer,\n",
        "                           self.sent_len)\n",
        "    prob = torch.tensor(self.probs[index], dtype=torch.float32)\n",
        "    return input, prob"
      ],
      "metadata": {
        "id": "bU7iZmOdFw7M"
      },
      "execution_count": 10,
      "outputs": []
    },
    {
      "cell_type": "markdown",
      "source": [
        "Créons une instance de notre classe pour notre dataset, et regardons un élément. Une séquence d'entiers et le masque sont donnés comme éléments d'entrée."
      ],
      "metadata": {
        "id": "qoVlFWkjOpKt"
      }
    },
    {
      "cell_type": "code",
      "source": [
        "max_length = 512\n",
        "data_path = \"/content/drive/MyDrive/Colab Notebooks/\" \\\n",
        "              \"ml_data/TP12/IMDB Dataset.csv\"\n",
        "my_data = MyDataset(data_path, my_transform, tokenizer, max_length)\n",
        "my_data[0]"
      ],
      "metadata": {
        "colab": {
          "base_uri": "https://localhost:8080/"
        },
        "id": "pZ-gbiBJOxei",
        "outputId": "03c92f47-a6ca-4a30-8baa-fbdb8bb668a3"
      },
      "execution_count": 11,
      "outputs": [
        {
          "output_type": "execute_result",
          "data": {
            "text/plain": [
              "((tensor([  101,  2028,  1997,  1996,  2060, 15814,  2038,  3855,  2008,  2044,\n",
              "           3666,  2074,  1015, 11472,  2792,  2017,  1005,  2222,  2022, 13322,\n",
              "           1012,  2027,  2024,  2157,  1010,  2004,  2023,  2003,  3599,  2054,\n",
              "           3047,  2007,  2033,  1012,  1026,  7987,  1013,  1028,  1026,  7987,\n",
              "           1013,  1028,  1996,  2034,  2518,  2008,  4930,  2033,  2055, 11472,\n",
              "           2001,  2049, 24083,  1998,  4895, 10258,  2378,  8450,  5019,  1997,\n",
              "           4808,  1010,  2029,  2275,  1999,  2157,  2013,  1996,  2773,  2175,\n",
              "           1012,  3404,  2033,  1010,  2023,  2003,  2025,  1037,  2265,  2005,\n",
              "           1996,  8143, 18627,  2030,  5199,  3593,  1012,  2023,  2265,  8005,\n",
              "           2053, 17957,  2007, 12362,  2000,  5850,  1010,  3348,  2030,  4808,\n",
              "           1012,  2049,  2003, 13076,  1010,  1999,  1996,  4438,  2224,  1997,\n",
              "           1996,  2773,  1012,  1026,  7987,  1013,  1028,  1026,  7987,  1013,\n",
              "           1028,  2009,  2003,  2170, 11472,  2004,  2008,  2003,  1996,  8367,\n",
              "           2445,  2000,  1996, 17411,  4555,  3036,  2110,  7279,  4221, 12380,\n",
              "           2854,  1012,  2009,  7679,  3701,  2006, 14110,  2103,  1010,  2019,\n",
              "           6388,  2930,  1997,  1996,  3827,  2073,  2035,  1996,  4442,  2031,\n",
              "           3221, 21430,  1998,  2227, 20546,  2015,  1010,  2061,  9394,  2003,\n",
              "           2025,  2152,  2006,  1996, 11376,  1012,  7861,  2103,  2003,  2188,\n",
              "           2000,  2116,  1012,  1012, 26030,  2015,  1010,  7486,  1010, 18542,\n",
              "          10230,  1010,  7402,  2015,  1010,  8135,  1010, 16773,  1010,  3493,\n",
              "           1998,  2062,  1012,  1012,  1012,  1012,  2061,  8040, 16093, 28331,\n",
              "           1010,  2331, 14020,  1010, 26489,  6292, 24069,  1998, 22824, 10540,\n",
              "           2024,  2196,  2521,  2185,  1012,  1026,  7987,  1013,  1028,  1026,\n",
              "           7987,  1013,  1028,  1045,  2052,  2360,  1996,  2364,  5574,  1997,\n",
              "           1996,  2265,  2003,  2349,  2000,  1996,  2755,  2008,  2009,  3632,\n",
              "           2073,  2060,  3065,  2876,  1005,  1056,  8108,  1012,  5293,  3492,\n",
              "           4620,  4993,  2005,  7731,  9501,  1010,  5293, 11084,  1010,  5293,\n",
              "           7472,  1012,  1012,  1012, 11472,  2987,  1005,  1056,  6752,  2105,\n",
              "           1012,  1996,  2034,  2792,  1045,  2412,  2387,  4930,  2033,  2004,\n",
              "           2061, 11808,  2009,  2001, 16524,  1010,  1045,  2481,  1005,  1056,\n",
              "           2360,  1045,  2001,  3201,  2005,  2009,  1010,  2021,  2004,  1045,\n",
              "           3427,  2062,  1010,  1045,  2764,  1037,  5510,  2005, 11472,  1010,\n",
              "           1998,  2288, 17730,  2000,  1996,  2152,  3798,  1997,  8425,  4808,\n",
              "           1012,  2025,  2074,  4808,  1010,  2021, 21321,  1006, 15274,  4932,\n",
              "           2040,  1005,  2222,  2022,  2853,  2041,  2005,  1037, 15519,  1010,\n",
              "          13187,  2040,  1005,  2222,  3102,  2006,  2344,  1998,  2131,  2185,\n",
              "           2007,  2009,  1010,  2092,  5450,  2098,  1010,  2690,  2465, 13187,\n",
              "           2108,  2357,  2046,  3827,  7743,  2229,  2349,  2000,  2037,  3768,\n",
              "           1997,  2395,  4813,  2030,  3827,  3325,  1007,  3666, 11472,  1010,\n",
              "           2017,  2089,  2468,  6625,  2007,  2054,  2003,  8796, 10523,  1012,\n",
              "           1012,  1012,  1012,  2008,  2015,  2065,  2017,  2064,  2131,  1999,\n",
              "           3543,  2007,  2115,  9904,  2217,  1012,   102,     0,     0,     0,\n",
              "              0,     0,     0,     0,     0,     0,     0,     0,     0,     0,\n",
              "              0,     0,     0,     0,     0,     0,     0,     0,     0,     0,\n",
              "              0,     0,     0,     0,     0,     0,     0,     0,     0,     0,\n",
              "              0,     0,     0,     0,     0,     0,     0,     0,     0,     0,\n",
              "              0,     0,     0,     0,     0,     0,     0,     0,     0,     0,\n",
              "              0,     0,     0,     0,     0,     0,     0,     0,     0,     0,\n",
              "              0,     0,     0,     0,     0,     0,     0,     0,     0,     0,\n",
              "              0,     0,     0,     0,     0,     0,     0,     0,     0,     0,\n",
              "              0,     0,     0,     0,     0,     0,     0,     0,     0,     0,\n",
              "              0,     0]),\n",
              "  tensor([1, 1, 1, 1, 1, 1, 1, 1, 1, 1, 1, 1, 1, 1, 1, 1, 1, 1, 1, 1, 1, 1, 1, 1,\n",
              "          1, 1, 1, 1, 1, 1, 1, 1, 1, 1, 1, 1, 1, 1, 1, 1, 1, 1, 1, 1, 1, 1, 1, 1,\n",
              "          1, 1, 1, 1, 1, 1, 1, 1, 1, 1, 1, 1, 1, 1, 1, 1, 1, 1, 1, 1, 1, 1, 1, 1,\n",
              "          1, 1, 1, 1, 1, 1, 1, 1, 1, 1, 1, 1, 1, 1, 1, 1, 1, 1, 1, 1, 1, 1, 1, 1,\n",
              "          1, 1, 1, 1, 1, 1, 1, 1, 1, 1, 1, 1, 1, 1, 1, 1, 1, 1, 1, 1, 1, 1, 1, 1,\n",
              "          1, 1, 1, 1, 1, 1, 1, 1, 1, 1, 1, 1, 1, 1, 1, 1, 1, 1, 1, 1, 1, 1, 1, 1,\n",
              "          1, 1, 1, 1, 1, 1, 1, 1, 1, 1, 1, 1, 1, 1, 1, 1, 1, 1, 1, 1, 1, 1, 1, 1,\n",
              "          1, 1, 1, 1, 1, 1, 1, 1, 1, 1, 1, 1, 1, 1, 1, 1, 1, 1, 1, 1, 1, 1, 1, 1,\n",
              "          1, 1, 1, 1, 1, 1, 1, 1, 1, 1, 1, 1, 1, 1, 1, 1, 1, 1, 1, 1, 1, 1, 1, 1,\n",
              "          1, 1, 1, 1, 1, 1, 1, 1, 1, 1, 1, 1, 1, 1, 1, 1, 1, 1, 1, 1, 1, 1, 1, 1,\n",
              "          1, 1, 1, 1, 1, 1, 1, 1, 1, 1, 1, 1, 1, 1, 1, 1, 1, 1, 1, 1, 1, 1, 1, 1,\n",
              "          1, 1, 1, 1, 1, 1, 1, 1, 1, 1, 1, 1, 1, 1, 1, 1, 1, 1, 1, 1, 1, 1, 1, 1,\n",
              "          1, 1, 1, 1, 1, 1, 1, 1, 1, 1, 1, 1, 1, 1, 1, 1, 1, 1, 1, 1, 1, 1, 1, 1,\n",
              "          1, 1, 1, 1, 1, 1, 1, 1, 1, 1, 1, 1, 1, 1, 1, 1, 1, 1, 1, 1, 1, 1, 1, 1,\n",
              "          1, 1, 1, 1, 1, 1, 1, 1, 1, 1, 1, 1, 1, 1, 1, 1, 1, 1, 1, 1, 1, 1, 1, 1,\n",
              "          1, 1, 1, 1, 1, 1, 1, 1, 1, 1, 1, 1, 1, 1, 1, 1, 1, 1, 1, 1, 1, 1, 1, 1,\n",
              "          1, 1, 1, 1, 1, 1, 1, 1, 1, 1, 1, 1, 1, 1, 1, 1, 1, 1, 1, 1, 1, 1, 1, 1,\n",
              "          1, 1, 1, 1, 1, 1, 1, 1, 1, 0, 0, 0, 0, 0, 0, 0, 0, 0, 0, 0, 0, 0, 0, 0,\n",
              "          0, 0, 0, 0, 0, 0, 0, 0, 0, 0, 0, 0, 0, 0, 0, 0, 0, 0, 0, 0, 0, 0, 0, 0,\n",
              "          0, 0, 0, 0, 0, 0, 0, 0, 0, 0, 0, 0, 0, 0, 0, 0, 0, 0, 0, 0, 0, 0, 0, 0,\n",
              "          0, 0, 0, 0, 0, 0, 0, 0, 0, 0, 0, 0, 0, 0, 0, 0, 0, 0, 0, 0, 0, 0, 0, 0,\n",
              "          0, 0, 0, 0, 0, 0, 0, 0])),\n",
              " tensor(1.))"
            ]
          },
          "metadata": {},
          "execution_count": 11
        }
      ]
    },
    {
      "cell_type": "markdown",
      "source": [
        "Séparons notre jeu de données en jeux d'entrainement, validation et test, avec les proportions 70% - 15% - 15%."
      ],
      "metadata": {
        "id": "65mQ-UZSO9Fl"
      }
    },
    {
      "cell_type": "code",
      "source": [
        "valid_ratio = 0.15\n",
        "test_ratio = 0.15\n",
        "valid_size = int(valid_ratio * len(my_data))\n",
        "test_size = int(test_ratio * len(my_data))\n",
        "train_size = len(my_data) - valid_size - test_size\n",
        "my_data_train, my_data_valid, my_data_test = \\\n",
        "  random_split(my_data, [train_size, valid_size, test_size])\n",
        "print(train_size, valid_size, test_size)"
      ],
      "metadata": {
        "colab": {
          "base_uri": "https://localhost:8080/"
        },
        "id": "IGFN-tW-PboN",
        "outputId": "39fcb6eb-2844-4dde-b849-53ecc4c29826"
      },
      "execution_count": 12,
      "outputs": [
        {
          "output_type": "stream",
          "name": "stdout",
          "text": [
            "35000 7500 7500\n"
          ]
        }
      ]
    },
    {
      "cell_type": "markdown",
      "source": [
        "Créons les Dataloaders, avec batch de 32. Le paramètre `num_workers` nous permet d'attribuer plus de processus chargés d'envoyer les données."
      ],
      "metadata": {
        "id": "NliQOzaAPKZA"
      }
    },
    {
      "cell_type": "code",
      "source": [
        "batch_size = 32\n",
        "train_loader = DataLoader(my_data_train, batch_size, num_workers=2)\n",
        "valid_loader = DataLoader(my_data_valid, batch_size, num_workers=2)\n",
        "test_loader = DataLoader(my_data_test, batch_size, num_workers=2)"
      ],
      "metadata": {
        "id": "X9q5QTdTXizb"
      },
      "execution_count": 13,
      "outputs": []
    },
    {
      "cell_type": "markdown",
      "source": [
        "La classe `transformers.BertModel` nous permet des créer des instances de modèles pré-entrainés, grâce à sa méthode `from_pretrained()`, à partir d'un nom de modèle Hugging Face. Le modèle est téchargé et mis en mémoire."
      ],
      "metadata": {
        "id": "es5eTcIyPlXR"
      }
    },
    {
      "cell_type": "code",
      "source": [
        "bert_model = BertModel.from_pretrained(model_name)"
      ],
      "metadata": {
        "id": "avAetOfzATJG",
        "colab": {
          "base_uri": "https://localhost:8080/",
          "height": 49,
          "referenced_widgets": [
            "7a7f2830098f4e3ab744d2c718d45e3c",
            "e879e75c4961420a95ffd88a5089bb3d",
            "e7e9847a48b646929c136b52ea5fd33c",
            "30eacc43938e4058bd31daee147e95f1",
            "b0514318b8fb43a090df663c5332364a",
            "963edab56e7d4422b01ee3e0aae23515",
            "7069666a59314b719a5e883f2400e9c6",
            "c264a61b383145ad85db88766b938018",
            "9726eee02e544232b0ddc97cad11dfe2",
            "c98edd214d954e1eb7455b8a092970c6",
            "3c685f76f2334baa87cc980b8780fb1a"
          ]
        },
        "outputId": "ad009950-8873-44cd-c01c-355a9ce00f23"
      },
      "execution_count": 14,
      "outputs": [
        {
          "output_type": "display_data",
          "data": {
            "text/plain": [
              "pytorch_model.bin:   0%|          | 0.00/45.1M [00:00<?, ?B/s]"
            ],
            "application/vnd.jupyter.widget-view+json": {
              "version_major": 2,
              "version_minor": 0,
              "model_id": "7a7f2830098f4e3ab744d2c718d45e3c"
            }
          },
          "metadata": {}
        }
      ]
    },
    {
      "cell_type": "markdown",
      "source": [
        "En passant un exemple de notre jeu de données dans ce modèle, nous pouvons voir la sortie, qui est constituée de deux éléments `last_hidden_state` et `pooler_output`. Ces deux sorties contiennent :\n",
        "\n",
        "* `last_hidden_state` : les sorties cachées de la dernière couche du modèle, avec un vecteur d'une taille définie (par la modèle) pour chaque token d'entrée.\n",
        "* `pooler_output` : le vecteur caché du premier élément de la phrase, correspondant au token [CLS], et qui sert de résumé pour toute la phrase."
      ],
      "metadata": {
        "id": "xu9tur82QNDD"
      }
    },
    {
      "cell_type": "code",
      "source": [
        "input, _ = my_data[0]\n",
        "bert_output = bert_model(input_ids=input[0].unsqueeze(0),\n",
        "                         attention_mask=input[1].unsqueeze(0))\n",
        "bert_output.keys()"
      ],
      "metadata": {
        "colab": {
          "base_uri": "https://localhost:8080/"
        },
        "id": "rIQ17wliDrjT",
        "outputId": "ea8ff660-46c0-47d9-c598-3775bf61107c"
      },
      "execution_count": 15,
      "outputs": [
        {
          "output_type": "execute_result",
          "data": {
            "text/plain": [
              "odict_keys(['last_hidden_state', 'pooler_output'])"
            ]
          },
          "metadata": {},
          "execution_count": 15
        }
      ]
    },
    {
      "cell_type": "code",
      "source": [
        "print(bert_output[\"last_hidden_state\"].shape)\n",
        "print(bert_output[\"pooler_output\"].shape)"
      ],
      "metadata": {
        "colab": {
          "base_uri": "https://localhost:8080/"
        },
        "id": "EaX-gqCpRC2-",
        "outputId": "529b17e9-d72f-44aa-81ed-76e8b406650e"
      },
      "execution_count": 16,
      "outputs": [
        {
          "output_type": "stream",
          "name": "stdout",
          "text": [
            "torch.Size([1, 512, 256])\n",
            "torch.Size([1, 256])\n"
          ]
        }
      ]
    },
    {
      "cell_type": "markdown",
      "source": [
        "Nous allons maintenant créer un modèle qui consiste en :\n",
        "* Un modèle pré-entrainé de type BERT.\n",
        "* Une couche entièrement connectée qui prend le premier état caché de la sortie du modèle BERT (avec dropout) et l'envoie sur une seule sortie, nous servant ainsi de log-odds pour le sentiment positif.\n",
        "\n",
        "Notez que la taille du vecteur caché peut s'obtenir en utilisant l'attribut `bert.config.hidden_size`, permettant ainsi de définir le bon nombre de neurones dans la couche entièrement connectée."
      ],
      "metadata": {
        "id": "pYs1ZVtcRqa5"
      }
    },
    {
      "cell_type": "code",
      "source": [
        "class SentClassifier(nn.Module):\n",
        "\n",
        "  def __init__(self, bert_model_name):\n",
        "    super(SentClassifier, self).__init__()\n",
        "    self.bert = BertModel.from_pretrained(bert_model_name)\n",
        "    self.drop = nn.Dropout(p=0.3)\n",
        "    self.full = nn.Linear(self.bert.config.hidden_size, 1)\n",
        "\n",
        "  def forward(self, input_ids, attention_mask):\n",
        "    bert_output = self.bert(input_ids, attention_mask)\n",
        "    dropout = self.drop(bert_output[\"pooler_output\"])\n",
        "    logits = self.full(dropout)\n",
        "    return logits"
      ],
      "metadata": {
        "id": "sOBqDBskSmpG"
      },
      "execution_count": 17,
      "outputs": []
    },
    {
      "cell_type": "markdown",
      "source": [
        "Vérifions que notre modèle fonctionne correctement en lui envoyant une entrée de notre jeu de données."
      ],
      "metadata": {
        "id": "ow3JTfXuSxS3"
      }
    },
    {
      "cell_type": "code",
      "source": [
        "my_model = SentClassifier(model_name)\n",
        "my_model.to(device)\n",
        "my_model(input[0].unsqueeze(0).to(device), input[1].unsqueeze(0).to(device))"
      ],
      "metadata": {
        "colab": {
          "base_uri": "https://localhost:8080/"
        },
        "id": "axlqhTVUV4lc",
        "outputId": "6a477c6c-41ae-44c1-855b-022a4cbc2608"
      },
      "execution_count": 18,
      "outputs": [
        {
          "output_type": "execute_result",
          "data": {
            "text/plain": [
              "tensor([[-0.1089]], device='cuda:0', grad_fn=<AddmmBackward0>)"
            ]
          },
          "metadata": {},
          "execution_count": 18
        }
      ]
    },
    {
      "cell_type": "markdown",
      "source": [
        "L'entrainement du modèle va s'effectuer d'une manière légèrement plus complexe que les dernières fois. Nous allons utiliser ici un **ordonnanceur** pour le taux d'apprentissage, avec une instance de classe obtenu avec la fonction `transformers.get_linear_schedule_with_warmup()`. Cette instance permet de faire varier le taux d'apprentissage en fonction des itérations. Le taux d'apprentissage commence à 0, monte rapidement jusqu'à sa valeur maximale définie dans l'optimisateur, puis diminue lentement jusqu'à le nombre d'itérations maximal (`len(train_loader) * n_epochs`). Cette procédure permet de chercher plus efficacement un minimum dans la fonctionnelle. Pour en savoir plus, voir https://huggingface.co/docs/transformers/main_classes/optimizer_schedules#transformers.get_linear_schedule_with_warmup.optimizer.\n",
        "\n",
        "La fonction de perte est `torch.nn.BCEWithLogitsLoss()` qui permet de comparer une sortie entre un log-odd vs une valeur binaire."
      ],
      "metadata": {
        "id": "ax-irH6TS9TF"
      }
    },
    {
      "cell_type": "code",
      "source": [
        "n_epochs = 10\n",
        "optimizer = torch.optim.AdamW(my_model.parameters(), lr=2e-5)\n",
        "scheduler = get_linear_schedule_with_warmup(\n",
        "  optimizer,\n",
        "  num_warmup_steps=0,\n",
        "  num_training_steps=len(train_loader) * n_epochs\n",
        ")\n",
        "loss_fn = nn.BCEWithLogitsLoss()"
      ],
      "metadata": {
        "id": "ZFksIEIoWGFa"
      },
      "execution_count": 19,
      "outputs": []
    },
    {
      "cell_type": "markdown",
      "source": [
        "Nous allons aussi implémenter un arrêt prématuré dans notre entrainement. Pour cela, nous allons sauver le modèle (sous `checkpoint_path`) à chaque fois que celui-ci diminue la perte de validation, et nous arrêterons l'entrainement si la perte d'entrainement n'a pas diminué durant `patience` epochs. Il nous suffira de revenir au dernier modèle sauvé pour avoir celui qui présente les meilleurs performances de validation."
      ],
      "metadata": {
        "id": "brEmMODxWSyE"
      }
    },
    {
      "cell_type": "code",
      "source": [
        "patience = 3\n",
        "checkpoint_path = \"checkpoint.pt\""
      ],
      "metadata": {
        "id": "vhQoqOuQKzwj"
      },
      "execution_count": 20,
      "outputs": []
    },
    {
      "cell_type": "markdown",
      "source": [
        "Nous allons maintenant effectuer l'entrainement. Vous pouvez lire les commentaires ci-dessous pour avoir les détails."
      ],
      "metadata": {
        "id": "wlvqRRSkYWm6"
      }
    },
    {
      "cell_type": "code",
      "source": [
        "# Valeur initiale de la perte minimale obtenue (artificiellement\n",
        "# élevée initialement) pour l'arrêt prématuré\n",
        "lowest_valid_loss = 1e5\n",
        "# Le conteur de patience\n",
        "patience_counter = 0\n",
        "# La boucle sur les epochs\n",
        "for epoch in range(n_epochs):\n",
        "\n",
        "  print(f\"Epoch {epoch + 1}/{n_epochs}\")\n",
        "\n",
        "  # --- Training\n",
        "\n",
        "  my_model.train()\n",
        "  sum_train_loss = 0\n",
        "  sum_train_acc = 0\n",
        "  # La boucle sur le loader d'entrainement\n",
        "  for (input_ids, masks), outputs in tqdm(train_loader):\n",
        "    input_ids = input_ids.to(device)\n",
        "    masks = masks.to(device)\n",
        "    outputs = outputs.to(device).unsqueeze(1)\n",
        "\n",
        "    optimizer.zero_grad()\n",
        "    logits = my_model(input_ids, masks)\n",
        "    loss = loss_fn(logits, outputs)\n",
        "    loss.backward()\n",
        "    # On procède ici au gradient clipping, pour être sur que celui-ci\n",
        "    # ne déborde pas.\n",
        "    nn.utils.clip_grad_norm_(my_model.parameters(), max_norm=1.0)\n",
        "    # Notre optimisateur et notre ordonnanceur son mis à jour\n",
        "    optimizer.step()\n",
        "    scheduler.step()\n",
        "\n",
        "    sum_train_loss += loss.detach().item()\n",
        "    sum_train_acc += ((logits.flatten() > 0) ==\n",
        "                      outputs.flatten()).detach().sum().item()\n",
        "\n",
        "  # --- Validation\n",
        "\n",
        "  my_model.eval()\n",
        "  sum_valid_loss = 0\n",
        "  sum_valid_acc = 0\n",
        "  for (input_ids, masks), outputs in tqdm(valid_loader):\n",
        "    input_ids = input_ids.to(device)\n",
        "    masks = masks.to(device)\n",
        "    outputs = outputs.to(device).unsqueeze(1)\n",
        "\n",
        "    logits = my_model(input_ids, masks)\n",
        "    loss = loss_fn(logits, outputs)\n",
        "\n",
        "    sum_valid_loss += loss.detach()\n",
        "    sum_valid_acc += ((logits.flatten() > 0) ==\n",
        "                      outputs.flatten()).detach().sum().item()\n",
        "\n",
        "  train_loss = sum_train_loss/len(train_loader)\n",
        "  train_acc = sum_train_acc/len(train_loader.dataset)\n",
        "  valid_loss = sum_valid_loss/len(valid_loader)\n",
        "  valid_acc = sum_valid_acc/len(valid_loader.dataset)\n",
        "\n",
        "  print(f\"Train loss: {train_loss:.4f}, Valid loss: {valid_loss:.4f}\")\n",
        "  print(f\"Train accuracy: {train_acc:.2%}, Valid accuracy: {valid_acc:.2%}\")\n",
        "\n",
        "  # --- Pour l'arrêt prématuré\n",
        "\n",
        "  # Si la perte de validation est plus petite que la dernière enregistrée,\n",
        "  # on effectue un checkpoint du modèle\n",
        "  if valid_loss < lowest_valid_loss:\n",
        "    print(f\"***{valid_loss:.4f} < {lowest_valid_loss:.4f}, saving.***\")\n",
        "    torch.save({\"model_state_dict\": my_model.state_dict(),\n",
        "                \"optimizer_state_dict\": optimizer.state_dict(),\n",
        "                \"scheduler_state_dict\": scheduler.state_dict()},\n",
        "               checkpoint_path)\n",
        "    lowest_valid_loss = valid_loss\n",
        "    patience_counter = 0\n",
        "  # Sinon, on augmente le compteur de patience\n",
        "  else:\n",
        "    patience_counter += 1\n",
        "\n",
        "  # Si le compteur de patience atteint la limite, on arrête l'entrainement\n",
        "  if patience_counter >= patience:\n",
        "    print(\"Early stopping\")\n",
        "    break\n",
        "\n",
        "# On charge le dernier modèle sauvé\n",
        "checkpoint_dict = torch.load(checkpoint_path, map_location=torch.device(device))\n",
        "my_model.load_state_dict(checkpoint_dict[\"model_state_dict\"])\n",
        "optimizer.load_state_dict(checkpoint_dict[\"optimizer_state_dict\"])\n",
        "scheduler.load_state_dict(checkpoint_dict[\"scheduler_state_dict\"])"
      ],
      "metadata": {
        "id": "kKlA3zsZYTCc",
        "colab": {
          "base_uri": "https://localhost:8080/",
          "height": 712,
          "referenced_widgets": [
            "73f0524be3a74d1eb11cbab7f1f8c691",
            "3e01fdbc7d5d47889b173d265cb88cc4",
            "a216bb268ea7406f9d626a35c8fad67d",
            "59e94470189d443ea9e259bd0e580120",
            "83ab91cf786c46de8326e430c19bda40",
            "28fa08d387b940a092b04b7f492a1cee",
            "ca57ebfed44e450c92ac30c5e6cc8432",
            "96d12c00f67744dda474bcc248621d49",
            "8029fd489038487c87adddc2fad45943",
            "5a2f35fba9f6440e90a19681ae95af32",
            "6da5493bf2184e21994c81d9623f7409"
          ]
        },
        "outputId": "5b4dba0e-dda9-4355-9b7c-3b4c03e3dd68"
      },
      "execution_count": 21,
      "outputs": [
        {
          "output_type": "stream",
          "name": "stdout",
          "text": [
            "Epoch 1/10\n"
          ]
        },
        {
          "output_type": "stream",
          "name": "stderr",
          "text": [
            "  0%|          | 2/1094 [00:01<12:02,  1.51it/s]"
          ]
        },
        {
          "output_type": "display_data",
          "data": {
            "text/plain": [
              "model.safetensors:   0%|          | 0.00/45.1M [00:00<?, ?B/s]"
            ],
            "application/vnd.jupyter.widget-view+json": {
              "version_major": 2,
              "version_minor": 0,
              "model_id": "73f0524be3a74d1eb11cbab7f1f8c691"
            }
          },
          "metadata": {}
        },
        {
          "output_type": "stream",
          "name": "stderr",
          "text": [
            "100%|██████████| 1094/1094 [04:31<00:00,  4.03it/s]\n",
            "100%|██████████| 235/235 [00:47<00:00,  4.91it/s]\n"
          ]
        },
        {
          "output_type": "stream",
          "name": "stdout",
          "text": [
            "Train loss: 0.3938, Valid loss: 0.2969\n",
            "Train accuracy: 81.99%, Valid accuracy: 87.67%\n",
            "***0.2969 < 100000.0000, saving.***\n",
            "Epoch 2/10\n"
          ]
        },
        {
          "output_type": "stream",
          "name": "stderr",
          "text": [
            "100%|██████████| 1094/1094 [04:32<00:00,  4.01it/s]\n",
            "100%|██████████| 235/235 [00:47<00:00,  4.96it/s]\n"
          ]
        },
        {
          "output_type": "stream",
          "name": "stdout",
          "text": [
            "Train loss: 0.2638, Valid loss: 0.2588\n",
            "Train accuracy: 89.31%, Valid accuracy: 89.72%\n",
            "***0.2588 < 0.2969, saving.***\n",
            "Epoch 3/10\n"
          ]
        },
        {
          "output_type": "stream",
          "name": "stderr",
          "text": [
            "100%|██████████| 1094/1094 [04:30<00:00,  4.05it/s]\n",
            "100%|██████████| 235/235 [00:46<00:00,  5.05it/s]\n"
          ]
        },
        {
          "output_type": "stream",
          "name": "stdout",
          "text": [
            "Train loss: 0.2182, Valid loss: 0.2568\n",
            "Train accuracy: 91.69%, Valid accuracy: 90.27%\n",
            "***0.2568 < 0.2588, saving.***\n",
            "Epoch 4/10\n"
          ]
        },
        {
          "output_type": "stream",
          "name": "stderr",
          "text": [
            "100%|██████████| 1094/1094 [04:26<00:00,  4.10it/s]\n",
            "100%|██████████| 235/235 [00:47<00:00,  4.99it/s]\n"
          ]
        },
        {
          "output_type": "stream",
          "name": "stdout",
          "text": [
            "Train loss: 0.1863, Valid loss: 0.2604\n",
            "Train accuracy: 93.30%, Valid accuracy: 91.01%\n",
            "Epoch 5/10\n"
          ]
        },
        {
          "output_type": "stream",
          "name": "stderr",
          "text": [
            "100%|██████████| 1094/1094 [04:28<00:00,  4.08it/s]\n",
            "100%|██████████| 235/235 [00:47<00:00,  4.90it/s]\n"
          ]
        },
        {
          "output_type": "stream",
          "name": "stdout",
          "text": [
            "Train loss: 0.1649, Valid loss: 0.2892\n",
            "Train accuracy: 94.22%, Valid accuracy: 90.89%\n",
            "Epoch 6/10\n"
          ]
        },
        {
          "output_type": "stream",
          "name": "stderr",
          "text": [
            "100%|██████████| 1094/1094 [04:35<00:00,  3.97it/s]\n",
            "100%|██████████| 235/235 [00:47<00:00,  4.99it/s]\n",
            "<ipython-input-21-5e4bcd53ca84>:84: FutureWarning: You are using `torch.load` with `weights_only=False` (the current default value), which uses the default pickle module implicitly. It is possible to construct malicious pickle data which will execute arbitrary code during unpickling (See https://github.com/pytorch/pytorch/blob/main/SECURITY.md#untrusted-models for more details). In a future release, the default value for `weights_only` will be flipped to `True`. This limits the functions that could be executed during unpickling. Arbitrary objects will no longer be allowed to be loaded via this mode unless they are explicitly allowlisted by the user via `torch.serialization.add_safe_globals`. We recommend you start setting `weights_only=True` for any use case where you don't have full control of the loaded file. Please open an issue on GitHub for any issues related to this experimental feature.\n",
            "  checkpoint_dict = torch.load(checkpoint_path, map_location=torch.device(device))\n"
          ]
        },
        {
          "output_type": "stream",
          "name": "stdout",
          "text": [
            "Train loss: 0.1444, Valid loss: 0.2911\n",
            "Train accuracy: 95.14%, Valid accuracy: 90.89%\n",
            "Early stopping\n"
          ]
        }
      ]
    },
    {
      "cell_type": "markdown",
      "source": [
        "Effectuons maintenant l'évaluation du modèle sur le jeu de test. On va également sauver chaque sortie en terme de probabilité, afin de voir la répartition de ces dernières."
      ],
      "metadata": {
        "id": "yN3Wij4nbuEU"
      }
    },
    {
      "cell_type": "code",
      "source": [
        "my_model.eval()\n",
        "sum_test_loss = 0\n",
        "sum_test_acc = 0\n",
        "real_sent = []\n",
        "pred_sent = []\n",
        "for (input_ids, masks), outputs in tqdm(test_loader):\n",
        "  input_ids = input_ids.to(device)\n",
        "  masks = masks.to(device)\n",
        "  outputs = outputs.to(device).unsqueeze(1)\n",
        "\n",
        "  logits = my_model(input_ids, masks).detach()\n",
        "  loss = loss_fn(logits, outputs).detach()\n",
        "  sum_test_acc += ((logits.flatten() > 0) == outputs.flatten()).sum().item()\n",
        "  probs = torch.sigmoid(logits)\n",
        "\n",
        "  real_sent.extend([real_prob.item() for real_prob in outputs.flatten()])\n",
        "  pred_sent.extend([pred_prob.item() for pred_prob in probs.flatten()])\n",
        "  sum_test_loss += loss.item()\n",
        "\n",
        "print(f\"\\nLoss : {sum_test_loss/len(test_loader):.4f}\")\n",
        "print(f\"Accuracy : {sum_test_acc/len(test_loader.dataset):.2%}\")"
      ],
      "metadata": {
        "id": "hQ_XU4zAiAxT",
        "colab": {
          "base_uri": "https://localhost:8080/"
        },
        "outputId": "ff66bb81-4438-4a87-cdc2-de1bf024e0ef"
      },
      "execution_count": 22,
      "outputs": [
        {
          "output_type": "stream",
          "name": "stderr",
          "text": [
            "100%|██████████| 235/235 [00:47<00:00,  4.96it/s]"
          ]
        },
        {
          "output_type": "stream",
          "name": "stdout",
          "text": [
            "\n",
            "Loss : 0.2549\n",
            "Accuracy : 90.63%\n"
          ]
        },
        {
          "output_type": "stream",
          "name": "stderr",
          "text": [
            "\n"
          ]
        }
      ]
    },
    {
      "cell_type": "markdown",
      "source": [
        "On peut tracer les boxplots des probabilités prédites pour les critiques négatives et positives. Il y a quelques critiques (par rapport à la taille du jeu de test) avec une probabilité contre-intuitive par rapport à leur appréciation, mais la majorité semble concentré sur les pôles adéquats."
      ],
      "metadata": {
        "id": "ig6cSCd7cFyh"
      }
    },
    {
      "cell_type": "code",
      "source": [
        "real_sent = np.array(real_sent)\n",
        "pred_sent = np.array(pred_sent)\n",
        "unique_real_sent = list(set(real_sent))\n",
        "binned_pred_sent = [np.array(pred_sent)[np.where(real_sent == sent)[0]]\n",
        "                    for sent in unique_real_sent]\n",
        "\n",
        "plt.rcParams[\"figure.figsize\"] = [12, 9]\n",
        "plt.boxplot(binned_pred_sent, positions=unique_real_sent)\n",
        "plt.show()"
      ],
      "metadata": {
        "id": "ZKsTbx6djbZ2",
        "colab": {
          "base_uri": "https://localhost:8080/",
          "height": 753
        },
        "outputId": "4b8a5dc2-b714-479b-e851-79a46704f25b"
      },
      "execution_count": 23,
      "outputs": [
        {
          "output_type": "display_data",
          "data": {
            "text/plain": [
              "<Figure size 1200x900 with 1 Axes>"
            ],
            "image/png": "[encoded data removed]"
          },
          "metadata": {}
        }
      ]
    },
    {
      "cell_type": "markdown",
      "source": [
        "On sauve maintenant le modèle dans le drive, afin de pouvoir l'utiliser dans la deuxième partie sans la phase d'entrainement."
      ],
      "metadata": {
        "id": "LPwhVscOcbLG"
      }
    },
    {
      "cell_type": "code",
      "source": [
        "# model_path = \"/content/drive/MyDrive/Colab Notebooks/ml_data/\" \\\n",
        "#              \"TP12/sent_analyser_bert_base.pt\"\n",
        "model_path = \"/content/drive/MyDrive/Colab Notebooks/ml_data/\" \\\n",
        "             \"TP12/sent_analyser_bert_mini.pt\"\n",
        "torch.save({\"model_state_dict\": my_model.state_dict(),\n",
        "            \"optimizer_tat_dict\": optimizer.state_dict(),\n",
        "            \"scheduler_state_dict\": scheduler.state_dict()},\n",
        "            model_path)"
      ],
      "metadata": {
        "id": "pgJ7Kojseybs"
      },
      "execution_count": 24,
      "outputs": []
    },
    {
      "cell_type": "markdown",
      "source": [
        "---"
      ],
      "metadata": {
        "id": "E2f6kR64h6IG"
      }
    },
    {
      "cell_type": "markdown",
      "source": [
        "## 2. Utilisation du modèle pour l'analyse des sentiments\n",
        "\n",
        "Passons maintenant à la partie où nous allons utiliser notre modèle d'analyse des sentiments sur le corpus des Misérables.\n",
        "\n",
        "Comme cette deuxième partie peut être utilisée de manière indépendante de la première partie, nous allons redéfinir ici plusieurs éléments, tout en rechargeant le modèle entrainé."
      ],
      "metadata": {
        "id": "LYYA1-H6cv4B"
      }
    },
    {
      "cell_type": "code",
      "source": [
        "# --- Le nom du modèle à charger\n",
        "\n",
        "model_name = \"prajjwal1/bert-mini\"\n",
        "model_path = \"/content/drive/MyDrive/Colab Notebooks/ml_data/\" \\\n",
        "              \"TP12/sent_analyser_bert_mini.pt\"\n",
        "# model_name = \"bert-base-uncased\"\n",
        "# model_path = \"/content/drive/MyDrive/Colab Notebooks/ml_data/\" \\\n",
        "#              \"TP12/sent_analyser_bert_base.pt\"\n",
        "\n",
        "# --- La longueur maximale des séquences\n",
        "\n",
        "max_length = 512\n",
        "\n",
        "# --- Définition du modèle et chargement\n",
        "\n",
        "class SentClassifier(nn.Module):\n",
        "\n",
        "  def __init__(self, bert_model_name):\n",
        "    super(SentClassifier, self).__init__()\n",
        "    self.bert = BertModel.from_pretrained(bert_model_name)\n",
        "    self.drop = nn.Dropout(p=0.3)\n",
        "    self.full = nn.Linear(self.bert.config.hidden_size, 1)\n",
        "\n",
        "  def forward(self, input_ids, attention_mask):\n",
        "    bert_output = self.bert(input_ids, attention_mask)\n",
        "    dropout = self.drop(bert_output[\"pooler_output\"])\n",
        "    logits = self.full(dropout)\n",
        "    return logits\n",
        "\n",
        "sent_classif = SentClassifier(model_name)\n",
        "model_dict = torch.load(model_path, map_location=torch.device(device))\n",
        "sent_classif.load_state_dict(model_dict[\"model_state_dict\"])\n",
        "\n",
        "# --- Le tokenisateur\n",
        "\n",
        "tokenizer = BertTokenizer.from_pretrained(model_name)\n",
        "\n",
        "# --- la transformation\n",
        "\n",
        "def my_transform(text, tokenizer, max_length):\n",
        "  # L'encodage\n",
        "  encoding = tokenizer.encode_plus(text, truncation=True, max_length=max_length,\n",
        "      add_special_tokens=True, return_token_type_ids=False, return_tensors=\"pt\",\n",
        "      return_attention_mask=True, padding=\"max_length\")\n",
        "  # Retour de l'encodage et du masque\n",
        "  return encoding[\"input_ids\"].flatten(), encoding[\"attention_mask\"].flatten()"
      ],
      "metadata": {
        "id": "TjTI4Qmzh3Y7",
        "colab": {
          "base_uri": "https://localhost:8080/"
        },
        "outputId": "3c76584f-87db-44ff-98af-4a37467b37c6"
      },
      "execution_count": 25,
      "outputs": [
        {
          "output_type": "stream",
          "name": "stderr",
          "text": [
            "<ipython-input-25-a10ba73fb937>:31: FutureWarning: You are using `torch.load` with `weights_only=False` (the current default value), which uses the default pickle module implicitly. It is possible to construct malicious pickle data which will execute arbitrary code during unpickling (See https://github.com/pytorch/pytorch/blob/main/SECURITY.md#untrusted-models for more details). In a future release, the default value for `weights_only` will be flipped to `True`. This limits the functions that could be executed during unpickling. Arbitrary objects will no longer be allowed to be loaded via this mode unless they are explicitly allowlisted by the user via `torch.serialization.add_safe_globals`. We recommend you start setting `weights_only=True` for any use case where you don't have full control of the loaded file. Please open an issue on GitHub for any issues related to this experimental feature.\n",
            "  model_dict = torch.load(model_path, map_location=torch.device(device))\n"
          ]
        }
      ]
    },
    {
      "cell_type": "markdown",
      "source": [
        "Définissons maintenant une classe héritée de `torch.utils.data.Dataset` qui permet de donner des entrées compatibles avec notre modèle à partir d'un livre de notre corpus. Pour cela, nous divisons notre livre en blocs, de au plus `max_length` tokens, et transformons ces blocs en tenseurs grâce à notre transformation."
      ],
      "metadata": {
        "id": "LQJovF-i36MM"
      }
    },
    {
      "cell_type": "code",
      "source": [
        "class MyDocument(Dataset):\n",
        "    def __init__(self, file_path, tokenizer, max_length, transform):\n",
        "        self.file_path = file_path\n",
        "        self.tokenizer = tokenizer\n",
        "        self.max_length = max_length\n",
        "        self.transform = transform\n",
        "\n",
        "        with open(self.file_path, \"r\") as f:\n",
        "          self.text = f.read()\n",
        "\n",
        "        # On encode avec le tokenizer pour estimer le nombre de tokens\n",
        "        tokens = self.tokenizer.encode_plus(self.text)[\"input_ids\"]\n",
        "        n_tokens = len(tokens)\n",
        "        # Le nombre de blocs\n",
        "        n_blocs = int(n_tokens / max_length) + 1\n",
        "        # Les blocs résultant (avec ids des tokens)\n",
        "        id_blocs = np.array_split(tokens[1:-1], n_blocs)\n",
        "        # On converti à nouveau en texte\n",
        "        self.blocs = [\" \".join(self.tokenizer.convert_ids_to_tokens(id_bloc))\n",
        "                      for id_bloc in id_blocs]\n",
        "\n",
        "    def __len__(self):\n",
        "        return len(self.blocs)\n",
        "\n",
        "    def __getitem__(self, idx):\n",
        "        return self.transform(self.blocs[idx], self.tokenizer, self.max_length)"
      ],
      "metadata": {
        "id": "U2JFXlyI09iS"
      },
      "execution_count": 26,
      "outputs": []
    },
    {
      "cell_type": "markdown",
      "source": [
        "On teste notre classe Dataset avec le premier livre."
      ],
      "metadata": {
        "id": "IBh6ZyC85Ry8"
      }
    },
    {
      "cell_type": "code",
      "source": [
        "file_path = \"/content/drive/MyDrive/Colab Notebooks/ml_data/TP10/\" \\\n",
        "            \"by_book/book_01.txt\"\n",
        "doc_data = MyDocument(file_path, tokenizer, max_length, my_transform)"
      ],
      "metadata": {
        "id": "NJlqIjtky5xc"
      },
      "execution_count": 27,
      "outputs": []
    },
    {
      "cell_type": "markdown",
      "source": [
        "L'entrée et le masque correspondant au premier bloc sont affichés."
      ],
      "metadata": {
        "id": "-hQN2flb5WUV"
      }
    },
    {
      "cell_type": "code",
      "source": [
        "doc_data[0]"
      ],
      "metadata": {
        "id": "L0Stsckrzj5A",
        "colab": {
          "base_uri": "https://localhost:8080/"
        },
        "outputId": "c5660821-47a2-428c-c17b-44f6070e676c"
      },
      "execution_count": 28,
      "outputs": [
        {
          "output_type": "execute_result",
          "data": {
            "text/plain": [
              "(tensor([  101,  1999, 10679,  1010,  1049,  1012,  2798,  1011,  8173,  1011,\n",
              "         29316,  1001,  1001,  2310,  2078,  1001,  1001,  1057,  2026,  1001,\n",
              "          1001, 15544,  2063,  1001,  1001,  1048,  2001,  3387,  1997,  1040,\n",
              "          1517,  1517,  2002,  2001,  2019,  2214,  2158,  1997,  2055, 10920,\n",
              "          1011,  2274,  2086,  1997,  2287,  1025,  2002,  2018,  4548,  1996,\n",
              "          2156,  1997,  1040,  1517,  1517,  2144, 12518,  1012,  2348,  2023,\n",
              "          6987,  2038,  2053,  4434,  3649,  2007,  1996,  2613,  9415,  1997,\n",
              "          2054,  2057,  2024,  2055,  2000, 14396,  1010,  2009,  2097,  2025,\n",
              "          2022,  3565,  1001,  1001, 13109,  1001,  1001,  1057,  3560,  1010,\n",
              "          2065,  6414,  2005,  1996,  8739,  1997,  6635,  1001,  1001, 23384,\n",
              "          1999,  2035,  2685,  1010,  2000,  5254,  2182,  1996,  2536, 11256,\n",
              "          1998, 12629,  2029,  2018,  2042,  1999,  9141,  2055,  2032,  2013,\n",
              "          1996,  2200,  2617,  2043,  2002,  3369,  1999,  1996,  5801,  1012,\n",
              "          2995,  2030,  6270,  1010,  2008,  2029,  2003,  2056,  1997,  2273,\n",
              "          2411, 14133,  2004,  2590,  1037,  2173,  1999,  2037,  3268,  1010,\n",
              "          1998,  2682,  2035,  1999,  2037,  4078,  1001,  1001,  9543,  1001,\n",
              "          1001, 29464,  2015,  1010,  2004,  2008,  2029,  2027,  2079,  1012,\n",
              "          1049,  1012,  2026,  1001,  1001, 15544,  2063,  1001,  1001,  1048,\n",
              "          2001,  1996,  2365,  1997,  1037, 10674,  1997,  1996,  3323,  1997,\n",
              "         28443,  1025,  6516,  2002,  6272,  2000,  1996, 11760,  1997,  1996,\n",
              "          3347,  1012,  2009,  2001,  2056,  2008,  2010,  2269,  1010,  4078,\n",
              "          1001,  1001,  9543,  1001,  1001, 13749,  2032,  2000,  2022,  1996,\n",
              "          8215,  1997,  2010,  2219,  2695,  1010,  2018,  2496,  2032,  2012,\n",
              "          1037,  2200,  2220,  2287,  1010,  7763,  2030,  3174,  1010,  1999,\n",
              "         10388,  2007,  1037,  7661,  2029,  2003,  2738,  4235, 15157,  1999,\n",
              "          5768,  2945,  1012,  1999,  8741,  1997,  2023,  3510,  1010,  2174,\n",
              "          1010,  2009,  2001,  2056,  2008,  2798,  2026,  1001,  1001, 15544,\n",
              "          2063,  1001,  1001,  1048,  2580,  1037,  2307,  3066,  1997,  2831,\n",
              "          1012,  2002,  2001,  2092,  2719,  1010,  2295,  2738,  2460,  1999,\n",
              "         21120,  1010, 11552,  1010, 19415,  1010,  9414,  1025,  1996,  2878,\n",
              "          1997,  1996,  2034,  4664,  1997,  2010,  2166,  2018,  2042,  7422,\n",
              "          2000,  1996,  2088,  1998,  2000, 22111,  1012,  1996,  4329,  2234,\n",
              "          1025,  2824,  4594,  2169,  2060,  2007, 13511,  1025,  1996,  5768,\n",
              "          2945,  1010, 11703,  1001,  1001, 10047,  4383,  1010,  9505,  1010,\n",
              "         14682,  2091,  1010,  2020, 15484,  1012,  1049,  1012,  2798,  2026,\n",
              "          1001,  1001, 15544,  2063,  1001,  1001,  1048, 11367,  2000,  3304,\n",
              "          2012,  1996,  2200,  2927,  1997,  1996,  4329,  1012,  2045,  2010,\n",
              "          2564,  2351,  1997,  1037, 28935,  1001,  1001,  1040,  2100,  1997,\n",
              "          1996,  3108,  1010,  2013,  2029,  2016,  2018,  2146,  4265,  1012,\n",
              "          2002,  2018,  2053,  2336,  1012,  2054,  2165,  2173,  2279,  1999,\n",
              "          1996,  6580,  1997,  1049,  1012,  2026,  1001,  1001, 15544,  2063,\n",
              "          1001,  1001,  1048,  1029,  1996, 10083,  1997,  1996,  2413,  2554,\n",
              "          1997,  1996,  2214,  1001,  1001,  4372,  2420,  1010,  1996,  2991,\n",
              "          1997,  2010,  2219,  2155,  1010,  1996, 13800, 21177,  1001,  1001,\n",
              "          1055,  1997,  1521,  6109,  1010,  2029,  2020,  1010,  3383,  1010,\n",
              "          2130,  2062,  8598,  1001,  1001, 13749,  2000,  1996, 12495,  1001,\n",
              "          1001,  8624,  2040,  7021,  2068,  2013,  1037,  3292,  1010,  2007,\n",
              "          1996, 23848,  1001,  1001,  9152,  1001,  1001,  1042, 14147,  4204,\n",
              "          1997,  7404,  1010,  1517,  2106,  2122,  3426,  1996,  4784,  1997,\n",
              "         14916,  1001,  1001,  4895, 23247,  1998, 22560,  2000, 16216,  1001,\n",
              "          1001, 28549,  2378,  1001,  1001,  8823,  1999,  2032,  1029,  2001,\n",
              "          2002,   102]),\n",
              " tensor([1, 1, 1, 1, 1, 1, 1, 1, 1, 1, 1, 1, 1, 1, 1, 1, 1, 1, 1, 1, 1, 1, 1, 1,\n",
              "         1, 1, 1, 1, 1, 1, 1, 1, 1, 1, 1, 1, 1, 1, 1, 1, 1, 1, 1, 1, 1, 1, 1, 1,\n",
              "         1, 1, 1, 1, 1, 1, 1, 1, 1, 1, 1, 1, 1, 1, 1, 1, 1, 1, 1, 1, 1, 1, 1, 1,\n",
              "         1, 1, 1, 1, 1, 1, 1, 1, 1, 1, 1, 1, 1, 1, 1, 1, 1, 1, 1, 1, 1, 1, 1, 1,\n",
              "         1, 1, 1, 1, 1, 1, 1, 1, 1, 1, 1, 1, 1, 1, 1, 1, 1, 1, 1, 1, 1, 1, 1, 1,\n",
              "         1, 1, 1, 1, 1, 1, 1, 1, 1, 1, 1, 1, 1, 1, 1, 1, 1, 1, 1, 1, 1, 1, 1, 1,\n",
              "         1, 1, 1, 1, 1, 1, 1, 1, 1, 1, 1, 1, 1, 1, 1, 1, 1, 1, 1, 1, 1, 1, 1, 1,\n",
              "         1, 1, 1, 1, 1, 1, 1, 1, 1, 1, 1, 1, 1, 1, 1, 1, 1, 1, 1, 1, 1, 1, 1, 1,\n",
              "         1, 1, 1, 1, 1, 1, 1, 1, 1, 1, 1, 1, 1, 1, 1, 1, 1, 1, 1, 1, 1, 1, 1, 1,\n",
              "         1, 1, 1, 1, 1, 1, 1, 1, 1, 1, 1, 1, 1, 1, 1, 1, 1, 1, 1, 1, 1, 1, 1, 1,\n",
              "         1, 1, 1, 1, 1, 1, 1, 1, 1, 1, 1, 1, 1, 1, 1, 1, 1, 1, 1, 1, 1, 1, 1, 1,\n",
              "         1, 1, 1, 1, 1, 1, 1, 1, 1, 1, 1, 1, 1, 1, 1, 1, 1, 1, 1, 1, 1, 1, 1, 1,\n",
              "         1, 1, 1, 1, 1, 1, 1, 1, 1, 1, 1, 1, 1, 1, 1, 1, 1, 1, 1, 1, 1, 1, 1, 1,\n",
              "         1, 1, 1, 1, 1, 1, 1, 1, 1, 1, 1, 1, 1, 1, 1, 1, 1, 1, 1, 1, 1, 1, 1, 1,\n",
              "         1, 1, 1, 1, 1, 1, 1, 1, 1, 1, 1, 1, 1, 1, 1, 1, 1, 1, 1, 1, 1, 1, 1, 1,\n",
              "         1, 1, 1, 1, 1, 1, 1, 1, 1, 1, 1, 1, 1, 1, 1, 1, 1, 1, 1, 1, 1, 1, 1, 1,\n",
              "         1, 1, 1, 1, 1, 1, 1, 1, 1, 1, 1, 1, 1, 1, 1, 1, 1, 1, 1, 1, 1, 1, 1, 1,\n",
              "         1, 1, 1, 1, 1, 1, 1, 1, 1, 1, 1, 1, 1, 1, 1, 1, 1, 1, 1, 1, 1, 1, 1, 1,\n",
              "         1, 1, 1, 1, 1, 1, 1, 1, 1, 1, 1, 1, 1, 1, 1, 1, 1, 1, 1, 1, 1, 1, 1, 1,\n",
              "         1, 1, 1, 1, 1, 1, 1, 1, 1, 1, 1, 1, 1, 1, 1, 1, 1, 1, 1, 1, 1, 1, 1, 1,\n",
              "         1, 1, 1, 1, 1, 1, 1, 1, 1, 1, 1, 1, 1, 1, 1, 1, 1, 1, 1, 1, 1, 1, 1, 1,\n",
              "         1, 1, 1, 1, 1, 1, 1, 1]))"
            ]
          },
          "metadata": {},
          "execution_count": 28
        }
      ]
    },
    {
      "cell_type": "markdown",
      "source": [
        "Regardons si nous pouvons passer une entrée dans notre modèle, pour voir si tout fonctionne."
      ],
      "metadata": {
        "id": "Vm7hrfA45i9t"
      }
    },
    {
      "cell_type": "code",
      "source": [
        "input, mask = doc_data[0]\n",
        "sent_classif.eval()\n",
        "sent_classif(input.unsqueeze(0), mask.unsqueeze(0))"
      ],
      "metadata": {
        "id": "7UdWUJ8P0Qnx",
        "colab": {
          "base_uri": "https://localhost:8080/"
        },
        "outputId": "bc41ccf1-e176-414f-a058-3b6402b8c7c6"
      },
      "execution_count": 29,
      "outputs": [
        {
          "output_type": "execute_result",
          "data": {
            "text/plain": [
              "tensor([[3.3615]], grad_fn=<AddmmBackward0>)"
            ]
          },
          "metadata": {},
          "execution_count": 29
        }
      ]
    },
    {
      "cell_type": "markdown",
      "source": [
        "Nous créons maintenant une fonction qui prend une instance de notre classe Dataset en entrée et permet d'estimer le sentiment de chaque bloc."
      ],
      "metadata": {
        "id": "kyswABe25ode"
      }
    },
    {
      "cell_type": "code",
      "source": [
        "def get_sentiments(file_data, model, batch_size):\n",
        "  file_data_loader = DataLoader(file_data, batch_size)\n",
        "\n",
        "  file_sents = []\n",
        "  model.eval()\n",
        "  for inputs, masks in file_data_loader:\n",
        "    logits = model(inputs, masks).detach()\n",
        "    probs = torch.sigmoid(logits)\n",
        "    file_sents.extend(probs.flatten().tolist())\n",
        "\n",
        "  return file_sents"
      ],
      "metadata": {
        "id": "GV7t44c1O7c0"
      },
      "execution_count": 30,
      "outputs": []
    },
    {
      "cell_type": "markdown",
      "source": [
        "On va executer cette fonction sur tout notre corpus, et sauvegarder les sentiments prédits dans une liste (livre) de liste (blocs)."
      ],
      "metadata": {
        "id": "CIg-nbs153bG"
      }
    },
    {
      "cell_type": "code",
      "source": [
        "corpus_path = \"/content/drive/MyDrive/Colab Notebooks/ml_data/TP10/by_book\"\n",
        "batch_size = 64\n",
        "\n",
        "file_names = os.listdir(corpus_path)\n",
        "file_names.sort()\n",
        "\n",
        "corpus_sents = []\n",
        "for i, file_name in tqdm(enumerate(file_names)):\n",
        "\n",
        "  file_path = f\"{corpus_path}/{file_name}\"\n",
        "  file_data = MyDocument(file_path, tokenizer, max_length, my_transform)\n",
        "  file_sents = get_sentiments(file_data, sent_classif, batch_size)\n",
        "\n",
        "  corpus_sents.append(file_sents)"
      ],
      "metadata": {
        "id": "g4TLPIsbDiv-",
        "colab": {
          "base_uri": "https://localhost:8080/"
        },
        "outputId": "22241ea8-846d-4627-daa9-b394b0e0828e"
      },
      "execution_count": 31,
      "outputs": [
        {
          "output_type": "stream",
          "name": "stderr",
          "text": [
            "49it [02:08,  2.63s/it]\n"
          ]
        }
      ]
    },
    {
      "cell_type": "markdown",
      "source": [
        "On affiche le sentiment calculé sur chaque bloc, avec une moyenne mobile sur une fenêtre de `ma_window_size`. De plus, les sentiments moyens de chaque livre et du corpus sont calculés."
      ],
      "metadata": {
        "id": "8EkGdfcg6C8W"
      }
    },
    {
      "cell_type": "code",
      "source": [
        "ma_window_size = 5\n",
        "\n",
        "nx_grid = int(np.sqrt(len(corpus_sents)))\n",
        "ny_grid= int(np.ceil(len(corpus_sents) / nx_grid))\n",
        "plt.rcParams[\"figure.figsize\"] = [ny_grid*2, nx_grid*1.5]\n",
        "\n",
        "fig = plt.figure()\n",
        "grid_layout = GridSpec(nx_grid, ny_grid)\n",
        "\n",
        "total_sent, total_part = 0, 0\n",
        "for i, file_sents in enumerate(corpus_sents):\n",
        "\n",
        "  # Pour calculer la moyenne mobile\n",
        "  mov_avg_df = pd.Series(file_sents).rolling(ma_window_size, min_periods=1)\n",
        "  mov_avg = mov_avg_df.mean().to_list()\n",
        "\n",
        "  x_range = list(range(1, len(file_sents) + 1))\n",
        "\n",
        "  ax = fig.add_subplot(grid_layout[i])\n",
        "  ax.bar(x_range, file_sents, alpha=0.5)\n",
        "  ax.plot(x_range, mov_avg, color=\"red\")\n",
        "  ax.set_ylim([0, 1])\n",
        "  ax.set_title(f\"Livre {i}, Sent={np.mean(file_sents):.3f}\")\n",
        "\n",
        "  # On fait la somme du sentiment et comptons le nombre de blocs\n",
        "  total_sent += np.sum(file_sents)\n",
        "  total_part += len(file_sents)\n",
        "\n",
        "grid_layout.tight_layout(fig)\n",
        "\n",
        "print(f\"Sentiment moyen total = {total_sent/total_part:.3f}\")"
      ],
      "metadata": {
        "id": "S2xWHZ0rp4xr",
        "colab": {
          "base_uri": "https://localhost:8080/",
          "height": 1000
        },
        "outputId": "6aaf2a98-f8ed-4a8f-adab-5836231fe003"
      },
      "execution_count": 32,
      "outputs": [
        {
          "output_type": "stream",
          "name": "stdout",
          "text": [
            "Sentiment moyen total = 0.535\n"
          ]
        },
        {
          "output_type": "display_data",
          "data": {
            "text/plain": [
              "<Figure size 1400x1050 with 49 Axes>"
            ],
            "image/png": "[encoded data removed]"
          },
          "metadata": {}
        }
      ]
    },
    {
      "cell_type": "markdown",
      "source": [
        "---"
      ],
      "metadata": {
        "id": "KdnZ_HtXOcZh"
      }
    }
  ]
}