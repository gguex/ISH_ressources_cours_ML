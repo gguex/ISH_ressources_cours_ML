{
  "nbformat": 4,
  "nbformat_minor": 0,
  "metadata": {
    "colab": {
      "provenance": [],
      "gpuType": "T4",
      "mount_file_id": "11PZffCG2uoFOwOlaG9QOou5isUgdL-KB",
      "authorship_tag": "ABX9TyPIq3yOPdq7iTbk7gMwDAzB",
      "include_colab_link": true
    },
    "kernelspec": {
      "name": "python3",
      "display_name": "Python 3"
    },
    "language_info": {
      "name": "python"
    },
    "accelerator": "GPU"
  },
  "cells": [
    {
      "cell_type": "markdown",
      "metadata": {
        "id": "view-in-github",
        "colab_type": "text"
      },
      "source": [
        "<a href=\"https://colab.research.google.com/github/gguex/ISH_ressources_cours_ML/blob/main/TP08_introduction_a_pytorch.ipynb\" target=\"_parent\"><img src=\"https://colab.research.google.com/assets/colab-badge.svg\" alt=\"Open In Colab\"/></a>"
      ]
    },
    {
      "cell_type": "markdown",
      "source": [
        "# TP 8 : Introduction à PyTorch\n",
        "\n",
        "Dans ce TP, nous allons voir comment prendre en main PyTorch (https://pytorch.org/). PyTorch, à l'instar de TansorFlow, Keras, Theano et Caffe, est une librarie de Machine Learning en Python spécialement conçue pour créer des réseaux de neurones. Elle est souvent utilisée dans le monde académique car elle possède une architecture flexible et est rapide, mais son style reste néanmoins très \"pythonique\".\n",
        "\n",
        "Ce TP est divisé en trois parties :\n",
        "\n",
        "1. Les Tenseurs : Les tenseurs sont les variables utilisées par PyTorch (et par beaucoup de librairies de Machine Learning). Ce sont des tableaux de données à plusieurs dimensions, similaires aux arrays dans numpy, mais avec quelques spécificités en plus. Les opérations sur les tenseurs constituent les fondations des librairies telles que PyTorch.\n",
        "2. les Données : PyTorch permet de structurer et de manipuler les données à l'aide des classe `Datasets` et `DataLoaders`. L'utilisation de transformations permet d'isoler les opérations de pré-traitement effectuées sur le données.\n",
        "3. Les Modèles : Nous verrons ici comment charger des modèles pré-traités, faire son propre modèle, puis comment l'entrainer et l'évaluer. Nous verrons également les opérations de sauvegarde et chargement de ces derniers.\n",
        "\n",
        "N'hésitez pas à prendre le temps de faire et refaire ce TP, tout en jouant avec le code. PyTorch est une librairie qui demande un certain temps d'adaptation."
      ],
      "metadata": {
        "id": "UwghwpWkl3-w"
      }
    },
    {
      "cell_type": "markdown",
      "source": [
        "Les libraires et modules nécessaires pour ce TP sont les suivants."
      ],
      "metadata": {
        "id": "SGejkxb-qSdt"
      }
    },
    {
      "cell_type": "code",
      "execution_count": 1,
      "metadata": {
        "id": "emBNMQs2dEMW"
      },
      "outputs": [],
      "source": [
        "import pandas as pd\n",
        "import numpy as np\n",
        "import matplotlib.pyplot as plt\n",
        "# La libraire pytorch, qui contient de nombreux sous-modules\n",
        "import torch\n",
        "# Il y a trois librairies complémentaires dans PyTorch : torchvision, torchtext\n",
        "# et torchaudio. Ces dernières contiennent des datasets, modèles, et fonctions\n",
        "# spécifiques, respectivement, à l'image, au texte et à l'audio.\n",
        "from torchvision import datasets\n",
        "from torchvision import transforms\n",
        "from torchvision import models\n",
        "# Ces fonctions et classes nous permettent de traiter les jeux de données\n",
        "from torch.utils.data import Dataset, DataLoader, random_split\n",
        "# Grâce au module torch.nn, on peut construire des réseaux de neurones.\n",
        "import torch.nn as nn\n",
        "# On abrège fréquemment le module torch.nn.functional aussi, qui contient les\n",
        "# fonctionnelles.\n",
        "import torch.nn.functional as F\n",
        "# Ce module permet de charger des images et de les mettres dans des objets \"PIL\"\n",
        "from PIL import Image"
      ]
    },
    {
      "cell_type": "markdown",
      "source": [
        "Une des grandes forces des librairies telles que PyTorch est de pouvoir utiliser les GPU (Graphical Processing Units) ou les TPU (Tensor Processing Units) des machines. Ces GPU et TPU accèlèrent très fortement les opérations effectuées sur les tenseurs et donc l'entrainement des modèles.\n",
        "\n",
        "Pour activer le calcul GPU ou CPU sur Colab, vous devez tout d'abord modifier le type d'exécution dans le menu **Exécution -> Modifier le type d'éxécution**, puis choisir une option dans le menu déroulant **Accélérateur matériel**. Notez qu'avec la version gratuite de Colab, vous n'allez pas toujours avoir accès à ces cartes (les TPU sont particulièrement difficiles à avoir).\n",
        "\n",
        "Sur votre machine personnelle, il vous faut une carte GPU et TPU installée, puis suivre les instructions que vous pouvez trouver sous : https://pytorch.org/get-started/locally/. Notez que mettre tout en place pour bénéficier d'une accélération matérielle sur un ordinateur personnel peut être une opération longue et fastidieuse.\n",
        "\n",
        "Le code suivant permet d'enregistrer le dispositif (`device`) qui va effectuer les calculs en regardant automatiquement si vous avez accès à une carte graphique ou tensorielle (qui utilise alors la librairie `cuda`). La variable `device` stockant le dispositif utilisé va être réutilisée tout le long de ce code."
      ],
      "metadata": {
        "id": "Uk3Ks4vPvOS6"
      }
    },
    {
      "cell_type": "code",
      "source": [
        "device = \"cuda\" if torch.cuda.is_available() else \"cpu\"\n",
        "print(device)"
      ],
      "metadata": {
        "colab": {
          "base_uri": "https://localhost:8080/"
        },
        "id": "JYR0XxQYrsQ7",
        "outputId": "09258183-39af-4f7b-9d3f-721864657e73"
      },
      "execution_count": 2,
      "outputs": [
        {
          "output_type": "stream",
          "name": "stdout",
          "text": [
            "cuda\n"
          ]
        }
      ]
    },
    {
      "cell_type": "markdown",
      "source": [
        "---"
      ],
      "metadata": {
        "id": "-ISFaIUJMhHO"
      }
    },
    {
      "cell_type": "markdown",
      "source": [
        "## 1. Les Tenseurs\n",
        "\n",
        "Les tensors s'apparentent au *arrays* de numpy : ce sont également des tableaux multidimensionnels qui contiennent qu'un seul type de données. Ils ont cependant deux fonctionnalités fondamentales qui font qu'ils sont utilisés pour créer des modèles de machine learning : leurs calculs peuvent être accélérés matériellement (GPU ou TPU) et ils possèdent un méchanisme de *differentiation automatique*.  \n",
        "\n",
        "Dans cette partie, nous allons voir comment créer, manipuler et faire des calculs avec des tenseurs. On peut trouver la liste exhaustive des opérations sur les tenseurs sous https://pytorch.org/docs/stable/tensors.html#torch.Tensor."
      ],
      "metadata": {
        "id": "8jG5t27CnQUG"
      }
    },
    {
      "cell_type": "markdown",
      "source": [
        "### 1.1 Création et Attributs"
      ],
      "metadata": {
        "id": "akdlGQKzrJRI"
      }
    },
    {
      "cell_type": "markdown",
      "source": [
        "On peut créer des tenseurs avec `torch.tensor()` et à partir de liste multidimentionnelles (ou à partir d'*arrays* numpy). Ils peuvent contenir des nombres entiers, des nombres à virgule ou des booléens."
      ],
      "metadata": {
        "id": "aUxvbIpX03kt"
      }
    },
    {
      "cell_type": "code",
      "source": [
        "x = torch.tensor([[1.1, 2.2, 3.3],\n",
        "                  [4.4, 5.5, 6.6],\n",
        "                  [7.7, 8.8, 9.9]])\n",
        "y = torch.tensor([[[1, 2, 3, 4],\n",
        "                   [5, 6, 7, 8]],\n",
        "                  [[9, 10, 11, 12],\n",
        "                   [13, 14, 15, 16]],\n",
        "                  [[17, 18, 19, 20],\n",
        "                   [21, 22, 23, 24]]])\n",
        "z = torch.tensor([True, False, True])\n",
        "print(x)\n",
        "print(y)\n",
        "print(z)"
      ],
      "metadata": {
        "id": "wHVyonl1_EGX",
        "colab": {
          "base_uri": "https://localhost:8080/"
        },
        "outputId": "ec5a9457-f743-49bf-b1e5-42ebd8190905"
      },
      "execution_count": 3,
      "outputs": [
        {
          "output_type": "stream",
          "name": "stdout",
          "text": [
            "tensor([[1.1000, 2.2000, 3.3000],\n",
            "        [4.4000, 5.5000, 6.6000],\n",
            "        [7.7000, 8.8000, 9.9000]])\n",
            "tensor([[[ 1,  2,  3,  4],\n",
            "         [ 5,  6,  7,  8]],\n",
            "\n",
            "        [[ 9, 10, 11, 12],\n",
            "         [13, 14, 15, 16]],\n",
            "\n",
            "        [[17, 18, 19, 20],\n",
            "         [21, 22, 23, 24]]])\n",
            "tensor([ True, False,  True])\n"
          ]
        }
      ]
    },
    {
      "cell_type": "markdown",
      "source": [
        "Les tenseurs possèdent de nombreux attributs, les plus utilisés sont :\n",
        "* shape : la taille dans les différentes dimensions du tenseur.\n",
        "* dtype : le type de données du tenseur\n",
        "* ndim : le nombre de dimensions du tenseur"
      ],
      "metadata": {
        "id": "hicCMWrH1cdX"
      }
    },
    {
      "cell_type": "code",
      "source": [
        "print(f\"x.shape = {x.shape}\")\n",
        "print(f\"x.dtype = {x.dtype}\")\n",
        "print(f\"x.ndim = {x.ndim}\")\n",
        "print(f\"y.shape = {y.shape}\")\n",
        "print(f\"y.dtype = {y.dtype}\")\n",
        "print(f\"y.ndim = {y.ndim}\")\n",
        "print(f\"x.shape = {z.shape}\")\n",
        "print(f\"x.dtype = {z.dtype}\")\n",
        "print(f\"x.ndim = {z.ndim}\")"
      ],
      "metadata": {
        "colab": {
          "base_uri": "https://localhost:8080/"
        },
        "id": "YN9P7me5pMFy",
        "outputId": "3f94eb9e-2b1d-45d4-dc8c-1f4b0e768e74"
      },
      "execution_count": 4,
      "outputs": [
        {
          "output_type": "stream",
          "name": "stdout",
          "text": [
            "x.shape = torch.Size([3, 3])\n",
            "x.dtype = torch.float32\n",
            "x.ndim = 2\n",
            "y.shape = torch.Size([3, 2, 4])\n",
            "y.dtype = torch.int64\n",
            "y.ndim = 3\n",
            "x.shape = torch.Size([3])\n",
            "x.dtype = torch.bool\n",
            "x.ndim = 1\n"
          ]
        }
      ]
    },
    {
      "cell_type": "markdown",
      "source": [
        "Plusieurs fonctions permettent de créer des tenseurs particuliers. Par exemple,  `torch.zeros(size)` va créer un tenseur nul avec la forme définie par `size`."
      ],
      "metadata": {
        "id": "Q1D332mg2BmQ"
      }
    },
    {
      "cell_type": "code",
      "source": [
        "print(torch.zeros((2, 3, 4)))"
      ],
      "metadata": {
        "colab": {
          "base_uri": "https://localhost:8080/"
        },
        "id": "rANnwPhBov4S",
        "outputId": "151440f4-83e7-4394-c241-575cb33dfbd5"
      },
      "execution_count": 5,
      "outputs": [
        {
          "output_type": "stream",
          "name": "stdout",
          "text": [
            "tensor([[[0., 0., 0., 0.],\n",
            "         [0., 0., 0., 0.],\n",
            "         [0., 0., 0., 0.]],\n",
            "\n",
            "        [[0., 0., 0., 0.],\n",
            "         [0., 0., 0., 0.],\n",
            "         [0., 0., 0., 0.]]])\n"
          ]
        }
      ]
    },
    {
      "cell_type": "markdown",
      "source": [
        "`torch.ones(size)` fait de même avec un tenseur contenant que des 1."
      ],
      "metadata": {
        "id": "cVwaYAIL2r7a"
      }
    },
    {
      "cell_type": "code",
      "source": [
        "print(torch.ones(2))"
      ],
      "metadata": {
        "colab": {
          "base_uri": "https://localhost:8080/"
        },
        "id": "CHla6I1vo8Db",
        "outputId": "318614d0-f8a3-4f6c-e099-5ea8c20e14d1"
      },
      "execution_count": 6,
      "outputs": [
        {
          "output_type": "stream",
          "name": "stdout",
          "text": [
            "tensor([1., 1.])\n"
          ]
        }
      ]
    },
    {
      "cell_type": "markdown",
      "source": [
        "La fonction `torch.eye(n)` crée une matrice identité de taille $n \\times n$."
      ],
      "metadata": {
        "id": "CXZ_B0yb23Nr"
      }
    },
    {
      "cell_type": "code",
      "source": [
        "print(torch.eye(3))"
      ],
      "metadata": {
        "colab": {
          "base_uri": "https://localhost:8080/"
        },
        "id": "W7bMHj6Yo-_6",
        "outputId": "e528b9e6-8aae-4d8d-ce47-9f5604033f67"
      },
      "execution_count": 7,
      "outputs": [
        {
          "output_type": "stream",
          "name": "stdout",
          "text": [
            "tensor([[1., 0., 0.],\n",
            "        [0., 1., 0.],\n",
            "        [0., 0., 1.]])\n"
          ]
        }
      ]
    },
    {
      "cell_type": "markdown",
      "source": [
        "### 1.2 Indexation et Opérations\n",
        "\n",
        "L'indexation et les opérations sur des tenseurs partagent de nombreux points commun avec les *arrays* de numpy."
      ],
      "metadata": {
        "id": "2974QY-csQ31"
      }
    },
    {
      "cell_type": "code",
      "source": [
        "a = torch.tensor([[1.1, 2.2, 3.3],\n",
        "                  [4.4, 5.5, 6.6],\n",
        "                  [7.7, 8.8, 9.9]])\n",
        "b = torch.tensor([[10, 100, 1000],\n",
        "                  [20, 200, 2000],\n",
        "                  [30, 300, 3000]])\n",
        "c = torch.tensor([1, 10, 100])"
      ],
      "metadata": {
        "id": "DQgpYD7MuWnQ"
      },
      "execution_count": 8,
      "outputs": []
    },
    {
      "cell_type": "markdown",
      "source": [
        "L'indexation se fait avec les crochets, avec un indiçage dans l'ordre des dimensions. Notez que l'on peut utiliser un *slicing* de type `start:end:step` sur n'importe quelle dimension. Lorsque l'on a un seul nombre dans un tenseur, on peut l'obtenir avec la méthode `item()`."
      ],
      "metadata": {
        "id": "OgcdJoHK4c7t"
      }
    },
    {
      "cell_type": "code",
      "source": [
        "print(a[0, 0])\n",
        "print(a[0, 0].item())\n",
        "print(a[0:2, 1:3])\n",
        "print(a[0:3:2, 0])\n",
        "print(b[1]) # c'est une liste emboitée\n",
        "print(b[1, :]) # même chose\n",
        "print(b[:, 0])"
      ],
      "metadata": {
        "colab": {
          "base_uri": "https://localhost:8080/"
        },
        "id": "cblRw_xpw6YI",
        "outputId": "5122ebd0-0ed7-4d86-96be-c72a6ed03eaa"
      },
      "execution_count": 9,
      "outputs": [
        {
          "output_type": "stream",
          "name": "stdout",
          "text": [
            "tensor(1.1000)\n",
            "1.100000023841858\n",
            "tensor([[2.2000, 3.3000],\n",
            "        [5.5000, 6.6000]])\n",
            "tensor([1.1000, 7.7000])\n",
            "tensor([  20,  200, 2000])\n",
            "tensor([  20,  200, 2000])\n",
            "tensor([10, 20, 30])\n"
          ]
        }
      ]
    },
    {
      "cell_type": "markdown",
      "source": [
        "Notez que l'on peut aussi accèder aux éléments en soumettant un tenseur de booléens."
      ],
      "metadata": {
        "id": "4A9fI5Dy5Svv"
      }
    },
    {
      "cell_type": "code",
      "source": [
        "print(c[torch.tensor([True, False, True])])\n",
        "print(b[:, torch.tensor([False, True, True])])"
      ],
      "metadata": {
        "colab": {
          "base_uri": "https://localhost:8080/"
        },
        "id": "7ZcZaVNbxy2K",
        "outputId": "b83e9c0b-5e26-4f5b-f762-80513c921052"
      },
      "execution_count": 10,
      "outputs": [
        {
          "output_type": "stream",
          "name": "stdout",
          "text": [
            "tensor([  1, 100])\n",
            "tensor([[ 100, 1000],\n",
            "        [ 200, 2000],\n",
            "        [ 300, 3000]])\n"
          ]
        }
      ]
    },
    {
      "cell_type": "markdown",
      "source": [
        "Les opérateurs usuels ainsi que certaines fonctions de calcul s'appliquent composantes par composantes sur les tenseurs. Si un tenseur utilisé lors d'un calcul est plus petit qu'un autre, on va dupliquer le tenseur plus petit jusqu'à qu'il soit de la même taille que le grand. On appelle cette opération le *casting*."
      ],
      "metadata": {
        "id": "TBWbfFj753n9"
      }
    },
    {
      "cell_type": "code",
      "source": [
        "print(b / 100)\n",
        "print(a + b)\n",
        "print(a.add(b)) # correspond à a + b\n",
        "print(torch.log(a))\n",
        "print(a * c) # casting"
      ],
      "metadata": {
        "colab": {
          "base_uri": "https://localhost:8080/"
        },
        "id": "pe25CFdKnn8r",
        "outputId": "0c6d84f4-37a7-4b79-ddd0-388b7b9f6e0b"
      },
      "execution_count": 11,
      "outputs": [
        {
          "output_type": "stream",
          "name": "stdout",
          "text": [
            "tensor([[ 0.1000,  1.0000, 10.0000],\n",
            "        [ 0.2000,  2.0000, 20.0000],\n",
            "        [ 0.3000,  3.0000, 30.0000]])\n",
            "tensor([[  11.1000,  102.2000, 1003.3000],\n",
            "        [  24.4000,  205.5000, 2006.6000],\n",
            "        [  37.7000,  308.8000, 3009.8999]])\n",
            "tensor([[  11.1000,  102.2000, 1003.3000],\n",
            "        [  24.4000,  205.5000, 2006.6000],\n",
            "        [  37.7000,  308.8000, 3009.8999]])\n",
            "tensor([[0.0953, 0.7885, 1.1939],\n",
            "        [1.4816, 1.7047, 1.8871],\n",
            "        [2.0412, 2.1748, 2.2925]])\n",
            "tensor([[  1.1000,  22.0000, 330.0000],\n",
            "        [  4.4000,  55.0000, 660.0000],\n",
            "        [  7.7000,  88.0000, 989.9999]])\n"
          ]
        }
      ]
    },
    {
      "cell_type": "markdown",
      "source": [
        "Les opérateurs logiques fonctionnent également sur les tenseurs, ce qui permet d'avoir une syntaxe élégante pour sélectionner des composantes vérifiant une certaine propriété."
      ],
      "metadata": {
        "id": "dRBXhhOS7Qzj"
      }
    },
    {
      "cell_type": "code",
      "source": [
        "print(a < (b / 100))\n",
        "print(a[a < 5])"
      ],
      "metadata": {
        "colab": {
          "base_uri": "https://localhost:8080/"
        },
        "id": "tquy-RJxogTM",
        "outputId": "43d8dcd2-af96-4ae1-ba96-3e3ff551de62"
      },
      "execution_count": 12,
      "outputs": [
        {
          "output_type": "stream",
          "name": "stdout",
          "text": [
            "tensor([[False, False,  True],\n",
            "        [False, False,  True],\n",
            "        [False, False,  True]])\n",
            "tensor([1.1000, 2.2000, 3.3000, 4.4000])\n"
          ]
        }
      ]
    },
    {
      "cell_type": "markdown",
      "source": [
        "On peut également faire des opérations sur les marges des tenseurs."
      ],
      "metadata": {
        "id": "gm09TaCn7fXE"
      }
    },
    {
      "cell_type": "code",
      "source": [
        "print(b.sum())\n",
        "print(b.sum(dim=0))\n",
        "print(a.mean(dim=0))\n",
        "print(a.max(dim=1))\n",
        "print(a.argmax(dim=1))"
      ],
      "metadata": {
        "colab": {
          "base_uri": "https://localhost:8080/"
        },
        "id": "CAPjBQKzzjT_",
        "outputId": "b6bbbd87-79dd-43fc-9ac8-5c9c1220ecee"
      },
      "execution_count": 13,
      "outputs": [
        {
          "output_type": "stream",
          "name": "stdout",
          "text": [
            "tensor(6660)\n",
            "tensor([  60,  600, 6000])\n",
            "tensor([4.4000, 5.5000, 6.6000])\n",
            "torch.return_types.max(\n",
            "values=tensor([3.3000, 6.6000, 9.9000]),\n",
            "indices=tensor([2, 2, 2]))\n",
            "tensor([2, 2, 2])\n"
          ]
        }
      ]
    },
    {
      "cell_type": "markdown",
      "source": [
        "Il existe des opérations pour créer des tenseurs à partir d'autres, en les empilants ou en séparant des tenseurs."
      ],
      "metadata": {
        "id": "dgpg1x607d3y"
      }
    },
    {
      "cell_type": "code",
      "source": [
        "print(torch.cat([a, b])) # empilement par ligne\n",
        "print(torch.cat([a, b], axis=1)) # empilement par colonne\n",
        "print(torch.stack([a, b])) # une nouvelle dimension contenant les deux tenseurs\n",
        "print(b.unbind(dim=1)) # séparation selon la dimension"
      ],
      "metadata": {
        "colab": {
          "base_uri": "https://localhost:8080/"
        },
        "id": "pFUXo3Z-zqBS",
        "outputId": "4ca82d86-bf62-4250-e0b9-fd07b29df77a"
      },
      "execution_count": 14,
      "outputs": [
        {
          "output_type": "stream",
          "name": "stdout",
          "text": [
            "tensor([[1.1000e+00, 2.2000e+00, 3.3000e+00],\n",
            "        [4.4000e+00, 5.5000e+00, 6.6000e+00],\n",
            "        [7.7000e+00, 8.8000e+00, 9.9000e+00],\n",
            "        [1.0000e+01, 1.0000e+02, 1.0000e+03],\n",
            "        [2.0000e+01, 2.0000e+02, 2.0000e+03],\n",
            "        [3.0000e+01, 3.0000e+02, 3.0000e+03]])\n",
            "tensor([[1.1000e+00, 2.2000e+00, 3.3000e+00, 1.0000e+01, 1.0000e+02, 1.0000e+03],\n",
            "        [4.4000e+00, 5.5000e+00, 6.6000e+00, 2.0000e+01, 2.0000e+02, 2.0000e+03],\n",
            "        [7.7000e+00, 8.8000e+00, 9.9000e+00, 3.0000e+01, 3.0000e+02, 3.0000e+03]])\n",
            "tensor([[[1.1000e+00, 2.2000e+00, 3.3000e+00],\n",
            "         [4.4000e+00, 5.5000e+00, 6.6000e+00],\n",
            "         [7.7000e+00, 8.8000e+00, 9.9000e+00]],\n",
            "\n",
            "        [[1.0000e+01, 1.0000e+02, 1.0000e+03],\n",
            "         [2.0000e+01, 2.0000e+02, 2.0000e+03],\n",
            "         [3.0000e+01, 3.0000e+02, 3.0000e+03]]])\n",
            "(tensor([10, 20, 30]), tensor([100, 200, 300]), tensor([1000, 2000, 3000]))\n"
          ]
        }
      ]
    },
    {
      "cell_type": "markdown",
      "source": [
        "Les tenseurs peuvent également être redimensionnés"
      ],
      "metadata": {
        "id": "79eqzekA8e2b"
      }
    },
    {
      "cell_type": "code",
      "source": [
        "d = torch.cat([a, b], axis=1)\n",
        "print(d)\n",
        "print(d.view(2, 9)) # Nouvelle forme : (2, 9)\n",
        "print(d.view(-1, 2)) # Nouvelle forme : (?, 2) - le -1 désigne ce qu'il reste\n",
        "print(d.flatten()) # Applitissement en 1 dimension\n",
        "print(d.unsqueeze(0)) # Création d'une nouvelle dimension en 0"
      ],
      "metadata": {
        "colab": {
          "base_uri": "https://localhost:8080/"
        },
        "id": "TogeTqff0j--",
        "outputId": "ecba7ded-4e23-426d-a6af-dd37127cbb1d"
      },
      "execution_count": 15,
      "outputs": [
        {
          "output_type": "stream",
          "name": "stdout",
          "text": [
            "tensor([[1.1000e+00, 2.2000e+00, 3.3000e+00, 1.0000e+01, 1.0000e+02, 1.0000e+03],\n",
            "        [4.4000e+00, 5.5000e+00, 6.6000e+00, 2.0000e+01, 2.0000e+02, 2.0000e+03],\n",
            "        [7.7000e+00, 8.8000e+00, 9.9000e+00, 3.0000e+01, 3.0000e+02, 3.0000e+03]])\n",
            "tensor([[1.1000e+00, 2.2000e+00, 3.3000e+00, 1.0000e+01, 1.0000e+02, 1.0000e+03,\n",
            "         4.4000e+00, 5.5000e+00, 6.6000e+00],\n",
            "        [2.0000e+01, 2.0000e+02, 2.0000e+03, 7.7000e+00, 8.8000e+00, 9.9000e+00,\n",
            "         3.0000e+01, 3.0000e+02, 3.0000e+03]])\n",
            "tensor([[1.1000e+00, 2.2000e+00],\n",
            "        [3.3000e+00, 1.0000e+01],\n",
            "        [1.0000e+02, 1.0000e+03],\n",
            "        [4.4000e+00, 5.5000e+00],\n",
            "        [6.6000e+00, 2.0000e+01],\n",
            "        [2.0000e+02, 2.0000e+03],\n",
            "        [7.7000e+00, 8.8000e+00],\n",
            "        [9.9000e+00, 3.0000e+01],\n",
            "        [3.0000e+02, 3.0000e+03]])\n",
            "tensor([1.1000e+00, 2.2000e+00, 3.3000e+00, 1.0000e+01, 1.0000e+02, 1.0000e+03,\n",
            "        4.4000e+00, 5.5000e+00, 6.6000e+00, 2.0000e+01, 2.0000e+02, 2.0000e+03,\n",
            "        7.7000e+00, 8.8000e+00, 9.9000e+00, 3.0000e+01, 3.0000e+02, 3.0000e+03])\n",
            "tensor([[[1.1000e+00, 2.2000e+00, 3.3000e+00, 1.0000e+01, 1.0000e+02,\n",
            "          1.0000e+03],\n",
            "         [4.4000e+00, 5.5000e+00, 6.6000e+00, 2.0000e+01, 2.0000e+02,\n",
            "          2.0000e+03],\n",
            "         [7.7000e+00, 8.8000e+00, 9.9000e+00, 3.0000e+01, 3.0000e+02,\n",
            "          3.0000e+03]]])\n"
          ]
        }
      ]
    },
    {
      "cell_type": "code",
      "source": [
        "print(d.shape)\n",
        "d.unsqueeze(0).shape"
      ],
      "metadata": {
        "colab": {
          "base_uri": "https://localhost:8080/"
        },
        "id": "o9vZR374uvFZ",
        "outputId": "e2c76dc0-7264-4890-ab47-1c1f28cd0b22"
      },
      "execution_count": 16,
      "outputs": [
        {
          "output_type": "stream",
          "name": "stdout",
          "text": [
            "torch.Size([3, 6])\n"
          ]
        },
        {
          "output_type": "execute_result",
          "data": {
            "text/plain": [
              "torch.Size([1, 3, 6])"
            ]
          },
          "metadata": {},
          "execution_count": 16
        }
      ]
    },
    {
      "cell_type": "markdown",
      "source": [
        "Ils existent de nombreuses opérations matricielles possible sur les tenseurs. Attention à faire en sorte que les tenseurs soient du même type de données."
      ],
      "metadata": {
        "id": "U4hDvyKf83kl"
      }
    },
    {
      "cell_type": "code",
      "source": [
        "print(a.t()) # transposée\n",
        "print(a.inverse()) # inverse\n",
        "c = c.to(torch.float32) # transformation du dtype\n",
        "print(a @ c) # mutliplication matricielle"
      ],
      "metadata": {
        "colab": {
          "base_uri": "https://localhost:8080/"
        },
        "id": "FYgzoWHg-AEP",
        "outputId": "85a78df4-43b7-4560-d2f1-fa9e736933a1"
      },
      "execution_count": 17,
      "outputs": [
        {
          "output_type": "stream",
          "name": "stdout",
          "text": [
            "tensor([[1.1000, 4.4000, 7.7000],\n",
            "        [2.2000, 5.5000, 8.8000],\n",
            "        [3.3000, 6.6000, 9.9000]])\n",
            "tensor([[ -676501.1875,  1353001.5000,  -676500.6250],\n",
            "        [ 1353000.7500, -2706002.5000,  1353001.3750],\n",
            "        [ -676499.8125,  1353001.2500,  -676500.7500]])\n",
            "tensor([ 353.1000,  719.4000, 1085.7000])\n"
          ]
        }
      ]
    },
    {
      "cell_type": "markdown",
      "source": [
        "### 1.3 Device et Autograd"
      ],
      "metadata": {
        "id": "8NHNWJUo_wq4"
      }
    },
    {
      "cell_type": "markdown",
      "source": [
        "Les tenseurs sont attribués à un dispositif de calcul particulier (CPU ou GPU). Par défaut, il s'agit du CPU (`cpu`), mais on peut les aussi les basculer sur un autre dispositif à tout moment grâce à la méthode `to(device)`. S'ils sont sur le GPU, leur attribut `device` sera alors égal à `cuda` ou `cuda:0`. Notez que le `0` de `cuda:0` désigne le numéro du GPU (cette précision n'est utile que si vous disposez de plusieurs GPU)."
      ],
      "metadata": {
        "id": "K0l1jr4O9QOc"
      }
    },
    {
      "cell_type": "code",
      "source": [
        "print(a.device)\n",
        "a = a.to(device)\n",
        "print(a.device)"
      ],
      "metadata": {
        "colab": {
          "base_uri": "https://localhost:8080/"
        },
        "id": "S-9_xu_O_7wd",
        "outputId": "0f981083-db45-41ec-c243-7a21f87ab97a"
      },
      "execution_count": 18,
      "outputs": [
        {
          "output_type": "stream",
          "name": "stdout",
          "text": [
            "cpu\n",
            "cuda:0\n"
          ]
        }
      ]
    },
    {
      "cell_type": "markdown",
      "source": [
        "On peut préciser le type de donnée et le dispositif de calcul d'un tenseur lors de sa création."
      ],
      "metadata": {
        "id": "hrqVwNW2-UBD"
      }
    },
    {
      "cell_type": "code",
      "source": [
        "c_gpu = torch.tensor([1, 10, 100], dtype=torch.float32, device=device)\n",
        "print(c_gpu.dtype)\n",
        "print(c_gpu.device)"
      ],
      "metadata": {
        "colab": {
          "base_uri": "https://localhost:8080/"
        },
        "id": "JV9eTtmdApxj",
        "outputId": "3bdcdaf5-c923-4cde-d50e-8a06719a7d48"
      },
      "execution_count": 19,
      "outputs": [
        {
          "output_type": "stream",
          "name": "stdout",
          "text": [
            "torch.float32\n",
            "cuda:0\n"
          ]
        }
      ]
    },
    {
      "cell_type": "markdown",
      "source": [
        "Attention, un calcul entre deux tenseurs ne peut s'effectuer que si les deux résident sur le même dispositif de calcul."
      ],
      "metadata": {
        "id": "DWaEwjRU-l70"
      }
    },
    {
      "cell_type": "code",
      "source": [
        "# print(a @ c) <- ERREUR SI UTILISATION GPU\n",
        "print(a @ c_gpu)"
      ],
      "metadata": {
        "colab": {
          "base_uri": "https://localhost:8080/"
        },
        "id": "yh7TO8poBNL0",
        "outputId": "93ce0ece-d8b6-4d79-97e5-57df4ea25c3f"
      },
      "execution_count": 20,
      "outputs": [
        {
          "output_type": "stream",
          "name": "stdout",
          "text": [
            "tensor([ 353.1000,  719.4000, 1085.7000], device='cuda:0')\n"
          ]
        }
      ]
    },
    {
      "cell_type": "markdown",
      "source": [
        "Un des énorme avantages des tenseurs sont qu'ils possèdent une méchanisme de **différentiation automatique** (voir https://pytorch.org/tutorials/beginner/basics/autogradqs_tutorial.html). Cette différentiation automatique permet de calculer automatiquement le gradient $\\frac{\\partial f(x)}{\\partial x}$ pour un tenseur $x$ donné et une fonction $f(x)$ particulière.\n",
        "\n",
        "Pour permettre la différentiation automatique, on doit créer un tenseur avec l'attribut `requires_grad=True`. Le gradient peut alors se trouver grâce à l'attribut `grad` (au début, il est vide)."
      ],
      "metadata": {
        "id": "wKvvTW2V-0RJ"
      }
    },
    {
      "cell_type": "code",
      "source": [
        "x = torch.tensor([[1, 2, 3],\n",
        "                  [4, 5, 6]], dtype=torch.float32, requires_grad=True)\n",
        "print(x.requires_grad)\n",
        "print(x.grad)"
      ],
      "metadata": {
        "colab": {
          "base_uri": "https://localhost:8080/"
        },
        "id": "hiGHmbvEBceZ",
        "outputId": "952e3ea6-5f5e-4df4-f650-b2885440e1bd"
      },
      "execution_count": 21,
      "outputs": [
        {
          "output_type": "stream",
          "name": "stdout",
          "text": [
            "True\n",
            "None\n"
          ]
        }
      ]
    },
    {
      "cell_type": "markdown",
      "source": [
        "En créant maintenant un nouveau tenseur à partir de ce premier, par exemple `f=(x**2).sum()` qui représente $f(x)$, on peut demander d'effectuer le calcul de $\\frac{\\partial f(x)}{\\partial x}$ avec la méthode `f.backward()`. Le gradient se trouvera alors stocké dans l'attribut `x.grad`."
      ],
      "metadata": {
        "id": "GP82Mc0N_uo_"
      }
    },
    {
      "cell_type": "code",
      "source": [
        "f = (x ** 2).sum()\n",
        "print(f)\n",
        "f.backward()\n",
        "print(x.grad)"
      ],
      "metadata": {
        "colab": {
          "base_uri": "https://localhost:8080/"
        },
        "id": "q21YKNmrCLyv",
        "outputId": "ab6816ea-09f0-4e08-cd1e-2d056773e52c"
      },
      "execution_count": 22,
      "outputs": [
        {
          "output_type": "stream",
          "name": "stdout",
          "text": [
            "tensor(91., grad_fn=<SumBackward0>)\n",
            "tensor([[ 2.,  4.,  6.],\n",
            "        [ 8., 10., 12.]])\n"
          ]
        }
      ]
    },
    {
      "cell_type": "markdown",
      "source": [
        "Attention cependant, l'attibut `x.grad` va accumuler tous les gradients demandés par les méthodes `backward()`."
      ],
      "metadata": {
        "id": "F_u8SN6aAZNW"
      }
    },
    {
      "cell_type": "code",
      "source": [
        "for i in range(3):\n",
        "  f = (x ** 2).sum()\n",
        "  f.backward()\n",
        "  print(x.grad)"
      ],
      "metadata": {
        "colab": {
          "base_uri": "https://localhost:8080/"
        },
        "id": "OT_7tZ-2CbpB",
        "outputId": "a8c35f8c-ca7d-4c79-e4b7-1fdfd94535e9"
      },
      "execution_count": 23,
      "outputs": [
        {
          "output_type": "stream",
          "name": "stdout",
          "text": [
            "tensor([[ 4.,  8., 12.],\n",
            "        [16., 20., 24.]])\n",
            "tensor([[ 6., 12., 18.],\n",
            "        [24., 30., 36.]])\n",
            "tensor([[ 8., 16., 24.],\n",
            "        [32., 40., 48.]])\n"
          ]
        }
      ]
    },
    {
      "cell_type": "markdown",
      "source": [
        "Pour réinitialiser un gradient, on doit utiliser la méthode `x.grad.zero_()` (avec le suffixe `_` qui modifie directement l'objet). On peut alors calculer un nouveau gradient."
      ],
      "metadata": {
        "id": "_VBzd5BqAxSY"
      }
    },
    {
      "cell_type": "code",
      "source": [
        "x.grad.zero_()\n",
        "print(x.grad)\n",
        "f2 = torch.log(x ** 3).sum()\n",
        "print(f2)\n",
        "f2.backward()\n",
        "print(x.grad)"
      ],
      "metadata": {
        "colab": {
          "base_uri": "https://localhost:8080/"
        },
        "id": "ilO3S_teDQt5",
        "outputId": "078aa2e5-ef2e-47e8-a1a9-4a4bb217e6f7"
      },
      "execution_count": 24,
      "outputs": [
        {
          "output_type": "stream",
          "name": "stdout",
          "text": [
            "tensor([[0., 0., 0.],\n",
            "        [0., 0., 0.]])\n",
            "tensor(19.7378, grad_fn=<SumBackward0>)\n",
            "tensor([[3.0000, 1.5000, 1.0000],\n",
            "        [0.7500, 0.6000, 0.5000]])\n"
          ]
        }
      ]
    },
    {
      "cell_type": "markdown",
      "source": [
        "C'est ce méchanisme d'autodifférentiation qui rend la librairie PyTorch si puissante : on peut faire des calculs très complexes avec des données et de nombreux paramètres, mais retrouver très facilement les gradients qui nous permettrons d'optimiser une fonctionnelle particulière."
      ],
      "metadata": {
        "id": "aQ73_ooWBGE6"
      }
    },
    {
      "cell_type": "markdown",
      "source": [
        "---"
      ],
      "metadata": {
        "id": "f2YSVoTOMeZ8"
      }
    },
    {
      "cell_type": "markdown",
      "source": [
        "## 2. Les Données\n",
        "\n",
        "PyTorch possède deux classes qui sont utilisés pour gérer nos jeux de données :  `Dataset` et `DataLoader`.\n",
        "\n",
        "La classe `Dataset`, dont nous sommes invités à créer une classe fille, permet de gérer un jeu de donnée. Elle est particulièrement utile pour les gros jeux de données ou les jeux de données distants, où les individus du jeu de données sont chargés dans la mémoire uniquement lorsqu'ils sont utilisés. La classe `Dataset` va également opérer certaines transformations sur les données, afin de pouvoir les utiliser dans les modèles.\n",
        "\n",
        "La classe `Dataloader` permet de créer un **conteneur itérable** au dessus (surcouche) d'un jeu de données de type `Dataset`. Ce conteneur itérable permet de tirer les données par **batch**, selon un schéma d'échantillonnage prédifini, et sera vide lorsque toutes les données auront été tirées. On utilisera ces `Dataloader` lors des étapes d'entrainement, de validation et de test."
      ],
      "metadata": {
        "id": "rDiUXOlbMSMd"
      }
    },
    {
      "cell_type": "markdown",
      "source": [
        "### 2.1 Jeux de Données Intégrés\n",
        "\n",
        "PyTorch possède de nombreux jeux de données intégrés (par exemple, pour la vision https://pytorch.org/vision/stable/datasets.html). Ces jeux de données sont déjà sous la forme d'un objet de classe `Dataset`, ce qui nous permettera, dans un premier temps, de voir comment les utiliser.\n",
        "\n",
        "Nous téléchargeons ici le jeu d'entrainement de la base de données *CIFAR10* (https://www.cs.toronto.edu/~kriz/cifar.html), qui contient 50'000 32x32 images en couleur, classées dans 10 classes. Dans la fonction suivante, le paramètre `root=\"./cifar10_train/\"` va sauvegarder le jeu de données sous le dossier `\"./cifar10_train/\"`, `train=True` précise que nous voulons le jeu d'entrainement, et `download=True` permet de télécharger le dataset."
      ],
      "metadata": {
        "id": "5yWs9sXvnzhY"
      }
    },
    {
      "cell_type": "code",
      "source": [
        "cifar10_train = datasets.CIFAR10(root=\"./cifar10_train/\",\n",
        "                                 train=True,\n",
        "                                 download=True)"
      ],
      "metadata": {
        "colab": {
          "base_uri": "https://localhost:8080/"
        },
        "id": "xdhbYoKNf3ix",
        "outputId": "ad1912bc-d6fb-4776-99c3-a9211fbcbce0"
      },
      "execution_count": 25,
      "outputs": [
        {
          "output_type": "stream",
          "name": "stdout",
          "text": [
            "Files already downloaded and verified\n"
          ]
        }
      ]
    },
    {
      "cell_type": "markdown",
      "source": [
        "La variable `cifar10_train` contient maintenant une instance de la classe `Dataset` (en réalité une instance d'une classe fille). On peut obtenir plusieurs information de cet objet."
      ],
      "metadata": {
        "id": "Wsp2q8UXK4VC"
      }
    },
    {
      "cell_type": "code",
      "source": [
        "print(cifar10_train) # Afficher des informations\n",
        "print(len(cifar10_train)) # Le nombre d'individus\n",
        "print(cifar10_train.data.shape) # La forme des entrées\n",
        "print(cifar10_train.targets[:20]) # Les sorties\n",
        "print(cifar10_train.classes) # Le noms des différentes classes"
      ],
      "metadata": {
        "colab": {
          "base_uri": "https://localhost:8080/"
        },
        "id": "seWNaEr2k9eb",
        "outputId": "07d6063b-502d-4a23-b283-e77fb99609dd"
      },
      "execution_count": 26,
      "outputs": [
        {
          "output_type": "stream",
          "name": "stdout",
          "text": [
            "Dataset CIFAR10\n",
            "    Number of datapoints: 50000\n",
            "    Root location: ./cifar10_train/\n",
            "    Split: Train\n",
            "50000\n",
            "(50000, 32, 32, 3)\n",
            "[6, 9, 9, 4, 1, 1, 2, 7, 8, 3, 4, 7, 7, 2, 9, 9, 9, 3, 2, 6]\n",
            "['airplane', 'automobile', 'bird', 'cat', 'deer', 'dog', 'frog', 'horse', 'ship', 'truck']\n"
          ]
        }
      ]
    },
    {
      "cell_type": "markdown",
      "source": [
        "Cet objet est également une liste : nous pouvons accéder aux différents éléments avec les crochets. Chaque élément est consistué de deux objets, l'entrée et la sortie d'un individu du jeu de données. Comme l'entrée est une image de type `PIL`, il nous est possinle de l'afficher avec `plt.imshow()`."
      ],
      "metadata": {
        "id": "Ar1EfQ7pLmO2"
      }
    },
    {
      "cell_type": "code",
      "source": [
        "32 * 32 * 3"
      ],
      "metadata": {
        "colab": {
          "base_uri": "https://localhost:8080/"
        },
        "id": "pfokVig5zVzS",
        "outputId": "5d5fb8ba-6d02-416c-f471-973c925ff3f5"
      },
      "execution_count": 27,
      "outputs": [
        {
          "output_type": "execute_result",
          "data": {
            "text/plain": [
              "3072"
            ]
          },
          "metadata": {},
          "execution_count": 27
        }
      ]
    },
    {
      "cell_type": "code",
      "source": [
        "print(cifar10_train[0])\n",
        "sample_in, sample_out = cifar10_train[0]\n",
        "print(cifar10_train.classes[sample_out])\n",
        "plt.imshow(sample_in)"
      ],
      "metadata": {
        "colab": {
          "base_uri": "https://localhost:8080/",
          "height": 482
        },
        "id": "dEYCacP2mx-8",
        "outputId": "2feb904d-2470-4b80-f354-a9bbd0b85316"
      },
      "execution_count": 28,
      "outputs": [
        {
          "output_type": "stream",
          "name": "stdout",
          "text": [
            "(<PIL.Image.Image image mode=RGB size=32x32 at 0x7AA9FA9DD330>, 6)\n",
            "frog\n"
          ]
        },
        {
          "output_type": "execute_result",
          "data": {
            "text/plain": [
              "<matplotlib.image.AxesImage at 0x7aa9fa9dde40>"
            ]
          },
          "metadata": {},
          "execution_count": 28
        },
        {
          "output_type": "display_data",
          "data": {
            "text/plain": [
              "<Figure size 640x480 with 1 Axes>"
            ],
            "image/png": "[encoded data removed]"
          },
          "metadata": {}
        }
      ]
    },
    {
      "cell_type": "markdown",
      "source": [
        "### 2.2 Les Transformations\n",
        "\n",
        "Particulièrement utiles sur les entrées complexes, telles que des images, du texte ou des données sonores, des *transformations* peuvent être construites afin d'être appliquées sur nos données. Ces transformations vous permettre de rendre lisibles ces données par un modèle statistique, mais elles permettent également d'ajouter de l'aléatoire dans la lecture des données, afin d'*augmenter* artificiellement la taille de notre échantillon (voir https://en.wikipedia.org/wiki/Data_augmentation)\n",
        "\n",
        "Plusieurs transformations sont possibles pour les images (voir https://pytorch.org/vision/stable/transforms.html) et il est possible d'enchaîner ces transformations grâce à la classe `transforms.Compose`."
      ],
      "metadata": {
        "id": "Vhdvyh-XyVWY"
      }
    },
    {
      "cell_type": "code",
      "source": [
        "cifar10_train_transforms = transforms.Compose([\n",
        "    # Coupe l'image en une image 32x32, avec un débordement possible de 4 pixels\n",
        "    transforms.RandomCrop(32, padding=4),\n",
        "    # Peut faire un miroir horizontal sur l'image, avec une chance d'1/2\n",
        "    transforms.RandomHorizontalFlip(),\n",
        "    # Transforme l'image en tenseur\n",
        "    transforms.ToTensor(),\n",
        "    # Standardise chaque couleur avec les moyennes et deviations standards\n",
        "    # obtenues sur le jeu de données\n",
        "    transforms.Normalize(\n",
        "        mean=(0.4914, 0.4822, 0.4465),\n",
        "        std=(0.2023, 0.1994, 0.2010)\n",
        "    )\n",
        "])"
      ],
      "metadata": {
        "id": "0VilwOqJ1YRU"
      },
      "execution_count": 29,
      "outputs": []
    },
    {
      "cell_type": "markdown",
      "source": [
        "On peut maintenant affecter cette transformation lors de l'instanciation du jeu de données. A noter que cette transformation va s'appliquer à chaque fois que nous allons tirer des individus du jeu de données, i.e. en utilisant par exemple les crochets (par contre, les individus seront dans le format original dans l'attribut `cifar10_train_trs.data`)."
      ],
      "metadata": {
        "id": "9NnzzWXMOSzu"
      }
    },
    {
      "cell_type": "code",
      "source": [
        "cifar10_train_trs = datasets.CIFAR10(root=\"./cifar10_train/\",\n",
        "                                 train=True,\n",
        "                                 download=True,\n",
        "                                 transform=cifar10_train_transforms)"
      ],
      "metadata": {
        "colab": {
          "base_uri": "https://localhost:8080/"
        },
        "id": "k6-SWo4X2mOa",
        "outputId": "c74c56a2-1eb6-4412-f8ef-c9cd6ae15d86"
      },
      "execution_count": 30,
      "outputs": [
        {
          "output_type": "stream",
          "name": "stdout",
          "text": [
            "Files already downloaded and verified\n"
          ]
        }
      ]
    },
    {
      "cell_type": "markdown",
      "source": [
        "On effectue ici un tirage, et on regarde le résultat."
      ],
      "metadata": {
        "id": "4kwwPosaPPMo"
      }
    },
    {
      "cell_type": "code",
      "source": [
        "sample_in, sample_out = cifar10_train_trs[0]\n",
        "plt.imshow(sample_in.permute(1, 2, 0))"
      ],
      "metadata": {
        "colab": {
          "base_uri": "https://localhost:8080/",
          "height": 465
        },
        "id": "qEeKiGHx28tc",
        "outputId": "919d4922-861f-4360-d56b-f65197ffa7e3"
      },
      "execution_count": 31,
      "outputs": [
        {
          "output_type": "stream",
          "name": "stderr",
          "text": [
            "WARNING:matplotlib.image:Clipping input data to the valid range for imshow with RGB data ([0..1] for floats or [0..255] for integers).\n"
          ]
        },
        {
          "output_type": "execute_result",
          "data": {
            "text/plain": [
              "<matplotlib.image.AxesImage at 0x7aa9f01ca8f0>"
            ]
          },
          "metadata": {},
          "execution_count": 31
        },
        {
          "output_type": "display_data",
          "data": {
            "text/plain": [
              "<Figure size 640x480 with 1 Axes>"
            ],
            "image/png": "[encoded data removed]"
          },
          "metadata": {}
        }
      ]
    },
    {
      "cell_type": "markdown",
      "source": [
        "Remarquez que, grâce à l'aléatoire, le même individu tiré une nouvelle fois peut subir d'autres transformations."
      ],
      "metadata": {
        "id": "er05v3k6PY9h"
      }
    },
    {
      "cell_type": "code",
      "source": [
        "sample_in, sample_out = cifar10_train_trs[0]\n",
        "plt.imshow(sample_in.permute(1, 2, 0))"
      ],
      "metadata": {
        "colab": {
          "base_uri": "https://localhost:8080/",
          "height": 465
        },
        "id": "kzn-lMnu4hTV",
        "outputId": "7856bee5-9636-4694-d155-aa9ce9c07551"
      },
      "execution_count": 32,
      "outputs": [
        {
          "output_type": "stream",
          "name": "stderr",
          "text": [
            "WARNING:matplotlib.image:Clipping input data to the valid range for imshow with RGB data ([0..1] for floats or [0..255] for integers).\n"
          ]
        },
        {
          "output_type": "execute_result",
          "data": {
            "text/plain": [
              "<matplotlib.image.AxesImage at 0x7aa9f01055a0>"
            ]
          },
          "metadata": {},
          "execution_count": 32
        },
        {
          "output_type": "display_data",
          "data": {
            "text/plain": [
              "<Figure size 640x480 with 1 Axes>"
            ],
            "image/png": "[encoded data removed]"
          },
          "metadata": {}
        }
      ]
    },
    {
      "cell_type": "markdown",
      "source": [
        "### 2.3 La classe `Dataloader`\n",
        "\n",
        "Généralement, on n'utilise pas l'objet `Dataset` directement, mais on va plutôt l'affecter à un objet de classe `Dataloader`, qui est un **conteneur itérable** sur nos données.\n",
        "\n",
        "Ce conteneur itérable permet de tirer les données par petit sous-échantillons, appelés `batch`, mais permet également de définir certaine règles sur le tirage des individus.\n",
        "\n",
        "On utilise l'instanciation suivante pour créer un conteneur itérable sur notre objet `cifar10_train_trs`, avec batch de 8 (batch_size=8) et un brassage des individus lorsque le jeu de données est entièrement tiré (`shuffle=True`)."
      ],
      "metadata": {
        "id": "PkUQokMW6fna"
      }
    },
    {
      "cell_type": "code",
      "source": [
        "cifar10_train_loader = DataLoader(cifar10_train_trs, batch_size=8, shuffle=True)"
      ],
      "metadata": {
        "id": "rNS_89Tg6qNP"
      },
      "execution_count": 33,
      "outputs": []
    },
    {
      "cell_type": "markdown",
      "source": [
        "Comme tout conteneur itérable, on peut générer un iterateur avec la fonction `iter()`, puis piocher des individus dans celui-ci avec la fonction `next()`."
      ],
      "metadata": {
        "id": "PWWsOwrRQwE4"
      }
    },
    {
      "cell_type": "code",
      "source": [
        "data_batch, labels_batch = next(iter(cifar10_train_loader))"
      ],
      "metadata": {
        "id": "f8_ZIbMYI1ia"
      },
      "execution_count": 34,
      "outputs": []
    },
    {
      "cell_type": "markdown",
      "source": [
        "Cette itération nous a donné 2 séries d'entrées et sorties correspondantes"
      ],
      "metadata": {
        "id": "SvQe4DPtR_Zv"
      }
    },
    {
      "cell_type": "code",
      "source": [
        "print(data_batch.shape)\n",
        "print(labels_batch.shape)"
      ],
      "metadata": {
        "colab": {
          "base_uri": "https://localhost:8080/"
        },
        "id": "JFuLyE33JENM",
        "outputId": "55fd9b65-8a51-405c-c4d7-478f69af3a50"
      },
      "execution_count": 35,
      "outputs": [
        {
          "output_type": "stream",
          "name": "stdout",
          "text": [
            "torch.Size([8, 3, 32, 32])\n",
            "torch.Size([8])\n"
          ]
        }
      ]
    },
    {
      "cell_type": "markdown",
      "source": [
        "Pour visuliser nos 8 entrées et sorties."
      ],
      "metadata": {
        "id": "-X7T6blQSI5s"
      }
    },
    {
      "cell_type": "code",
      "source": [
        "cols, rows = 3, 3\n",
        "figure = plt.figure(figsize=(8, 8))\n",
        "for i, data in enumerate(data_batch):\n",
        "    figure.add_subplot(rows, cols, i + 1)\n",
        "    plt.title(cifar10_train_trs.classes[labels_batch[i]])\n",
        "    plt.axis(\"off\")\n",
        "    plt.imshow(data.permute(1, 2, 0))\n",
        "plt.show()"
      ],
      "metadata": {
        "colab": {
          "base_uri": "https://localhost:8080/",
          "height": 814
        },
        "id": "67chKMqEJMZU",
        "outputId": "0f2a26a8-902c-40a9-ad0b-48dfc4bc9b41"
      },
      "execution_count": 36,
      "outputs": [
        {
          "output_type": "stream",
          "name": "stderr",
          "text": [
            "WARNING:matplotlib.image:Clipping input data to the valid range for imshow with RGB data ([0..1] for floats or [0..255] for integers).\n",
            "WARNING:matplotlib.image:Clipping input data to the valid range for imshow with RGB data ([0..1] for floats or [0..255] for integers).\n",
            "WARNING:matplotlib.image:Clipping input data to the valid range for imshow with RGB data ([0..1] for floats or [0..255] for integers).\n",
            "WARNING:matplotlib.image:Clipping input data to the valid range for imshow with RGB data ([0..1] for floats or [0..255] for integers).\n",
            "WARNING:matplotlib.image:Clipping input data to the valid range for imshow with RGB data ([0..1] for floats or [0..255] for integers).\n",
            "WARNING:matplotlib.image:Clipping input data to the valid range for imshow with RGB data ([0..1] for floats or [0..255] for integers).\n",
            "WARNING:matplotlib.image:Clipping input data to the valid range for imshow with RGB data ([0..1] for floats or [0..255] for integers).\n",
            "WARNING:matplotlib.image:Clipping input data to the valid range for imshow with RGB data ([0..1] for floats or [0..255] for integers).\n"
          ]
        },
        {
          "output_type": "display_data",
          "data": {
            "text/plain": [
              "<Figure size 800x800 with 8 Axes>"
            ],
            "image/png": "[encoded data removed]"
          },
          "metadata": {}
        }
      ]
    },
    {
      "cell_type": "markdown",
      "source": [
        "En réalité, l'utilisation des objets `Dataloader` se fait à l'aide d'une boucle `for`, où l'on va alors itérer sur tous les objets du jeu de données. (ici, on se limite à 5 itérations, pour que cela reste lisible)."
      ],
      "metadata": {
        "id": "hzXI4FrlSjy6"
      }
    },
    {
      "cell_type": "code",
      "source": [
        "# Pour limiter la boucle\n",
        "counter = 0\n",
        "# On pourra entrainer dans des boucles de la sorte\n",
        "for items, labels in cifar10_train_loader:\n",
        "  print(items.shape)\n",
        "  batch_named_labels = [cifar10_train_trs.classes[label] for label in labels]\n",
        "  print(batch_named_labels)\n",
        "  counter += 1\n",
        "  if counter == 5:\n",
        "    break"
      ],
      "metadata": {
        "colab": {
          "base_uri": "https://localhost:8080/"
        },
        "id": "oFYE9TiEKl58",
        "outputId": "6ca765e4-a8e6-4269-b356-0e1e1bce83e4"
      },
      "execution_count": 37,
      "outputs": [
        {
          "output_type": "stream",
          "name": "stdout",
          "text": [
            "torch.Size([8, 3, 32, 32])\n",
            "['horse', 'horse', 'horse', 'frog', 'horse', 'horse', 'cat', 'automobile']\n",
            "torch.Size([8, 3, 32, 32])\n",
            "['bird', 'dog', 'dog', 'truck', 'truck', 'ship', 'dog', 'dog']\n",
            "torch.Size([8, 3, 32, 32])\n",
            "['truck', 'bird', 'dog', 'ship', 'frog', 'cat', 'horse', 'cat']\n",
            "torch.Size([8, 3, 32, 32])\n",
            "['truck', 'frog', 'horse', 'deer', 'bird', 'airplane', 'horse', 'cat']\n",
            "torch.Size([8, 3, 32, 32])\n",
            "['horse', 'automobile', 'dog', 'frog', 'horse', 'frog', 'cat', 'cat']\n"
          ]
        }
      ]
    },
    {
      "cell_type": "markdown",
      "source": [
        "### 2.4 Une classe `Dataset` personalisée\n",
        "\n",
        "Généralement, on va créer une classe personalisée héritée de la classe `Dataset`, afin de pouvoir utiliser plusieurs fonctions proposées par PyTorch (et `DataLoader`).\n",
        "\n",
        "Il y a trois méthodes à implémenter :\n",
        "\n",
        "* `__init__()` : Le constructeur, qui va mettre mémoire plusieurs éléments du jeu de données, comme les chemins d'accès, les transformations potentielles, et même parfois des éléments du jeu de données.\n",
        "* `__len__(self)` : La méthode qui retourne le nombre d'individus dans le jeu de données. Cette méthode est appelée lorsque l'on utilise `len()`.\n",
        "* `__getitem__(self, idx)` : Cette méthode est appelée lors de l'utilisation des crochets ou du `Dataloader()` et retourne l'élément à la position `idx`. C'est ici qu'on applique les transformations et que l'on précise où aller chercher les données si elles sont dans un endroit distant.\n",
        "\n",
        "Dans notre exemple (on crée une classe pour charger \"contraceptive.tsv\"), nous effectuons déjà plusieurs pré-traitements sur les données lors de la construction de l'objet, car les transformations désirées sont invariantes et particulièrement simples. De plus, tout le jeu de données est stocké directement dans les attributs de l'objet, car il est suffisamment petit.\n",
        "\n"
      ],
      "metadata": {
        "id": "V8L4kAXtpYha"
      }
    },
    {
      "cell_type": "code",
      "source": [
        "# Classe qui hérite de Dataset\n",
        "class CustomDataset(Dataset):\n",
        "\n",
        "  # Notre constructeur\n",
        "  def __init__(self, file_path, transform=None, target_transform=None):\n",
        "    # On charge le jeu de données\n",
        "    all_data = pd.read_csv(file_path, sep=\"\\t\")\n",
        "    # On constitue les entrées\n",
        "    occ_dummies = pd.get_dummies(all_data[\"Husband_occupation\"], prefix=\"occ\")*1\n",
        "    data = pd.concat([all_data.drop([\"Husband_occupation\", \"target\"],\n",
        "                                    axis=1), occ_dummies], axis=1)\n",
        "    self.data = torch.tensor(data.to_numpy(), dtype=torch.float32)\n",
        "    # On constitue les sorties\n",
        "    self.targets = torch.tensor((all_data[\"target\"] - 1).to_numpy())\n",
        "    # On sauve le noms des variables\n",
        "    self.var_names = data.columns.tolist()\n",
        "    # On constitue les classes\n",
        "    self.classes = [\"none\", \"long-term\", \"short_term\"]\n",
        "    # On sauve les transformations\n",
        "    self.transform = transform\n",
        "    self.target_transform = target_transform\n",
        "\n",
        "  # Pour la longueur\n",
        "  def __len__(self):\n",
        "    return len(self.targets)\n",
        "\n",
        "  # Pour le tirage des individus\n",
        "  def __getitem__(self, idx):\n",
        "    # On prend l'entrée et la sortie correspondant à l'indice\n",
        "    item = self.data[idx, :]\n",
        "    target = self.targets[idx]\n",
        "    # On applique les éventuelles transformations\n",
        "    if self.transform:\n",
        "      item = self.transform(item)\n",
        "    if self.target_transform:\n",
        "      target = self.transform(target)\n",
        "    return item, target\n"
      ],
      "metadata": {
        "id": "nnk4DojupwTT"
      },
      "execution_count": 38,
      "outputs": []
    },
    {
      "cell_type": "markdown",
      "source": [
        "On peut maintenant créer une instance de cette classe avec le chemin d'accès à nos données. On peut voir que les crochets nous donnent bien un individu de notre jeu de données."
      ],
      "metadata": {
        "id": "VIDL1_N1WatN"
      }
    },
    {
      "cell_type": "code",
      "source": [
        "file_path = \"/content/drive/MyDrive/Colab Notebooks/ml_data/TP8/contraceptive.tsv\"\n",
        "my_data = CustomDataset(file_path)\n",
        "my_data[0]"
      ],
      "metadata": {
        "id": "2oK4RJg7tFqg",
        "colab": {
          "base_uri": "https://localhost:8080/"
        },
        "outputId": "dbe0bde8-a236-4b04-f9a4-fc922066499d"
      },
      "execution_count": 39,
      "outputs": [
        {
          "output_type": "execute_result",
          "data": {
            "text/plain": [
              "(tensor([24.,  2.,  3.,  3.,  1.,  1.,  3.,  0.,  0.,  1.,  0.,  0.]),\n",
              " tensor(0))"
            ]
          },
          "metadata": {},
          "execution_count": 39
        }
      ]
    },
    {
      "cell_type": "markdown",
      "source": [
        "On peut maintenant poser un `DataLoader` sur ce jeu de données, et tirer des exemples de ce dernier."
      ],
      "metadata": {
        "id": "-8dwHU9IWzZM"
      }
    },
    {
      "cell_type": "code",
      "source": [
        "my_dataloader = DataLoader(my_data, batch_size=4, shuffle=True)\n",
        "\n",
        "counter = 0\n",
        "for items, labels in my_dataloader:\n",
        "  print(items)\n",
        "  print(labels)\n",
        "  counter += 1\n",
        "  if counter == 5:\n",
        "    break"
      ],
      "metadata": {
        "colab": {
          "base_uri": "https://localhost:8080/"
        },
        "id": "uF_kXxl7y7pK",
        "outputId": "3d7557db-e081-4f0c-d92a-b248bde1b605"
      },
      "execution_count": 40,
      "outputs": [
        {
          "output_type": "stream",
          "name": "stdout",
          "text": [
            "tensor([[30.,  4.,  2.,  0.,  1.,  0.,  3.,  0.,  0.,  0.,  1.,  0.],\n",
            "        [36.,  4.,  4.,  2.,  1.,  1.,  3.,  0.,  0.,  0.,  1.,  0.],\n",
            "        [30.,  4.,  4.,  1.,  0.,  1.,  4.,  0.,  0.,  1.,  0.,  0.],\n",
            "        [22.,  4.,  4.,  1.,  1.,  1.,  3.,  0.,  0.,  1.,  0.,  0.]])\n",
            "tensor([0, 0, 1, 2])\n",
            "tensor([[44.,  4.,  4.,  4.,  1.,  0.,  3.,  0.,  0.,  1.,  0.,  0.],\n",
            "        [17.,  3.,  4.,  1.,  1.,  1.,  3.,  0.,  0.,  0.,  1.,  0.],\n",
            "        [44.,  4.,  4., 11.,  1.,  1.,  4.,  0.,  1.,  0.,  0.,  0.],\n",
            "        [38.,  3.,  3.,  4.,  0.,  0.,  2.,  1.,  0.,  0.,  1.,  0.]])\n",
            "tensor([1, 2, 2, 0])\n",
            "tensor([[29.,  4.,  2.,  0.,  1.,  0.,  2.,  0.,  0.,  1.,  0.,  0.],\n",
            "        [42.,  3.,  3.,  8.,  1.,  1.,  3.,  0.,  0.,  0.,  0.,  1.],\n",
            "        [45.,  4.,  4.,  1.,  1.,  1.,  4.,  0.,  1.,  0.,  0.,  0.],\n",
            "        [20.,  3.,  3.,  2.,  1.,  1.,  2.,  1.,  0.,  1.,  0.,  0.]])\n",
            "tensor([0, 0, 0, 2])\n",
            "tensor([[33.,  3.,  4.,  6.,  1.,  1.,  2.,  0.,  0.,  0.,  1.,  0.],\n",
            "        [32.,  3.,  3.,  4.,  1.,  0.,  3.,  0.,  0.,  0.,  1.,  0.],\n",
            "        [49.,  2.,  2.,  8.,  1.,  0.,  1.,  0.,  0.,  0.,  1.,  0.],\n",
            "        [28.,  1.,  4.,  0.,  1.,  0.,  1.,  0.,  0.,  0.,  0.,  1.]])\n",
            "tensor([2, 1, 0, 0])\n",
            "tensor([[21.,  3.,  3.,  1.,  1.,  1.,  1.,  0.,  0.,  0.,  1.,  0.],\n",
            "        [29.,  2.,  4.,  3.,  1.,  0.,  3.,  0.,  0.,  0.,  1.,  0.],\n",
            "        [30.,  3.,  4.,  2.,  1.,  1.,  4.,  0.,  1.,  0.,  0.,  0.],\n",
            "        [47.,  2.,  2.,  7.,  1.,  1.,  4.,  0.,  0.,  1.,  0.,  0.]])\n",
            "tensor([2, 2, 1, 1])\n"
          ]
        }
      ]
    },
    {
      "cell_type": "markdown",
      "source": [
        "Par la suite, on va utiliser ce jeu de données pour entrainer un modèle. On va donc séparer notre jeu de données en trois parties : entrainement (70%), validation (15%) et test (15%). On peut utiliser pour cela la fonction `random_split()` sur notre objet directement."
      ],
      "metadata": {
        "id": "IVwaBJ4eXMZr"
      }
    },
    {
      "cell_type": "code",
      "source": [
        "train_size = int(0.7 * len(my_data))\n",
        "valid_size = int(0.15 * len(my_data))\n",
        "test_size = len(my_data) - train_size - valid_size\n",
        "my_data_train, my_data_valid, my_data_test = \\\n",
        "  random_split(my_data, [train_size, valid_size, test_size])"
      ],
      "metadata": {
        "id": "9Dd4r3N42IWX"
      },
      "execution_count": 41,
      "outputs": []
    },
    {
      "cell_type": "markdown",
      "source": [
        "Les objets résultants sont toujours des instances de la classes `Dataset`"
      ],
      "metadata": {
        "id": "WEPZnJOBXqqu"
      }
    },
    {
      "cell_type": "code",
      "source": [
        "print(len(my_data_train), len(my_data_valid), len(my_data_test))\n",
        "my_data_train[0]"
      ],
      "metadata": {
        "colab": {
          "base_uri": "https://localhost:8080/"
        },
        "id": "-WHj0zyh4_Sx",
        "outputId": "0b641129-df57-4fa5-c575-903bca5fc410"
      },
      "execution_count": 42,
      "outputs": [
        {
          "output_type": "stream",
          "name": "stdout",
          "text": [
            "1031 220 222\n"
          ]
        },
        {
          "output_type": "execute_result",
          "data": {
            "text/plain": [
              "(tensor([26.,  4.,  4.,  3.,  1.,  1.,  4.,  0.,  0.,  0.,  1.,  0.]),\n",
              " tensor(2))"
            ]
          },
          "metadata": {},
          "execution_count": 42
        }
      ]
    },
    {
      "cell_type": "markdown",
      "source": [
        "On peut donc créer trois itérateurs sur ces jeux de données, que nous utiliserons plus tard."
      ],
      "metadata": {
        "id": "VxDCGzKlXzkr"
      }
    },
    {
      "cell_type": "code",
      "source": [
        "train_loader = DataLoader(my_data_train, batch_size=8, shuffle=True)\n",
        "valid_loader =  DataLoader(my_data_valid, batch_size=8, shuffle=True)\n",
        "test_loader =  DataLoader(my_data_test, batch_size=8, shuffle=True)"
      ],
      "metadata": {
        "id": "42sjhJfN-rRW"
      },
      "execution_count": 43,
      "outputs": []
    },
    {
      "cell_type": "markdown",
      "source": [
        "---"
      ],
      "metadata": {
        "id": "RdeOOu2_NRJS"
      }
    },
    {
      "cell_type": "markdown",
      "source": [
        "## 3. Les Modèles\n",
        "\n",
        "Dans cette partie, nous allons enfin commencer à utiliser des modèles. Nous allons voir comment utiliser des modèles pré-entrainés, comment construire notre propre modèle, comment l'entrainer, l'évaluer puis faire des prédictions avec ce dernier. Pour finir, nous allons voir comment sauvegarder un modèle."
      ],
      "metadata": {
        "id": "vSXzU6XsNSPg"
      }
    },
    {
      "cell_type": "markdown",
      "source": [
        "### 3.1 Les Modèles Pré-entrainés\n",
        "\n",
        "Il existe de nombreux modèles pré-entrainés dans PyTorch (pour les images : https://pytorch.org/vision/stable/index.html; pour le texte : https://pytorch.org/text/stable/models.html; pour l'audio : https://pytorch.org/audio/stable/models.html). Ils peuvent se charger pré-entrainés, ou juste pour avoir la structure de ces derniers.\n",
        "\n",
        "Ces modèles pré-entrainés peuvent servir de base pour de nouveau modèles, ou des parties peuvent être ré-utilisées dans de nouveau modèle, ou faire du *transfer learning*.\n",
        "\n",
        "Ici, nous allons utiliser le modèle *Alexnet* (https://en.wikipedia.org/wiki/AlexNet et https://pytorch.org/hub/pytorch_vision_alexnet/) qui était le gagnant du concours ImageNet de 2012, avec une erreur moyenne top-5 de 15.3% (10.8 points meilleur que le modèle suivant).\n",
        "\n",
        "Le modèle (pré-entrainé) se charge de façon suivante."
      ],
      "metadata": {
        "id": "rPOeNauZNx10"
      }
    },
    {
      "cell_type": "code",
      "source": [
        "alexnet = models.alexnet(pretrained=True)"
      ],
      "metadata": {
        "id": "2192YB0WMmSq",
        "colab": {
          "base_uri": "https://localhost:8080/"
        },
        "outputId": "9f4638a4-e02f-4156-d547-38f6d06a1b41"
      },
      "execution_count": 44,
      "outputs": [
        {
          "output_type": "stream",
          "name": "stderr",
          "text": [
            "/usr/local/lib/python3.10/dist-packages/torchvision/models/_utils.py:208: UserWarning: The parameter 'pretrained' is deprecated since 0.13 and may be removed in the future, please use 'weights' instead.\n",
            "  warnings.warn(\n",
            "/usr/local/lib/python3.10/dist-packages/torchvision/models/_utils.py:223: UserWarning: Arguments other than a weight enum or `None` for 'weights' are deprecated since 0.13 and may be removed in the future. The current behavior is equivalent to passing `weights=AlexNet_Weights.IMAGENET1K_V1`. You can also use `weights=AlexNet_Weights.DEFAULT` to get the most up-to-date weights.\n",
            "  warnings.warn(msg)\n"
          ]
        }
      ]
    },
    {
      "cell_type": "markdown",
      "source": [
        "On peut afficher sa structure de la manière suivante."
      ],
      "metadata": {
        "id": "O9tetg9QaqGE"
      }
    },
    {
      "cell_type": "code",
      "source": [
        "print(alexnet)"
      ],
      "metadata": {
        "colab": {
          "base_uri": "https://localhost:8080/"
        },
        "id": "dsQpud7KN81i",
        "outputId": "bd73251b-fee8-4f86-8daf-7b2c75a25db4"
      },
      "execution_count": 45,
      "outputs": [
        {
          "output_type": "stream",
          "name": "stdout",
          "text": [
            "AlexNet(\n",
            "  (features): Sequential(\n",
            "    (0): Conv2d(3, 64, kernel_size=(11, 11), stride=(4, 4), padding=(2, 2))\n",
            "    (1): ReLU(inplace=True)\n",
            "    (2): MaxPool2d(kernel_size=3, stride=2, padding=0, dilation=1, ceil_mode=False)\n",
            "    (3): Conv2d(64, 192, kernel_size=(5, 5), stride=(1, 1), padding=(2, 2))\n",
            "    (4): ReLU(inplace=True)\n",
            "    (5): MaxPool2d(kernel_size=3, stride=2, padding=0, dilation=1, ceil_mode=False)\n",
            "    (6): Conv2d(192, 384, kernel_size=(3, 3), stride=(1, 1), padding=(1, 1))\n",
            "    (7): ReLU(inplace=True)\n",
            "    (8): Conv2d(384, 256, kernel_size=(3, 3), stride=(1, 1), padding=(1, 1))\n",
            "    (9): ReLU(inplace=True)\n",
            "    (10): Conv2d(256, 256, kernel_size=(3, 3), stride=(1, 1), padding=(1, 1))\n",
            "    (11): ReLU(inplace=True)\n",
            "    (12): MaxPool2d(kernel_size=3, stride=2, padding=0, dilation=1, ceil_mode=False)\n",
            "  )\n",
            "  (avgpool): AdaptiveAvgPool2d(output_size=(6, 6))\n",
            "  (classifier): Sequential(\n",
            "    (0): Dropout(p=0.5, inplace=False)\n",
            "    (1): Linear(in_features=9216, out_features=4096, bias=True)\n",
            "    (2): ReLU(inplace=True)\n",
            "    (3): Dropout(p=0.5, inplace=False)\n",
            "    (4): Linear(in_features=4096, out_features=4096, bias=True)\n",
            "    (5): ReLU(inplace=True)\n",
            "    (6): Linear(in_features=4096, out_features=1000, bias=True)\n",
            "  )\n",
            ")\n"
          ]
        }
      ]
    },
    {
      "cell_type": "markdown",
      "source": [
        "Afin de comprendre les labels de sortie (1000 classes), on charge le document suivant, qui contient l'interprétation des labels."
      ],
      "metadata": {
        "id": "u-Djcgi0awNF"
      }
    },
    {
      "cell_type": "code",
      "source": [
        "with open(\"/content/drive/MyDrive/Colab Notebooks/\"\n",
        "          \"ml_data/TP8/imagenet_class_labels.txt\") as f:\n",
        "  classes = [line.strip() for line in f.readlines()]"
      ],
      "metadata": {
        "id": "REFocSLQQaFG"
      },
      "execution_count": 46,
      "outputs": []
    },
    {
      "cell_type": "markdown",
      "source": [
        "Les images entrées dans Alexnet, en format PIL, ont subis les transformations suivantes, que l'on redéfinit ici."
      ],
      "metadata": {
        "id": "taPW42noa-6z"
      }
    },
    {
      "cell_type": "code",
      "source": [
        "transform = transforms.Compose([\n",
        "    transforms.Resize(256),\n",
        "    transforms.CenterCrop(224),\n",
        "    transforms.ToTensor(),\n",
        "    transforms.Normalize(\n",
        "        mean=[0.485, 0.456, 0.406],\n",
        "        std=[0.229, 0.224, 0.225])\n",
        "])"
      ],
      "metadata": {
        "id": "kya6IR-DPPwC"
      },
      "execution_count": 47,
      "outputs": []
    },
    {
      "cell_type": "markdown",
      "source": [
        "Une image (de citron) a été téléchargée depuis internet (libre à vous de tester une autre image). On la charge, la transforme, la transforme en batch (avec une taille de 1 pour la première dimension), puis on la passe dans Alexnet. On voit qu'en traduisant la sortie, celui-ci prédit la bonne classe avec 45% de certitude."
      ],
      "metadata": {
        "id": "DAROGQambQrQ"
      }
    },
    {
      "cell_type": "code",
      "source": [
        "# On charge l'image et on la montre\n",
        "img = Image.open(\"/content/drive/MyDrive/Colab Notebooks/ml_data/TP8/lemon.png\")\n",
        "plt.imshow(img)\n",
        "# On transforme l'image en batch\n",
        "img_tensor = transform(img)\n",
        "img_batch = img_tensor.unsqueeze(0)\n",
        "# On met le modèle en mode évaluation et on l'affecte au dispositif\n",
        "alexnet.eval()\n",
        "alexnet.to(device)\n",
        "# On passe notre image en batch dans le modèle\n",
        "y = alexnet(img_batch.to(device))\n",
        "# On affiche les réponses les plus probables avec un softmax\n",
        "prob = torch.nn.functional.softmax(y, dim=1)[0] * 100\n",
        "_, indices = torch.sort(y, descending=True)\n",
        "for i in indices[0][:5]:\n",
        "  print(classes[i], prob[i].item())"
      ],
      "metadata": {
        "colab": {
          "base_uri": "https://localhost:8080/",
          "height": 522
        },
        "id": "WVuj6loePuTs",
        "outputId": "b91eacad-fdfb-43e7-8b40-8dd7a08809fa"
      },
      "execution_count": 48,
      "outputs": [
        {
          "output_type": "stream",
          "name": "stdout",
          "text": [
            "951: 'lemon', 45.035125732421875\n",
            "950: 'orange', 36.466033935546875\n",
            "945: 'bell pepper', 15.7482328414917\n",
            "940: 'spaghetti squash', 0.6504407525062561\n",
            "948: 'Granny Smith', 0.5691735148429871\n"
          ]
        },
        {
          "output_type": "display_data",
          "data": {
            "text/plain": [
              "<Figure size 640x480 with 1 Axes>"
            ],
            "image/png": "[encoded data removed]"
          },
          "metadata": {}
        }
      ]
    },
    {
      "cell_type": "markdown",
      "source": [
        "### 3.2 Créer un modèle"
      ],
      "metadata": {
        "id": "SawhyMa5zRhl"
      }
    },
    {
      "cell_type": "markdown",
      "source": [
        "On va maintenant créer un modèle très simple qui traitera notre jeu de données \"contraception.tsv\". Ce dernier se composera de :\n",
        "\n",
        "* 12 neurones d'entrées\n",
        "* Une couche de 12 neurones entièrement connectées, puis activation Relu\n",
        "* Une couche de 6 neurones entièrement connectées, puis activation Relu\n",
        "* Une couche de 3 neurones de sortie qui donnerons les log-odds.\n",
        "\n",
        "Pour créer ce modèle, on va faire une classe héritée de `nn.Module`. Il faudra implémenter deux méthodes :\n",
        "\n",
        "* `__init__(self)` : Le constructeur, qui définit les différentes couches entre les neurones. On utilise ici `nn.Linear(nb_inputs, nb_outputs)` qui créer des poids entre `nb_inputs` et `nb_outputs` neurones. Avant les déclarations, il ne faut pas oublier d'appeler le constructeur de la classe mère avec `super(MiniNet, self).__init__()`.\n",
        "\n",
        "* `forward(self, x)` : La méthode qui effectue le passage en avant des données `x`. Ici, on définit les fonctions d'activation à ce niveau, mais il est aussi possible de les définir au niveau du constructeur (nous le verrons plus tard).\n",
        "\n",
        "Notez que le résultat de notre modèle est ici en log-odd, car nous n'avons pas utilisé une activation de sortie *softmax*. La raison est que nous allons utiliser plus tard la fonctionnelle `nn.CrossEntropyLoss()` pour entrainer ce modèle, et que celle-ci prends en entrée (pour les prédictions) des log-odd (par contre, les vraies classes peuvent être donneés via leur label numérique dans cette fonctionnelle)."
      ],
      "metadata": {
        "id": "LEggQcx4bzPX"
      }
    },
    {
      "cell_type": "code",
      "source": [
        "class MiniNet(nn.Module):\n",
        "\n",
        "  def __init__(self):\n",
        "    super(MiniNet, self).__init__() # On doit appeler le constructeur mère.\n",
        "    self.full_1 = nn.Linear(12, 12) # entrées (12) -> première couche (12)\n",
        "    self.full_2 = nn.Linear(12, 6) # première couche (12) -> deuxième couche (6)\n",
        "    self.full_3 = nn.Linear(6, 3) # deuxième couche (6) -> sorties logit (3)\n",
        "\n",
        "  def forward(self, x):\n",
        "      z_1 = F.relu(self.full_1(x)) # z_1 est le relu de la 1ère couche\n",
        "      z_2 = F.relu(self.full_2(z_1)) # z_2 est le relu de la 2ème couche\n",
        "      z_3 = self.full_3(z_2) # z_3 est le résultat de la 3ème couche\n",
        "      return z_3 # on retourne z_3"
      ],
      "metadata": {
        "id": "OOwKQzb8zWzz"
      },
      "execution_count": 49,
      "outputs": []
    },
    {
      "cell_type": "markdown",
      "source": [
        "On affecte notre modèle au dispositif de calcul utilisé, puis on l'affiche."
      ],
      "metadata": {
        "id": "0XSJy7zzee7_"
      }
    },
    {
      "cell_type": "code",
      "source": [
        "mini_model = MiniNet().to(device)\n",
        "print(mini_model)"
      ],
      "metadata": {
        "id": "9SFi6By41uN6",
        "colab": {
          "base_uri": "https://localhost:8080/"
        },
        "outputId": "023ed742-705c-4a91-aa2e-382ee7359961"
      },
      "execution_count": 50,
      "outputs": [
        {
          "output_type": "stream",
          "name": "stdout",
          "text": [
            "MiniNet(\n",
            "  (full_1): Linear(in_features=12, out_features=12, bias=True)\n",
            "  (full_2): Linear(in_features=12, out_features=6, bias=True)\n",
            "  (full_3): Linear(in_features=6, out_features=3, bias=True)\n",
            ")\n"
          ]
        }
      ]
    },
    {
      "cell_type": "markdown",
      "source": [
        "On voit qu'on peut déjà faire passer un individu de notre jeu de données dans le modèle. Seulement, comme les poids sont initilisés aléatoirement et que le modèle n'a pas été entrainé, le résultat sera aléatoire."
      ],
      "metadata": {
        "id": "9vwXYziLfVZz"
      }
    },
    {
      "cell_type": "code",
      "source": [
        "sample = my_data_test[0][0]\n",
        "sample_batch = sample.unsqueeze(0)\n",
        "logit_outputs = mini_model(sample_batch.to(device))\n",
        "prob_outputs = nn.Softmax(dim=1)(logit_outputs)\n",
        "print(my_data_test[0][1].item())\n",
        "print(prob_outputs)"
      ],
      "metadata": {
        "colab": {
          "base_uri": "https://localhost:8080/"
        },
        "id": "pLEVgazz6GO-",
        "outputId": "aa9a12d5-e000-4f4b-d6a3-2add66444256"
      },
      "execution_count": 51,
      "outputs": [
        {
          "output_type": "stream",
          "name": "stdout",
          "text": [
            "0\n",
            "tensor([[0.7716, 0.1794, 0.0490]], device='cuda:0', grad_fn=<SoftmaxBackward0>)\n"
          ]
        }
      ]
    },
    {
      "cell_type": "markdown",
      "source": [
        "### 3.3 Entrainer un modèle\n",
        "\n",
        "Pour entrainer notre modèle, on doit maintenant définir la fonctionnelle de perte, qui sera `nn.CrossEntropyLoss()`. On doit également donner un optimisateur (parmi https://pytorch.org/docs/stable/optim.html), qui va dicter comment les poids sont mis à jour par rapport à leur gradient. On utilise ici la *descente du gradient stochastique* avec `torch.optim.SGD(mini_model.parameters(), lr=0.01)`, où les paramètres du modèle sont donnés, et le taux d'apprentissage est fixé à `lr=0.01`."
      ],
      "metadata": {
        "id": "J6uqUxBmfwRg"
      }
    },
    {
      "cell_type": "code",
      "source": [
        "loss_fn = nn.CrossEntropyLoss()\n",
        "optimizer = torch.optim.SGD(mini_model.parameters(), lr=0.01)"
      ],
      "metadata": {
        "id": "r3DZUm3i9494"
      },
      "execution_count": 52,
      "outputs": []
    },
    {
      "cell_type": "markdown",
      "source": [
        "La boucle d'entrainement et validation s'effectue de la façon suivante :"
      ],
      "metadata": {
        "id": "2_ryD4eqhWBr"
      }
    },
    {
      "cell_type": "code",
      "source": [
        "# On définit le nombre d'epochs\n",
        "n_epochs = 200\n",
        "# Pour stocker les pertes d'entrainement et de validations (graphique à suivre)\n",
        "train_losses = []\n",
        "valid_losses = []\n",
        "# La boucle sur les epochs\n",
        "for epoch in range(n_epochs):\n",
        "\n",
        "    # Entrainement\n",
        "\n",
        "    # On met le modèle en mode entrainement\n",
        "    mini_model.train()\n",
        "\n",
        "    # Pour cumuler la perte\n",
        "    train_loss = 0\n",
        "    # Pour cumuler le nombre d'inidividus bien classés\n",
        "    train_correct = 0\n",
        "    # Boucle sur notre DataLoader d'entrainement\n",
        "    for inputs, labels in train_loader:\n",
        "\n",
        "        # On met nos tenseurs sur notre dispositif de calcul\n",
        "        inputs = inputs.to(device)\n",
        "        labels = labels.to(device)\n",
        "\n",
        "        # On met les gradients à zéro (sinon ils s'accumulent)\n",
        "        optimizer.zero_grad()\n",
        "\n",
        "        # On calcule les log-odds de nos inputs\n",
        "        logit_outputs = mini_model(inputs)\n",
        "        # On calcule la perte\n",
        "        loss = loss_fn(logit_outputs, labels)\n",
        "\n",
        "        # On va maintenant propager le gradient\n",
        "        loss.backward()\n",
        "        # Et ajuster les poids selon l'optimisateur\n",
        "        optimizer.step()\n",
        "\n",
        "        # On ajoute la perte au cumul\n",
        "        train_loss += loss.item()\n",
        "        # On ajoute le nombre d'individus bien classés\n",
        "        train_correct += (logit_outputs.argmax(1) == labels).sum().item()\n",
        "\n",
        "    # Validation\n",
        "\n",
        "    # On passe le modèle en mode évaluation (les poids ne bouge plus)\n",
        "    mini_model.eval()\n",
        "\n",
        "    # Pour cumuler la perte\n",
        "    valid_loss = 0\n",
        "    # Pour cumuler le nombre d'inidividus bien classés\n",
        "    valid_correct = 0\n",
        "    # Boucle sur notre DataLoader de validation\n",
        "    for inputs, labels in valid_loader:\n",
        "\n",
        "        # On met nos tenseurs sur notre dispositif de calcul\n",
        "        inputs = inputs.to(device)\n",
        "        labels = labels.to(device)\n",
        "\n",
        "        # On calcule les log-odds de nos inputs\n",
        "        logit_outputs = mini_model(inputs)\n",
        "        # On calcule la perte\n",
        "        loss = loss_fn(logit_outputs, labels)\n",
        "\n",
        "        # On ajoute la perte au cumul\n",
        "        valid_loss += loss.item()\n",
        "        # On ajoute le nombre d'individus bien classés\n",
        "        valid_correct += (logit_outputs.argmax(1) == labels).sum().item()\n",
        "\n",
        "\n",
        "    # On stocke les pertes d'entrainement et de validations\n",
        "    train_losses.append(train_loss / len(train_loader.dataset))\n",
        "    valid_losses.append(valid_loss / len(valid_loader.dataset))\n",
        "\n",
        "    # Si l'epoch est un multiple de 10, on affiche un message\n",
        "    if epoch % 10 == 0:\n",
        "      print(f\"Epoch {epoch} : \"\n",
        "            f\"train loss = {train_loss / len(train_loader.dataset):.4f} \"\n",
        "            f\"train accuracy = {train_correct / len(train_loader.dataset):.3%} \"\n",
        "            f\"valid loss = {valid_loss / len(valid_loader.dataset):.4f} \"\n",
        "            f\"valid accuracy = {valid_correct / len(valid_loader.dataset):.3%} \")"
      ],
      "metadata": {
        "colab": {
          "base_uri": "https://localhost:8080/"
        },
        "id": "9-1X8mPS_FJp",
        "outputId": "c5b63509-185c-4a43-9fe0-53f1cb8cf877"
      },
      "execution_count": 53,
      "outputs": [
        {
          "output_type": "stream",
          "name": "stdout",
          "text": [
            "Epoch 0 : train loss = 0.1345 train accuracy = 42.386% valid loss = 0.1352 valid accuracy = 45.455% \n",
            "Epoch 10 : train loss = 0.1234 train accuracy = 51.018% valid loss = 0.1270 valid accuracy = 51.818% \n",
            "Epoch 20 : train loss = 0.1187 train accuracy = 53.831% valid loss = 0.1203 valid accuracy = 49.545% \n",
            "Epoch 30 : train loss = 0.1164 train accuracy = 55.189% valid loss = 0.1216 valid accuracy = 49.091% \n",
            "Epoch 40 : train loss = 0.1145 train accuracy = 56.644% valid loss = 0.1204 valid accuracy = 47.727% \n",
            "Epoch 50 : train loss = 0.1128 train accuracy = 55.965% valid loss = 0.1230 valid accuracy = 49.091% \n",
            "Epoch 60 : train loss = 0.1126 train accuracy = 57.323% valid loss = 0.1206 valid accuracy = 50.909% \n",
            "Epoch 70 : train loss = 0.1123 train accuracy = 56.450% valid loss = 0.1220 valid accuracy = 51.364% \n",
            "Epoch 80 : train loss = 0.1129 train accuracy = 57.129% valid loss = 0.1202 valid accuracy = 49.545% \n",
            "Epoch 90 : train loss = 0.1106 train accuracy = 59.263% valid loss = 0.1212 valid accuracy = 50.909% \n",
            "Epoch 100 : train loss = 0.1115 train accuracy = 57.808% valid loss = 0.1281 valid accuracy = 45.455% \n",
            "Epoch 110 : train loss = 0.1096 train accuracy = 57.711% valid loss = 0.1259 valid accuracy = 48.636% \n",
            "Epoch 120 : train loss = 0.1103 train accuracy = 58.584% valid loss = 0.1175 valid accuracy = 48.636% \n",
            "Epoch 130 : train loss = 0.1103 train accuracy = 58.972% valid loss = 0.1193 valid accuracy = 48.182% \n",
            "Epoch 140 : train loss = 0.1091 train accuracy = 58.390% valid loss = 0.1251 valid accuracy = 48.636% \n",
            "Epoch 150 : train loss = 0.1094 train accuracy = 58.681% valid loss = 0.1213 valid accuracy = 48.636% \n",
            "Epoch 160 : train loss = 0.1092 train accuracy = 58.972% valid loss = 0.1202 valid accuracy = 52.273% \n",
            "Epoch 170 : train loss = 0.1086 train accuracy = 58.875% valid loss = 0.1252 valid accuracy = 48.182% \n",
            "Epoch 180 : train loss = 0.1092 train accuracy = 58.390% valid loss = 0.1244 valid accuracy = 49.545% \n",
            "Epoch 190 : train loss = 0.1087 train accuracy = 60.524% valid loss = 0.1299 valid accuracy = 44.545% \n"
          ]
        }
      ]
    },
    {
      "cell_type": "markdown",
      "source": [
        "On va maintenant afficher les courbes, le modèle ne semble pas être surajusté (mais on aurait pu s'arrêter avant)."
      ],
      "metadata": {
        "id": "St_chLb7jNuT"
      }
    },
    {
      "cell_type": "code",
      "source": [
        "fig, ax = plt.subplots()\n",
        "ax.plot(train_losses, c=\"red\", label=\"Train\")\n",
        "ax.plot(valid_losses, c=\"blue\", label=\"Valid\")\n",
        "ax.set_xlabel(\"Epoch\")\n",
        "ax.set_ylabel(\"Loss\")\n",
        "ax.legend()\n",
        "plt.plot()"
      ],
      "metadata": {
        "colab": {
          "base_uri": "https://localhost:8080/",
          "height": 468
        },
        "id": "wholHVdiDNs0",
        "outputId": "4920c07a-79d2-4616-8770-6a6620d63dc4"
      },
      "execution_count": 54,
      "outputs": [
        {
          "output_type": "execute_result",
          "data": {
            "text/plain": [
              "[]"
            ]
          },
          "metadata": {},
          "execution_count": 54
        },
        {
          "output_type": "display_data",
          "data": {
            "text/plain": [
              "<Figure size 640x480 with 1 Axes>"
            ],
            "image/png": "[encoded data removed]"
          },
          "metadata": {}
        }
      ]
    },
    {
      "cell_type": "markdown",
      "source": [
        "On va maintenant tester notre modèle entrainé sur le jeu de test."
      ],
      "metadata": {
        "id": "oBLk6PAyjWFO"
      }
    },
    {
      "cell_type": "code",
      "source": [
        "# On met le modèle en mode évaluation\n",
        "mini_model.eval()\n",
        "\n",
        "# Pour cumuler le nombre d'inidividus bien classés\n",
        "test_correct = 0\n",
        "# Boucle sur notre DataLoader de test\n",
        "for inputs, labels in test_loader:\n",
        "\n",
        "  # On met nos tenseurs sur notre dispositif de calcul\n",
        "  inputs = inputs.to(device)\n",
        "  labels = labels.to(device)\n",
        "\n",
        "  # On calcule les log-odds de nos inputs\n",
        "  logit_outputs = mini_model(inputs)\n",
        "\n",
        "  # On ajoute le nombre d'individus bien classés\n",
        "  test_correct += (logit_outputs.argmax(1) == labels).sum().item()\n",
        "\n",
        "# On calcule l'exactitude\n",
        "test_accuracy = test_correct / len(test_loader.dataset)\n",
        "\n",
        "# On l'affiche\n",
        "print(f\"Test Accuracy: {test_accuracy}\")"
      ],
      "metadata": {
        "colab": {
          "base_uri": "https://localhost:8080/"
        },
        "id": "G1HU-pNWG4pI",
        "outputId": "8fe71ed2-d066-422e-c1d5-a359670a39a6"
      },
      "execution_count": 55,
      "outputs": [
        {
          "output_type": "stream",
          "name": "stdout",
          "text": [
            "Test Accuracy: 0.5045045045045045\n"
          ]
        }
      ]
    },
    {
      "cell_type": "markdown",
      "source": [
        "### 3.4 Sauver et charger un modèle\n",
        "\n",
        "Une fois le modèle entrainer, on peut avoir envie de la sauvegarder afin de le réutiliser pour faire des prédictions (ou pour le partager). Il existe deux manières de faire des sauvegardes."
      ],
      "metadata": {
        "id": "uJKbPhH8OdTO"
      }
    },
    {
      "cell_type": "markdown",
      "source": [
        "La première consiste à sauvegarder, via `torch.save()`, uniquement les **paramètres** du modèle, qui sont obtenus avec la méthode `state_dict()`. L'extension privilégiée pour sauvegarder un modèle PyTorch est `.pt` ou `.pth`."
      ],
      "metadata": {
        "id": "5tYM-SrNlFHb"
      }
    },
    {
      "cell_type": "code",
      "source": [
        "weights_path = \\\n",
        "  \"/content/drive/MyDrive/Colab Notebooks/ml_data/TP8/mini_model_weights.pth\"\n",
        "torch.save(mini_model.state_dict(), weights_path)"
      ],
      "metadata": {
        "id": "1f2Y8oxROccC"
      },
      "execution_count": 56,
      "outputs": []
    },
    {
      "cell_type": "markdown",
      "source": [
        "Avec cette méthode de sauvegarde, on doit d'abord instancier un modèle qui a la même structure, puis faire appel à la méthode `load_state_dict()` sur un `torch.load()` pour mettre à jour ses poids."
      ],
      "metadata": {
        "id": "RJ6r4E3slbtM"
      }
    },
    {
      "cell_type": "code",
      "source": [
        "new_model = MiniNet()\n",
        "new_model.load_state_dict(torch.load(weights_path, weights_only=True))\n",
        "new_model.to(device)\n",
        "print(new_model(sample_batch.to(device)))"
      ],
      "metadata": {
        "colab": {
          "base_uri": "https://localhost:8080/"
        },
        "id": "DNtVNNgHhnLX",
        "outputId": "db042e1a-3b60-4cc3-8ff7-6cf1255f0542"
      },
      "execution_count": 57,
      "outputs": [
        {
          "output_type": "stream",
          "name": "stdout",
          "text": [
            "tensor([[ 0.2077, -2.6023, -1.3191]], device='cuda:0',\n",
            "       grad_fn=<AddmmBackward0>)\n"
          ]
        }
      ]
    },
    {
      "cell_type": "markdown",
      "source": [
        "L'autre manière de procéder est de sauvegarder entièrement le modèle, en appliquant `torch.save()` directement sur le modèle."
      ],
      "metadata": {
        "id": "dPayLAcMl6Tk"
      }
    },
    {
      "cell_type": "code",
      "source": [
        "model_path = \"/content/drive/MyDrive/Colab Notebooks/ml_data/TP8/mini_model.pth\"\n",
        "torch.save(mini_model, model_path)"
      ],
      "metadata": {
        "id": "mO3ghuuSiN82"
      },
      "execution_count": 58,
      "outputs": []
    },
    {
      "cell_type": "markdown",
      "source": [
        "On peut alors le charger directement avec `torch.load()`."
      ],
      "metadata": {
        "id": "pOmiYTmwmFX8"
      }
    },
    {
      "cell_type": "code",
      "source": [
        "new_model2 = torch.load(model_path)\n",
        "print(new_model2(sample_batch.to(device)))"
      ],
      "metadata": {
        "colab": {
          "base_uri": "https://localhost:8080/"
        },
        "id": "OD7GOWMcjgOW",
        "outputId": "8e459a85-b09b-4b39-b9e4-acd6d0d47aa4"
      },
      "execution_count": 59,
      "outputs": [
        {
          "output_type": "stream",
          "name": "stdout",
          "text": [
            "tensor([[ 0.2077, -2.6023, -1.3191]], device='cuda:0',\n",
            "       grad_fn=<AddmmBackward0>)\n"
          ]
        },
        {
          "output_type": "stream",
          "name": "stderr",
          "text": [
            "<ipython-input-59-00a7894d86e6>:1: FutureWarning: You are using `torch.load` with `weights_only=False` (the current default value), which uses the default pickle module implicitly. It is possible to construct malicious pickle data which will execute arbitrary code during unpickling (See https://github.com/pytorch/pytorch/blob/main/SECURITY.md#untrusted-models for more details). In a future release, the default value for `weights_only` will be flipped to `True`. This limits the functions that could be executed during unpickling. Arbitrary objects will no longer be allowed to be loaded via this mode unless they are explicitly allowlisted by the user via `torch.serialization.add_safe_globals`. We recommend you start setting `weights_only=True` for any use case where you don't have full control of the loaded file. Please open an issue on GitHub for any issues related to this experimental feature.\n",
            "  new_model2 = torch.load(model_path)\n"
          ]
        }
      ]
    },
    {
      "cell_type": "markdown",
      "source": [
        "Bien que moins intuitive, la permière méthode de sauvegarde est privilégiée. En effet, la seconde méthode est très sensible à la moindre restructuration du code et présente des risques de sécurité."
      ],
      "metadata": {
        "id": "lzNo2S6-mePQ"
      }
    },
    {
      "cell_type": "markdown",
      "source": [
        "---"
      ],
      "metadata": {
        "id": "ASn0-kswkdmC"
      }
    }
  ]
}