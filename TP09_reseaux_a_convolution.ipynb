{
  "nbformat": 4,
  "nbformat_minor": 0,
  "metadata": {
    "colab": {
      "provenance": [],
      "gpuType": "T4",
      "mount_file_id": "1D8QgqhVHOvt9tuhFI1-RW8wFa08EfmdC",
      "authorship_tag": "ABX9TyNFSWappdlR/0QCjNSTAumQ",
      "include_colab_link": true
    },
    "kernelspec": {
      "name": "python3",
      "display_name": "Python 3"
    },
    "language_info": {
      "name": "python"
    },
    "accelerator": "GPU"
  },
  "cells": [
    {
      "cell_type": "markdown",
      "metadata": {
        "id": "view-in-github",
        "colab_type": "text"
      },
      "source": [
        "<a href=\"https://colab.research.google.com/github/gguex/ISH_ressources_cours_ML/blob/main/TP09_reseaux_a_convolution.ipynb\" target=\"_parent\"><img src=\"https://colab.research.google.com/assets/colab-badge.svg\" alt=\"Open In Colab\"/></a>"
      ]
    },
    {
      "cell_type": "markdown",
      "source": [
        "# TP 9 : Réseaux de neurones à Convolution"
      ],
      "metadata": {
        "id": "4VDU3ojGp-M1"
      }
    },
    {
      "cell_type": "markdown",
      "source": [
        "Dans ce TP, nous allons créer un modèle de réseau à convolution pour la reconnaissance de chiffres manuscrits grâce au dataset MNIST (https://pytorch.org/vision/stable/generated/torchvision.datasets.MNIST.html). Ce sera l'occasion de voir de nombreuses nouvelles choses dans l'utilisation de PyTorch.\n",
        "\n",
        "Un exercice vous sera demandé. Il s'agira de faire un modèle pour entrainer un réseau de convolution afin de classifier les images contenues dans le jeu de données CIFAR10.\n",
        "\n",
        "Les librairies nécessaires sont les suivantes :"
      ],
      "metadata": {
        "id": "QVEKtLmRC-6A"
      }
    },
    {
      "cell_type": "code",
      "source": [
        "import pandas as pd\n",
        "import numpy as np\n",
        "import matplotlib.pyplot as plt\n",
        "import torch\n",
        "from torchvision import datasets\n",
        "from torchvision import transforms\n",
        "from torch.utils.data import Dataset, DataLoader, random_split\n",
        "import torch.nn as nn\n",
        "import torch.nn.functional as F\n",
        "import PIL\n",
        "import os\n",
        "# Pour dessiner dans colab\n",
        "from IPython.display import HTML, Image\n",
        "from google.colab.output import eval_js\n",
        "from base64 import b64decode"
      ],
      "metadata": {
        "id": "MluqVUhkp9of"
      },
      "execution_count": 1,
      "outputs": []
    },
    {
      "cell_type": "markdown",
      "source": [
        "Nous allons utiliser la carte graphique si elle est disponible."
      ],
      "metadata": {
        "id": "mxlBBT7_ERD8"
      }
    },
    {
      "cell_type": "code",
      "source": [
        "device = \"cuda\" if torch.cuda.is_available() else \"cpu\"\n",
        "print(device)"
      ],
      "metadata": {
        "colab": {
          "base_uri": "https://localhost:8080/"
        },
        "id": "co5s9N0GM6QN",
        "outputId": "67566434-2cf5-42f6-97f0-d173812d3442"
      },
      "execution_count": 2,
      "outputs": [
        {
          "output_type": "stream",
          "name": "stdout",
          "text": [
            "cuda\n"
          ]
        }
      ]
    },
    {
      "cell_type": "markdown",
      "source": [
        "Pour des raisons de simplicité, nous allons utiliser le jeu de données qui est proposé par PyTorch, nous n'avons ainsi pas besoin de construire une classe `Dataset` personnalisée. Nous allons télécharger le jeu de données sur le drive."
      ],
      "metadata": {
        "id": "cg4VXrqnEVtt"
      }
    },
    {
      "cell_type": "code",
      "source": [
        "train_path = \"/content/drive/MyDrive/Colab Notebooks/ml_data/TP9/mnist_train/\"\n",
        "test_path = \"/content/drive/MyDrive/Colab Notebooks/ml_data/TP9/mnist_test/\"\n",
        "mnist_tv = datasets.MNIST(root=train_path, train=True, download=True)\n",
        "mnist_test = datasets.MNIST(root=test_path, train=False, download=True)"
      ],
      "metadata": {
        "id": "OZ7EVIzu8ecK"
      },
      "execution_count": 3,
      "outputs": []
    },
    {
      "cell_type": "markdown",
      "source": [
        "Regardons un exemple du jeu de données."
      ],
      "metadata": {
        "id": "Q1TTOkJlE--5"
      }
    },
    {
      "cell_type": "code",
      "source": [
        "sample_img, sample_label = mnist_tv[0]\n",
        "print(sample_label)\n",
        "plt.imshow(sample_img)"
      ],
      "metadata": {
        "colab": {
          "base_uri": "https://localhost:8080/",
          "height": 465
        },
        "id": "m61QaAW-9XB7",
        "outputId": "4cd547eb-b12d-4691-90a3-3be383879dac"
      },
      "execution_count": 4,
      "outputs": [
        {
          "output_type": "stream",
          "name": "stdout",
          "text": [
            "5\n"
          ]
        },
        {
          "output_type": "execute_result",
          "data": {
            "text/plain": [
              "<matplotlib.image.AxesImage at 0x780c9fd621a0>"
            ]
          },
          "metadata": {},
          "execution_count": 4
        },
        {
          "output_type": "display_data",
          "data": {
            "text/plain": [
              "<Figure size 640x480 with 1 Axes>"
            ],
            "image/png": "[encoded data removed]"
          },
          "metadata": {}
        }
      ]
    },
    {
      "cell_type": "markdown",
      "source": [
        "Afin de normaliser les pixels de notre jeu de données (en noir et blanc, donc il n'y a qu'un seul canal) nous allons calculer la moyenne et la déviation standard des pixels sur le jeu d'entrainement. On utilise pour cela un `DataLoader` et la fonction `torch.std_mean()` qui calcule la déviation standard et la moyenne du batch."
      ],
      "metadata": {
        "id": "LELsOCu2FUnW"
      }
    },
    {
      "cell_type": "code",
      "source": [
        "mnist_tv.transform = transforms.ToTensor()\n",
        "mnist_tv_loader = DataLoader(mnist_tv, batch_size=32)\n",
        "mean_color = 0\n",
        "std_color = 0\n",
        "for img_tensor, _ in mnist_tv_loader:\n",
        "  std, mean = torch.std_mean(img_tensor)\n",
        "  mean_color += mean.item()\n",
        "  std_color += std.item()\n",
        "mean_color = mean_color / len(mnist_tv_loader)\n",
        "std_color = std_color / len(mnist_tv_loader)\n",
        "print(f\"mean = {mean_color}, std = {std_color}\")"
      ],
      "metadata": {
        "colab": {
          "base_uri": "https://localhost:8080/"
        },
        "id": "vwG0xi87P6v8",
        "outputId": "0998ba74-736e-4133-ebb3-8f7c1ad3e9c3"
      },
      "execution_count": 5,
      "outputs": [
        {
          "output_type": "stream",
          "name": "stdout",
          "text": [
            "mean = 0.13066047743558884, std = 0.30746446056365967\n"
          ]
        }
      ]
    },
    {
      "cell_type": "markdown",
      "source": [
        "Nous allons créer la fonction de transformation des données, avec un redimensionnement, une transformation en tenseur et une normalisation. On modifie ensuite les transformations de nos jeux de données avec ces nouvelles transformations."
      ],
      "metadata": {
        "id": "y1peEE5WF7Ls"
      }
    },
    {
      "cell_type": "code",
      "source": [
        "mnist_transform = transforms.Compose([\n",
        "    transforms.Resize(28),\n",
        "    transforms.ToTensor(),\n",
        "    transforms.Normalize(\n",
        "        mean=mean_color,\n",
        "        std=std_color\n",
        "    )\n",
        "])\n",
        "mnist_tv.transform = mnist_transform\n",
        "mnist_test.transform = mnist_transform"
      ],
      "metadata": {
        "id": "4pJSaJIXQPrk"
      },
      "execution_count": 6,
      "outputs": []
    },
    {
      "cell_type": "markdown",
      "source": [
        "Nous allons maintenant séparer notre jeu d'entrainement pour avoir un jeu de validation."
      ],
      "metadata": {
        "id": "MqaFl7GLYG7P"
      }
    },
    {
      "cell_type": "code",
      "source": [
        "valid_ratio = 0.2\n",
        "valid_size = int(valid_ratio * len(mnist_tv))\n",
        "train_size = len(mnist_tv) - valid_size\n",
        "mnist_train, mnist_valid = random_split(mnist_tv, [train_size, valid_size])"
      ],
      "metadata": {
        "id": "x5ncL0MJWcI9"
      },
      "execution_count": 7,
      "outputs": []
    },
    {
      "cell_type": "markdown",
      "source": [
        "On construit les loaders qu'on utilisera plus tard."
      ],
      "metadata": {
        "id": "oG1EXEikYPUi"
      }
    },
    {
      "cell_type": "code",
      "source": [
        "train_loader = DataLoader(mnist_train, batch_size=32, shuffle=True)\n",
        "valid_loader =  DataLoader(mnist_valid, batch_size=32, shuffle=False)\n",
        "test_loader = DataLoader(mnist_test, batch_size=32, shuffle=False)"
      ],
      "metadata": {
        "id": "cTslYfdkW-6a"
      },
      "execution_count": 8,
      "outputs": []
    },
    {
      "cell_type": "markdown",
      "source": [
        "Il est temps de construire notre modèle qui est une version moderne et améloriée du modèle LeNet5 (http://yann.lecun.com/exdb/publis/pdf/lecun-01a.pdf). Le modèle va être le suivant :\n",
        "\n",
        "* Un module de convolutions avec :\n",
        "  * Une convolution (5 x 5) résultant en 6 canaux avec normalisation et activation ReLU.\n",
        "  * Un MaxPooling (2 x 2) avec un stride de 2.\n",
        "  * Une convolution (5 x 5) résultant en 16 canaux avec normalisation et activation ReLU.\n",
        "  * Un MaxPooling (2 x 2) avec un stride de 2.\n",
        "\n",
        "Le résultat intermédiaire sera donc un tenseur de forme $(batch\\_size \\times 16 \\times final\\_width \\times final\\_width$). La $final\\_width$ peut s'obtenir à partir de la taille d'entrée et en calculant séquentiellement la taille des grilles résultantes à chaque étape (voir l'aide de `torch.nn.Conv2d()` et `torch.nn.MaxPool2d()`), ce que nous allons faire automatiquement.\n",
        "\n",
        "Ensuite on passe les tenseurs (applatis) dans le module suivant.\n",
        "\n",
        "* Un module pour la classification avec :\n",
        "  * Une couche entièrement connectée de 120 neurones et activation ReLU et dropout de 30%.\n",
        "  * Une couche entièrement connectée de 84 neurones et activation ReLU et dropout de 30%.\n",
        "  * Une couche de sortie avec la nombre de classe.\n",
        "\n",
        "Le résultat du modèle seront les log-odds pour chaque classe.\n"
      ],
      "metadata": {
        "id": "FQRWkPVwGNCY"
      }
    },
    {
      "cell_type": "code",
      "source": [
        "class LeNet5(nn.Module):\n",
        "\n",
        "  # Le constructeur\n",
        "  def __init__(self, img_width, n_classes):\n",
        "    super(LeNet5, self).__init__()\n",
        "\n",
        "    # Le module de convolutions\n",
        "    self.convolutions = nn.Sequential(\n",
        "        nn.Conv2d(in_channels=1,\n",
        "                  out_channels=6,\n",
        "                  kernel_size=5,\n",
        "                  stride=1,\n",
        "                  padding=0),\n",
        "        nn.BatchNorm2d(6),\n",
        "        nn.ReLU(),\n",
        "        nn.MaxPool2d(kernel_size=2,\n",
        "                     stride=2),\n",
        "        nn.Conv2d(in_channels=6,\n",
        "                  out_channels=16,\n",
        "                  kernel_size=5,\n",
        "                  stride=1,\n",
        "                  padding=0),\n",
        "        nn.BatchNorm2d(16),\n",
        "        nn.ReLU(),\n",
        "        nn.MaxPool2d(kernel_size=2,\n",
        "                     stride=2)\n",
        "    )\n",
        "\n",
        "    # Calcule automatique des largeurs des grilles\n",
        "    width_1 = img_width - 4 # Après la première convolution\n",
        "    width_2 = int((width_1 - 2) / 2 + 1) # Après le premier MaxPool\n",
        "    width_3 = width_2 - 4 # Après la deuxième convolution\n",
        "    width_4 = int((width_3 - 2) / 2 + 1) # Après le deuxième MaxPool\n",
        "\n",
        "    # Le module de classification\n",
        "    self.classifier = nn.Sequential(\n",
        "        nn.Linear(in_features=width_4*width_4*16,\n",
        "                  out_features=120),\n",
        "        nn.ReLU(),\n",
        "        nn.Dropout(0.3),\n",
        "        nn.Linear(in_features=120,\n",
        "                  out_features=84),\n",
        "        nn.ReLU(),\n",
        "        nn.Dropout(0.3),\n",
        "        nn.Linear(in_features=84,\n",
        "                  out_features=n_classes)\n",
        "\n",
        "    )\n",
        "\n",
        "  # La fonction qui fait passer les données dans la modèle\n",
        "  def forward(self, x):\n",
        "      y = self.convolutions(x)\n",
        "      y_flat = y.flatten(1) # On applatit tout au delà de la 1ère dimension\n",
        "      z = self.classifier(y_flat)\n",
        "      return z"
      ],
      "metadata": {
        "id": "uYArbuHk9bav"
      },
      "execution_count": 9,
      "outputs": []
    },
    {
      "cell_type": "markdown",
      "source": [
        "On crée maintenant une instance du modèle et on l'affiche."
      ],
      "metadata": {
        "id": "fO-6TseQLGXV"
      }
    },
    {
      "cell_type": "code",
      "source": [
        "lnet5_model = LeNet5(28, 10)\n",
        "print(lnet5_model)"
      ],
      "metadata": {
        "colab": {
          "base_uri": "https://localhost:8080/"
        },
        "id": "cjcdKAmrGwt_",
        "outputId": "e364bb1a-48d3-4805-cb88-db72f059d8bc"
      },
      "execution_count": 10,
      "outputs": [
        {
          "output_type": "stream",
          "name": "stdout",
          "text": [
            "LeNet5(\n",
            "  (convolutions): Sequential(\n",
            "    (0): Conv2d(1, 6, kernel_size=(5, 5), stride=(1, 1))\n",
            "    (1): BatchNorm2d(6, eps=1e-05, momentum=0.1, affine=True, track_running_stats=True)\n",
            "    (2): ReLU()\n",
            "    (3): MaxPool2d(kernel_size=2, stride=2, padding=0, dilation=1, ceil_mode=False)\n",
            "    (4): Conv2d(6, 16, kernel_size=(5, 5), stride=(1, 1))\n",
            "    (5): BatchNorm2d(16, eps=1e-05, momentum=0.1, affine=True, track_running_stats=True)\n",
            "    (6): ReLU()\n",
            "    (7): MaxPool2d(kernel_size=2, stride=2, padding=0, dilation=1, ceil_mode=False)\n",
            "  )\n",
            "  (classifier): Sequential(\n",
            "    (0): Linear(in_features=256, out_features=120, bias=True)\n",
            "    (1): ReLU()\n",
            "    (2): Dropout(p=0.3, inplace=False)\n",
            "    (3): Linear(in_features=120, out_features=84, bias=True)\n",
            "    (4): ReLU()\n",
            "    (5): Dropout(p=0.3, inplace=False)\n",
            "    (6): Linear(in_features=84, out_features=10, bias=True)\n",
            "  )\n",
            ")\n"
          ]
        }
      ]
    },
    {
      "cell_type": "markdown",
      "source": [
        "On peut faire passer une échantillon de notre jeu de données. La sortie ne sera pour le moment pas très intéressante vu que les poids sont pour le moment mis au hasard, mais on s'assure ainsi que notre modèle est bien construit."
      ],
      "metadata": {
        "id": "ajUf_-iKLKtt"
      }
    },
    {
      "cell_type": "code",
      "source": [
        "sample_tensor, sample_label = mnist_train[0]\n",
        "sample_tensor = sample_tensor.unsqueeze(0)\n",
        "print(F.softmax(lnet5_model(sample_tensor), dim=0))\n",
        "print(sample_label)"
      ],
      "metadata": {
        "colab": {
          "base_uri": "https://localhost:8080/"
        },
        "id": "gFLVHGLNN1uv",
        "outputId": "2bef780a-28c6-4c87-d62d-c4650505058d"
      },
      "execution_count": 11,
      "outputs": [
        {
          "output_type": "stream",
          "name": "stdout",
          "text": [
            "tensor([[1., 1., 1., 1., 1., 1., 1., 1., 1., 1.]], grad_fn=<SoftmaxBackward0>)\n",
            "0\n"
          ]
        }
      ]
    },
    {
      "cell_type": "markdown",
      "source": [
        "On va créer notre fonction de perte et un optimisateur. On prend ici l'optimisateur `torch.optim.Adam()` (https://arxiv.org/abs/1412.6980) qui est plus sophistiqué et rapide que la descente du gradient simple."
      ],
      "metadata": {
        "id": "c8YfSdavLWik"
      }
    },
    {
      "cell_type": "code",
      "source": [
        "loss_fn = nn.CrossEntropyLoss()\n",
        "optimizer = torch.optim.Adam(lnet5_model.parameters(), lr=0.001)"
      ],
      "metadata": {
        "id": "9RX9m6Y7IkF4"
      },
      "execution_count": 12,
      "outputs": []
    },
    {
      "cell_type": "markdown",
      "source": [
        "Dans ce TP, nous allons créer un dossier pour stocker des sauvegardes de l'état du modèle après chaque epoch (on appelle cela des checkpoints). Ces sauvegardes ont trois utilités :\n",
        "  * Si l'entrainement est interrompu avant la fin, il nous est possible de charger la dernière sauvegarde et de reprendre l'entrainement.\n",
        "  * On peut prendre un modèle qui n'est pas sur-entrainement, et simuler ainsi un arrêt prématuré.\n",
        "  * On peut reprendre un modèle pour l'entrainer sur d'autres données (fine tuning)."
      ],
      "metadata": {
        "id": "Ugftix_PNKQF"
      }
    },
    {
      "cell_type": "code",
      "source": [
        "checkpoints_dir = \"checkpoints\"\n",
        "os.makedirs(checkpoints_dir, exist_ok=True)"
      ],
      "metadata": {
        "id": "2MaI4VVzLo6a"
      },
      "execution_count": 13,
      "outputs": []
    },
    {
      "cell_type": "markdown",
      "source": [
        "Dans le code suivant, on trouve la boucle d'entrainement. On peut noter l'utilisation de `torch.save()` à la fin de chaque epoch, pour sauvegarder l'état du modèle ainsi que plusieures autres données relatives à l'état. En particulier, on sauvegarde l'état de l'optimisateur, afin de pouvoir reprendre l'entrainement depuis ce point si nécessaire.\n",
        "\n",
        "Le code tourne relativement lentement. Vous pouvez baisser le nombre d'epochs si vous le désirez."
      ],
      "metadata": {
        "id": "Hb1wHt5ON7JB"
      }
    },
    {
      "cell_type": "code",
      "source": [
        "# Paramètres d'entrainement\n",
        "n_epochs = 25\n",
        "# On met le modèle sur le dispositif de calcul\n",
        "lnet5_model.to(device)\n",
        "\n",
        "# Pour stocker les pertes d'entrainement et de validations (graphique à suivre)\n",
        "train_losses = []\n",
        "valid_losses = []\n",
        "train_accuracies = []\n",
        "valid_accuracies = []\n",
        "\n",
        "# La boucle sur les epochs\n",
        "for epoch in range(n_epochs):\n",
        "\n",
        "  # Entrainement\n",
        "\n",
        "  lnet5_model.train()\n",
        "  train_loss = 0\n",
        "  train_correct = 0\n",
        "  for inputs, labels in train_loader:\n",
        "\n",
        "      inputs = inputs.to(device)\n",
        "      labels = labels.to(device)\n",
        "\n",
        "      optimizer.zero_grad()\n",
        "      logit_outputs = lnet5_model(inputs)\n",
        "      loss = loss_fn(logit_outputs, labels)\n",
        "      loss.backward()\n",
        "      optimizer.step()\n",
        "\n",
        "      train_loss += loss.item()\n",
        "      train_correct += (logit_outputs.argmax(1) == labels).sum().item()\n",
        "\n",
        "  # Validation\n",
        "\n",
        "  lnet5_model.eval()\n",
        "  valid_loss = 0\n",
        "  valid_correct = 0\n",
        "  for inputs, labels in valid_loader:\n",
        "\n",
        "      inputs = inputs.to(device)\n",
        "      labels = labels.to(device)\n",
        "\n",
        "      logit_outputs = lnet5_model(inputs)\n",
        "      loss = loss_fn(logit_outputs, labels)\n",
        "\n",
        "      valid_loss += loss.item()\n",
        "      valid_correct += (logit_outputs.argmax(1) == labels).sum().item()\n",
        "\n",
        "  # ---- Engistrement et affichage\n",
        "\n",
        "  # Calcul de la perte moyenne et exactitude moyenne\n",
        "  train_mean_loss = train_loss / len(train_loader.dataset)\n",
        "  valid_mean_loss = valid_loss / len(valid_loader.dataset)\n",
        "  train_mean_accuracy = train_correct / len(train_loader.dataset)\n",
        "  valid_mean_accuracy = valid_correct / len(valid_loader.dataset)\n",
        "\n",
        "  # Sauvegarde des valeurs\n",
        "  train_losses.append(train_mean_loss)\n",
        "  valid_losses.append(valid_mean_loss)\n",
        "  train_accuracies.append(train_mean_accuracy)\n",
        "  valid_accuracies.append(valid_mean_accuracy)\n",
        "\n",
        "  # Sauvegarde du checkpoint\n",
        "  torch.save({\"epoch\": epoch + 1,\n",
        "              \"model_state_dict\": lnet5_model.state_dict(),\n",
        "              \"optimizer_tat_dict\": optimizer.state_dict(),\n",
        "              \"train_loss\": train_mean_loss,\n",
        "              \"valid_loss\": valid_mean_loss,\n",
        "              \"train_accuracy\": train_mean_accuracy,\n",
        "              \"valid_accuracy\": valid_mean_accuracy},\n",
        "             f\"{checkpoints_dir}/model_{epoch + 1}.pt\")\n",
        "\n",
        "  # Print\n",
        "  print(f\"Epoch {epoch + 1}/{n_epochs} : \"\n",
        "            f\"train loss = {train_mean_loss:.4f}, \"\n",
        "            f\"train accuracy = {train_mean_accuracy:.3%}, \"\n",
        "            f\"valid loss = {valid_mean_loss:.4f}, \"\n",
        "            f\"valid accuracy = {valid_mean_accuracy:.3%}.\")"
      ],
      "metadata": {
        "colab": {
          "base_uri": "https://localhost:8080/"
        },
        "id": "hynoI5hSP3JU",
        "outputId": "32997449-33a6-4694-df1a-e92c6ca6393b"
      },
      "execution_count": 14,
      "outputs": [
        {
          "output_type": "stream",
          "name": "stdout",
          "text": [
            "Epoch 1/25 : train loss = 0.0076, train accuracy = 92.600%, valid loss = 0.0026, valid accuracy = 97.617%.\n",
            "Epoch 2/25 : train loss = 0.0028, train accuracy = 97.371%, valid loss = 0.0019, valid accuracy = 98.292%.\n",
            "Epoch 3/25 : train loss = 0.0021, train accuracy = 97.977%, valid loss = 0.0018, valid accuracy = 98.358%.\n",
            "Epoch 4/25 : train loss = 0.0018, train accuracy = 98.329%, valid loss = 0.0020, valid accuracy = 98.333%.\n",
            "Epoch 5/25 : train loss = 0.0016, train accuracy = 98.473%, valid loss = 0.0015, valid accuracy = 98.775%.\n",
            "Epoch 6/25 : train loss = 0.0014, train accuracy = 98.644%, valid loss = 0.0016, valid accuracy = 98.692%.\n",
            "Epoch 7/25 : train loss = 0.0014, train accuracy = 98.679%, valid loss = 0.0016, valid accuracy = 98.642%.\n",
            "Epoch 8/25 : train loss = 0.0012, train accuracy = 98.862%, valid loss = 0.0015, valid accuracy = 98.817%.\n",
            "Epoch 9/25 : train loss = 0.0010, train accuracy = 99.010%, valid loss = 0.0017, valid accuracy = 98.650%.\n",
            "Epoch 10/25 : train loss = 0.0011, train accuracy = 98.981%, valid loss = 0.0017, valid accuracy = 98.875%.\n",
            "Epoch 11/25 : train loss = 0.0009, train accuracy = 99.140%, valid loss = 0.0018, valid accuracy = 98.708%.\n",
            "Epoch 12/25 : train loss = 0.0009, train accuracy = 99.138%, valid loss = 0.0016, valid accuracy = 98.867%.\n",
            "Epoch 13/25 : train loss = 0.0008, train accuracy = 99.177%, valid loss = 0.0016, valid accuracy = 98.908%.\n",
            "Epoch 14/25 : train loss = 0.0008, train accuracy = 99.267%, valid loss = 0.0018, valid accuracy = 98.733%.\n",
            "Epoch 15/25 : train loss = 0.0007, train accuracy = 99.298%, valid loss = 0.0021, valid accuracy = 98.683%.\n",
            "Epoch 16/25 : train loss = 0.0008, train accuracy = 99.215%, valid loss = 0.0018, valid accuracy = 98.892%.\n",
            "Epoch 17/25 : train loss = 0.0006, train accuracy = 99.369%, valid loss = 0.0018, valid accuracy = 98.858%.\n",
            "Epoch 18/25 : train loss = 0.0007, train accuracy = 99.360%, valid loss = 0.0019, valid accuracy = 98.950%.\n",
            "Epoch 19/25 : train loss = 0.0006, train accuracy = 99.379%, valid loss = 0.0019, valid accuracy = 98.925%.\n",
            "Epoch 20/25 : train loss = 0.0006, train accuracy = 99.417%, valid loss = 0.0021, valid accuracy = 98.833%.\n",
            "Epoch 21/25 : train loss = 0.0006, train accuracy = 99.440%, valid loss = 0.0019, valid accuracy = 98.808%.\n",
            "Epoch 22/25 : train loss = 0.0006, train accuracy = 99.435%, valid loss = 0.0017, valid accuracy = 99.025%.\n",
            "Epoch 23/25 : train loss = 0.0005, train accuracy = 99.471%, valid loss = 0.0019, valid accuracy = 98.850%.\n",
            "Epoch 24/25 : train loss = 0.0005, train accuracy = 99.515%, valid loss = 0.0020, valid accuracy = 98.917%.\n",
            "Epoch 25/25 : train loss = 0.0005, train accuracy = 99.554%, valid loss = 0.0021, valid accuracy = 98.842%.\n"
          ]
        }
      ]
    },
    {
      "cell_type": "markdown",
      "source": [
        "On regarde ensuite les graphiques de la perte et de l'exactitude lors de l'entrainement."
      ],
      "metadata": {
        "id": "Rl7J6K2VPgRi"
      }
    },
    {
      "cell_type": "code",
      "source": [
        "fig, ax = plt.subplots()\n",
        "ax.plot(train_losses, c=\"red\", label=\"Train\")\n",
        "ax.plot(valid_losses, c=\"blue\", label=\"Valid\")\n",
        "ax.set_xlabel(\"Epoch\")\n",
        "ax.set_ylabel(\"Loss\")\n",
        "ax.legend()\n",
        "plt.plot()"
      ],
      "metadata": {
        "id": "2yn1iW0c2nI9",
        "colab": {
          "base_uri": "https://localhost:8080/",
          "height": 466
        },
        "outputId": "13d1c047-5ae0-446c-d78d-23f2187da724"
      },
      "execution_count": 15,
      "outputs": [
        {
          "output_type": "execute_result",
          "data": {
            "text/plain": [
              "[]"
            ]
          },
          "metadata": {},
          "execution_count": 15
        },
        {
          "output_type": "display_data",
          "data": {
            "text/plain": [
              "<Figure size 640x480 with 1 Axes>"
            ],
            "image/png": "[encoded data removed]"
          },
          "metadata": {}
        }
      ]
    },
    {
      "cell_type": "code",
      "source": [
        "fig, ax = plt.subplots()\n",
        "ax.plot(train_accuracies, c=\"red\", label=\"Train\")\n",
        "ax.plot(valid_accuracies, c=\"blue\", label=\"Valid\")\n",
        "ax.set_xlabel(\"Epoch\")\n",
        "ax.set_ylabel(\"Loss\")\n",
        "ax.legend()\n",
        "plt.plot()"
      ],
      "metadata": {
        "colab": {
          "base_uri": "https://localhost:8080/",
          "height": 466
        },
        "id": "4fe4AgPjNrxJ",
        "outputId": "20d20efc-c00f-4c10-a56b-c1b56b9cb87d"
      },
      "execution_count": 16,
      "outputs": [
        {
          "output_type": "execute_result",
          "data": {
            "text/plain": [
              "[]"
            ]
          },
          "metadata": {},
          "execution_count": 16
        },
        {
          "output_type": "display_data",
          "data": {
            "text/plain": [
              "<Figure size 640x480 with 1 Axes>"
            ],
            "image/png": "[encoded data removed]"
          },
          "metadata": {}
        }
      ]
    },
    {
      "cell_type": "markdown",
      "source": [
        "On séléctionne maintenant l'epoch qui contient le modèle le plus intéressant. On va charger le modèle de cette epoch. Son erreur de validation est affichée."
      ],
      "metadata": {
        "id": "VpmI-92HPxmL"
      }
    },
    {
      "cell_type": "code",
      "source": [
        "best_epoch = np.where(np.array(valid_accuracies) == max(valid_accuracies))[0][0]\n",
        "best_checkpoint = torch.load(f\"{checkpoints_dir}/model_{best_epoch}.pt\",\n",
        "                             weights_only=True)\n",
        "lnet5_best_model = LeNet5(28, 10)\n",
        "lnet5_best_model.load_state_dict(best_checkpoint[\"model_state_dict\"])\n",
        "best_valid_accuracy = best_checkpoint[\"valid_accuracy\"]\n",
        "print(f\"Validation accuracy = {best_valid_accuracy:.4%}\")"
      ],
      "metadata": {
        "id": "B6YTNVzvGdnG",
        "colab": {
          "base_uri": "https://localhost:8080/"
        },
        "outputId": "c630cc54-1467-494b-c6b4-5027caefc0e0"
      },
      "execution_count": 17,
      "outputs": [
        {
          "output_type": "stream",
          "name": "stdout",
          "text": [
            "Validation accuracy = 98.8083%\n"
          ]
        }
      ]
    },
    {
      "cell_type": "markdown",
      "source": [
        "On va maintenant l'évaluer sur le jeu de test."
      ],
      "metadata": {
        "id": "KdjgprZ7QAIv"
      }
    },
    {
      "cell_type": "code",
      "source": [
        "lnet5_best_model.eval()\n",
        "lnet5_best_model.to(device)\n",
        "test_correct = 0\n",
        "for inputs, labels in test_loader:\n",
        "  inputs = inputs.to(device)\n",
        "  labels = labels.to(device)\n",
        "  logit_outputs = lnet5_best_model(inputs)\n",
        "  test_correct += (logit_outputs.argmax(1) == labels).sum().item()\n",
        "\n",
        "test_accuracy = test_correct / len(test_loader.dataset)\n",
        "print(f\"Test Accuracy = {test_accuracy:.4%}:\")"
      ],
      "metadata": {
        "id": "EhtCF23zhMXx",
        "colab": {
          "base_uri": "https://localhost:8080/"
        },
        "outputId": "c8ca8853-e0f1-43fb-e8a1-1409e932c5e5"
      },
      "execution_count": 18,
      "outputs": [
        {
          "output_type": "stream",
          "name": "stdout",
          "text": [
            "Test Accuracy = 99.0000%:\n"
          ]
        }
      ]
    },
    {
      "cell_type": "markdown",
      "source": [
        "Le code ci-dessous est tiré de https://gist.github.com/korakot/8409b3feec20f159d8a50b0a811d3bca?permalink_comment_id=4008239. Il n'est pas nécessaire d'en comprendre les détails, mais il permet de saisir un chiffre manuscrit (en réalité dessiné avec la souris) directement dans colab et de le sauvegarder dans une image."
      ],
      "metadata": {
        "id": "exKDenhARHfn"
      }
    },
    {
      "cell_type": "code",
      "source": [
        "canvas_html = \"\"\"\n",
        "<canvas width=%d height=%d></canvas>\n",
        "<button>Finish</button>\n",
        "<script>\n",
        "var canvas = document.querySelector('canvas')\n",
        "var ctx = canvas.getContext('2d')\n",
        "ctx.lineWidth = %d\n",
        "var button = document.querySelector('button')\n",
        "var mouse = {x: 0, y: 0}\n",
        "canvas.addEventListener('mousemove', function(e) {\n",
        "  mouse.x = e.pageX - this.offsetLeft\n",
        "  mouse.y = e.pageY - this.offsetTop\n",
        "})\n",
        "canvas.onmousedown = ()=>{\n",
        "  ctx.beginPath()\n",
        "  ctx.moveTo(mouse.x, mouse.y)\n",
        "  canvas.addEventListener('mousemove', onPaint)\n",
        "}\n",
        "canvas.onmouseup = ()=>{\n",
        "  canvas.removeEventListener('mousemove', onPaint)\n",
        "}\n",
        "var onPaint = ()=>{\n",
        "  ctx.lineTo(mouse.x, mouse.y)\n",
        "  ctx.stroke()\n",
        "}\n",
        "var data = new Promise(resolve=>{\n",
        "  button.onclick = ()=>{\n",
        "    resolve(canvas.toDataURL('image/png'))\n",
        "  }\n",
        "})\n",
        "</script>\n",
        "\"\"\"\n",
        "\n",
        "def draw(filename, w=320, h=320, line_width=10):\n",
        "  display(HTML(canvas_html % (w, h, line_width)))\n",
        "  data = eval_js(\"data\")\n",
        "  binary = b64decode(data.split(',')[1])\n",
        "  with open(filename, 'wb') as f:\n",
        "    f.write(binary)\n",
        "  return len(binary)"
      ],
      "metadata": {
        "id": "utRPe_ywidTV"
      },
      "execution_count": 19,
      "outputs": []
    },
    {
      "cell_type": "markdown",
      "source": [
        "On lance la fonction et pour dessiner un chiffre."
      ],
      "metadata": {
        "id": "IR4xalU8UGKy"
      }
    },
    {
      "cell_type": "code",
      "source": [
        "img_path = \"number.png\"\n",
        "draw(img_path)"
      ],
      "metadata": {
        "id": "eTE6vC4xjWbp",
        "colab": {
          "base_uri": "https://localhost:8080/",
          "height": 360
        },
        "outputId": "0299f5c4-5da9-4a16-f706-e6a5da4258dc"
      },
      "execution_count": 20,
      "outputs": [
        {
          "output_type": "display_data",
          "data": {
            "text/plain": [
              "<IPython.core.display.HTML object>"
            ],
            "text/html": [
              "\n",
              "<canvas width=320 height=320></canvas>\n",
              "<button>Finish</button>\n",
              "<script>\n",
              "var canvas = document.querySelector('canvas')\n",
              "var ctx = canvas.getContext('2d')\n",
              "ctx.lineWidth = 10\n",
              "var button = document.querySelector('button')\n",
              "var mouse = {x: 0, y: 0}\n",
              "canvas.addEventListener('mousemove', function(e) {\n",
              "  mouse.x = e.pageX - this.offsetLeft\n",
              "  mouse.y = e.pageY - this.offsetTop\n",
              "})\n",
              "canvas.onmousedown = ()=>{\n",
              "  ctx.beginPath()\n",
              "  ctx.moveTo(mouse.x, mouse.y)\n",
              "  canvas.addEventListener('mousemove', onPaint)\n",
              "}\n",
              "canvas.onmouseup = ()=>{\n",
              "  canvas.removeEventListener('mousemove', onPaint)\n",
              "}\n",
              "var onPaint = ()=>{\n",
              "  ctx.lineTo(mouse.x, mouse.y)\n",
              "  ctx.stroke()\n",
              "}\n",
              "var data = new Promise(resolve=>{\n",
              "  button.onclick = ()=>{\n",
              "    resolve(canvas.toDataURL('image/png'))\n",
              "  }\n",
              "})\n",
              "</script>\n"
            ]
          },
          "metadata": {}
        },
        {
          "output_type": "execute_result",
          "data": {
            "text/plain": [
              "4999"
            ]
          },
          "metadata": {},
          "execution_count": 20
        }
      ]
    },
    {
      "cell_type": "markdown",
      "source": [
        "On va charger notre image en PIL, appliquer nos transformations, retenir que le 4ème canal (on s'intéresse qu'au masque de l'image) et la faire passer (après l'avoir transformée en batch) dans notre modèle. La probabilité des prédicitions pour chaque chiffre s'affiche."
      ],
      "metadata": {
        "id": "VXoXOZBjUPSd"
      }
    },
    {
      "cell_type": "code",
      "source": [
        "img = PIL.Image.open(img_path)\n",
        "img_tensor = mnist_transform(img)[3].unsqueeze(0)\n",
        "img_batch = img_tensor.unsqueeze(0)\n",
        "logodd = lnet5_best_model(img_batch.to(device))\n",
        "prob = torch.nn.functional.softmax(logodd, dim=1)[0]\n",
        "_, indices = torch.sort(prob, descending=True)\n",
        "for i in indices:\n",
        "  print(i.item(), f\": {prob[i].item():.2%}\")"
      ],
      "metadata": {
        "id": "8vDwrbA9jjR-",
        "colab": {
          "base_uri": "https://localhost:8080/"
        },
        "outputId": "9e9f0767-6498-4c1e-f7b6-7fcdf553f269"
      },
      "execution_count": 21,
      "outputs": [
        {
          "output_type": "stream",
          "name": "stdout",
          "text": [
            "5 : 100.00%\n",
            "9 : 0.00%\n",
            "3 : 0.00%\n",
            "8 : 0.00%\n",
            "6 : 0.00%\n",
            "7 : 0.00%\n",
            "0 : 0.00%\n",
            "1 : 0.00%\n",
            "4 : 0.00%\n",
            "2 : 0.00%\n"
          ]
        }
      ]
    },
    {
      "cell_type": "markdown",
      "source": [
        "## Exercice : un modèle de classification pour CIFAR10.\n",
        "\n",
        "Le but est de créer un modèle pour les données CIFAR10 (https://pytorch.org/vision/stable/generated/torchvision.datasets.CIFAR10.html). Les différents points de l'exercice sont donnés ci-dessous (si possible, travaillez sur le GPU).\n",
        "\n",
        "1. Commencez par créer des transformations (ce sont presque les mêmes que dans le TP 8). Il y en aura une pour le jeu d'entrainement et une pour le jeu de test.\n",
        "  Pour le jeu d'entrainement :\n",
        "    * Un crop aléatoire de (32 x 32) avec padding de 4.\n",
        "    * Un miroir horizontal aléatoire avec probabilité 0.5.\n",
        "    * Une transformation en tenseur.\n",
        "    * Une normalisation avec moyennes = (0.4914, 0.4822, 0.4465) et déviations standards = (0.2023, 0.1994, 0.2010).\n",
        "\n",
        "  Pour le jeu de test :\n",
        "    * Transformaiton (resize) de la taille de l'image en 32 x 32.\n",
        "    * Une transformation en tenseur.\n",
        "    * Une normalisation avec moyennes = (0.4914, 0.4822, 0.4465) et déviations standards = (0.2023, 0.1994, 0.2010).\n",
        "\n",
        "2. Chargez les jeux de données d'entrainement et de test CIFAR10 avec `torchvision.datasets.CIFAR10()` en leur appliquant les transformations définies ci-dessus. Vous pouvez les sauvegarder sur votre drive, mais ce n'est pas nécessaire (voir TP 8).\n",
        "\n",
        "3. Séparez le jeu d'entrainement afin de créer un jeu de validation (20% des données d'entrainement). Changez la transformation du jeu de validation avec la transformation du jeu de test. Créez des DataLoaders pour tous les jeux de données.\n",
        "\n",
        "4. Créez le modèle suivant :\n",
        "  * Un module de convolution avec :\n",
        "    * Une convolution de 3 canaux à 16 canaux avec noyaux (3 x 3), stride de 1, padding de 1, normalisation et activation ReLU.\n",
        "    * Un MaxPool (2 x 2) avec stride de 2.\n",
        "    * Une convolution de 16 canaux à 32 canaux avec noyaux (3 x 3), stride de 1, padding de 1, normalisation et activation ReLU.\n",
        "    * Un MaxPool (2 x 2) avec stride de 2.\n",
        "    * Une convolution de 32 canaux à 64 canaux avec avec noyaux (3 x 3), stride de 1, padding de 1, normalisation et activation ReLU.\n",
        "    * Un MaxPool (2 x 2) avec stride de 2.\n",
        "\n",
        "  * Le résutat intérmédiaire devra être applati. La dimension du tenseur est maintenant de taille (4 x 4 x 64) = 1024, car il n'y a que les couches MaxPool qui ont réduit la taille de la grille (à chaque fois, ils divisent par deux la largeur et hauteur). Ce vecteur applati va entrer dans le module de classification suivant.\n",
        "\n",
        "  * Module de classification :\n",
        "    * Une couche entièrement connectée qui prends les 1024 entrées et les amène sur 500 neurones avec activation ReLU et dropout de 0.5.\n",
        "    * Une couche entièrement connectée qui prends les 500 neurones et qui les amène sur les 10 sorties.\n",
        "\n",
        "  * La sortie sera en log-odd.\n",
        "\n",
        "  Instanciez le modèle et passez une image de test pour voir si tout fonctionne bien.\n",
        "\n",
        "5. Definissez la fonction de perte `torch.nn.CrossEntropyLoss()` et l'optimisateur `torch.optim.Adam()` avec un taux d'apprentissage 0.001.\n",
        "\n",
        "6. Faites l'entrainement du modèle sur 20 epochs. Sauvegardez l'historique des modèles.\n",
        "\n",
        "7. Séléctionnez une epoch qui semble minimiser l'erreur de validation, chargez le modèle correspondant, puis évaluez-le sur le jeu de test.\n",
        "\n",
        "8. Trouvez une image sur internet d'un objet appartenant aux classes CIFAR10, puis appliquez-lui la transformation du jeu de test (vous allez peut-être avoir besoin de changer le mode de l'image PIL avec `img = img.convert(\"RGB\")`). Après l'avoir transformée en tenseur et en batch, passez-la dans votre modèle et regardez la classe la plus probable."
      ],
      "metadata": {
        "id": "cdDByhCyVNEG"
      }
    }
  ]
}