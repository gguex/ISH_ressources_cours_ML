{
  "nbformat": 4,
  "nbformat_minor": 0,
  "metadata": {
    "colab": {
      "provenance": [],
      "mount_file_id": "1crK13rElRBKXghooZcQVFZcvagdJJsAa",
      "authorship_tag": "ABX9TyOwWqi+vWi6YV+kpQ0Nd879",
      "include_colab_link": true
    },
    "kernelspec": {
      "name": "python3",
      "display_name": "Python 3"
    },
    "language_info": {
      "name": "python"
    }
  },
  "cells": [
    {
      "cell_type": "markdown",
      "metadata": {
        "id": "view-in-github",
        "colab_type": "text"
      },
      "source": [
        "<a href=\"https://colab.research.google.com/github/gguex/ISH_ressources_cours_ML/blob/main/TP07c_corrige.ipynb\" target=\"_parent\"><img src=\"https://colab.research.google.com/assets/colab-badge.svg\" alt=\"Open In Colab\"/></a>"
      ]
    },
    {
      "cell_type": "code",
      "execution_count": null,
      "metadata": {
        "id": "urZAgdTIrqez"
      },
      "outputs": [],
      "source": [
        "import pandas as pd\n",
        "import numpy as np\n",
        "import matplotlib.pyplot as plt\n",
        "from sklearn import tree\n",
        "from sklearn.ensemble import RandomForestClassifier, GradientBoostingClassifier\n",
        "from sklearn.linear_model import LogisticRegression\n",
        "from sklearn.model_selection import train_test_split, GridSearchCV\n",
        "import graphviz"
      ]
    },
    {
      "cell_type": "code",
      "source": [
        "file_path = \\\n",
        "  \"/content/drive/MyDrive/Colab Notebooks/ml_data/TP7/contraceptive.tsv\"\n",
        "data = pd.read_csv(file_path, sep=\"\\t\")\n",
        "data"
      ],
      "metadata": {
        "id": "rpvDmBc4syEn",
        "colab": {
          "base_uri": "https://localhost:8080/",
          "height": 424
        },
        "outputId": "af61f9e0-57ca-4af4-ab59-b3435bd0ed33"
      },
      "execution_count": null,
      "outputs": [
        {
          "output_type": "execute_result",
          "data": {
            "text/plain": [
              "      Wife_age  Wife_education  Husband_education  Children  Wife_religion  \\\n",
              "0           24               2                  3         3              1   \n",
              "1           45               1                  3        10              1   \n",
              "2           43               2                  3         7              1   \n",
              "3           42               3                  2         9              1   \n",
              "4           36               3                  3         8              1   \n",
              "...        ...             ...                ...       ...            ...   \n",
              "1468        33               4                  4         2              1   \n",
              "1469        33               4                  4         3              1   \n",
              "1470        39               3                  3         8              1   \n",
              "1471        33               3                  3         4              1   \n",
              "1472        17               3                  3         1              1   \n",
              "\n",
              "      Wife_working  Husband_occupation  Standard-of-living  Media_exposure  \\\n",
              "0                1                   2                   3               0   \n",
              "1                1                   3                   4               0   \n",
              "2                1                   3                   4               0   \n",
              "3                1                   3                   3               0   \n",
              "4                1                   3                   2               0   \n",
              "...            ...                 ...                 ...             ...   \n",
              "1468             0                   2                   4               0   \n",
              "1469             1                   1                   4               0   \n",
              "1470             0                   1                   4               0   \n",
              "1471             0                   2                   2               0   \n",
              "1472             1                   2                   4               0   \n",
              "\n",
              "      target  \n",
              "0          1  \n",
              "1          1  \n",
              "2          1  \n",
              "3          1  \n",
              "4          1  \n",
              "...      ...  \n",
              "1468       3  \n",
              "1469       3  \n",
              "1470       3  \n",
              "1471       3  \n",
              "1472       3  \n",
              "\n",
              "[1473 rows x 10 columns]"
            ],
            "text/html": [
              "\n",
              "  <div id=\"df-dc1d4a2a-d49c-4999-a9de-795c7aabd264\" class=\"colab-df-container\">\n",
              "    <div>\n",
              "<style scoped>\n",
              "    .dataframe tbody tr th:only-of-type {\n",
              "        vertical-align: middle;\n",
              "    }\n",
              "\n",
              "    .dataframe tbody tr th {\n",
              "        vertical-align: top;\n",
              "    }\n",
              "\n",
              "    .dataframe thead th {\n",
              "        text-align: right;\n",
              "    }\n",
              "</style>\n",
              "<table border=\"1\" class=\"dataframe\">\n",
              "  <thead>\n",
              "    <tr style=\"text-align: right;\">\n",
              "      <th></th>\n",
              "      <th>Wife_age</th>\n",
              "      <th>Wife_education</th>\n",
              "      <th>Husband_education</th>\n",
              "      <th>Children</th>\n",
              "      <th>Wife_religion</th>\n",
              "      <th>Wife_working</th>\n",
              "      <th>Husband_occupation</th>\n",
              "      <th>Standard-of-living</th>\n",
              "      <th>Media_exposure</th>\n",
              "      <th>target</th>\n",
              "    </tr>\n",
              "  </thead>\n",
              "  <tbody>\n",
              "    <tr>\n",
              "      <th>0</th>\n",
              "      <td>24</td>\n",
              "      <td>2</td>\n",
              "      <td>3</td>\n",
              "      <td>3</td>\n",
              "      <td>1</td>\n",
              "      <td>1</td>\n",
              "      <td>2</td>\n",
              "      <td>3</td>\n",
              "      <td>0</td>\n",
              "      <td>1</td>\n",
              "    </tr>\n",
              "    <tr>\n",
              "      <th>1</th>\n",
              "      <td>45</td>\n",
              "      <td>1</td>\n",
              "      <td>3</td>\n",
              "      <td>10</td>\n",
              "      <td>1</td>\n",
              "      <td>1</td>\n",
              "      <td>3</td>\n",
              "      <td>4</td>\n",
              "      <td>0</td>\n",
              "      <td>1</td>\n",
              "    </tr>\n",
              "    <tr>\n",
              "      <th>2</th>\n",
              "      <td>43</td>\n",
              "      <td>2</td>\n",
              "      <td>3</td>\n",
              "      <td>7</td>\n",
              "      <td>1</td>\n",
              "      <td>1</td>\n",
              "      <td>3</td>\n",
              "      <td>4</td>\n",
              "      <td>0</td>\n",
              "      <td>1</td>\n",
              "    </tr>\n",
              "    <tr>\n",
              "      <th>3</th>\n",
              "      <td>42</td>\n",
              "      <td>3</td>\n",
              "      <td>2</td>\n",
              "      <td>9</td>\n",
              "      <td>1</td>\n",
              "      <td>1</td>\n",
              "      <td>3</td>\n",
              "      <td>3</td>\n",
              "      <td>0</td>\n",
              "      <td>1</td>\n",
              "    </tr>\n",
              "    <tr>\n",
              "      <th>4</th>\n",
              "      <td>36</td>\n",
              "      <td>3</td>\n",
              "      <td>3</td>\n",
              "      <td>8</td>\n",
              "      <td>1</td>\n",
              "      <td>1</td>\n",
              "      <td>3</td>\n",
              "      <td>2</td>\n",
              "      <td>0</td>\n",
              "      <td>1</td>\n",
              "    </tr>\n",
              "    <tr>\n",
              "      <th>...</th>\n",
              "      <td>...</td>\n",
              "      <td>...</td>\n",
              "      <td>...</td>\n",
              "      <td>...</td>\n",
              "      <td>...</td>\n",
              "      <td>...</td>\n",
              "      <td>...</td>\n",
              "      <td>...</td>\n",
              "      <td>...</td>\n",
              "      <td>...</td>\n",
              "    </tr>\n",
              "    <tr>\n",
              "      <th>1468</th>\n",
              "      <td>33</td>\n",
              "      <td>4</td>\n",
              "      <td>4</td>\n",
              "      <td>2</td>\n",
              "      <td>1</td>\n",
              "      <td>0</td>\n",
              "      <td>2</td>\n",
              "      <td>4</td>\n",
              "      <td>0</td>\n",
              "      <td>3</td>\n",
              "    </tr>\n",
              "    <tr>\n",
              "      <th>1469</th>\n",
              "      <td>33</td>\n",
              "      <td>4</td>\n",
              "      <td>4</td>\n",
              "      <td>3</td>\n",
              "      <td>1</td>\n",
              "      <td>1</td>\n",
              "      <td>1</td>\n",
              "      <td>4</td>\n",
              "      <td>0</td>\n",
              "      <td>3</td>\n",
              "    </tr>\n",
              "    <tr>\n",
              "      <th>1470</th>\n",
              "      <td>39</td>\n",
              "      <td>3</td>\n",
              "      <td>3</td>\n",
              "      <td>8</td>\n",
              "      <td>1</td>\n",
              "      <td>0</td>\n",
              "      <td>1</td>\n",
              "      <td>4</td>\n",
              "      <td>0</td>\n",
              "      <td>3</td>\n",
              "    </tr>\n",
              "    <tr>\n",
              "      <th>1471</th>\n",
              "      <td>33</td>\n",
              "      <td>3</td>\n",
              "      <td>3</td>\n",
              "      <td>4</td>\n",
              "      <td>1</td>\n",
              "      <td>0</td>\n",
              "      <td>2</td>\n",
              "      <td>2</td>\n",
              "      <td>0</td>\n",
              "      <td>3</td>\n",
              "    </tr>\n",
              "    <tr>\n",
              "      <th>1472</th>\n",
              "      <td>17</td>\n",
              "      <td>3</td>\n",
              "      <td>3</td>\n",
              "      <td>1</td>\n",
              "      <td>1</td>\n",
              "      <td>1</td>\n",
              "      <td>2</td>\n",
              "      <td>4</td>\n",
              "      <td>0</td>\n",
              "      <td>3</td>\n",
              "    </tr>\n",
              "  </tbody>\n",
              "</table>\n",
              "<p>1473 rows × 10 columns</p>\n",
              "</div>\n",
              "    <div class=\"colab-df-buttons\">\n",
              "\n",
              "  <div class=\"colab-df-container\">\n",
              "    <button class=\"colab-df-convert\" onclick=\"convertToInteractive('df-dc1d4a2a-d49c-4999-a9de-795c7aabd264')\"\n",
              "            title=\"Convert this dataframe to an interactive table.\"\n",
              "            style=\"display:none;\">\n",
              "\n",
              "  <svg xmlns=\"http://www.w3.org/2000/svg\" height=\"24px\" viewBox=\"0 -960 960 960\">\n",
              "    <path d=\"M120-120v-720h720v720H120Zm60-500h600v-160H180v160Zm220 220h160v-160H400v160Zm0 220h160v-160H400v160ZM180-400h160v-160H180v160Zm440 0h160v-160H620v160ZM180-180h160v-160H180v160Zm440 0h160v-160H620v160Z\"/>\n",
              "  </svg>\n",
              "    </button>\n",
              "\n",
              "  <style>\n",
              "    .colab-df-container {\n",
              "      display:flex;\n",
              "      gap: 12px;\n",
              "    }\n",
              "\n",
              "    .colab-df-convert {\n",
              "      background-color: #E8F0FE;\n",
              "      border: none;\n",
              "      border-radius: 50%;\n",
              "      cursor: pointer;\n",
              "      display: none;\n",
              "      fill: #1967D2;\n",
              "      height: 32px;\n",
              "      padding: 0 0 0 0;\n",
              "      width: 32px;\n",
              "    }\n",
              "\n",
              "    .colab-df-convert:hover {\n",
              "      background-color: #E2EBFA;\n",
              "      box-shadow: 0px 1px 2px rgba(60, 64, 67, 0.3), 0px 1px 3px 1px rgba(60, 64, 67, 0.15);\n",
              "      fill: #174EA6;\n",
              "    }\n",
              "\n",
              "    .colab-df-buttons div {\n",
              "      margin-bottom: 4px;\n",
              "    }\n",
              "\n",
              "    [theme=dark] .colab-df-convert {\n",
              "      background-color: #3B4455;\n",
              "      fill: #D2E3FC;\n",
              "    }\n",
              "\n",
              "    [theme=dark] .colab-df-convert:hover {\n",
              "      background-color: #434B5C;\n",
              "      box-shadow: 0px 1px 3px 1px rgba(0, 0, 0, 0.15);\n",
              "      filter: drop-shadow(0px 1px 2px rgba(0, 0, 0, 0.3));\n",
              "      fill: #FFFFFF;\n",
              "    }\n",
              "  </style>\n",
              "\n",
              "    <script>\n",
              "      const buttonEl =\n",
              "        document.querySelector('#df-dc1d4a2a-d49c-4999-a9de-795c7aabd264 button.colab-df-convert');\n",
              "      buttonEl.style.display =\n",
              "        google.colab.kernel.accessAllowed ? 'block' : 'none';\n",
              "\n",
              "      async function convertToInteractive(key) {\n",
              "        const element = document.querySelector('#df-dc1d4a2a-d49c-4999-a9de-795c7aabd264');\n",
              "        const dataTable =\n",
              "          await google.colab.kernel.invokeFunction('convertToInteractive',\n",
              "                                                    [key], {});\n",
              "        if (!dataTable) return;\n",
              "\n",
              "        const docLinkHtml = 'Like what you see? Visit the ' +\n",
              "          '<a target=\"_blank\" href=https://colab.research.google.com/notebooks/data_table.ipynb>data table notebook</a>'\n",
              "          + ' to learn more about interactive tables.';\n",
              "        element.innerHTML = '';\n",
              "        dataTable['output_type'] = 'display_data';\n",
              "        await google.colab.output.renderOutput(dataTable, element);\n",
              "        const docLink = document.createElement('div');\n",
              "        docLink.innerHTML = docLinkHtml;\n",
              "        element.appendChild(docLink);\n",
              "      }\n",
              "    </script>\n",
              "  </div>\n",
              "\n",
              "\n",
              "<div id=\"df-f625e883-5d65-4761-97f8-63d7ecd0c9e6\">\n",
              "  <button class=\"colab-df-quickchart\" onclick=\"quickchart('df-f625e883-5d65-4761-97f8-63d7ecd0c9e6')\"\n",
              "            title=\"Suggest charts\"\n",
              "            style=\"display:none;\">\n",
              "\n",
              "<svg xmlns=\"http://www.w3.org/2000/svg\" height=\"24px\"viewBox=\"0 0 24 24\"\n",
              "     width=\"24px\">\n",
              "    <g>\n",
              "        <path d=\"M19 3H5c-1.1 0-2 .9-2 2v14c0 1.1.9 2 2 2h14c1.1 0 2-.9 2-2V5c0-1.1-.9-2-2-2zM9 17H7v-7h2v7zm4 0h-2V7h2v10zm4 0h-2v-4h2v4z\"/>\n",
              "    </g>\n",
              "</svg>\n",
              "  </button>\n",
              "\n",
              "<style>\n",
              "  .colab-df-quickchart {\n",
              "      --bg-color: #E8F0FE;\n",
              "      --fill-color: #1967D2;\n",
              "      --hover-bg-color: #E2EBFA;\n",
              "      --hover-fill-color: #174EA6;\n",
              "      --disabled-fill-color: #AAA;\n",
              "      --disabled-bg-color: #DDD;\n",
              "  }\n",
              "\n",
              "  [theme=dark] .colab-df-quickchart {\n",
              "      --bg-color: #3B4455;\n",
              "      --fill-color: #D2E3FC;\n",
              "      --hover-bg-color: #434B5C;\n",
              "      --hover-fill-color: #FFFFFF;\n",
              "      --disabled-bg-color: #3B4455;\n",
              "      --disabled-fill-color: #666;\n",
              "  }\n",
              "\n",
              "  .colab-df-quickchart {\n",
              "    background-color: var(--bg-color);\n",
              "    border: none;\n",
              "    border-radius: 50%;\n",
              "    cursor: pointer;\n",
              "    display: none;\n",
              "    fill: var(--fill-color);\n",
              "    height: 32px;\n",
              "    padding: 0;\n",
              "    width: 32px;\n",
              "  }\n",
              "\n",
              "  .colab-df-quickchart:hover {\n",
              "    background-color: var(--hover-bg-color);\n",
              "    box-shadow: 0 1px 2px rgba(60, 64, 67, 0.3), 0 1px 3px 1px rgba(60, 64, 67, 0.15);\n",
              "    fill: var(--button-hover-fill-color);\n",
              "  }\n",
              "\n",
              "  .colab-df-quickchart-complete:disabled,\n",
              "  .colab-df-quickchart-complete:disabled:hover {\n",
              "    background-color: var(--disabled-bg-color);\n",
              "    fill: var(--disabled-fill-color);\n",
              "    box-shadow: none;\n",
              "  }\n",
              "\n",
              "  .colab-df-spinner {\n",
              "    border: 2px solid var(--fill-color);\n",
              "    border-color: transparent;\n",
              "    border-bottom-color: var(--fill-color);\n",
              "    animation:\n",
              "      spin 1s steps(1) infinite;\n",
              "  }\n",
              "\n",
              "  @keyframes spin {\n",
              "    0% {\n",
              "      border-color: transparent;\n",
              "      border-bottom-color: var(--fill-color);\n",
              "      border-left-color: var(--fill-color);\n",
              "    }\n",
              "    20% {\n",
              "      border-color: transparent;\n",
              "      border-left-color: var(--fill-color);\n",
              "      border-top-color: var(--fill-color);\n",
              "    }\n",
              "    30% {\n",
              "      border-color: transparent;\n",
              "      border-left-color: var(--fill-color);\n",
              "      border-top-color: var(--fill-color);\n",
              "      border-right-color: var(--fill-color);\n",
              "    }\n",
              "    40% {\n",
              "      border-color: transparent;\n",
              "      border-right-color: var(--fill-color);\n",
              "      border-top-color: var(--fill-color);\n",
              "    }\n",
              "    60% {\n",
              "      border-color: transparent;\n",
              "      border-right-color: var(--fill-color);\n",
              "    }\n",
              "    80% {\n",
              "      border-color: transparent;\n",
              "      border-right-color: var(--fill-color);\n",
              "      border-bottom-color: var(--fill-color);\n",
              "    }\n",
              "    90% {\n",
              "      border-color: transparent;\n",
              "      border-bottom-color: var(--fill-color);\n",
              "    }\n",
              "  }\n",
              "</style>\n",
              "\n",
              "  <script>\n",
              "    async function quickchart(key) {\n",
              "      const quickchartButtonEl =\n",
              "        document.querySelector('#' + key + ' button');\n",
              "      quickchartButtonEl.disabled = true;  // To prevent multiple clicks.\n",
              "      quickchartButtonEl.classList.add('colab-df-spinner');\n",
              "      try {\n",
              "        const charts = await google.colab.kernel.invokeFunction(\n",
              "            'suggestCharts', [key], {});\n",
              "      } catch (error) {\n",
              "        console.error('Error during call to suggestCharts:', error);\n",
              "      }\n",
              "      quickchartButtonEl.classList.remove('colab-df-spinner');\n",
              "      quickchartButtonEl.classList.add('colab-df-quickchart-complete');\n",
              "    }\n",
              "    (() => {\n",
              "      let quickchartButtonEl =\n",
              "        document.querySelector('#df-f625e883-5d65-4761-97f8-63d7ecd0c9e6 button');\n",
              "      quickchartButtonEl.style.display =\n",
              "        google.colab.kernel.accessAllowed ? 'block' : 'none';\n",
              "    })();\n",
              "  </script>\n",
              "</div>\n",
              "    </div>\n",
              "  </div>\n"
            ]
          },
          "metadata": {},
          "execution_count": 8
        }
      ]
    },
    {
      "cell_type": "code",
      "source": [
        "occ_dummies = pd.get_dummies(data[\"Husband_occupation\"], prefix=\"occ\")\n",
        "inputs = pd.concat([data.drop([\"Husband_occupation\", \"target\"], axis=1),\n",
        "                    occ_dummies], axis=1)\n",
        "outputs = data[\"target\"]"
      ],
      "metadata": {
        "id": "NVvWJX0Csyut"
      },
      "execution_count": null,
      "outputs": []
    },
    {
      "cell_type": "code",
      "source": [
        "classif_tree = tree.DecisionTreeClassifier(ccp_alpha=0.005).fit(inputs, outputs)\n",
        "gvz_data = tree.export_graphviz(classif_tree, out_file=None,\n",
        "                                feature_names=inputs.columns,\n",
        "                                filled=True, rounded=True,\n",
        "                                special_characters=True)\n",
        "graph = graphviz.Source(gvz_data)\n",
        "graph"
      ],
      "metadata": {
        "colab": {
          "base_uri": "https://localhost:8080/",
          "height": 657
        },
        "id": "oYYCcEKe64ZR",
        "outputId": "37c38e52-8909-48e1-9792-4ef79bc7da85"
      },
      "execution_count": null,
      "outputs": [
        {
          "output_type": "execute_result",
          "data": {
            "image/svg+xml": "<?xml version=\"1.0\" encoding=\"UTF-8\" standalone=\"no\"?>\n<!DOCTYPE svg PUBLIC \"-//W3C//DTD SVG 1.1//EN\"\n \"http://www.w3.org/Graphics/SVG/1.1/DTD/svg11.dtd\">\n<!-- Generated by graphviz version 2.43.0 (0)\n -->\n<!-- Title: Tree Pages: 1 -->\n<svg width=\"778pt\" height=\"477pt\"\n viewBox=\"0.00 0.00 778.00 477.00\" xmlns=\"http://www.w3.org/2000/svg\" xmlns:xlink=\"http://www.w3.org/1999/xlink\">\n<g id=\"graph0\" class=\"graph\" transform=\"scale(1 1) rotate(0) translate(4 473)\">\n<title>Tree</title>\n<polygon fill=\"white\" stroke=\"transparent\" points=\"-4,4 -4,-473 774,-473 774,4 -4,4\"/>\n<!-- 0 -->\n<g id=\"node1\" class=\"node\">\n<title>0</title>\n<path fill=\"#fcf0e7\" stroke=\"black\" d=\"M384.5,-469C384.5,-469 253.5,-469 253.5,-469 247.5,-469 241.5,-463 241.5,-457 241.5,-457 241.5,-413 241.5,-413 241.5,-407 247.5,-401 253.5,-401 253.5,-401 384.5,-401 384.5,-401 390.5,-401 396.5,-407 396.5,-413 396.5,-413 396.5,-457 396.5,-457 396.5,-463 390.5,-469 384.5,-469\"/>\n<text text-anchor=\"start\" x=\"276.5\" y=\"-453.8\" font-family=\"Helvetica,sans-Serif\" font-size=\"14.00\">Children ≤ 0.5</text>\n<text text-anchor=\"start\" x=\"283.5\" y=\"-438.8\" font-family=\"Helvetica,sans-Serif\" font-size=\"14.00\">gini = 0.646</text>\n<text text-anchor=\"start\" x=\"270.5\" y=\"-423.8\" font-family=\"Helvetica,sans-Serif\" font-size=\"14.00\">samples = 1473</text>\n<text text-anchor=\"start\" x=\"249.5\" y=\"-408.8\" font-family=\"Helvetica,sans-Serif\" font-size=\"14.00\">value = [629, 333, 511]</text>\n</g>\n<!-- 1 -->\n<g id=\"node2\" class=\"node\">\n<title>1</title>\n<path fill=\"#e6843d\" stroke=\"black\" d=\"M288.5,-357.5C288.5,-357.5 195.5,-357.5 195.5,-357.5 189.5,-357.5 183.5,-351.5 183.5,-345.5 183.5,-345.5 183.5,-316.5 183.5,-316.5 183.5,-310.5 189.5,-304.5 195.5,-304.5 195.5,-304.5 288.5,-304.5 288.5,-304.5 294.5,-304.5 300.5,-310.5 300.5,-316.5 300.5,-316.5 300.5,-345.5 300.5,-345.5 300.5,-351.5 294.5,-357.5 288.5,-357.5\"/>\n<text text-anchor=\"start\" x=\"210\" y=\"-342.3\" font-family=\"Helvetica,sans-Serif\" font-size=\"14.00\">gini = 0.04</text>\n<text text-anchor=\"start\" x=\"201\" y=\"-327.3\" font-family=\"Helvetica,sans-Serif\" font-size=\"14.00\">samples = 97</text>\n<text text-anchor=\"start\" x=\"191.5\" y=\"-312.3\" font-family=\"Helvetica,sans-Serif\" font-size=\"14.00\">value = [95, 0, 2]</text>\n</g>\n<!-- 0&#45;&gt;1 -->\n<g id=\"edge1\" class=\"edge\">\n<title>0&#45;&gt;1</title>\n<path fill=\"none\" stroke=\"black\" d=\"M294,-400.88C285.45,-389.56 275.88,-376.88 267.3,-365.52\"/>\n<polygon fill=\"black\" stroke=\"black\" points=\"270.08,-363.39 261.27,-357.52 264.5,-367.61 270.08,-363.39\"/>\n<text text-anchor=\"middle\" x=\"257.81\" y=\"-378.58\" font-family=\"Helvetica,sans-Serif\" font-size=\"14.00\">True</text>\n</g>\n<!-- 2 -->\n<g id=\"node3\" class=\"node\">\n<title>2</title>\n<path fill=\"#fefbf9\" stroke=\"black\" d=\"M461.5,-365C461.5,-365 330.5,-365 330.5,-365 324.5,-365 318.5,-359 318.5,-353 318.5,-353 318.5,-309 318.5,-309 318.5,-303 324.5,-297 330.5,-297 330.5,-297 461.5,-297 461.5,-297 467.5,-297 473.5,-303 473.5,-309 473.5,-309 473.5,-353 473.5,-353 473.5,-359 467.5,-365 461.5,-365\"/>\n<text text-anchor=\"start\" x=\"346\" y=\"-349.8\" font-family=\"Helvetica,sans-Serif\" font-size=\"14.00\">Wife_age ≤ 37.5</text>\n<text text-anchor=\"start\" x=\"360.5\" y=\"-334.8\" font-family=\"Helvetica,sans-Serif\" font-size=\"14.00\">gini = 0.654</text>\n<text text-anchor=\"start\" x=\"347.5\" y=\"-319.8\" font-family=\"Helvetica,sans-Serif\" font-size=\"14.00\">samples = 1376</text>\n<text text-anchor=\"start\" x=\"326.5\" y=\"-304.8\" font-family=\"Helvetica,sans-Serif\" font-size=\"14.00\">value = [534, 333, 509]</text>\n</g>\n<!-- 0&#45;&gt;2 -->\n<g id=\"edge2\" class=\"edge\">\n<title>0&#45;&gt;2</title>\n<path fill=\"none\" stroke=\"black\" d=\"M344,-400.88C350.59,-392.15 357.78,-382.62 364.66,-373.51\"/>\n<polygon fill=\"black\" stroke=\"black\" points=\"367.63,-375.39 370.86,-365.3 362.04,-371.17 367.63,-375.39\"/>\n<text text-anchor=\"middle\" x=\"374.32\" y=\"-386.36\" font-family=\"Helvetica,sans-Serif\" font-size=\"14.00\">False</text>\n</g>\n<!-- 3 -->\n<g id=\"node4\" class=\"node\">\n<title>3</title>\n<path fill=\"#e8dbfa\" stroke=\"black\" d=\"M377.5,-261C377.5,-261 246.5,-261 246.5,-261 240.5,-261 234.5,-255 234.5,-249 234.5,-249 234.5,-205 234.5,-205 234.5,-199 240.5,-193 246.5,-193 246.5,-193 377.5,-193 377.5,-193 383.5,-193 389.5,-199 389.5,-205 389.5,-205 389.5,-249 389.5,-249 389.5,-255 383.5,-261 377.5,-261\"/>\n<text text-anchor=\"start\" x=\"248\" y=\"-245.8\" font-family=\"Helvetica,sans-Serif\" font-size=\"14.00\">Wife_education ≤ 3.5</text>\n<text text-anchor=\"start\" x=\"276.5\" y=\"-230.8\" font-family=\"Helvetica,sans-Serif\" font-size=\"14.00\">gini = 0.641</text>\n<text text-anchor=\"start\" x=\"267\" y=\"-215.8\" font-family=\"Helvetica,sans-Serif\" font-size=\"14.00\">samples = 968</text>\n<text text-anchor=\"start\" x=\"242.5\" y=\"-200.8\" font-family=\"Helvetica,sans-Serif\" font-size=\"14.00\">value = [317, 217, 434]</text>\n</g>\n<!-- 2&#45;&gt;3 -->\n<g id=\"edge3\" class=\"edge\">\n<title>2&#45;&gt;3</title>\n<path fill=\"none\" stroke=\"black\" d=\"M368.73,-296.88C361.47,-288.07 353.53,-278.43 345.96,-269.24\"/>\n<polygon fill=\"black\" stroke=\"black\" points=\"348.48,-266.79 339.42,-261.3 343.08,-271.24 348.48,-266.79\"/>\n</g>\n<!-- 8 -->\n<g id=\"node9\" class=\"node\">\n<title>8</title>\n<path fill=\"#f6d3bb\" stroke=\"black\" d=\"M542.5,-261C542.5,-261 419.5,-261 419.5,-261 413.5,-261 407.5,-255 407.5,-249 407.5,-249 407.5,-205 407.5,-205 407.5,-199 413.5,-193 419.5,-193 419.5,-193 542.5,-193 542.5,-193 548.5,-193 554.5,-199 554.5,-205 554.5,-205 554.5,-249 554.5,-249 554.5,-255 548.5,-261 542.5,-261\"/>\n<text text-anchor=\"start\" x=\"417\" y=\"-245.8\" font-family=\"Helvetica,sans-Serif\" font-size=\"14.00\">Wife_education ≤ 3.5</text>\n<text text-anchor=\"start\" x=\"445.5\" y=\"-230.8\" font-family=\"Helvetica,sans-Serif\" font-size=\"14.00\">gini = 0.602</text>\n<text text-anchor=\"start\" x=\"436\" y=\"-215.8\" font-family=\"Helvetica,sans-Serif\" font-size=\"14.00\">samples = 408</text>\n<text text-anchor=\"start\" x=\"415.5\" y=\"-200.8\" font-family=\"Helvetica,sans-Serif\" font-size=\"14.00\">value = [217, 116, 75]</text>\n</g>\n<!-- 2&#45;&gt;8 -->\n<g id=\"edge8\" class=\"edge\">\n<title>2&#45;&gt;8</title>\n<path fill=\"none\" stroke=\"black\" d=\"M423.6,-296.88C430.95,-288.07 438.97,-278.43 446.64,-269.24\"/>\n<polygon fill=\"black\" stroke=\"black\" points=\"449.54,-271.22 453.25,-261.3 444.16,-266.74 449.54,-271.22\"/>\n</g>\n<!-- 4 -->\n<g id=\"node5\" class=\"node\">\n<title>4</title>\n<path fill=\"#ede2fb\" stroke=\"black\" d=\"M210.5,-157C210.5,-157 87.5,-157 87.5,-157 81.5,-157 75.5,-151 75.5,-145 75.5,-145 75.5,-101 75.5,-101 75.5,-95 81.5,-89 87.5,-89 87.5,-89 210.5,-89 210.5,-89 216.5,-89 222.5,-95 222.5,-101 222.5,-101 222.5,-145 222.5,-145 222.5,-151 216.5,-157 210.5,-157\"/>\n<text text-anchor=\"start\" x=\"106.5\" y=\"-141.8\" font-family=\"Helvetica,sans-Serif\" font-size=\"14.00\">Children ≤ 2.5</text>\n<text text-anchor=\"start\" x=\"113.5\" y=\"-126.8\" font-family=\"Helvetica,sans-Serif\" font-size=\"14.00\">gini = 0.613</text>\n<text text-anchor=\"start\" x=\"104\" y=\"-111.8\" font-family=\"Helvetica,sans-Serif\" font-size=\"14.00\">samples = 599</text>\n<text text-anchor=\"start\" x=\"83.5\" y=\"-96.8\" font-family=\"Helvetica,sans-Serif\" font-size=\"14.00\">value = [227, 91, 281]</text>\n</g>\n<!-- 3&#45;&gt;4 -->\n<g id=\"edge4\" class=\"edge\">\n<title>3&#45;&gt;4</title>\n<path fill=\"none\" stroke=\"black\" d=\"M259.08,-192.88C243.63,-183.21 226.61,-172.56 210.66,-162.59\"/>\n<polygon fill=\"black\" stroke=\"black\" points=\"212.27,-159.46 201.93,-157.12 208.56,-165.4 212.27,-159.46\"/>\n</g>\n<!-- 7 -->\n<g id=\"node8\" class=\"node\">\n<title>7</title>\n<path fill=\"#f1e9fc\" stroke=\"black\" d=\"M375.5,-149.5C375.5,-149.5 252.5,-149.5 252.5,-149.5 246.5,-149.5 240.5,-143.5 240.5,-137.5 240.5,-137.5 240.5,-108.5 240.5,-108.5 240.5,-102.5 246.5,-96.5 252.5,-96.5 252.5,-96.5 375.5,-96.5 375.5,-96.5 381.5,-96.5 387.5,-102.5 387.5,-108.5 387.5,-108.5 387.5,-137.5 387.5,-137.5 387.5,-143.5 381.5,-149.5 375.5,-149.5\"/>\n<text text-anchor=\"start\" x=\"278.5\" y=\"-134.3\" font-family=\"Helvetica,sans-Serif\" font-size=\"14.00\">gini = 0.652</text>\n<text text-anchor=\"start\" x=\"269\" y=\"-119.3\" font-family=\"Helvetica,sans-Serif\" font-size=\"14.00\">samples = 369</text>\n<text text-anchor=\"start\" x=\"248.5\" y=\"-104.3\" font-family=\"Helvetica,sans-Serif\" font-size=\"14.00\">value = [90, 126, 153]</text>\n</g>\n<!-- 3&#45;&gt;7 -->\n<g id=\"edge7\" class=\"edge\">\n<title>3&#45;&gt;7</title>\n<path fill=\"none\" stroke=\"black\" d=\"M312.65,-192.88C312.86,-182.22 313.09,-170.35 313.3,-159.52\"/>\n<polygon fill=\"black\" stroke=\"black\" points=\"316.8,-159.59 313.5,-149.52 309.8,-159.45 316.8,-159.59\"/>\n</g>\n<!-- 5 -->\n<g id=\"node6\" class=\"node\">\n<title>5</title>\n<path fill=\"#f9e2d1\" stroke=\"black\" d=\"M128,-53C128,-53 12,-53 12,-53 6,-53 0,-47 0,-41 0,-41 0,-12 0,-12 0,-6 6,0 12,0 12,0 128,0 128,0 134,0 140,-6 140,-12 140,-12 140,-41 140,-41 140,-47 134,-53 128,-53\"/>\n<text text-anchor=\"start\" x=\"34.5\" y=\"-37.8\" font-family=\"Helvetica,sans-Serif\" font-size=\"14.00\">gini = 0.596</text>\n<text text-anchor=\"start\" x=\"25\" y=\"-22.8\" font-family=\"Helvetica,sans-Serif\" font-size=\"14.00\">samples = 260</text>\n<text text-anchor=\"start\" x=\"8\" y=\"-7.8\" font-family=\"Helvetica,sans-Serif\" font-size=\"14.00\">value = [132, 35, 93]</text>\n</g>\n<!-- 4&#45;&gt;5 -->\n<g id=\"edge5\" class=\"edge\">\n<title>4&#45;&gt;5</title>\n<path fill=\"none\" stroke=\"black\" d=\"M121.37,-88.95C113.8,-79.89 105.59,-70.07 97.99,-60.99\"/>\n<polygon fill=\"black\" stroke=\"black\" points=\"100.61,-58.66 91.52,-53.24 95.24,-63.15 100.61,-58.66\"/>\n</g>\n<!-- 6 -->\n<g id=\"node7\" class=\"node\">\n<title>6</title>\n<path fill=\"#cfb4f5\" stroke=\"black\" d=\"M286,-53C286,-53 170,-53 170,-53 164,-53 158,-47 158,-41 158,-41 158,-12 158,-12 158,-6 164,0 170,0 170,0 286,0 286,0 292,0 298,-6 298,-12 298,-12 298,-41 298,-41 298,-47 292,-53 286,-53\"/>\n<text text-anchor=\"start\" x=\"192.5\" y=\"-37.8\" font-family=\"Helvetica,sans-Serif\" font-size=\"14.00\">gini = 0.587</text>\n<text text-anchor=\"start\" x=\"183\" y=\"-22.8\" font-family=\"Helvetica,sans-Serif\" font-size=\"14.00\">samples = 339</text>\n<text text-anchor=\"start\" x=\"166\" y=\"-7.8\" font-family=\"Helvetica,sans-Serif\" font-size=\"14.00\">value = [95, 56, 188]</text>\n</g>\n<!-- 4&#45;&gt;6 -->\n<g id=\"edge6\" class=\"edge\">\n<title>4&#45;&gt;6</title>\n<path fill=\"none\" stroke=\"black\" d=\"M176.63,-88.95C184.2,-79.89 192.41,-70.07 200.01,-60.99\"/>\n<polygon fill=\"black\" stroke=\"black\" points=\"202.76,-63.15 206.48,-53.24 197.39,-58.66 202.76,-63.15\"/>\n</g>\n<!-- 9 -->\n<g id=\"node10\" class=\"node\">\n<title>9</title>\n<path fill=\"#eeac7c\" stroke=\"black\" d=\"M537,-149.5C537,-149.5 421,-149.5 421,-149.5 415,-149.5 409,-143.5 409,-137.5 409,-137.5 409,-108.5 409,-108.5 409,-102.5 415,-96.5 421,-96.5 421,-96.5 537,-96.5 537,-96.5 543,-96.5 549,-102.5 549,-108.5 549,-108.5 549,-137.5 549,-137.5 549,-143.5 543,-149.5 537,-149.5\"/>\n<text text-anchor=\"start\" x=\"443.5\" y=\"-134.3\" font-family=\"Helvetica,sans-Serif\" font-size=\"14.00\">gini = 0.452</text>\n<text text-anchor=\"start\" x=\"434\" y=\"-119.3\" font-family=\"Helvetica,sans-Serif\" font-size=\"14.00\">samples = 236</text>\n<text text-anchor=\"start\" x=\"417\" y=\"-104.3\" font-family=\"Helvetica,sans-Serif\" font-size=\"14.00\">value = [168, 35, 33]</text>\n</g>\n<!-- 8&#45;&gt;9 -->\n<g id=\"edge9\" class=\"edge\">\n<title>8&#45;&gt;9</title>\n<path fill=\"none\" stroke=\"black\" d=\"M480.35,-192.88C480.14,-182.22 479.91,-170.35 479.7,-159.52\"/>\n<polygon fill=\"black\" stroke=\"black\" points=\"483.2,-159.45 479.5,-149.52 476.2,-159.59 483.2,-159.45\"/>\n</g>\n<!-- 10 -->\n<g id=\"node11\" class=\"node\">\n<title>10</title>\n<path fill=\"#cbf8de\" stroke=\"black\" d=\"M687,-157C687,-157 579,-157 579,-157 573,-157 567,-151 567,-145 567,-145 567,-101 567,-101 567,-95 573,-89 579,-89 579,-89 687,-89 687,-89 693,-89 699,-95 699,-101 699,-101 699,-145 699,-145 699,-151 693,-157 687,-157\"/>\n<text text-anchor=\"start\" x=\"590.5\" y=\"-141.8\" font-family=\"Helvetica,sans-Serif\" font-size=\"14.00\">Children ≤ 1.5</text>\n<text text-anchor=\"start\" x=\"597.5\" y=\"-126.8\" font-family=\"Helvetica,sans-Serif\" font-size=\"14.00\">gini = 0.637</text>\n<text text-anchor=\"start\" x=\"588\" y=\"-111.8\" font-family=\"Helvetica,sans-Serif\" font-size=\"14.00\">samples = 172</text>\n<text text-anchor=\"start\" x=\"575\" y=\"-96.8\" font-family=\"Helvetica,sans-Serif\" font-size=\"14.00\">value = [49, 81, 42]</text>\n</g>\n<!-- 8&#45;&gt;10 -->\n<g id=\"edge10\" class=\"edge\">\n<title>8&#45;&gt;10</title>\n<path fill=\"none\" stroke=\"black\" d=\"M530.35,-192.88C544.63,-183.3 560.34,-172.76 575.08,-162.86\"/>\n<polygon fill=\"black\" stroke=\"black\" points=\"577.28,-165.6 583.64,-157.12 573.38,-159.79 577.28,-165.6\"/>\n</g>\n<!-- 11 -->\n<g id=\"node12\" class=\"node\">\n<title>11</title>\n<path fill=\"#e89050\" stroke=\"black\" d=\"M607.5,-53C607.5,-53 514.5,-53 514.5,-53 508.5,-53 502.5,-47 502.5,-41 502.5,-41 502.5,-12 502.5,-12 502.5,-6 508.5,0 514.5,0 514.5,0 607.5,0 607.5,0 613.5,0 619.5,-6 619.5,-12 619.5,-12 619.5,-41 619.5,-41 619.5,-47 613.5,-53 607.5,-53\"/>\n<text text-anchor=\"start\" x=\"525.5\" y=\"-37.8\" font-family=\"Helvetica,sans-Serif\" font-size=\"14.00\">gini = 0.188</text>\n<text text-anchor=\"start\" x=\"520\" y=\"-22.8\" font-family=\"Helvetica,sans-Serif\" font-size=\"14.00\">samples = 19</text>\n<text text-anchor=\"start\" x=\"510.5\" y=\"-7.8\" font-family=\"Helvetica,sans-Serif\" font-size=\"14.00\">value = [17, 0, 2]</text>\n</g>\n<!-- 10&#45;&gt;11 -->\n<g id=\"edge11\" class=\"edge\">\n<title>10&#45;&gt;11</title>\n<path fill=\"none\" stroke=\"black\" d=\"M607.82,-88.95C600.99,-79.98 593.58,-70.27 586.72,-61.26\"/>\n<polygon fill=\"black\" stroke=\"black\" points=\"589.45,-59.07 580.61,-53.24 583.89,-63.31 589.45,-59.07\"/>\n</g>\n<!-- 12 -->\n<g id=\"node13\" class=\"node\">\n<title>12</title>\n<path fill=\"#b7f6d1\" stroke=\"black\" d=\"M758,-53C758,-53 650,-53 650,-53 644,-53 638,-47 638,-41 638,-41 638,-12 638,-12 638,-6 644,0 650,0 650,0 758,0 758,0 764,0 770,-6 770,-12 770,-12 770,-41 770,-41 770,-47 764,-53 758,-53\"/>\n<text text-anchor=\"start\" x=\"668.5\" y=\"-37.8\" font-family=\"Helvetica,sans-Serif\" font-size=\"14.00\">gini = 0.608</text>\n<text text-anchor=\"start\" x=\"659\" y=\"-22.8\" font-family=\"Helvetica,sans-Serif\" font-size=\"14.00\">samples = 153</text>\n<text text-anchor=\"start\" x=\"646\" y=\"-7.8\" font-family=\"Helvetica,sans-Serif\" font-size=\"14.00\">value = [32, 81, 40]</text>\n</g>\n<!-- 10&#45;&gt;12 -->\n<g id=\"edge12\" class=\"edge\">\n<title>10&#45;&gt;12</title>\n<path fill=\"none\" stroke=\"black\" d=\"M657.83,-88.95C664.57,-79.98 671.87,-70.27 678.63,-61.26\"/>\n<polygon fill=\"black\" stroke=\"black\" points=\"681.45,-63.33 684.66,-53.24 675.86,-59.13 681.45,-63.33\"/>\n</g>\n</g>\n</svg>\n",
            "text/plain": [
              "<graphviz.sources.Source at 0x7eb644a1a2f0>"
            ]
          },
          "metadata": {},
          "execution_count": 10
        }
      ]
    },
    {
      "cell_type": "code",
      "source": [
        "inputs_tv, inputs_test, outputs_tv, outputs_test = train_test_split(inputs,\n",
        "                                                                    outputs)"
      ],
      "metadata": {
        "id": "kZcjGPrhtElH"
      },
      "execution_count": null,
      "outputs": []
    },
    {
      "cell_type": "code",
      "source": [
        "logreg_param = {\"C\": np.linspace(0.001, 2, 20)}\n",
        "logreg_grid = GridSearchCV(LogisticRegression(max_iter=1000), logreg_param).fit(\n",
        "    inputs_tv, outputs_tv)"
      ],
      "metadata": {
        "id": "NoujK3cD1RIJ"
      },
      "execution_count": null,
      "outputs": []
    },
    {
      "cell_type": "code",
      "source": [
        "print(f\"Logreg best param: {logreg_grid.best_params_}\")\n",
        "print(f\"Score: {logreg_grid.best_estimator_.score(inputs_test, outputs_test)}\")"
      ],
      "metadata": {
        "colab": {
          "base_uri": "https://localhost:8080/"
        },
        "id": "Zg9XS8Q33ews",
        "outputId": "ecc756db-b7dc-48e2-8a60-a266c7f0e37f"
      },
      "execution_count": null,
      "outputs": [
        {
          "output_type": "stream",
          "name": "stdout",
          "text": [
            "Logreg best param: {'C': 0.10621052631578948}\n",
            "Score: 0.4823848238482385\n"
          ]
        }
      ]
    },
    {
      "cell_type": "code",
      "source": [
        "forest_hyperp = {\"max_depth\": range(1, 11)}\n",
        "forest_grid = GridSearchCV(RandomForestClassifier(), forest_hyperp).fit(\n",
        "    inputs_tv, outputs_tv)"
      ],
      "metadata": {
        "id": "vZhiY5eV4E5_"
      },
      "execution_count": null,
      "outputs": []
    },
    {
      "cell_type": "code",
      "source": [
        "print(f\"Forest best param: {forest_grid.best_params_}\")\n",
        "print(f\"Score: {forest_grid.best_estimator_.score(inputs_test, outputs_test)}\")"
      ],
      "metadata": {
        "colab": {
          "base_uri": "https://localhost:8080/"
        },
        "id": "QYPhx64w4Zd4",
        "outputId": "3452394a-a8a5-44e1-a662-fcfc07c80f33"
      },
      "execution_count": null,
      "outputs": [
        {
          "output_type": "stream",
          "name": "stdout",
          "text": [
            "Forest best param: {'max_depth': 9}\n",
            "Score: 0.5745257452574526\n"
          ]
        }
      ]
    },
    {
      "cell_type": "code",
      "source": [
        "grad_hyperp = {\"max_depth\": range(1, 11)}\n",
        "grad_grid = GridSearchCV(GradientBoostingClassifier(), grad_hyperp).fit(\n",
        "    inputs_tv, outputs_tv)"
      ],
      "metadata": {
        "id": "drs6Augs4kRB"
      },
      "execution_count": null,
      "outputs": []
    },
    {
      "cell_type": "code",
      "source": [
        "print(f\"GB best param: {grad_grid.best_params_}\")\n",
        "print(f\"Score: {grad_grid.best_estimator_.score(inputs_test, outputs_test)}\")"
      ],
      "metadata": {
        "colab": {
          "base_uri": "https://localhost:8080/"
        },
        "id": "LAHBF1ia43oU",
        "outputId": "b77031d8-c881-4cec-ac3c-6c34cc1222f2"
      },
      "execution_count": null,
      "outputs": [
        {
          "output_type": "stream",
          "name": "stdout",
          "text": [
            "GB best param: {'max_depth': 2}\n",
            "Score: 0.5772357723577236\n"
          ]
        }
      ]
    },
    {
      "cell_type": "code",
      "source": [
        "grad_grid.best_estimator_.feature_importances_"
      ],
      "metadata": {
        "colab": {
          "base_uri": "https://localhost:8080/"
        },
        "id": "Va-wVFoM6mqw",
        "outputId": "22e6a1cc-67bc-4b15-cbd1-4d1cbcf33c96"
      },
      "execution_count": null,
      "outputs": [
        {
          "output_type": "execute_result",
          "data": {
            "text/plain": [
              "array([0.31193486, 0.1412974 , 0.03908564, 0.3757166 , 0.01428982,\n",
              "       0.00699875, 0.02562592, 0.02850556, 0.0336479 , 0.01214036,\n",
              "       0.00404404, 0.00671316])"
            ]
          },
          "metadata": {},
          "execution_count": 18
        }
      ]
    },
    {
      "cell_type": "code",
      "source": [
        "plt.rcParams['figure.figsize'] = [24, 16]\n",
        "fig, axs = plt.subplots(2, 1)\n",
        "# Forest classification\n",
        "axs[0].bar(inputs.columns, forest_grid.best_estimator_.feature_importances_)\n",
        "axs[0].set_title(\"Random Forest\")\n",
        "# Gradient boosting\n",
        "axs[1].bar(inputs.columns, grad_grid.best_estimator_.feature_importances_)\n",
        "axs[1].set_title(\"Gradient Boosting\")\n",
        "plt.plot()"
      ],
      "metadata": {
        "colab": {
          "base_uri": "https://localhost:8080/",
          "height": 1000
        },
        "id": "4FexGHRa5Bzd",
        "outputId": "6a051f2c-2cf0-4f1a-9472-2d19e342917b"
      },
      "execution_count": null,
      "outputs": [
        {
          "output_type": "execute_result",
          "data": {
            "text/plain": [
              "[]"
            ]
          },
          "metadata": {},
          "execution_count": 19
        },
        {
          "output_type": "display_data",
          "data": {
            "text/plain": [
              "<Figure size 2400x1600 with 2 Axes>"
            ],
            "image/png": "[encoded data removed]"
          },
          "metadata": {}
        }
      ]
    }
  ]
}